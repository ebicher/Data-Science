{
 "cells": [
  {
   "cell_type": "code",
   "execution_count": 1,
   "metadata": {},
   "outputs": [],
   "source": [
    "import numpy as np\n",
    "import pandas as pd\n",
    "import matplotlib as plt\n",
    "%matplotlib inline"
   ]
  },
  {
   "cell_type": "code",
   "execution_count": 2,
   "metadata": {},
   "outputs": [],
   "source": [
    "df = pd.read_csv('plane_crashes_data.csv')"
   ]
  },
  {
   "cell_type": "code",
   "execution_count": 4,
   "metadata": {},
   "outputs": [
    {
     "data": {
      "text/html": [
       "<div>\n",
       "<style scoped>\n",
       "    .dataframe tbody tr th:only-of-type {\n",
       "        vertical-align: middle;\n",
       "    }\n",
       "\n",
       "    .dataframe tbody tr th {\n",
       "        vertical-align: top;\n",
       "    }\n",
       "\n",
       "    .dataframe thead th {\n",
       "        text-align: right;\n",
       "    }\n",
       "</style>\n",
       "<table border=\"1\" class=\"dataframe\">\n",
       "  <thead>\n",
       "    <tr style=\"text-align: right;\">\n",
       "      <th></th>\n",
       "      <th>month</th>\n",
       "      <th>hour</th>\n",
       "      <th>year</th>\n",
       "      <th>location</th>\n",
       "      <th>operator</th>\n",
       "      <th>route</th>\n",
       "      <th>type</th>\n",
       "      <th>aboard</th>\n",
       "      <th>fatalities</th>\n",
       "      <th>summary</th>\n",
       "    </tr>\n",
       "  </thead>\n",
       "  <tbody>\n",
       "    <tr>\n",
       "      <th>2704</th>\n",
       "      <td>4</td>\n",
       "      <td>6</td>\n",
       "      <td>2009</td>\n",
       "      <td>Massamba, DemocratiRepubliof Congo</td>\n",
       "      <td>Bako Air</td>\n",
       "      <td>Bangui, CAR- Brazzaville, Congo - Harare, Zimb...</td>\n",
       "      <td>Boeing B-737-200</td>\n",
       "      <td>7</td>\n",
       "      <td>7</td>\n",
       "      <td>Crashed while en route on a ferrying flight. T...</td>\n",
       "    </tr>\n",
       "    <tr>\n",
       "      <th>2705</th>\n",
       "      <td>5</td>\n",
       "      <td>12</td>\n",
       "      <td>2009</td>\n",
       "      <td>Near El Alto de Rubio, Venezuela</td>\n",
       "      <td>Military - Venezuelan Army</td>\n",
       "      <td>Patrol</td>\n",
       "      <td>Mi-35</td>\n",
       "      <td>18</td>\n",
       "      <td>18</td>\n",
       "      <td>The helicopter was patrolling along the Venezu...</td>\n",
       "    </tr>\n",
       "    <tr>\n",
       "      <th>2706</th>\n",
       "      <td>5</td>\n",
       "      <td>6</td>\n",
       "      <td>2009</td>\n",
       "      <td>Near Madiun, Indonesia</td>\n",
       "      <td>Military - Indonesian Air Force</td>\n",
       "      <td>Jakarta - Maduin</td>\n",
       "      <td>Lockheed C-130 Hercules</td>\n",
       "      <td>112</td>\n",
       "      <td>98</td>\n",
       "      <td>While on approach, the military transport cras...</td>\n",
       "    </tr>\n",
       "    <tr>\n",
       "      <th>2707</th>\n",
       "      <td>6</td>\n",
       "      <td>0</td>\n",
       "      <td>2009</td>\n",
       "      <td>AtlantiOcean, 570 miles northeast of Natal, Br...</td>\n",
       "      <td>Air France</td>\n",
       "      <td>Rio de Janeiro - Paris</td>\n",
       "      <td>Airbus A330-203</td>\n",
       "      <td>228</td>\n",
       "      <td>228</td>\n",
       "      <td>The Airbus went missing over the AtlantiOcean ...</td>\n",
       "    </tr>\n",
       "    <tr>\n",
       "      <th>2708</th>\n",
       "      <td>6</td>\n",
       "      <td>8</td>\n",
       "      <td>2009</td>\n",
       "      <td>Near Port Hope Simpson, Newfoundland, Canada</td>\n",
       "      <td>Strait Air</td>\n",
       "      <td>Lourdes de BlanSablon - Port Hope Simpson</td>\n",
       "      <td>Britten-Norman BN-2A-27 Islander</td>\n",
       "      <td>1</td>\n",
       "      <td>1</td>\n",
       "      <td>The air ambulance crashed into hills while att...</td>\n",
       "    </tr>\n",
       "  </tbody>\n",
       "</table>\n",
       "</div>"
      ],
      "text/plain": [
       "      month hour  year                                           location  \\\n",
       "2704      4    6  2009                 Massamba, DemocratiRepubliof Congo   \n",
       "2705      5   12  2009                   Near El Alto de Rubio, Venezuela   \n",
       "2706      5    6  2009                             Near Madiun, Indonesia   \n",
       "2707      6    0  2009  AtlantiOcean, 570 miles northeast of Natal, Br...   \n",
       "2708      6    8  2009       Near Port Hope Simpson, Newfoundland, Canada   \n",
       "\n",
       "                             operator  \\\n",
       "2704                         Bako Air   \n",
       "2705       Military - Venezuelan Army   \n",
       "2706  Military - Indonesian Air Force   \n",
       "2707                       Air France   \n",
       "2708                       Strait Air   \n",
       "\n",
       "                                                  route  \\\n",
       "2704  Bangui, CAR- Brazzaville, Congo - Harare, Zimb...   \n",
       "2705                                             Patrol   \n",
       "2706                                   Jakarta - Maduin   \n",
       "2707                             Rio de Janeiro - Paris   \n",
       "2708          Lourdes de BlanSablon - Port Hope Simpson   \n",
       "\n",
       "                                  type  aboard  fatalities  \\\n",
       "2704                  Boeing B-737-200       7           7   \n",
       "2705                             Mi-35      18          18   \n",
       "2706           Lockheed C-130 Hercules     112          98   \n",
       "2707                   Airbus A330-203     228         228   \n",
       "2708  Britten-Norman BN-2A-27 Islander       1           1   \n",
       "\n",
       "                                                summary  \n",
       "2704  Crashed while en route on a ferrying flight. T...  \n",
       "2705  The helicopter was patrolling along the Venezu...  \n",
       "2706  While on approach, the military transport cras...  \n",
       "2707  The Airbus went missing over the AtlantiOcean ...  \n",
       "2708  The air ambulance crashed into hills while att...  "
      ]
     },
     "execution_count": 4,
     "metadata": {},
     "output_type": "execute_result"
    }
   ],
   "source": [
    "df.tail()"
   ]
  },
  {
   "cell_type": "code",
   "execution_count": 5,
   "metadata": {},
   "outputs": [],
   "source": [
    "df2 = df[df['year'] >= 1980 ]"
   ]
  },
  {
   "cell_type": "code",
   "execution_count": 8,
   "metadata": {},
   "outputs": [
    {
     "data": {
      "text/plain": [
       "month            6.567733\n",
       "year          1995.346494\n",
       "aboard          36.870660\n",
       "fatalities      24.932607\n",
       "dtype: float64"
      ]
     },
     "execution_count": 8,
     "metadata": {},
     "output_type": "execute_result"
    }
   ],
   "source": [
    "df2.mean()"
   ]
  },
  {
   "cell_type": "code",
   "execution_count": 13,
   "metadata": {},
   "outputs": [],
   "source": [
    "df3 = df.groupby('month')"
   ]
  },
  {
   "cell_type": "code",
   "execution_count": 18,
   "metadata": {},
   "outputs": [],
   "source": [
    "df4 = df[df['fatalities'] == 583]"
   ]
  },
  {
   "cell_type": "code",
   "execution_count": 19,
   "metadata": {},
   "outputs": [
    {
     "data": {
      "text/html": [
       "<div>\n",
       "<style scoped>\n",
       "    .dataframe tbody tr th:only-of-type {\n",
       "        vertical-align: middle;\n",
       "    }\n",
       "\n",
       "    .dataframe tbody tr th {\n",
       "        vertical-align: top;\n",
       "    }\n",
       "\n",
       "    .dataframe thead th {\n",
       "        text-align: right;\n",
       "    }\n",
       "</style>\n",
       "<table border=\"1\" class=\"dataframe\">\n",
       "  <thead>\n",
       "    <tr style=\"text-align: right;\">\n",
       "      <th></th>\n",
       "      <th>month</th>\n",
       "      <th>hour</th>\n",
       "      <th>year</th>\n",
       "      <th>location</th>\n",
       "      <th>operator</th>\n",
       "      <th>route</th>\n",
       "      <th>type</th>\n",
       "      <th>aboard</th>\n",
       "      <th>fatalities</th>\n",
       "      <th>summary</th>\n",
       "    </tr>\n",
       "  </thead>\n",
       "  <tbody>\n",
       "    <tr>\n",
       "      <th>1105</th>\n",
       "      <td>3</td>\n",
       "      <td>17</td>\n",
       "      <td>1977</td>\n",
       "      <td>Tenerife, Canary Islands</td>\n",
       "      <td>Pan American World Airways / KLM</td>\n",
       "      <td>Tenerife - Las Palmas / Tenerife - Las Palmas</td>\n",
       "      <td>Boeing B-747-121 / Boeing B-747-206B</td>\n",
       "      <td>644</td>\n",
       "      <td>583</td>\n",
       "      <td>Both aircraft were diverted to Tenerife becaus...</td>\n",
       "    </tr>\n",
       "  </tbody>\n",
       "</table>\n",
       "</div>"
      ],
      "text/plain": [
       "      month hour  year                  location  \\\n",
       "1105      3   17  1977  Tenerife, Canary Islands   \n",
       "\n",
       "                              operator  \\\n",
       "1105  Pan American World Airways / KLM   \n",
       "\n",
       "                                              route  \\\n",
       "1105  Tenerife - Las Palmas / Tenerife - Las Palmas   \n",
       "\n",
       "                                      type  aboard  fatalities  \\\n",
       "1105  Boeing B-747-121 / Boeing B-747-206B     644         583   \n",
       "\n",
       "                                                summary  \n",
       "1105  Both aircraft were diverted to Tenerife becaus...  "
      ]
     },
     "execution_count": 19,
     "metadata": {},
     "output_type": "execute_result"
    }
   ],
   "source": [
    "df4"
   ]
  },
  {
   "cell_type": "code",
   "execution_count": 20,
   "metadata": {},
   "outputs": [],
   "source": [
    "df5 = df[df['fatalities'] >= 1]"
   ]
  },
  {
   "cell_type": "code",
   "execution_count": 32,
   "metadata": {},
   "outputs": [
    {
     "data": {
      "text/plain": [
       "month         2660\n",
       "hour          2660\n",
       "year          2660\n",
       "location      2657\n",
       "operator      2658\n",
       "route         2279\n",
       "type          2659\n",
       "aboard        2660\n",
       "fatalities    2660\n",
       "summary       2647\n",
       "dtype: int64"
      ]
     },
     "execution_count": 32,
     "metadata": {},
     "output_type": "execute_result"
    }
   ],
   "source": [
    "df5.count()"
   ]
  },
  {
   "cell_type": "code",
   "execution_count": 31,
   "metadata": {},
   "outputs": [
    {
     "data": {
      "text/plain": [
       "month         2709\n",
       "hour          2709\n",
       "year          2709\n",
       "location      2706\n",
       "operator      2707\n",
       "route         2318\n",
       "type          2708\n",
       "aboard        2709\n",
       "fatalities    2709\n",
       "summary       2696\n",
       "dtype: int64"
      ]
     },
     "execution_count": 31,
     "metadata": {},
     "output_type": "execute_result"
    }
   ],
   "source": [
    "df.count()"
   ]
  },
  {
   "cell_type": "code",
   "execution_count": 23,
   "metadata": {},
   "outputs": [
    {
     "data": {
      "text/plain": [
       "0.9819121447028424"
      ]
     },
     "execution_count": 23,
     "metadata": {},
     "output_type": "execute_result"
    }
   ],
   "source": [
    "2660/2709"
   ]
  },
  {
   "cell_type": "code",
   "execution_count": 35,
   "metadata": {},
   "outputs": [
    {
     "data": {
      "text/plain": [
       "0.7207845077244948"
      ]
     },
     "execution_count": 35,
     "metadata": {},
     "output_type": "execute_result"
    }
   ],
   "source": [
    "df['fatalities'].sum() / df['aboard'].sum()"
   ]
  },
  {
   "cell_type": "code",
   "execution_count": null,
   "metadata": {},
   "outputs": [],
   "source": []
  }
 ],
 "metadata": {
  "kernelspec": {
   "display_name": "Python 3",
   "language": "python",
   "name": "python3"
  },
  "language_info": {
   "codemirror_mode": {
    "name": "ipython",
    "version": 3
   },
   "file_extension": ".py",
   "mimetype": "text/x-python",
   "name": "python",
   "nbconvert_exporter": "python",
   "pygments_lexer": "ipython3",
   "version": "3.6.5"
  }
 },
 "nbformat": 4,
 "nbformat_minor": 2
}
