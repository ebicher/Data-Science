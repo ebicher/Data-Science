{
 "cells": [
  {
   "cell_type": "code",
   "execution_count": 3,
   "metadata": {},
   "outputs": [],
   "source": [
    "import pandas as pd\n",
    "import numpy as np\n"
   ]
  },
  {
   "cell_type": "markdown",
   "metadata": {},
   "source": [
    "# Predicting Credit Card Fraud\n",
    " \n"
   ]
  },
  {
   "cell_type": "code",
   "execution_count": 4,
   "metadata": {},
   "outputs": [],
   "source": [
    "# Get mem altered data\n",
    "df = pd.read_pickle('../../Data/creditcard.pkl')"
   ]
  },
  {
   "cell_type": "code",
   "execution_count": 5,
   "metadata": {},
   "outputs": [
    {
     "name": "stdout",
     "output_type": "stream",
     "text": [
      "<class 'pandas.core.frame.DataFrame'>\n",
      "RangeIndex: 284807 entries, 0 to 284806\n",
      "Data columns (total 31 columns):\n",
      "Time      284807 non-null uint32\n",
      "V1        284807 non-null float32\n",
      "V2        284807 non-null float32\n",
      "V3        284807 non-null float32\n",
      "V4        284807 non-null float32\n",
      "V5        284807 non-null float32\n",
      "V6        284807 non-null float32\n",
      "V7        284807 non-null float32\n",
      "V8        284807 non-null float32\n",
      "V9        284807 non-null float32\n",
      "V10       284807 non-null float32\n",
      "V11       284807 non-null float32\n",
      "V12       284807 non-null float32\n",
      "V13       284807 non-null float32\n",
      "V14       284807 non-null float32\n",
      "V15       284807 non-null float32\n",
      "V16       284807 non-null float32\n",
      "V17       284807 non-null float32\n",
      "V18       284807 non-null float32\n",
      "V19       284807 non-null float32\n",
      "V20       284807 non-null float32\n",
      "V21       284807 non-null float32\n",
      "V22       284807 non-null float32\n",
      "V23       284807 non-null float32\n",
      "V24       284807 non-null float32\n",
      "V25       284807 non-null float32\n",
      "V26       284807 non-null float32\n",
      "V27       284807 non-null float32\n",
      "V28       284807 non-null float32\n",
      "Amount    284807 non-null float32\n",
      "Class     284807 non-null uint8\n",
      "dtypes: float32(29), uint32(1), uint8(1)\n",
      "memory usage: 32.9 MB\n"
     ]
    }
   ],
   "source": [
    "df.info()"
   ]
  },
  {
   "cell_type": "markdown",
   "metadata": {},
   "source": [
    "## Upsampling\n",
    "#### Using SMOTE to create new fraud data!"
   ]
  },
  {
   "cell_type": "code",
   "execution_count": 6,
   "metadata": {},
   "outputs": [],
   "source": [
    "# First we will take out data that will be used for testing!\n",
    "# Equal amount of fraud and non fraud cases\n",
    "\n",
    "#Get number of fraud cases and their indices\n",
    "num_fraud = len(df[df.Class == 1])\n",
    "fraud_index = np.array(df[df.Class==1].index)\n",
    "\n",
    "# Get 1/4 of frauds for dedicated test data!\n",
    "rand_fraud_ind = np.random.choice(fraud_index, int(num_fraud/4), replace = False)\n",
    "\n",
    "#Get all normal indices\n",
    "normal_index = df[df.Class==0].index\n",
    "\n",
    "#Select number of normal indices that are equal to 1/4 number of fraud cases \n",
    "rand_norm_ind = np.random.choice(normal_index, int(num_fraud/4), replace = False)\n",
    "rand_norm_ind = np.array(rand_norm_ind)\n",
    "\n",
    "#Create test dataframe\n",
    "test_ind = np.concatenate([rand_fraud_ind,rand_norm_ind])\n",
    "test_df = df.iloc[test_ind, :]\n"
   ]
  },
  {
   "cell_type": "code",
   "execution_count": 7,
   "metadata": {},
   "outputs": [
    {
     "name": "stdout",
     "output_type": "stream",
     "text": [
      "<class 'pandas.core.frame.DataFrame'>\n",
      "Int64Index: 246 entries, 64329 to 21336\n",
      "Data columns (total 31 columns):\n",
      "Time      246 non-null uint32\n",
      "V1        246 non-null float32\n",
      "V2        246 non-null float32\n",
      "V3        246 non-null float32\n",
      "V4        246 non-null float32\n",
      "V5        246 non-null float32\n",
      "V6        246 non-null float32\n",
      "V7        246 non-null float32\n",
      "V8        246 non-null float32\n",
      "V9        246 non-null float32\n",
      "V10       246 non-null float32\n",
      "V11       246 non-null float32\n",
      "V12       246 non-null float32\n",
      "V13       246 non-null float32\n",
      "V14       246 non-null float32\n",
      "V15       246 non-null float32\n",
      "V16       246 non-null float32\n",
      "V17       246 non-null float32\n",
      "V18       246 non-null float32\n",
      "V19       246 non-null float32\n",
      "V20       246 non-null float32\n",
      "V21       246 non-null float32\n",
      "V22       246 non-null float32\n",
      "V23       246 non-null float32\n",
      "V24       246 non-null float32\n",
      "V25       246 non-null float32\n",
      "V26       246 non-null float32\n",
      "V27       246 non-null float32\n",
      "V28       246 non-null float32\n",
      "Amount    246 non-null float32\n",
      "Class     246 non-null uint8\n",
      "dtypes: float32(29), uint32(1), uint8(1)\n",
      "memory usage: 31.0 KB\n"
     ]
    }
   ],
   "source": [
    "test_df.info()"
   ]
  },
  {
   "cell_type": "code",
   "execution_count": 8,
   "metadata": {},
   "outputs": [],
   "source": [
    "test_df.to_pickle('../../Data/dedicatedTest.pkl')"
   ]
  },
  {
   "cell_type": "code",
   "execution_count": 9,
   "metadata": {},
   "outputs": [],
   "source": [
    "# Make training dataset\n",
    "train_df = df.drop(test_df.index)"
   ]
  },
  {
   "cell_type": "code",
   "execution_count": 10,
   "metadata": {},
   "outputs": [],
   "source": [
    "# Split the training and test data first!\n",
    "X, y = train_df.drop('Class',1), train_df['Class']\n",
    "\n",
    "# Import SMOTE which is a upsampling function\n",
    "from imblearn.over_sampling import SMOTE\n",
    "\n",
    "# Create new fake fraud data\n",
    "smote = SMOTE(random_state=11, ratio='minority')\n",
    "X_sm, y_sm = smote.fit_sample(X, y)\n",
    "\n",
    "\n",
    "# Get test data\n",
    "X_test, y_test = test_df.drop('Class',1), test_df['Class']"
   ]
  },
  {
   "cell_type": "code",
   "execution_count": 11,
   "metadata": {},
   "outputs": [],
   "source": [
    "# This is to retain feature names\n",
    "# Make a new DataFrame with the training data (X and Y)\n",
    "# Starts with putting it into an array\n",
    "i = 0\n",
    "arr = []\n",
    "for elem in X_sm:\n",
    "    arr.append(np.concatenate((elem, y_sm[i]), axis=None))\n",
    "    i+=1"
   ]
  },
  {
   "cell_type": "code",
   "execution_count": 12,
   "metadata": {},
   "outputs": [],
   "source": [
    "#Put it into a DataFrame\n",
    "train_df = pd.DataFrame(columns=df.columns, data=arr)"
   ]
  },
  {
   "cell_type": "code",
   "execution_count": 13,
   "metadata": {
    "scrolled": true
   },
   "outputs": [
    {
     "name": "stdout",
     "output_type": "stream",
     "text": [
      "<class 'pandas.core.frame.DataFrame'>\n",
      "RangeIndex: 568384 entries, 0 to 568383\n",
      "Data columns (total 31 columns):\n",
      "Time      568384 non-null float64\n",
      "V1        568384 non-null float64\n",
      "V2        568384 non-null float64\n",
      "V3        568384 non-null float64\n",
      "V4        568384 non-null float64\n",
      "V5        568384 non-null float64\n",
      "V6        568384 non-null float64\n",
      "V7        568384 non-null float64\n",
      "V8        568384 non-null float64\n",
      "V9        568384 non-null float64\n",
      "V10       568384 non-null float64\n",
      "V11       568384 non-null float64\n",
      "V12       568384 non-null float64\n",
      "V13       568384 non-null float64\n",
      "V14       568384 non-null float64\n",
      "V15       568384 non-null float64\n",
      "V16       568384 non-null float64\n",
      "V17       568384 non-null float64\n",
      "V18       568384 non-null float64\n",
      "V19       568384 non-null float64\n",
      "V20       568384 non-null float64\n",
      "V21       568384 non-null float64\n",
      "V22       568384 non-null float64\n",
      "V23       568384 non-null float64\n",
      "V24       568384 non-null float64\n",
      "V25       568384 non-null float64\n",
      "V26       568384 non-null float64\n",
      "V27       568384 non-null float64\n",
      "V28       568384 non-null float64\n",
      "Amount    568384 non-null float64\n",
      "Class     568384 non-null float64\n",
      "dtypes: float64(31)\n",
      "memory usage: 134.4 MB\n"
     ]
    }
   ],
   "source": [
    "train_df.info()"
   ]
  },
  {
   "cell_type": "code",
   "execution_count": 20,
   "metadata": {},
   "outputs": [
    {
     "data": {
      "text/plain": [
       "284192.0"
      ]
     },
     "execution_count": 20,
     "metadata": {},
     "output_type": "execute_result"
    }
   ],
   "source": [
    "568384/2"
   ]
  },
  {
   "cell_type": "code",
   "execution_count": 19,
   "metadata": {},
   "outputs": [
    {
     "data": {
      "image/png": "[encoded data removed]",
      "text/plain": [
       "<Figure size 1080x864 with 2 Axes>"
      ]
     },
     "metadata": {
      "needs_background": "light"
     },
     "output_type": "display_data"
    }
   ],
   "source": [
    "import seaborn as sns\n",
    "import matplotlib.pyplot as plt\n",
    "\n",
    "\n",
    "# Look at oversampled data\n",
    "\n",
    "f, ax = plt.subplots(figsize=(15, 12))\n",
    "sns.set(style=\"darkgrid\")\n",
    "plt.subplot(2,1,1)\n",
    "plt.title('Nonfraud vs Fraud TRAIN (Oversampled Data)')\n",
    "ax = sns.countplot(x=\"Class\", data=train_df, palette='rocket')\n",
    "\n",
    "plt.subplot(2,1,2)\n",
    "plt.title('Nonfraud vs Fraud TEST (Oversampled Data)')\n",
    "f = sns.countplot(x=\"Class\", data=test_df, palette='rocket')\n"
   ]
  },
  {
   "cell_type": "code",
   "execution_count": 15,
   "metadata": {},
   "outputs": [],
   "source": [
    "X_train, y_train = train_df.drop('Class',1), train_df['Class']"
   ]
  },
  {
   "cell_type": "code",
   "execution_count": 16,
   "metadata": {},
   "outputs": [],
   "source": [
    "import xgboost as xgb\n",
    "\n",
    "# Check it on an XGBClassifier\n",
    "xg_cls = xgb.XGBClassifier(tree_method='gpu_exact', random_state=3)\n",
    "xg_cls.fit(X_train, y_train)\n",
    "\n",
    "preds = xg_cls.predict(X_test)\n",
    "train_preds = xg_cls.predict(X_train)"
   ]
  },
  {
   "cell_type": "code",
   "execution_count": 17,
   "metadata": {},
   "outputs": [
    {
     "name": "stdout",
     "output_type": "stream",
     "text": [
      "***********************************\n",
      "********** Over Sampled ***********\n",
      "***********************************\n",
      "\n",
      "Training set accuracy:\n",
      "Percent Type I errors:  0.00284139\n",
      "Percent Type II errors: 0.00621763\n",
      "Score: 0.99094098\n",
      "\n",
      "Test set accuracy:\n",
      "Percent Type I errors: 0.00406504\n",
      "Percent Type II errors: 0.06097561\n",
      "Score: 0.93495935\n",
      "\n",
      "***********************************\n",
      "* Type I errors are normal purchases that have been flagged.\n",
      "* Type II errors are frauds that are not caught!\n",
      "\n"
     ]
    }
   ],
   "source": [
    "# Accuracy tables on the training and test set\n",
    "\n",
    "table_train = pd.crosstab(y_train, train_preds, margins=True)\n",
    "table_test = pd.crosstab(y_test, preds, margins=True)\n",
    "test_score = xg_cls.score(X_test, y_test) \n",
    "train_score = xg_cls.score(X_train, y_train) \n",
    "\n",
    "train_tI_errors = table_train.loc[0.0,1.0] / table_train.loc['All','All']\n",
    "train_tII_errors = table_train.loc[1.0,0.0] / table_train.loc['All','All']\n",
    "\n",
    "test_tI_errors = table_test.loc[0.0,1.0]/table_test.loc['All','All']\n",
    "test_tII_errors = table_test.loc[1.0,0.0]/table_test.loc['All','All']\n",
    "\n",
    "print((\n",
    "    '***********************************\\n'\n",
    "    '********** Over Sampled ***********\\n'\n",
    "    '***********************************\\n\\n'    \n",
    "    'Training set accuracy:\\n'\n",
    "    'Percent Type I errors:  {:.8f}\\n'\n",
    "    'Percent Type II errors: {:.8f}\\n'\n",
    "    'Score: {:.8f}\\n\\n'\n",
    "    \n",
    "    'Test set accuracy:\\n'\n",
    "    'Percent Type I errors: {:.8f}\\n'\n",
    "    'Percent Type II errors: {:.8f}\\n'\n",
    "    'Score: {:.8f}\\n\\n'\n",
    "    '***********************************\\n'\n",
    "    '* Type I errors are normal purchases that have been flagged.\\n'\n",
    "    '* Type II errors are frauds that are not caught!\\n'\n",
    ").format(train_tI_errors, train_tII_errors, train_score, test_tI_errors, test_tII_errors, test_score))"
   ]
  },
  {
   "cell_type": "code",
   "execution_count": 21,
   "metadata": {},
   "outputs": [],
   "source": [
    "# Save it for future use\n",
    "train_df.to_pickle('../../Data/dedicatedTrain.pkl')"
   ]
  },
  {
   "cell_type": "markdown",
   "metadata": {},
   "source": [
    "## Correlation Matrix / Feature Selection"
   ]
  },
  {
   "cell_type": "code",
   "execution_count": 22,
   "metadata": {
    "scrolled": false
   },
   "outputs": [
    {
     "data": {
      "image/png": "[encoded data removed]",
      "text/plain": [
       "<Figure size 1080x864 with 2 Axes>"
      ]
     },
     "metadata": {},
     "output_type": "display_data"
    }
   ],
   "source": [
    "up_df = pd.read_pickle('../../Data/dedicatedTrain.pkl')\n",
    "# Make the correlation matrix.\n",
    "corrmat = up_df.corr()\n",
    "\n",
    "f, ax = plt.subplots(figsize=(15, 12))\n",
    "\n",
    "# Draw the heatmap\n",
    "sns.heatmap(corrmat, vmax=.8, square=True, cmap='viridis')\n",
    "plt.show()"
   ]
  },
  {
   "cell_type": "code",
   "execution_count": 23,
   "metadata": {},
   "outputs": [],
   "source": [
    "# Create correlation matrix\n",
    "corr_matrix = up_df.corr().abs()\n",
    "\n",
    "# Select upper triangle of correlation matrix\n",
    "upper = corr_matrix.where(np.triu(np.ones(corr_matrix.shape), k=1).astype(np.bool))\n",
    "\n",
    "# Find index of feature columns with correlation greater than 0.95\n",
    "to_drop = [column for column in upper.columns if any(upper[column] > 0.95)]"
   ]
  },
  {
   "cell_type": "code",
   "execution_count": 24,
   "metadata": {},
   "outputs": [
    {
     "data": {
      "text/plain": [
       "['V17']"
      ]
     },
     "execution_count": 24,
     "metadata": {},
     "output_type": "execute_result"
    }
   ],
   "source": [
    "# Column to drop\n",
    "to_drop"
   ]
  },
  {
   "cell_type": "code",
   "execution_count": 25,
   "metadata": {},
   "outputs": [],
   "source": [
    "# Drop features \n",
    "df1 = up_df.drop(to_drop, axis=1)\n",
    "test_df = test_df.drop(to_drop, axis=1)\n"
   ]
  },
  {
   "cell_type": "code",
   "execution_count": 26,
   "metadata": {},
   "outputs": [],
   "source": [
    "# Create a test set\n",
    "X_train, y_train = df1.drop('Class',1), df1['Class']\n",
    "X_test, y_test = test_df.drop('Class',1), test_df['Class']\n",
    "\n",
    "\n",
    "# Check it on an XGBClassifier\n",
    "xg_cls = xgb.XGBClassifier(tree_method='gpu_exact', random_state=3)\n",
    "xg_cls.fit(X_train,y_train)\n",
    "\n",
    "preds = xg_cls.predict(X_test)\n",
    "\n",
    "train_preds = xg_cls.predict(X_train)"
   ]
  },
  {
   "cell_type": "code",
   "execution_count": 28,
   "metadata": {},
   "outputs": [
    {
     "name": "stdout",
     "output_type": "stream",
     "text": [
      "***********************************\n",
      "********** V17 Excluded ***********\n",
      "***********************************\n",
      "\n",
      "Training set accuracy:\n",
      "Percent Type I errors:  0.00337272\n",
      "Percent Type II errors: 0.00601530\n",
      "Score: 0.99061198\n",
      "\n",
      "Test set accuracy:\n",
      "Percent Type I errors: 0.00813008\n",
      "Percent Type II errors: 0.05284553\n",
      "Score: 0.93902439\n",
      "\n",
      "***********************************\n",
      "* Type I errors are normal purchases that have been flagged.\n",
      "* Type II errors are frauds that are not caught!\n",
      "\n"
     ]
    }
   ],
   "source": [
    "# Accuracy tables on the training and test set\n",
    "\n",
    "table_train = pd.crosstab(y_train, train_preds, margins=True)\n",
    "table_test = pd.crosstab(y_test, preds, margins=True)\n",
    "test_score = xg_cls.score(X_test, y_test) \n",
    "train_score = xg_cls.score(X_train, y_train) \n",
    "\n",
    "train_tI_errors = table_train.loc[0.0,1.0] / table_train.loc['All','All']\n",
    "train_tII_errors = table_train.loc[1.0,0.0] / table_train.loc['All','All']\n",
    "\n",
    "test_tI_errors = table_test.loc[0.0,1.0]/table_test.loc['All','All']\n",
    "test_tII_errors = table_test.loc[1.0,0.0]/table_test.loc['All','All']\n",
    "\n",
    "print((\n",
    "    '***********************************\\n'\n",
    "    '********** V17 Excluded ***********\\n'\n",
    "    '***********************************\\n\\n'    \n",
    "    'Training set accuracy:\\n'\n",
    "    'Percent Type I errors:  {:.8f}\\n'\n",
    "    'Percent Type II errors: {:.8f}\\n'\n",
    "    'Score: {:.8f}\\n\\n'\n",
    "    \n",
    "    'Test set accuracy:\\n'\n",
    "    'Percent Type I errors: {:.8f}\\n'\n",
    "    'Percent Type II errors: {:.8f}\\n'\n",
    "    'Score: {:.8f}\\n\\n'\n",
    "    '***********************************\\n'\n",
    "    '* Type I errors are normal purchases that have been flagged.\\n'\n",
    "    '* Type II errors are frauds that are not caught!\\n'\n",
    ").format(train_tI_errors, train_tII_errors, train_score, test_tI_errors, test_tII_errors, test_score))"
   ]
  },
  {
   "cell_type": "markdown",
   "metadata": {},
   "source": [
    "# Features Selection"
   ]
  },
  {
   "cell_type": "code",
   "execution_count": 49,
   "metadata": {
    "scrolled": false
   },
   "outputs": [
    {
     "data": {
      "image/png": "[encoded data removed]",
      "text/plain": [
       "<Figure size 360x720 with 1 Axes>"
      ]
     },
     "metadata": {},
     "output_type": "display_data"
    }
   ],
   "source": [
    "# Look at feature importance\n",
    "plt.rcParams['figure.figsize'] = [5, 10]\n",
    "xgb.plot_importance(xg_cls)\n",
    "plt.show()"
   ]
  },
  {
   "cell_type": "code",
   "execution_count": null,
   "metadata": {},
   "outputs": [],
   "source": []
  },
  {
   "cell_type": "code",
   "execution_count": 50,
   "metadata": {},
   "outputs": [
    {
     "name": "stdout",
     "output_type": "stream",
     "text": [
      "Thresh=0.147, n=1, Type I=0.00813008, Type II=0.04878049, Accuracy: 94.3089%\n",
      "Thresh=0.144, n=2, Type I=0.01626016, Type II=0.04878049, Accuracy: 93.4959%\n",
      "Thresh=0.091, n=3, Type I=0.01219512, Type II=0.05284553, Accuracy: 93.4959%\n",
      "Thresh=0.086, n=4, Type I=0.01219512, Type II=0.06097561, Accuracy: 92.6829%\n",
      "Thresh=0.049, n=5, Type I=0.01219512, Type II=0.05691057, Accuracy: 93.0894%\n",
      "Thresh=0.044, n=7, Type I=0.00813008, Type II=0.05691057, Accuracy: 93.4959%\n",
      "Thresh=0.044, n=7, Type I=0.00813008, Type II=0.05691057, Accuracy: 93.4959%\n",
      "Thresh=0.040, n=8, Type I=0.00813008, Type II=0.05284553, Accuracy: 93.9024%\n",
      "Thresh=0.031, n=9, Type I=0.00813008, Type II=0.05284553, Accuracy: 93.9024%\n",
      "Thresh=0.030, n=10, Type I=0.00813008, Type II=0.05691057, Accuracy: 93.4959%\n",
      "Thresh=0.029, n=11, Type I=0.00813008, Type II=0.06097561, Accuracy: 93.0894%\n",
      "Thresh=0.027, n=12, Type I=0.01219512, Type II=0.05691057, Accuracy: 93.0894%\n",
      "Thresh=0.026, n=13, Type I=0.00813008, Type II=0.05284553, Accuracy: 93.9024%\n",
      "Thresh=0.024, n=14, Type I=0.00813008, Type II=0.06097561, Accuracy: 93.0894%\n",
      "Thresh=0.020, n=15, Type I=0.00813008, Type II=0.06097561, Accuracy: 93.0894%\n",
      "Thresh=0.019, n=16, Type I=0.00813008, Type II=0.06504065, Accuracy: 92.6829%\n",
      "Thresh=0.017, n=18, Type I=0.00813008, Type II=0.05691057, Accuracy: 93.4959%\n",
      "Thresh=0.017, n=18, Type I=0.00813008, Type II=0.05691057, Accuracy: 93.4959%\n",
      "Thresh=0.016, n=19, Type I=0.00813008, Type II=0.06097561, Accuracy: 93.0894%\n",
      "Thresh=0.014, n=22, Type I=0.00813008, Type II=0.05691057, Accuracy: 93.4959%\n",
      "Thresh=0.014, n=22, Type I=0.00813008, Type II=0.05691057, Accuracy: 93.4959%\n",
      "Thresh=0.014, n=22, Type I=0.00813008, Type II=0.05691057, Accuracy: 93.4959%\n",
      "Thresh=0.010, n=25, Type I=0.00813008, Type II=0.05691057, Accuracy: 93.4959%\n",
      "Thresh=0.010, n=25, Type I=0.00813008, Type II=0.05691057, Accuracy: 93.4959%\n",
      "Thresh=0.010, n=25, Type I=0.00813008, Type II=0.05691057, Accuracy: 93.4959%\n",
      "Thresh=0.009, n=28, Type I=0.00813008, Type II=0.05284553, Accuracy: 93.9024%\n",
      "Thresh=0.009, n=28, Type I=0.00813008, Type II=0.05284553, Accuracy: 93.9024%\n",
      "Thresh=0.009, n=28, Type I=0.00813008, Type II=0.05284553, Accuracy: 93.9024%\n",
      "Thresh=0.000, n=29, Type I=0.00813008, Type II=0.05284553, Accuracy: 93.9024%\n"
     ]
    }
   ],
   "source": [
    "from sklearn import feature_selection\n",
    "from sklearn.metrics import accuracy_score\n",
    "\n",
    "listo = []\n",
    "\n",
    "# Run the model with a different amount of features\n",
    "# Start by the ones with most importance\n",
    "thresholds = np.sort(xg_cls.feature_importances_)[::-1]\n",
    "for thresh in thresholds:\n",
    "    # select features using threshold\n",
    "    selection = feature_selection.SelectFromModel(xg_cls, threshold=thresh, prefit=True)\n",
    "    select_X_train = selection.transform(X_train)\n",
    "    \n",
    "    # train model\n",
    "    selection_model = xgb.XGBClassifier(tree_method='gpu_exact', random_state=3)\n",
    "    selection_model.fit(select_X_train, y_train)\n",
    "    \n",
    "    # eval model\n",
    "    select_X_test = selection.transform(X_test)\n",
    "    preds = selection_model.predict(select_X_test)\n",
    "    test_score = xg_cls.score(X_test, y_test)\n",
    "    \n",
    "    table_test = pd.crosstab(y_test, preds, margins=True)\n",
    "    test_tI_errors = table_test.loc[0.0,1.0]/table_test.loc['All','All']\n",
    "    test_tII_errors = table_test.loc[1.0,0.0]/table_test.loc['All','All']\n",
    " \n",
    "    accuracy = accuracy_score(y_test, preds)\n",
    "    # Save to list so we can graph it\n",
    "    listo.append([thresh, select_X_train.shape[1], test_tI_errors, test_tII_errors, accuracy*100.0, test_score])\n",
    "    \n",
    "    print(\"Thresh=%.3f, n=%d, Type I=%.8f, Type II=%.8f, Accuracy: %.4f%%\" % (thresh, select_X_train.shape[1], test_tI_errors, test_tII_errors, accuracy*100.0))"
   ]
  },
  {
   "cell_type": "code",
   "execution_count": 51,
   "metadata": {},
   "outputs": [],
   "source": [
    "# Put data into dataframe\n",
    "dffeat = pd.DataFrame(listo, columns=['Thresh', 'N_Features', 'Type_I', 'Type_II', 'Accuracy', 'Score'])"
   ]
  },
  {
   "cell_type": "code",
   "execution_count": 52,
   "metadata": {},
   "outputs": [],
   "source": [
    "# Find low type II errors\n",
    "low_point = dffeat[dffeat['Type_II']==dffeat.Type_II.min()]"
   ]
  },
  {
   "cell_type": "code",
   "execution_count": 53,
   "metadata": {},
   "outputs": [
    {
     "data": {
      "text/html": [
       "<div>\n",
       "<style scoped>\n",
       "    .dataframe tbody tr th:only-of-type {\n",
       "        vertical-align: middle;\n",
       "    }\n",
       "\n",
       "    .dataframe tbody tr th {\n",
       "        vertical-align: top;\n",
       "    }\n",
       "\n",
       "    .dataframe thead th {\n",
       "        text-align: right;\n",
       "    }\n",
       "</style>\n",
       "<table border=\"1\" class=\"dataframe\">\n",
       "  <thead>\n",
       "    <tr style=\"text-align: right;\">\n",
       "      <th></th>\n",
       "      <th>Thresh</th>\n",
       "      <th>N_Features</th>\n",
       "      <th>Type_I</th>\n",
       "      <th>Type_II</th>\n",
       "      <th>Accuracy</th>\n",
       "      <th>Score</th>\n",
       "    </tr>\n",
       "  </thead>\n",
       "  <tbody>\n",
       "    <tr>\n",
       "      <th>0</th>\n",
       "      <td>0.147143</td>\n",
       "      <td>1</td>\n",
       "      <td>0.00813</td>\n",
       "      <td>0.04878</td>\n",
       "      <td>94.308943</td>\n",
       "      <td>0.939024</td>\n",
       "    </tr>\n",
       "    <tr>\n",
       "      <th>1</th>\n",
       "      <td>0.144286</td>\n",
       "      <td>2</td>\n",
       "      <td>0.01626</td>\n",
       "      <td>0.04878</td>\n",
       "      <td>93.495935</td>\n",
       "      <td>0.939024</td>\n",
       "    </tr>\n",
       "  </tbody>\n",
       "</table>\n",
       "</div>"
      ],
      "text/plain": [
       "     Thresh  N_Features   Type_I  Type_II   Accuracy     Score\n",
       "0  0.147143           1  0.00813  0.04878  94.308943  0.939024\n",
       "1  0.144286           2  0.01626  0.04878  93.495935  0.939024"
      ]
     },
     "execution_count": 53,
     "metadata": {},
     "output_type": "execute_result"
    }
   ],
   "source": [
    "low_point"
   ]
  },
  {
   "cell_type": "code",
   "execution_count": 54,
   "metadata": {},
   "outputs": [
    {
     "data": {
      "text/html": [
       "<div>\n",
       "<style scoped>\n",
       "    .dataframe tbody tr th:only-of-type {\n",
       "        vertical-align: middle;\n",
       "    }\n",
       "\n",
       "    .dataframe tbody tr th {\n",
       "        vertical-align: top;\n",
       "    }\n",
       "\n",
       "    .dataframe thead th {\n",
       "        text-align: right;\n",
       "    }\n",
       "</style>\n",
       "<table border=\"1\" class=\"dataframe\">\n",
       "  <thead>\n",
       "    <tr style=\"text-align: right;\">\n",
       "      <th></th>\n",
       "      <th>Thresh</th>\n",
       "      <th>N_Features</th>\n",
       "      <th>Type_I</th>\n",
       "      <th>Type_II</th>\n",
       "      <th>Accuracy</th>\n",
       "      <th>Score</th>\n",
       "    </tr>\n",
       "  </thead>\n",
       "  <tbody>\n",
       "    <tr>\n",
       "      <th>0</th>\n",
       "      <td>0.147143</td>\n",
       "      <td>1</td>\n",
       "      <td>0.008130</td>\n",
       "      <td>0.048780</td>\n",
       "      <td>94.308943</td>\n",
       "      <td>0.939024</td>\n",
       "    </tr>\n",
       "    <tr>\n",
       "      <th>1</th>\n",
       "      <td>0.144286</td>\n",
       "      <td>2</td>\n",
       "      <td>0.016260</td>\n",
       "      <td>0.048780</td>\n",
       "      <td>93.495935</td>\n",
       "      <td>0.939024</td>\n",
       "    </tr>\n",
       "    <tr>\n",
       "      <th>2</th>\n",
       "      <td>0.091429</td>\n",
       "      <td>3</td>\n",
       "      <td>0.012195</td>\n",
       "      <td>0.052846</td>\n",
       "      <td>93.495935</td>\n",
       "      <td>0.939024</td>\n",
       "    </tr>\n",
       "    <tr>\n",
       "      <th>3</th>\n",
       "      <td>0.085714</td>\n",
       "      <td>4</td>\n",
       "      <td>0.012195</td>\n",
       "      <td>0.060976</td>\n",
       "      <td>92.682927</td>\n",
       "      <td>0.939024</td>\n",
       "    </tr>\n",
       "    <tr>\n",
       "      <th>4</th>\n",
       "      <td>0.048571</td>\n",
       "      <td>5</td>\n",
       "      <td>0.012195</td>\n",
       "      <td>0.056911</td>\n",
       "      <td>93.089431</td>\n",
       "      <td>0.939024</td>\n",
       "    </tr>\n",
       "    <tr>\n",
       "      <th>5</th>\n",
       "      <td>0.044286</td>\n",
       "      <td>7</td>\n",
       "      <td>0.008130</td>\n",
       "      <td>0.056911</td>\n",
       "      <td>93.495935</td>\n",
       "      <td>0.939024</td>\n",
       "    </tr>\n",
       "    <tr>\n",
       "      <th>6</th>\n",
       "      <td>0.044286</td>\n",
       "      <td>7</td>\n",
       "      <td>0.008130</td>\n",
       "      <td>0.056911</td>\n",
       "      <td>93.495935</td>\n",
       "      <td>0.939024</td>\n",
       "    </tr>\n",
       "    <tr>\n",
       "      <th>7</th>\n",
       "      <td>0.040000</td>\n",
       "      <td>8</td>\n",
       "      <td>0.008130</td>\n",
       "      <td>0.052846</td>\n",
       "      <td>93.902439</td>\n",
       "      <td>0.939024</td>\n",
       "    </tr>\n",
       "    <tr>\n",
       "      <th>8</th>\n",
       "      <td>0.031429</td>\n",
       "      <td>9</td>\n",
       "      <td>0.008130</td>\n",
       "      <td>0.052846</td>\n",
       "      <td>93.902439</td>\n",
       "      <td>0.939024</td>\n",
       "    </tr>\n",
       "    <tr>\n",
       "      <th>9</th>\n",
       "      <td>0.030000</td>\n",
       "      <td>10</td>\n",
       "      <td>0.008130</td>\n",
       "      <td>0.056911</td>\n",
       "      <td>93.495935</td>\n",
       "      <td>0.939024</td>\n",
       "    </tr>\n",
       "    <tr>\n",
       "      <th>10</th>\n",
       "      <td>0.028571</td>\n",
       "      <td>11</td>\n",
       "      <td>0.008130</td>\n",
       "      <td>0.060976</td>\n",
       "      <td>93.089431</td>\n",
       "      <td>0.939024</td>\n",
       "    </tr>\n",
       "    <tr>\n",
       "      <th>11</th>\n",
       "      <td>0.027143</td>\n",
       "      <td>12</td>\n",
       "      <td>0.012195</td>\n",
       "      <td>0.056911</td>\n",
       "      <td>93.089431</td>\n",
       "      <td>0.939024</td>\n",
       "    </tr>\n",
       "    <tr>\n",
       "      <th>12</th>\n",
       "      <td>0.025714</td>\n",
       "      <td>13</td>\n",
       "      <td>0.008130</td>\n",
       "      <td>0.052846</td>\n",
       "      <td>93.902439</td>\n",
       "      <td>0.939024</td>\n",
       "    </tr>\n",
       "    <tr>\n",
       "      <th>13</th>\n",
       "      <td>0.024286</td>\n",
       "      <td>14</td>\n",
       "      <td>0.008130</td>\n",
       "      <td>0.060976</td>\n",
       "      <td>93.089431</td>\n",
       "      <td>0.939024</td>\n",
       "    </tr>\n",
       "    <tr>\n",
       "      <th>14</th>\n",
       "      <td>0.020000</td>\n",
       "      <td>15</td>\n",
       "      <td>0.008130</td>\n",
       "      <td>0.060976</td>\n",
       "      <td>93.089431</td>\n",
       "      <td>0.939024</td>\n",
       "    </tr>\n",
       "    <tr>\n",
       "      <th>15</th>\n",
       "      <td>0.018571</td>\n",
       "      <td>16</td>\n",
       "      <td>0.008130</td>\n",
       "      <td>0.065041</td>\n",
       "      <td>92.682927</td>\n",
       "      <td>0.939024</td>\n",
       "    </tr>\n",
       "    <tr>\n",
       "      <th>16</th>\n",
       "      <td>0.017143</td>\n",
       "      <td>18</td>\n",
       "      <td>0.008130</td>\n",
       "      <td>0.056911</td>\n",
       "      <td>93.495935</td>\n",
       "      <td>0.939024</td>\n",
       "    </tr>\n",
       "    <tr>\n",
       "      <th>17</th>\n",
       "      <td>0.017143</td>\n",
       "      <td>18</td>\n",
       "      <td>0.008130</td>\n",
       "      <td>0.056911</td>\n",
       "      <td>93.495935</td>\n",
       "      <td>0.939024</td>\n",
       "    </tr>\n",
       "    <tr>\n",
       "      <th>18</th>\n",
       "      <td>0.015714</td>\n",
       "      <td>19</td>\n",
       "      <td>0.008130</td>\n",
       "      <td>0.060976</td>\n",
       "      <td>93.089431</td>\n",
       "      <td>0.939024</td>\n",
       "    </tr>\n",
       "    <tr>\n",
       "      <th>19</th>\n",
       "      <td>0.014286</td>\n",
       "      <td>22</td>\n",
       "      <td>0.008130</td>\n",
       "      <td>0.056911</td>\n",
       "      <td>93.495935</td>\n",
       "      <td>0.939024</td>\n",
       "    </tr>\n",
       "    <tr>\n",
       "      <th>20</th>\n",
       "      <td>0.014286</td>\n",
       "      <td>22</td>\n",
       "      <td>0.008130</td>\n",
       "      <td>0.056911</td>\n",
       "      <td>93.495935</td>\n",
       "      <td>0.939024</td>\n",
       "    </tr>\n",
       "    <tr>\n",
       "      <th>21</th>\n",
       "      <td>0.014286</td>\n",
       "      <td>22</td>\n",
       "      <td>0.008130</td>\n",
       "      <td>0.056911</td>\n",
       "      <td>93.495935</td>\n",
       "      <td>0.939024</td>\n",
       "    </tr>\n",
       "    <tr>\n",
       "      <th>22</th>\n",
       "      <td>0.010000</td>\n",
       "      <td>25</td>\n",
       "      <td>0.008130</td>\n",
       "      <td>0.056911</td>\n",
       "      <td>93.495935</td>\n",
       "      <td>0.939024</td>\n",
       "    </tr>\n",
       "    <tr>\n",
       "      <th>23</th>\n",
       "      <td>0.010000</td>\n",
       "      <td>25</td>\n",
       "      <td>0.008130</td>\n",
       "      <td>0.056911</td>\n",
       "      <td>93.495935</td>\n",
       "      <td>0.939024</td>\n",
       "    </tr>\n",
       "    <tr>\n",
       "      <th>24</th>\n",
       "      <td>0.010000</td>\n",
       "      <td>25</td>\n",
       "      <td>0.008130</td>\n",
       "      <td>0.056911</td>\n",
       "      <td>93.495935</td>\n",
       "      <td>0.939024</td>\n",
       "    </tr>\n",
       "    <tr>\n",
       "      <th>25</th>\n",
       "      <td>0.008571</td>\n",
       "      <td>28</td>\n",
       "      <td>0.008130</td>\n",
       "      <td>0.052846</td>\n",
       "      <td>93.902439</td>\n",
       "      <td>0.939024</td>\n",
       "    </tr>\n",
       "    <tr>\n",
       "      <th>26</th>\n",
       "      <td>0.008571</td>\n",
       "      <td>28</td>\n",
       "      <td>0.008130</td>\n",
       "      <td>0.052846</td>\n",
       "      <td>93.902439</td>\n",
       "      <td>0.939024</td>\n",
       "    </tr>\n",
       "    <tr>\n",
       "      <th>27</th>\n",
       "      <td>0.008571</td>\n",
       "      <td>28</td>\n",
       "      <td>0.008130</td>\n",
       "      <td>0.052846</td>\n",
       "      <td>93.902439</td>\n",
       "      <td>0.939024</td>\n",
       "    </tr>\n",
       "    <tr>\n",
       "      <th>28</th>\n",
       "      <td>0.000000</td>\n",
       "      <td>29</td>\n",
       "      <td>0.008130</td>\n",
       "      <td>0.052846</td>\n",
       "      <td>93.902439</td>\n",
       "      <td>0.939024</td>\n",
       "    </tr>\n",
       "  </tbody>\n",
       "</table>\n",
       "</div>"
      ],
      "text/plain": [
       "      Thresh  N_Features    Type_I   Type_II   Accuracy     Score\n",
       "0   0.147143           1  0.008130  0.048780  94.308943  0.939024\n",
       "1   0.144286           2  0.016260  0.048780  93.495935  0.939024\n",
       "2   0.091429           3  0.012195  0.052846  93.495935  0.939024\n",
       "3   0.085714           4  0.012195  0.060976  92.682927  0.939024\n",
       "4   0.048571           5  0.012195  0.056911  93.089431  0.939024\n",
       "5   0.044286           7  0.008130  0.056911  93.495935  0.939024\n",
       "6   0.044286           7  0.008130  0.056911  93.495935  0.939024\n",
       "7   0.040000           8  0.008130  0.052846  93.902439  0.939024\n",
       "8   0.031429           9  0.008130  0.052846  93.902439  0.939024\n",
       "9   0.030000          10  0.008130  0.056911  93.495935  0.939024\n",
       "10  0.028571          11  0.008130  0.060976  93.089431  0.939024\n",
       "11  0.027143          12  0.012195  0.056911  93.089431  0.939024\n",
       "12  0.025714          13  0.008130  0.052846  93.902439  0.939024\n",
       "13  0.024286          14  0.008130  0.060976  93.089431  0.939024\n",
       "14  0.020000          15  0.008130  0.060976  93.089431  0.939024\n",
       "15  0.018571          16  0.008130  0.065041  92.682927  0.939024\n",
       "16  0.017143          18  0.008130  0.056911  93.495935  0.939024\n",
       "17  0.017143          18  0.008130  0.056911  93.495935  0.939024\n",
       "18  0.015714          19  0.008130  0.060976  93.089431  0.939024\n",
       "19  0.014286          22  0.008130  0.056911  93.495935  0.939024\n",
       "20  0.014286          22  0.008130  0.056911  93.495935  0.939024\n",
       "21  0.014286          22  0.008130  0.056911  93.495935  0.939024\n",
       "22  0.010000          25  0.008130  0.056911  93.495935  0.939024\n",
       "23  0.010000          25  0.008130  0.056911  93.495935  0.939024\n",
       "24  0.010000          25  0.008130  0.056911  93.495935  0.939024\n",
       "25  0.008571          28  0.008130  0.052846  93.902439  0.939024\n",
       "26  0.008571          28  0.008130  0.052846  93.902439  0.939024\n",
       "27  0.008571          28  0.008130  0.052846  93.902439  0.939024\n",
       "28  0.000000          29  0.008130  0.052846  93.902439  0.939024"
      ]
     },
     "execution_count": 54,
     "metadata": {},
     "output_type": "execute_result"
    }
   ],
   "source": [
    "# Note, sometimes it jumps up by 2 features because they have the same importance\n",
    "dffeat"
   ]
  },
  {
   "cell_type": "code",
   "execution_count": 55,
   "metadata": {
    "scrolled": false
   },
   "outputs": [
    {
     "data": {
      "image/png": "[encoded data removed]",
      "text/plain": [
       "<Figure size 1080x2160 with 1 Axes>"
      ]
     },
     "metadata": {},
     "output_type": "display_data"
    },
    {
     "name": "stdout",
     "output_type": "stream",
     "text": [
      "Low point for Type II \n",
      "\n",
      "   N_Features   Type_I  Type_II   Accuracy     Score\n",
      "0           1  0.00813  0.04878  94.308943  0.939024\n",
      "1           2  0.01626  0.04878  93.495935  0.939024\n"
     ]
    }
   ],
   "source": [
    "palette = plt.get_cmap('Set1')\n",
    "plt.subplots(figsize=(15, 30))\n",
    "plt.subplot(2,1,1)\n",
    "plt.title('Error Rate by Number of Features', fontsize=30)\n",
    "plt.plot( 'N_Features', 'Type_I', data=dffeat, marker='',linewidth=3, color=palette(1))\n",
    "plt.plot( 'N_Features', 'Type_II', data=dffeat, marker='', linewidth=3, color=palette(2))\n",
    "plt.plot( 'N_Features', 'Type_II', data=low_point,MarkerSize=15, marker='p',linewidth=5, color='r', alpha=.5)\n",
    "plt.xlabel('Number of Features',fontsize=20, fontweight=0)\n",
    "plt.ylabel('Error Rate',fontsize=20, fontweight=0)\n",
    "plt.legend()\n",
    "\n",
    "plt.show()\n",
    "\n",
    "print('Low point for Type II \\n\\n' + str(low_point.drop('Thresh',1)))"
   ]
  },
  {
   "cell_type": "code",
   "execution_count": 30,
   "metadata": {},
   "outputs": [
    {
     "data": {
      "text/html": [
       "<div>\n",
       "<style scoped>\n",
       "    .dataframe tbody tr th:only-of-type {\n",
       "        vertical-align: middle;\n",
       "    }\n",
       "\n",
       "    .dataframe tbody tr th {\n",
       "        vertical-align: top;\n",
       "    }\n",
       "\n",
       "    .dataframe thead th {\n",
       "        text-align: right;\n",
       "    }\n",
       "</style>\n",
       "<table border=\"1\" class=\"dataframe\">\n",
       "  <thead>\n",
       "    <tr style=\"text-align: right;\">\n",
       "      <th></th>\n",
       "      <th>Thresh</th>\n",
       "      <th>N_Features</th>\n",
       "      <th>Type_I</th>\n",
       "      <th>Type_II</th>\n",
       "      <th>Accuracy</th>\n",
       "      <th>Score</th>\n",
       "    </tr>\n",
       "  </thead>\n",
       "  <tbody>\n",
       "    <tr>\n",
       "      <th>2</th>\n",
       "      <td>0.098571</td>\n",
       "      <td>3</td>\n",
       "      <td>0.012195</td>\n",
       "      <td>0.060976</td>\n",
       "      <td>92.682927</td>\n",
       "      <td>0.910569</td>\n",
       "    </tr>\n",
       "    <tr>\n",
       "      <th>4</th>\n",
       "      <td>0.052857</td>\n",
       "      <td>5</td>\n",
       "      <td>0.012195</td>\n",
       "      <td>0.069106</td>\n",
       "      <td>91.869919</td>\n",
       "      <td>0.910569</td>\n",
       "    </tr>\n",
       "    <tr>\n",
       "      <th>5</th>\n",
       "      <td>0.045714</td>\n",
       "      <td>6</td>\n",
       "      <td>0.012195</td>\n",
       "      <td>0.069106</td>\n",
       "      <td>91.869919</td>\n",
       "      <td>0.910569</td>\n",
       "    </tr>\n",
       "    <tr>\n",
       "      <th>3</th>\n",
       "      <td>0.058571</td>\n",
       "      <td>4</td>\n",
       "      <td>0.012195</td>\n",
       "      <td>0.073171</td>\n",
       "      <td>91.463415</td>\n",
       "      <td>0.910569</td>\n",
       "    </tr>\n",
       "    <tr>\n",
       "      <th>14</th>\n",
       "      <td>0.027143</td>\n",
       "      <td>15</td>\n",
       "      <td>0.004065</td>\n",
       "      <td>0.077236</td>\n",
       "      <td>91.869919</td>\n",
       "      <td>0.910569</td>\n",
       "    </tr>\n",
       "    <tr>\n",
       "      <th>21</th>\n",
       "      <td>0.015714</td>\n",
       "      <td>22</td>\n",
       "      <td>0.004065</td>\n",
       "      <td>0.077236</td>\n",
       "      <td>91.869919</td>\n",
       "      <td>0.910569</td>\n",
       "    </tr>\n",
       "    <tr>\n",
       "      <th>20</th>\n",
       "      <td>0.015714</td>\n",
       "      <td>22</td>\n",
       "      <td>0.004065</td>\n",
       "      <td>0.077236</td>\n",
       "      <td>91.869919</td>\n",
       "      <td>0.910569</td>\n",
       "    </tr>\n",
       "    <tr>\n",
       "      <th>19</th>\n",
       "      <td>0.018571</td>\n",
       "      <td>20</td>\n",
       "      <td>0.004065</td>\n",
       "      <td>0.077236</td>\n",
       "      <td>91.869919</td>\n",
       "      <td>0.910569</td>\n",
       "    </tr>\n",
       "    <tr>\n",
       "      <th>18</th>\n",
       "      <td>0.018571</td>\n",
       "      <td>20</td>\n",
       "      <td>0.004065</td>\n",
       "      <td>0.077236</td>\n",
       "      <td>91.869919</td>\n",
       "      <td>0.910569</td>\n",
       "    </tr>\n",
       "    <tr>\n",
       "      <th>17</th>\n",
       "      <td>0.018571</td>\n",
       "      <td>20</td>\n",
       "      <td>0.004065</td>\n",
       "      <td>0.077236</td>\n",
       "      <td>91.869919</td>\n",
       "      <td>0.910569</td>\n",
       "    </tr>\n",
       "  </tbody>\n",
       "</table>\n",
       "</div>"
      ],
      "text/plain": [
       "      Thresh  N_Features    Type_I   Type_II   Accuracy     Score\n",
       "2   0.098571           3  0.012195  0.060976  92.682927  0.910569\n",
       "4   0.052857           5  0.012195  0.069106  91.869919  0.910569\n",
       "5   0.045714           6  0.012195  0.069106  91.869919  0.910569\n",
       "3   0.058571           4  0.012195  0.073171  91.463415  0.910569\n",
       "14  0.027143          15  0.004065  0.077236  91.869919  0.910569\n",
       "21  0.015714          22  0.004065  0.077236  91.869919  0.910569\n",
       "20  0.015714          22  0.004065  0.077236  91.869919  0.910569\n",
       "19  0.018571          20  0.004065  0.077236  91.869919  0.910569\n",
       "18  0.018571          20  0.004065  0.077236  91.869919  0.910569\n",
       "17  0.018571          20  0.004065  0.077236  91.869919  0.910569"
      ]
     },
     "execution_count": 30,
     "metadata": {},
     "output_type": "execute_result"
    }
   ],
   "source": [
    "dffeat.sort_values('Type_II').head(10)"
   ]
  },
  {
   "cell_type": "code",
   "execution_count": 31,
   "metadata": {},
   "outputs": [],
   "source": [
    "# Find the cutoff point\n",
    "if len(low_point.N_Features.values) >= 1:\n",
    "    num = round(len(low_point.N_Features.values)/2)\n",
    "else:\n",
    "    num = 0"
   ]
  },
  {
   "cell_type": "code",
   "execution_count": 56,
   "metadata": {},
   "outputs": [
    {
     "name": "stdout",
     "output_type": "stream",
     "text": [
      "('Time', 0.09142857)\n",
      "('V1', 0.028571429)\n",
      "('V2', 0.025714286)\n",
      "('V3', 0.044285715)\n",
      "('V4', 0.14428571)\n",
      "('V5', 0.01)\n",
      "('V6', 0.008571428)\n",
      "('V7', 0.044285715)\n",
      "('V8', 0.03)\n",
      "('V9', 0.014285714)\n",
      "('V10', 0.04)\n",
      "('V11', 0.04857143)\n",
      "('V12', 0.08571429)\n",
      "('V13', 0.01)\n",
      "('V14', 0.14714286)\n",
      "('V15', 0.018571429)\n",
      "('V16', 0.027142856)\n",
      "('V18', 0.03142857)\n",
      "('V19', 0.014285714)\n",
      "('V20', 0.01)\n",
      "('V21', 0.008571428)\n",
      "('V22', 0.02)\n",
      "('V23', 0.014285714)\n",
      "('V24', 0.017142856)\n",
      "('V25', 0.024285715)\n",
      "('V26', 0.017142856)\n",
      "('V27', 0.0)\n",
      "('V28', 0.015714286)\n",
      "('Amount', 0.008571428)\n"
     ]
    }
   ],
   "source": [
    "# Create a list of feature importance and their names\n",
    "listoff=[]\n",
    "for feature in zip(list(df1), xg_cls.feature_importances_):\n",
    "    listoff.append(feature)\n",
    "    print(feature)"
   ]
  },
  {
   "cell_type": "code",
   "execution_count": 58,
   "metadata": {},
   "outputs": [],
   "source": [
    "# Sort the list and remove all but the top 19 features\n",
    "\n",
    "listoff.sort(key=lambda tup: tup[1])\n",
    "features_drop = []\n",
    "for elem in listoff[:-26]:\n",
    "    features_drop.append(elem[0])\n",
    "    \n",
    "# Append V17 which we dropped earlier\n",
    "features_drop.append('V17')"
   ]
  },
  {
   "cell_type": "code",
   "execution_count": 59,
   "metadata": {},
   "outputs": [
    {
     "data": {
      "text/plain": [
       "['V27', 'V6', 'V21', 'V17']"
      ]
     },
     "execution_count": 59,
     "metadata": {},
     "output_type": "execute_result"
    }
   ],
   "source": [
    "features_drop"
   ]
  },
  {
   "cell_type": "code",
   "execution_count": 60,
   "metadata": {},
   "outputs": [],
   "source": [
    "# get up sampled df\n",
    "dfold = pd.read_pickle(('../../Data/dedicatedTrain.pkl'))\n",
    "dfoldtest = pd.read_pickle(('../../Data/dedicatedTest.pkl'))"
   ]
  },
  {
   "cell_type": "code",
   "execution_count": 61,
   "metadata": {},
   "outputs": [],
   "source": [
    "# drop the features we don't want\n",
    "dfnew = dfold.drop(features_drop,1)\n",
    "dfnew1 = dfoldtest.drop(features_drop,1)"
   ]
  },
  {
   "cell_type": "code",
   "execution_count": 62,
   "metadata": {},
   "outputs": [],
   "source": [
    "# Save it so we have something to use in the future\n",
    "dfnew.to_pickle(('../../Data/dedicatedTrainSelect.pkl'))\n",
    "dfnew1.to_pickle(('../../Data/dedicatedTestSelect.pkl'))"
   ]
  },
  {
   "cell_type": "markdown",
   "metadata": {},
   "source": [
    "# Parameter Tuning"
   ]
  },
  {
   "cell_type": "code",
   "execution_count": 63,
   "metadata": {},
   "outputs": [
    {
     "name": "stdout",
     "output_type": "stream",
     "text": [
      "<class 'pandas.core.frame.DataFrame'>\n",
      "RangeIndex: 568384 entries, 0 to 568383\n",
      "Data columns (total 27 columns):\n",
      "Time      568384 non-null float64\n",
      "V1        568384 non-null float64\n",
      "V2        568384 non-null float64\n",
      "V3        568384 non-null float64\n",
      "V4        568384 non-null float64\n",
      "V5        568384 non-null float64\n",
      "V7        568384 non-null float64\n",
      "V8        568384 non-null float64\n",
      "V9        568384 non-null float64\n",
      "V10       568384 non-null float64\n",
      "V11       568384 non-null float64\n",
      "V12       568384 non-null float64\n",
      "V13       568384 non-null float64\n",
      "V14       568384 non-null float64\n",
      "V15       568384 non-null float64\n",
      "V16       568384 non-null float64\n",
      "V18       568384 non-null float64\n",
      "V19       568384 non-null float64\n",
      "V20       568384 non-null float64\n",
      "V22       568384 non-null float64\n",
      "V23       568384 non-null float64\n",
      "V24       568384 non-null float64\n",
      "V25       568384 non-null float64\n",
      "V26       568384 non-null float64\n",
      "V28       568384 non-null float64\n",
      "Amount    568384 non-null float64\n",
      "Class     568384 non-null float64\n",
      "dtypes: float64(27)\n",
      "memory usage: 117.1 MB\n"
     ]
    }
   ],
   "source": [
    "import pandas as pd\n",
    "import numpy as np\n",
    "\n",
    "# Open up the data with selected features\n",
    "train_df = pd.read_pickle(('../../Data/dedicatedTrainSelect.pkl'))\n",
    "test_df = pd.read_pickle(('../../Data/dedicatedTestSelect.pkl'))\n",
    "train_df.info()"
   ]
  },
  {
   "cell_type": "code",
   "execution_count": 64,
   "metadata": {},
   "outputs": [],
   "source": [
    "# Get train and test data\n",
    "X_train, y_train = train_df.drop('Class',1), train_df['Class']\n",
    "X_test, y_test = test_df.drop('Class',1), test_df['Class']"
   ]
  },
  {
   "cell_type": "code",
   "execution_count": 65,
   "metadata": {},
   "outputs": [
    {
     "name": "stdout",
     "output_type": "stream",
     "text": [
      "max_depth=3.000, n_estimators=10, Type I=0.0081300813, Type II=0.0487804878, Accuracy: 94.3089%\n",
      "max_depth=3.000, n_estimators=30, Type I=0.0081300813, Type II=0.0487804878, Accuracy: 94.3089%\n",
      "max_depth=3.000, n_estimators=50, Type I=0.0081300813, Type II=0.0487804878, Accuracy: 94.3089%\n",
      "max_depth=3.000, n_estimators=100, Type I=0.0081300813, Type II=0.0609756098, Accuracy: 93.0894%\n",
      "max_depth=3.000, n_estimators=150, Type I=0.0000000000, Type II=0.0609756098, Accuracy: 93.9024%\n",
      "max_depth=3.000, n_estimators=200, Type I=0.0000000000, Type II=0.0609756098, Accuracy: 93.9024%\n",
      "max_depth=3.000, n_estimators=250, Type I=0.0000000000, Type II=0.0609756098, Accuracy: 93.9024%\n",
      "max_depth=5.000, n_estimators=10, Type I=0.0081300813, Type II=0.0569105691, Accuracy: 93.4959%\n",
      "max_depth=5.000, n_estimators=30, Type I=0.0081300813, Type II=0.0569105691, Accuracy: 93.4959%\n",
      "max_depth=5.000, n_estimators=50, Type I=0.0040650407, Type II=0.0609756098, Accuracy: 93.4959%\n",
      "max_depth=5.000, n_estimators=100, Type I=0.0000000000, Type II=0.0650406504, Accuracy: 93.4959%\n",
      "max_depth=5.000, n_estimators=150, Type I=0.0000000000, Type II=0.0731707317, Accuracy: 92.6829%\n",
      "max_depth=5.000, n_estimators=200, Type I=0.0000000000, Type II=0.0772357724, Accuracy: 92.2764%\n",
      "max_depth=5.000, n_estimators=250, Type I=0.0000000000, Type II=0.0772357724, Accuracy: 92.2764%\n",
      "max_depth=10.000, n_estimators=10, Type I=0.0000000000, Type II=0.0853658537, Accuracy: 91.4634%\n",
      "max_depth=10.000, n_estimators=30, Type I=0.0000000000, Type II=0.0853658537, Accuracy: 91.4634%\n",
      "max_depth=10.000, n_estimators=50, Type I=0.0000000000, Type II=0.0894308943, Accuracy: 91.0569%\n",
      "max_depth=10.000, n_estimators=100, Type I=0.0000000000, Type II=0.0894308943, Accuracy: 91.0569%\n",
      "max_depth=10.000, n_estimators=150, Type I=0.0000000000, Type II=0.0894308943, Accuracy: 91.0569%\n",
      "max_depth=10.000, n_estimators=200, Type I=0.0000000000, Type II=0.0894308943, Accuracy: 91.0569%\n",
      "max_depth=10.000, n_estimators=250, Type I=0.0000000000, Type II=0.0894308943, Accuracy: 91.0569%\n",
      "max_depth=15.000, n_estimators=10, Type I=0.0000000000, Type II=0.0934959350, Accuracy: 90.6504%\n",
      "max_depth=15.000, n_estimators=30, Type I=0.0000000000, Type II=0.0894308943, Accuracy: 91.0569%\n",
      "max_depth=15.000, n_estimators=50, Type I=0.0000000000, Type II=0.0894308943, Accuracy: 91.0569%\n",
      "max_depth=15.000, n_estimators=100, Type I=0.0000000000, Type II=0.0853658537, Accuracy: 91.4634%\n",
      "max_depth=15.000, n_estimators=150, Type I=0.0000000000, Type II=0.0894308943, Accuracy: 91.0569%\n",
      "max_depth=15.000, n_estimators=200, Type I=0.0000000000, Type II=0.0813008130, Accuracy: 91.8699%\n",
      "max_depth=15.000, n_estimators=250, Type I=0.0000000000, Type II=0.0813008130, Accuracy: 91.8699%\n",
      "max_depth=20.000, n_estimators=10, Type I=0.0000000000, Type II=0.0934959350, Accuracy: 90.6504%\n",
      "max_depth=20.000, n_estimators=30, Type I=0.0000000000, Type II=0.0934959350, Accuracy: 90.6504%\n",
      "max_depth=20.000, n_estimators=50, Type I=0.0000000000, Type II=0.0894308943, Accuracy: 91.0569%\n",
      "max_depth=20.000, n_estimators=100, Type I=0.0000000000, Type II=0.0853658537, Accuracy: 91.4634%\n",
      "max_depth=20.000, n_estimators=150, Type I=0.0000000000, Type II=0.0853658537, Accuracy: 91.4634%\n",
      "max_depth=20.000, n_estimators=200, Type I=0.0000000000, Type II=0.0853658537, Accuracy: 91.4634%\n",
      "max_depth=20.000, n_estimators=250, Type I=0.0000000000, Type II=0.0894308943, Accuracy: 91.0569%\n"
     ]
    }
   ],
   "source": [
    "import xgboost as xgb\n",
    "from sklearn.metrics import mean_squared_error\n",
    "from sklearn.metrics import accuracy_score\n",
    "\n",
    "max_depth = [3, 5, 10, 15, 20]\n",
    "n_estimators = [10, 30, 50, 100, 150, 200, 250]\n",
    "listy =[]\n",
    "\n",
    "# Go through multiple depths and n_estimators to find best parameters\n",
    "\n",
    "for max_d in max_depth:\n",
    "    for n_est in n_estimators:\n",
    "        \n",
    "        # train model\n",
    "        model = xgb.XGBClassifier(n_estimators=n_est, max_depth=max_d, tree_method='gpu_exact', random_state=3)\n",
    "        model.fit(X_train, y_train)\n",
    "\n",
    "        # eval model\n",
    "        preds = model.predict(X_test)\n",
    "        table_test = pd.crosstab(y_test, preds, margins=True)\n",
    "        test_tI_errors = table_test.loc[0.0,1.0]/table_test.loc['All','All']\n",
    "        test_tII_errors = table_test.loc[1.0,0.0]/table_test.loc['All','All']\n",
    "        accuracy = accuracy_score(y_test, preds)\n",
    "        test_score = model.score(X_test, y_test)\n",
    "\n",
    "        # Save to list so we can graph it\n",
    "        listy.append([max_d, n_est, test_tI_errors, test_tII_errors, accuracy*100.0,test_score])\n",
    "        print(\"max_depth=%.3f, n_estimators=%d, Type I=%.10f, Type II=%.10f, Accuracy: %.4f%%\" % (max_d, n_est, test_tI_errors, test_tII_errors, accuracy*100.0))"
   ]
  },
  {
   "cell_type": "code",
   "execution_count": 48,
   "metadata": {
    "scrolled": true
   },
   "outputs": [
    {
     "data": {
      "text/plain": [
       "[[3,\n",
       "  10,\n",
       "  0.008130081300813009,\n",
       "  0.08536585365853659,\n",
       "  90.65040650406505,\n",
       "  0.9065040650406504],\n",
       " [3,\n",
       "  30,\n",
       "  0.008130081300813009,\n",
       "  0.07723577235772358,\n",
       "  91.46341463414635,\n",
       "  0.9146341463414634],\n",
       " [3,\n",
       "  50,\n",
       "  0.0040650406504065045,\n",
       "  0.07723577235772358,\n",
       "  91.869918699187,\n",
       "  0.9186991869918699],\n",
       " [3,\n",
       "  100,\n",
       "  0.008130081300813009,\n",
       "  0.08130081300813008,\n",
       "  91.05691056910568,\n",
       "  0.9105691056910569],\n",
       " [3,\n",
       "  150,\n",
       "  0.0040650406504065045,\n",
       "  0.08130081300813008,\n",
       "  91.46341463414635,\n",
       "  0.9146341463414634],\n",
       " [3,\n",
       "  200,\n",
       "  0.0040650406504065045,\n",
       "  0.08536585365853659,\n",
       "  91.05691056910568,\n",
       "  0.9105691056910569],\n",
       " [3,\n",
       "  250,\n",
       "  0.0040650406504065045,\n",
       "  0.08536585365853659,\n",
       "  91.05691056910568,\n",
       "  0.9105691056910569],\n",
       " [5,\n",
       "  10,\n",
       "  0.008130081300813009,\n",
       "  0.08536585365853659,\n",
       "  90.65040650406505,\n",
       "  0.9065040650406504],\n",
       " [5,\n",
       "  30,\n",
       "  0.0040650406504065045,\n",
       "  0.07723577235772358,\n",
       "  91.869918699187,\n",
       "  0.9186991869918699],\n",
       " [5,\n",
       "  50,\n",
       "  0.0040650406504065045,\n",
       "  0.07317073170731707,\n",
       "  92.27642276422763,\n",
       "  0.9227642276422764],\n",
       " [5, 100, 0.0, 0.07723577235772358, 92.27642276422763, 0.9227642276422764],\n",
       " [5, 150, 0.0, 0.07723577235772358, 92.27642276422763, 0.9227642276422764],\n",
       " [5, 200, 0.0, 0.08130081300813008, 91.869918699187, 0.9186991869918699],\n",
       " [5, 250, 0.0, 0.08943089430894309, 91.05691056910568, 0.9105691056910569],\n",
       " [10,\n",
       "  10,\n",
       "  0.0040650406504065045,\n",
       "  0.08943089430894309,\n",
       "  90.65040650406505,\n",
       "  0.9065040650406504],\n",
       " [10, 30, 0.0, 0.1016260162601626, 89.83739837398373, 0.8983739837398373],\n",
       " [10, 50, 0.0, 0.1016260162601626, 89.83739837398373, 0.8983739837398373],\n",
       " [10, 100, 0.0, 0.0975609756097561, 90.2439024390244, 0.9024390243902439],\n",
       " [10, 150, 0.0, 0.08943089430894309, 91.05691056910568, 0.9105691056910569],\n",
       " [10, 200, 0.0, 0.09349593495934959, 90.65040650406505, 0.9065040650406504],\n",
       " [10, 250, 0.0, 0.08943089430894309, 91.05691056910568, 0.9105691056910569],\n",
       " [15,\n",
       "  10,\n",
       "  0.0040650406504065045,\n",
       "  0.09349593495934959,\n",
       "  90.2439024390244,\n",
       "  0.9024390243902439],\n",
       " [15, 30, 0.0, 0.10569105691056911, 89.43089430894308, 0.8943089430894309],\n",
       " [15, 50, 0.0, 0.10569105691056911, 89.43089430894308, 0.8943089430894309],\n",
       " [15, 100, 0.0, 0.1016260162601626, 89.83739837398373, 0.8983739837398373],\n",
       " [15, 150, 0.0, 0.1016260162601626, 89.83739837398373, 0.8983739837398373],\n",
       " [15, 200, 0.0, 0.0975609756097561, 90.2439024390244, 0.9024390243902439],\n",
       " [15, 250, 0.0, 0.1016260162601626, 89.83739837398373, 0.8983739837398373],\n",
       " [20,\n",
       "  10,\n",
       "  0.0040650406504065045,\n",
       "  0.1016260162601626,\n",
       "  89.43089430894308,\n",
       "  0.8943089430894309],\n",
       " [20, 30, 0.0, 0.10569105691056911, 89.43089430894308, 0.8943089430894309],\n",
       " [20, 50, 0.0, 0.10569105691056911, 89.43089430894308, 0.8943089430894309],\n",
       " [20, 100, 0.0, 0.1016260162601626, 89.83739837398373, 0.8983739837398373],\n",
       " [20, 150, 0.0, 0.1016260162601626, 89.83739837398373, 0.8983739837398373],\n",
       " [20, 200, 0.0, 0.1016260162601626, 89.83739837398373, 0.8983739837398373],\n",
       " [20, 250, 0.0, 0.10569105691056911, 89.43089430894308, 0.8943089430894309]]"
      ]
     },
     "execution_count": 48,
     "metadata": {},
     "output_type": "execute_result"
    }
   ],
   "source": [
    "listy"
   ]
  },
  {
   "cell_type": "code",
   "execution_count": 66,
   "metadata": {
    "scrolled": true
   },
   "outputs": [],
   "source": [
    "dfest = pd.DataFrame(listy, columns=['Max_Depth', 'N_Estimators', 'Type_I', 'Type_II', 'Accuracy', 'Score'])"
   ]
  },
  {
   "cell_type": "code",
   "execution_count": 67,
   "metadata": {},
   "outputs": [
    {
     "data": {
      "text/html": [
       "<div>\n",
       "<style scoped>\n",
       "    .dataframe tbody tr th:only-of-type {\n",
       "        vertical-align: middle;\n",
       "    }\n",
       "\n",
       "    .dataframe tbody tr th {\n",
       "        vertical-align: top;\n",
       "    }\n",
       "\n",
       "    .dataframe thead th {\n",
       "        text-align: right;\n",
       "    }\n",
       "</style>\n",
       "<table border=\"1\" class=\"dataframe\">\n",
       "  <thead>\n",
       "    <tr style=\"text-align: right;\">\n",
       "      <th></th>\n",
       "      <th>Max_Depth</th>\n",
       "      <th>N_Estimators</th>\n",
       "      <th>Type_I</th>\n",
       "      <th>Type_II</th>\n",
       "      <th>Accuracy</th>\n",
       "      <th>Score</th>\n",
       "    </tr>\n",
       "  </thead>\n",
       "  <tbody>\n",
       "    <tr>\n",
       "      <th>0</th>\n",
       "      <td>3</td>\n",
       "      <td>10</td>\n",
       "      <td>0.008130</td>\n",
       "      <td>0.048780</td>\n",
       "      <td>94.308943</td>\n",
       "      <td>0.943089</td>\n",
       "    </tr>\n",
       "    <tr>\n",
       "      <th>1</th>\n",
       "      <td>3</td>\n",
       "      <td>30</td>\n",
       "      <td>0.008130</td>\n",
       "      <td>0.048780</td>\n",
       "      <td>94.308943</td>\n",
       "      <td>0.943089</td>\n",
       "    </tr>\n",
       "    <tr>\n",
       "      <th>2</th>\n",
       "      <td>3</td>\n",
       "      <td>50</td>\n",
       "      <td>0.008130</td>\n",
       "      <td>0.048780</td>\n",
       "      <td>94.308943</td>\n",
       "      <td>0.943089</td>\n",
       "    </tr>\n",
       "    <tr>\n",
       "      <th>7</th>\n",
       "      <td>5</td>\n",
       "      <td>10</td>\n",
       "      <td>0.008130</td>\n",
       "      <td>0.056911</td>\n",
       "      <td>93.495935</td>\n",
       "      <td>0.934959</td>\n",
       "    </tr>\n",
       "    <tr>\n",
       "      <th>8</th>\n",
       "      <td>5</td>\n",
       "      <td>30</td>\n",
       "      <td>0.008130</td>\n",
       "      <td>0.056911</td>\n",
       "      <td>93.495935</td>\n",
       "      <td>0.934959</td>\n",
       "    </tr>\n",
       "    <tr>\n",
       "      <th>3</th>\n",
       "      <td>3</td>\n",
       "      <td>100</td>\n",
       "      <td>0.008130</td>\n",
       "      <td>0.060976</td>\n",
       "      <td>93.089431</td>\n",
       "      <td>0.930894</td>\n",
       "    </tr>\n",
       "    <tr>\n",
       "      <th>4</th>\n",
       "      <td>3</td>\n",
       "      <td>150</td>\n",
       "      <td>0.000000</td>\n",
       "      <td>0.060976</td>\n",
       "      <td>93.902439</td>\n",
       "      <td>0.939024</td>\n",
       "    </tr>\n",
       "    <tr>\n",
       "      <th>5</th>\n",
       "      <td>3</td>\n",
       "      <td>200</td>\n",
       "      <td>0.000000</td>\n",
       "      <td>0.060976</td>\n",
       "      <td>93.902439</td>\n",
       "      <td>0.939024</td>\n",
       "    </tr>\n",
       "    <tr>\n",
       "      <th>6</th>\n",
       "      <td>3</td>\n",
       "      <td>250</td>\n",
       "      <td>0.000000</td>\n",
       "      <td>0.060976</td>\n",
       "      <td>93.902439</td>\n",
       "      <td>0.939024</td>\n",
       "    </tr>\n",
       "    <tr>\n",
       "      <th>9</th>\n",
       "      <td>5</td>\n",
       "      <td>50</td>\n",
       "      <td>0.004065</td>\n",
       "      <td>0.060976</td>\n",
       "      <td>93.495935</td>\n",
       "      <td>0.934959</td>\n",
       "    </tr>\n",
       "  </tbody>\n",
       "</table>\n",
       "</div>"
      ],
      "text/plain": [
       "   Max_Depth  N_Estimators    Type_I   Type_II   Accuracy     Score\n",
       "0          3            10  0.008130  0.048780  94.308943  0.943089\n",
       "1          3            30  0.008130  0.048780  94.308943  0.943089\n",
       "2          3            50  0.008130  0.048780  94.308943  0.943089\n",
       "7          5            10  0.008130  0.056911  93.495935  0.934959\n",
       "8          5            30  0.008130  0.056911  93.495935  0.934959\n",
       "3          3           100  0.008130  0.060976  93.089431  0.930894\n",
       "4          3           150  0.000000  0.060976  93.902439  0.939024\n",
       "5          3           200  0.000000  0.060976  93.902439  0.939024\n",
       "6          3           250  0.000000  0.060976  93.902439  0.939024\n",
       "9          5            50  0.004065  0.060976  93.495935  0.934959"
      ]
     },
     "execution_count": 67,
     "metadata": {},
     "output_type": "execute_result"
    }
   ],
   "source": [
    "dfest.sort_values('Type_II').head(10)"
   ]
  },
  {
   "cell_type": "code",
   "execution_count": 68,
   "metadata": {
    "scrolled": false
   },
   "outputs": [
    {
     "data": {
      "text/plain": [
       "Text(0,0.5,'Error Rate')"
      ]
     },
     "execution_count": 68,
     "metadata": {},
     "output_type": "execute_result"
    },
    {
     "data": {
      "image/png": "[encoded data removed]",
      "text/plain": [
       "<Figure size 1440x2160 with 3 Axes>"
      ]
     },
     "metadata": {},
     "output_type": "display_data"
    }
   ],
   "source": [
    "plt.figure(figsize=(20,30))\n",
    "plt.subplot(3,1,1)\n",
    "plt.title('Type II Error Rate', fontsize=20)\n",
    "ax = sns.lineplot(x=\"N_Estimators\", y=\"Type_II\", hue='Max_Depth', data=dfest, linewidth=3)\n",
    "plt.legend(['3','5','10','15','20'], fontsize=20)\n",
    "plt.xlabel('N Estimators',fontsize=20, fontweight=0)\n",
    "plt.ylabel('Error Rate',fontsize=20, fontweight=0)\n",
    "\n",
    "plt.subplot(3,1,2)\n",
    "plt.title('Score', fontsize=20)\n",
    "f = sns.lineplot(x=\"N_Estimators\", y=\"Score\", hue='Max_Depth', data=dfest, linewidth=3)\n",
    "plt.legend(['3','5','10','15','20'], fontsize=20)\n",
    "plt.xlabel('N Estimators',fontsize=20, fontweight=0)\n",
    "plt.ylabel('Score',fontsize=20, fontweight=0)\n",
    "\n",
    "plt.subplot(3,1,3)\n",
    "plt.title('Type I Error Rate', fontsize=20)\n",
    "ax = sns.lineplot(x=\"N_Estimators\", y=\"Type_I\", hue='Max_Depth', data=dfest, linewidth=3)\n",
    "plt.legend(['3','5','10','15','20'], fontsize=20)\n",
    "plt.xlabel('N Estimators',fontsize=20, fontweight=0)\n",
    "plt.ylabel('Error Rate',fontsize=20, fontweight=0)"
   ]
  },
  {
   "cell_type": "code",
   "execution_count": null,
   "metadata": {},
   "outputs": [],
   "source": []
  },
  {
   "cell_type": "code",
   "execution_count": 69,
   "metadata": {},
   "outputs": [
    {
     "data": {
      "text/plain": [
       "XGBClassifier(base_score=0.5, booster='gbtree', colsample_bylevel=1,\n",
       "       colsample_bytree=1, gamma=0, learning_rate=0.1, max_delta_step=0,\n",
       "       max_depth=3, min_child_weight=1, missing=None, n_estimators=50,\n",
       "       n_jobs=1, nthread=None, objective='binary:logistic', random_state=3,\n",
       "       reg_alpha=0, reg_lambda=1, scale_pos_weight=1, seed=None,\n",
       "       silent=True, subsample=1, tree_method='gpu_exact')"
      ]
     },
     "execution_count": 69,
     "metadata": {},
     "output_type": "execute_result"
    }
   ],
   "source": [
    "# We use the lowest max depth and N_est that gets the best value (lower = better runtime)\n",
    "model = xgb.XGBClassifier(n_estimators=50, max_depth=3, tree_method='gpu_exact', random_state=3)\n",
    "model.fit(X_train, y_train)\n",
    "\n"
   ]
  },
  {
   "cell_type": "code",
   "execution_count": 71,
   "metadata": {},
   "outputs": [],
   "source": [
    "# Try it out on original data!\n",
    "\n",
    "dfold = pd.read_pickle(('../../Data/creditcard.pkl'))\n",
    "dfold=dfold.drop(features_drop,1)\n",
    "\n",
    "fX, fy = dfold.drop('Class',1), dfold['Class']\n",
    "\n",
    "fulldatapreds = model.predict(dfold.drop('Class',1))\n",
    "preds = model.predict(X_test)\n",
    "trainpred = model.predict(X_train)"
   ]
  },
  {
   "cell_type": "code",
   "execution_count": 54,
   "metadata": {},
   "outputs": [
    {
     "name": "stdout",
     "output_type": "stream",
     "text": [
      "[0.84615385 0.84615385 0.92307692 0.91666667 1.         0.91666667\n",
      " 0.91666667 0.91666667 0.83333333 0.875     ]\n"
     ]
    }
   ],
   "source": [
    "from sklearn.model_selection import cross_val_score\n",
    "\n",
    "print(cross_val_score(model, X_test, y_test, cv=10))"
   ]
  },
  {
   "cell_type": "code",
   "execution_count": null,
   "metadata": {},
   "outputs": [],
   "source": []
  },
  {
   "cell_type": "code",
   "execution_count": 73,
   "metadata": {},
   "outputs": [
    {
     "name": "stdout",
     "output_type": "stream",
     "text": [
      "***********************************\n",
      "\n",
      "Train set accuracy:\n",
      "Percent Type I errors:  0.006036412003153\n",
      "Percent Type II errors: 0.015806215516271\n",
      "\n",
      "Test set accuracy:\n",
      "Percent Type I errors:  0.008130081300813\n",
      "Percent Type II errors: 0.048780487804878\n",
      "\n",
      "Full set accuracy:\n",
      "Percent Type I errors:  0.012053776768127\n",
      "Percent Type II errors: 0.000154490584852\n",
      "\n",
      "***********************************\n",
      "* Type I errors are normal purchases that have been flagged.\n",
      "* Type II errors are frauds that are not caught!\n",
      "\n"
     ]
    }
   ],
   "source": [
    "# Accuracy tables on the training and test set\n",
    "\n",
    "table_full = pd.crosstab(fy, fulldatapreds, margins=True)\n",
    "table_test = pd.crosstab(y_test, preds, margins=True)\n",
    "table_train = pd.crosstab(y_train, trainpred, margins=True)\n",
    "\n",
    "\n",
    "train_tI_errors = table_train.loc[0.0,1.0] / table_train.loc['All','All']\n",
    "train_tII_errors = table_train.loc[1.0,0.0] / table_train.loc['All','All']\n",
    "\n",
    "test_tI_errors = table_test.loc[0.0,1.0]/table_test.loc['All','All']\n",
    "test_tII_errors = table_test.loc[1.0,0.0]/table_test.loc['All','All']\n",
    "\n",
    "full_tI_errors = table_full.loc[0.0,1.0] / table_full.loc['All','All']\n",
    "full_tII_errors = table_full.loc[1.0,0.0] / table_full.loc['All','All']\n",
    "\n",
    "print((\n",
    "    '***********************************\\n\\n'    \n",
    "    'Train set accuracy:\\n'\n",
    "    'Percent Type I errors:  {:.15f}\\n'\n",
    "    'Percent Type II errors: {:.15f}\\n\\n'\n",
    "    'Test set accuracy:\\n'\n",
    "    'Percent Type I errors:  {:.15f}\\n'\n",
    "    'Percent Type II errors: {:.15f}\\n\\n'\n",
    "    'Full set accuracy:\\n'\n",
    "    'Percent Type I errors:  {:.15f}\\n'\n",
    "    'Percent Type II errors: {:.15f}\\n\\n'\n",
    "    '***********************************\\n'\n",
    "    '* Type I errors are normal purchases that have been flagged.\\n'\n",
    "    '* Type II errors are frauds that are not caught!\\n'\n",
    ").format(train_tI_errors, train_tII_errors, test_tI_errors, test_tII_errors, full_tI_errors, full_tII_errors))"
   ]
  },
  {
   "cell_type": "code",
   "execution_count": 76,
   "metadata": {
    "scrolled": true
   },
   "outputs": [
    {
     "data": {
      "text/html": [
       "<div>\n",
       "<style scoped>\n",
       "    .dataframe tbody tr th:only-of-type {\n",
       "        vertical-align: middle;\n",
       "    }\n",
       "\n",
       "    .dataframe tbody tr th {\n",
       "        vertical-align: top;\n",
       "    }\n",
       "\n",
       "    .dataframe thead th {\n",
       "        text-align: right;\n",
       "    }\n",
       "</style>\n",
       "<table border=\"1\" class=\"dataframe\">\n",
       "  <thead>\n",
       "    <tr style=\"text-align: right;\">\n",
       "      <th>col_0</th>\n",
       "      <th>0.0</th>\n",
       "      <th>1.0</th>\n",
       "      <th>All</th>\n",
       "    </tr>\n",
       "    <tr>\n",
       "      <th>Class</th>\n",
       "      <th></th>\n",
       "      <th></th>\n",
       "      <th></th>\n",
       "    </tr>\n",
       "  </thead>\n",
       "  <tbody>\n",
       "    <tr>\n",
       "      <th>0.0</th>\n",
       "      <td>280761</td>\n",
       "      <td>3431</td>\n",
       "      <td>284192</td>\n",
       "    </tr>\n",
       "    <tr>\n",
       "      <th>1.0</th>\n",
       "      <td>8984</td>\n",
       "      <td>275208</td>\n",
       "      <td>284192</td>\n",
       "    </tr>\n",
       "    <tr>\n",
       "      <th>All</th>\n",
       "      <td>289745</td>\n",
       "      <td>278639</td>\n",
       "      <td>568384</td>\n",
       "    </tr>\n",
       "  </tbody>\n",
       "</table>\n",
       "</div>"
      ],
      "text/plain": [
       "col_0     0.0     1.0     All\n",
       "Class                        \n",
       "0.0    280761    3431  284192\n",
       "1.0      8984  275208  284192\n",
       "All    289745  278639  568384"
      ]
     },
     "execution_count": 76,
     "metadata": {},
     "output_type": "execute_result"
    }
   ],
   "source": [
    "table_train"
   ]
  },
  {
   "cell_type": "code",
   "execution_count": 74,
   "metadata": {},
   "outputs": [
    {
     "data": {
      "text/html": [
       "<div>\n",
       "<style scoped>\n",
       "    .dataframe tbody tr th:only-of-type {\n",
       "        vertical-align: middle;\n",
       "    }\n",
       "\n",
       "    .dataframe tbody tr th {\n",
       "        vertical-align: top;\n",
       "    }\n",
       "\n",
       "    .dataframe thead th {\n",
       "        text-align: right;\n",
       "    }\n",
       "</style>\n",
       "<table border=\"1\" class=\"dataframe\">\n",
       "  <thead>\n",
       "    <tr style=\"text-align: right;\">\n",
       "      <th>col_0</th>\n",
       "      <th>0.0</th>\n",
       "      <th>1.0</th>\n",
       "      <th>All</th>\n",
       "    </tr>\n",
       "    <tr>\n",
       "      <th>Class</th>\n",
       "      <th></th>\n",
       "      <th></th>\n",
       "      <th></th>\n",
       "    </tr>\n",
       "  </thead>\n",
       "  <tbody>\n",
       "    <tr>\n",
       "      <th>0</th>\n",
       "      <td>121</td>\n",
       "      <td>2</td>\n",
       "      <td>123</td>\n",
       "    </tr>\n",
       "    <tr>\n",
       "      <th>1</th>\n",
       "      <td>12</td>\n",
       "      <td>111</td>\n",
       "      <td>123</td>\n",
       "    </tr>\n",
       "    <tr>\n",
       "      <th>All</th>\n",
       "      <td>133</td>\n",
       "      <td>113</td>\n",
       "      <td>246</td>\n",
       "    </tr>\n",
       "  </tbody>\n",
       "</table>\n",
       "</div>"
      ],
      "text/plain": [
       "col_0  0.0  1.0  All\n",
       "Class               \n",
       "0      121    2  123\n",
       "1       12  111  123\n",
       "All    133  113  246"
      ]
     },
     "execution_count": 74,
     "metadata": {},
     "output_type": "execute_result"
    }
   ],
   "source": [
    "table_test"
   ]
  },
  {
   "cell_type": "code",
   "execution_count": 75,
   "metadata": {},
   "outputs": [
    {
     "data": {
      "text/html": [
       "<div>\n",
       "<style scoped>\n",
       "    .dataframe tbody tr th:only-of-type {\n",
       "        vertical-align: middle;\n",
       "    }\n",
       "\n",
       "    .dataframe tbody tr th {\n",
       "        vertical-align: top;\n",
       "    }\n",
       "\n",
       "    .dataframe thead th {\n",
       "        text-align: right;\n",
       "    }\n",
       "</style>\n",
       "<table border=\"1\" class=\"dataframe\">\n",
       "  <thead>\n",
       "    <tr style=\"text-align: right;\">\n",
       "      <th>col_0</th>\n",
       "      <th>0.0</th>\n",
       "      <th>1.0</th>\n",
       "      <th>All</th>\n",
       "    </tr>\n",
       "    <tr>\n",
       "      <th>Class</th>\n",
       "      <th></th>\n",
       "      <th></th>\n",
       "      <th></th>\n",
       "    </tr>\n",
       "  </thead>\n",
       "  <tbody>\n",
       "    <tr>\n",
       "      <th>0</th>\n",
       "      <td>280882</td>\n",
       "      <td>3433</td>\n",
       "      <td>284315</td>\n",
       "    </tr>\n",
       "    <tr>\n",
       "      <th>1</th>\n",
       "      <td>44</td>\n",
       "      <td>448</td>\n",
       "      <td>492</td>\n",
       "    </tr>\n",
       "    <tr>\n",
       "      <th>All</th>\n",
       "      <td>280926</td>\n",
       "      <td>3881</td>\n",
       "      <td>284807</td>\n",
       "    </tr>\n",
       "  </tbody>\n",
       "</table>\n",
       "</div>"
      ],
      "text/plain": [
       "col_0     0.0   1.0     All\n",
       "Class                      \n",
       "0      280882  3433  284315\n",
       "1          44   448     492\n",
       "All    280926  3881  284807"
      ]
     },
     "execution_count": 75,
     "metadata": {},
     "output_type": "execute_result"
    }
   ],
   "source": [
    "table_full"
   ]
  },
  {
   "cell_type": "code",
   "execution_count": null,
   "metadata": {},
   "outputs": [],
   "source": [
    "probs = model.predict_proba(fX)[:,1]"
   ]
  },
  {
   "cell_type": "code",
   "execution_count": null,
   "metadata": {},
   "outputs": [],
   "source": [
    "probs"
   ]
  },
  {
   "cell_type": "code",
   "execution_count": null,
   "metadata": {},
   "outputs": [],
   "source": [
    "from sklearn.metrics import roc_curve\n",
    "from sklearn.metrics import roc_auc_score\n",
    "\n",
    "fpr, tpr, thresholds = roc_curve(fy, probs)\n",
    "\n",
    "\n",
    "auc = roc_auc_score(fy, probs)\n",
    "print('AUC: %.20f' % auc)"
   ]
  },
  {
   "cell_type": "code",
   "execution_count": null,
   "metadata": {},
   "outputs": [],
   "source": [
    "from sklearn.metrics import recall_score\n",
    "\n",
    "recall_score(fy, fulldatapreds)"
   ]
  },
  {
   "cell_type": "code",
   "execution_count": null,
   "metadata": {},
   "outputs": [],
   "source": [
    "recall_score(y_test, preds)"
   ]
  },
  {
   "cell_type": "code",
   "execution_count": null,
   "metadata": {},
   "outputs": [],
   "source": []
  }
 ],
 "metadata": {
  "kernelspec": {
   "display_name": "Python 3",
   "language": "python",
   "name": "python3"
  },
  "language_info": {
   "codemirror_mode": {
    "name": "ipython",
    "version": 3
   },
   "file_extension": ".py",
   "mimetype": "text/x-python",
   "name": "python",
   "nbconvert_exporter": "python",
   "pygments_lexer": "ipython3",
   "version": "3.6.6"
  }
 },
 "nbformat": 4,
 "nbformat_minor": 2
}
