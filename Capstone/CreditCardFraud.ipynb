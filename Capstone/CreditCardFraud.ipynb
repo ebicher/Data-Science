{
 "cells": [
  {
   "cell_type": "code",
   "execution_count": 1,
   "metadata": {},
   "outputs": [],
   "source": [
    "import pandas as pd\n",
    "import numpy as np\n"
   ]
  },
  {
   "cell_type": "markdown",
   "metadata": {},
   "source": [
    "# Predicting Credit Card Fraud\n",
    " \n"
   ]
  },
  {
   "cell_type": "code",
   "execution_count": 2,
   "metadata": {
    "scrolled": true
   },
   "outputs": [
    {
     "name": "stdout",
     "output_type": "stream",
     "text": [
      "<class 'pandas.core.frame.DataFrame'>\n",
      "RangeIndex: 284807 entries, 0 to 284806\n",
      "Data columns (total 31 columns):\n",
      "Time      284807 non-null float64\n",
      "V1        284807 non-null float64\n",
      "V2        284807 non-null float64\n",
      "V3        284807 non-null float64\n",
      "V4        284807 non-null float64\n",
      "V5        284807 non-null float64\n",
      "V6        284807 non-null float64\n",
      "V7        284807 non-null float64\n",
      "V8        284807 non-null float64\n",
      "V9        284807 non-null float64\n",
      "V10       284807 non-null float64\n",
      "V11       284807 non-null float64\n",
      "V12       284807 non-null float64\n",
      "V13       284807 non-null float64\n",
      "V14       284807 non-null float64\n",
      "V15       284807 non-null float64\n",
      "V16       284807 non-null float64\n",
      "V17       284807 non-null float64\n",
      "V18       284807 non-null float64\n",
      "V19       284807 non-null float64\n",
      "V20       284807 non-null float64\n",
      "V21       284807 non-null float64\n",
      "V22       284807 non-null float64\n",
      "V23       284807 non-null float64\n",
      "V24       284807 non-null float64\n",
      "V25       284807 non-null float64\n",
      "V26       284807 non-null float64\n",
      "V27       284807 non-null float64\n",
      "V28       284807 non-null float64\n",
      "Amount    284807 non-null float64\n",
      "Class     284807 non-null int64\n",
      "dtypes: float64(30), int64(1)\n",
      "memory usage: 67.4 MB\n"
     ]
    }
   ],
   "source": [
    "# The data is from https://www.kaggle.com/mlg-ulb/creditcardfraud\n",
    "\n",
    "\n",
    "# Read the data \n",
    "# Change the path to whereever you save the dataset\n",
    "df = pd.read_csv('../../Data/creditcard.csv')\n",
    "df.info()"
   ]
  },
  {
   "cell_type": "code",
   "execution_count": 3,
   "metadata": {
    "scrolled": true
   },
   "outputs": [
    {
     "data": {
      "text/html": [
       "<div>\n",
       "<style scoped>\n",
       "    .dataframe tbody tr th:only-of-type {\n",
       "        vertical-align: middle;\n",
       "    }\n",
       "\n",
       "    .dataframe tbody tr th {\n",
       "        vertical-align: top;\n",
       "    }\n",
       "\n",
       "    .dataframe thead th {\n",
       "        text-align: right;\n",
       "    }\n",
       "</style>\n",
       "<table border=\"1\" class=\"dataframe\">\n",
       "  <thead>\n",
       "    <tr style=\"text-align: right;\">\n",
       "      <th></th>\n",
       "      <th>Time</th>\n",
       "      <th>V1</th>\n",
       "      <th>V2</th>\n",
       "      <th>V3</th>\n",
       "      <th>V4</th>\n",
       "      <th>V5</th>\n",
       "      <th>V6</th>\n",
       "      <th>V7</th>\n",
       "      <th>V8</th>\n",
       "      <th>V9</th>\n",
       "      <th>...</th>\n",
       "      <th>V21</th>\n",
       "      <th>V22</th>\n",
       "      <th>V23</th>\n",
       "      <th>V24</th>\n",
       "      <th>V25</th>\n",
       "      <th>V26</th>\n",
       "      <th>V27</th>\n",
       "      <th>V28</th>\n",
       "      <th>Amount</th>\n",
       "      <th>Class</th>\n",
       "    </tr>\n",
       "  </thead>\n",
       "  <tbody>\n",
       "    <tr>\n",
       "      <th>count</th>\n",
       "      <td>284807.000000</td>\n",
       "      <td>2.848070e+05</td>\n",
       "      <td>2.848070e+05</td>\n",
       "      <td>2.848070e+05</td>\n",
       "      <td>2.848070e+05</td>\n",
       "      <td>2.848070e+05</td>\n",
       "      <td>2.848070e+05</td>\n",
       "      <td>2.848070e+05</td>\n",
       "      <td>2.848070e+05</td>\n",
       "      <td>2.848070e+05</td>\n",
       "      <td>...</td>\n",
       "      <td>2.848070e+05</td>\n",
       "      <td>2.848070e+05</td>\n",
       "      <td>2.848070e+05</td>\n",
       "      <td>2.848070e+05</td>\n",
       "      <td>2.848070e+05</td>\n",
       "      <td>2.848070e+05</td>\n",
       "      <td>2.848070e+05</td>\n",
       "      <td>2.848070e+05</td>\n",
       "      <td>284807.000000</td>\n",
       "      <td>284807.000000</td>\n",
       "    </tr>\n",
       "    <tr>\n",
       "      <th>mean</th>\n",
       "      <td>94813.859575</td>\n",
       "      <td>1.165980e-15</td>\n",
       "      <td>3.416908e-16</td>\n",
       "      <td>-1.373150e-15</td>\n",
       "      <td>2.086869e-15</td>\n",
       "      <td>9.604066e-16</td>\n",
       "      <td>1.490107e-15</td>\n",
       "      <td>-5.556467e-16</td>\n",
       "      <td>1.177556e-16</td>\n",
       "      <td>-2.406455e-15</td>\n",
       "      <td>...</td>\n",
       "      <td>1.656562e-16</td>\n",
       "      <td>-3.444850e-16</td>\n",
       "      <td>2.578648e-16</td>\n",
       "      <td>4.471968e-15</td>\n",
       "      <td>5.340915e-16</td>\n",
       "      <td>1.687098e-15</td>\n",
       "      <td>-3.666453e-16</td>\n",
       "      <td>-1.220404e-16</td>\n",
       "      <td>88.349619</td>\n",
       "      <td>0.001727</td>\n",
       "    </tr>\n",
       "    <tr>\n",
       "      <th>std</th>\n",
       "      <td>47488.145955</td>\n",
       "      <td>1.958696e+00</td>\n",
       "      <td>1.651309e+00</td>\n",
       "      <td>1.516255e+00</td>\n",
       "      <td>1.415869e+00</td>\n",
       "      <td>1.380247e+00</td>\n",
       "      <td>1.332271e+00</td>\n",
       "      <td>1.237094e+00</td>\n",
       "      <td>1.194353e+00</td>\n",
       "      <td>1.098632e+00</td>\n",
       "      <td>...</td>\n",
       "      <td>7.345240e-01</td>\n",
       "      <td>7.257016e-01</td>\n",
       "      <td>6.244603e-01</td>\n",
       "      <td>6.056471e-01</td>\n",
       "      <td>5.212781e-01</td>\n",
       "      <td>4.822270e-01</td>\n",
       "      <td>4.036325e-01</td>\n",
       "      <td>3.300833e-01</td>\n",
       "      <td>250.120109</td>\n",
       "      <td>0.041527</td>\n",
       "    </tr>\n",
       "    <tr>\n",
       "      <th>min</th>\n",
       "      <td>0.000000</td>\n",
       "      <td>-5.640751e+01</td>\n",
       "      <td>-7.271573e+01</td>\n",
       "      <td>-4.832559e+01</td>\n",
       "      <td>-5.683171e+00</td>\n",
       "      <td>-1.137433e+02</td>\n",
       "      <td>-2.616051e+01</td>\n",
       "      <td>-4.355724e+01</td>\n",
       "      <td>-7.321672e+01</td>\n",
       "      <td>-1.343407e+01</td>\n",
       "      <td>...</td>\n",
       "      <td>-3.483038e+01</td>\n",
       "      <td>-1.093314e+01</td>\n",
       "      <td>-4.480774e+01</td>\n",
       "      <td>-2.836627e+00</td>\n",
       "      <td>-1.029540e+01</td>\n",
       "      <td>-2.604551e+00</td>\n",
       "      <td>-2.256568e+01</td>\n",
       "      <td>-1.543008e+01</td>\n",
       "      <td>0.000000</td>\n",
       "      <td>0.000000</td>\n",
       "    </tr>\n",
       "    <tr>\n",
       "      <th>25%</th>\n",
       "      <td>54201.500000</td>\n",
       "      <td>-9.203734e-01</td>\n",
       "      <td>-5.985499e-01</td>\n",
       "      <td>-8.903648e-01</td>\n",
       "      <td>-8.486401e-01</td>\n",
       "      <td>-6.915971e-01</td>\n",
       "      <td>-7.682956e-01</td>\n",
       "      <td>-5.540759e-01</td>\n",
       "      <td>-2.086297e-01</td>\n",
       "      <td>-6.430976e-01</td>\n",
       "      <td>...</td>\n",
       "      <td>-2.283949e-01</td>\n",
       "      <td>-5.423504e-01</td>\n",
       "      <td>-1.618463e-01</td>\n",
       "      <td>-3.545861e-01</td>\n",
       "      <td>-3.171451e-01</td>\n",
       "      <td>-3.269839e-01</td>\n",
       "      <td>-7.083953e-02</td>\n",
       "      <td>-5.295979e-02</td>\n",
       "      <td>5.600000</td>\n",
       "      <td>0.000000</td>\n",
       "    </tr>\n",
       "    <tr>\n",
       "      <th>50%</th>\n",
       "      <td>84692.000000</td>\n",
       "      <td>1.810880e-02</td>\n",
       "      <td>6.548556e-02</td>\n",
       "      <td>1.798463e-01</td>\n",
       "      <td>-1.984653e-02</td>\n",
       "      <td>-5.433583e-02</td>\n",
       "      <td>-2.741871e-01</td>\n",
       "      <td>4.010308e-02</td>\n",
       "      <td>2.235804e-02</td>\n",
       "      <td>-5.142873e-02</td>\n",
       "      <td>...</td>\n",
       "      <td>-2.945017e-02</td>\n",
       "      <td>6.781943e-03</td>\n",
       "      <td>-1.119293e-02</td>\n",
       "      <td>4.097606e-02</td>\n",
       "      <td>1.659350e-02</td>\n",
       "      <td>-5.213911e-02</td>\n",
       "      <td>1.342146e-03</td>\n",
       "      <td>1.124383e-02</td>\n",
       "      <td>22.000000</td>\n",
       "      <td>0.000000</td>\n",
       "    </tr>\n",
       "    <tr>\n",
       "      <th>75%</th>\n",
       "      <td>139320.500000</td>\n",
       "      <td>1.315642e+00</td>\n",
       "      <td>8.037239e-01</td>\n",
       "      <td>1.027196e+00</td>\n",
       "      <td>7.433413e-01</td>\n",
       "      <td>6.119264e-01</td>\n",
       "      <td>3.985649e-01</td>\n",
       "      <td>5.704361e-01</td>\n",
       "      <td>3.273459e-01</td>\n",
       "      <td>5.971390e-01</td>\n",
       "      <td>...</td>\n",
       "      <td>1.863772e-01</td>\n",
       "      <td>5.285536e-01</td>\n",
       "      <td>1.476421e-01</td>\n",
       "      <td>4.395266e-01</td>\n",
       "      <td>3.507156e-01</td>\n",
       "      <td>2.409522e-01</td>\n",
       "      <td>9.104512e-02</td>\n",
       "      <td>7.827995e-02</td>\n",
       "      <td>77.165000</td>\n",
       "      <td>0.000000</td>\n",
       "    </tr>\n",
       "    <tr>\n",
       "      <th>max</th>\n",
       "      <td>172792.000000</td>\n",
       "      <td>2.454930e+00</td>\n",
       "      <td>2.205773e+01</td>\n",
       "      <td>9.382558e+00</td>\n",
       "      <td>1.687534e+01</td>\n",
       "      <td>3.480167e+01</td>\n",
       "      <td>7.330163e+01</td>\n",
       "      <td>1.205895e+02</td>\n",
       "      <td>2.000721e+01</td>\n",
       "      <td>1.559499e+01</td>\n",
       "      <td>...</td>\n",
       "      <td>2.720284e+01</td>\n",
       "      <td>1.050309e+01</td>\n",
       "      <td>2.252841e+01</td>\n",
       "      <td>4.584549e+00</td>\n",
       "      <td>7.519589e+00</td>\n",
       "      <td>3.517346e+00</td>\n",
       "      <td>3.161220e+01</td>\n",
       "      <td>3.384781e+01</td>\n",
       "      <td>25691.160000</td>\n",
       "      <td>1.000000</td>\n",
       "    </tr>\n",
       "  </tbody>\n",
       "</table>\n",
       "<p>8 rows × 31 columns</p>\n",
       "</div>"
      ],
      "text/plain": [
       "                Time            V1            V2            V3            V4  \\\n",
       "count  284807.000000  2.848070e+05  2.848070e+05  2.848070e+05  2.848070e+05   \n",
       "mean    94813.859575  1.165980e-15  3.416908e-16 -1.373150e-15  2.086869e-15   \n",
       "std     47488.145955  1.958696e+00  1.651309e+00  1.516255e+00  1.415869e+00   \n",
       "min         0.000000 -5.640751e+01 -7.271573e+01 -4.832559e+01 -5.683171e+00   \n",
       "25%     54201.500000 -9.203734e-01 -5.985499e-01 -8.903648e-01 -8.486401e-01   \n",
       "50%     84692.000000  1.810880e-02  6.548556e-02  1.798463e-01 -1.984653e-02   \n",
       "75%    139320.500000  1.315642e+00  8.037239e-01  1.027196e+00  7.433413e-01   \n",
       "max    172792.000000  2.454930e+00  2.205773e+01  9.382558e+00  1.687534e+01   \n",
       "\n",
       "                 V5            V6            V7            V8            V9  \\\n",
       "count  2.848070e+05  2.848070e+05  2.848070e+05  2.848070e+05  2.848070e+05   \n",
       "mean   9.604066e-16  1.490107e-15 -5.556467e-16  1.177556e-16 -2.406455e-15   \n",
       "std    1.380247e+00  1.332271e+00  1.237094e+00  1.194353e+00  1.098632e+00   \n",
       "min   -1.137433e+02 -2.616051e+01 -4.355724e+01 -7.321672e+01 -1.343407e+01   \n",
       "25%   -6.915971e-01 -7.682956e-01 -5.540759e-01 -2.086297e-01 -6.430976e-01   \n",
       "50%   -5.433583e-02 -2.741871e-01  4.010308e-02  2.235804e-02 -5.142873e-02   \n",
       "75%    6.119264e-01  3.985649e-01  5.704361e-01  3.273459e-01  5.971390e-01   \n",
       "max    3.480167e+01  7.330163e+01  1.205895e+02  2.000721e+01  1.559499e+01   \n",
       "\n",
       "           ...                 V21           V22           V23           V24  \\\n",
       "count      ...        2.848070e+05  2.848070e+05  2.848070e+05  2.848070e+05   \n",
       "mean       ...        1.656562e-16 -3.444850e-16  2.578648e-16  4.471968e-15   \n",
       "std        ...        7.345240e-01  7.257016e-01  6.244603e-01  6.056471e-01   \n",
       "min        ...       -3.483038e+01 -1.093314e+01 -4.480774e+01 -2.836627e+00   \n",
       "25%        ...       -2.283949e-01 -5.423504e-01 -1.618463e-01 -3.545861e-01   \n",
       "50%        ...       -2.945017e-02  6.781943e-03 -1.119293e-02  4.097606e-02   \n",
       "75%        ...        1.863772e-01  5.285536e-01  1.476421e-01  4.395266e-01   \n",
       "max        ...        2.720284e+01  1.050309e+01  2.252841e+01  4.584549e+00   \n",
       "\n",
       "                V25           V26           V27           V28         Amount  \\\n",
       "count  2.848070e+05  2.848070e+05  2.848070e+05  2.848070e+05  284807.000000   \n",
       "mean   5.340915e-16  1.687098e-15 -3.666453e-16 -1.220404e-16      88.349619   \n",
       "std    5.212781e-01  4.822270e-01  4.036325e-01  3.300833e-01     250.120109   \n",
       "min   -1.029540e+01 -2.604551e+00 -2.256568e+01 -1.543008e+01       0.000000   \n",
       "25%   -3.171451e-01 -3.269839e-01 -7.083953e-02 -5.295979e-02       5.600000   \n",
       "50%    1.659350e-02 -5.213911e-02  1.342146e-03  1.124383e-02      22.000000   \n",
       "75%    3.507156e-01  2.409522e-01  9.104512e-02  7.827995e-02      77.165000   \n",
       "max    7.519589e+00  3.517346e+00  3.161220e+01  3.384781e+01   25691.160000   \n",
       "\n",
       "               Class  \n",
       "count  284807.000000  \n",
       "mean        0.001727  \n",
       "std         0.041527  \n",
       "min         0.000000  \n",
       "25%         0.000000  \n",
       "50%         0.000000  \n",
       "75%         0.000000  \n",
       "max         1.000000  \n",
       "\n",
       "[8 rows x 31 columns]"
      ]
     },
     "execution_count": 3,
     "metadata": {},
     "output_type": "execute_result"
    }
   ],
   "source": [
    "df.describe()"
   ]
  },
  {
   "cell_type": "code",
   "execution_count": 4,
   "metadata": {},
   "outputs": [],
   "source": [
    "# Run the notebook with a memory usage reduction function so I can call it\n",
    "%run MemoryShrink.ipynb"
   ]
  },
  {
   "cell_type": "code",
   "execution_count": 5,
   "metadata": {
    "scrolled": false
   },
   "outputs": [
    {
     "name": "stdout",
     "output_type": "stream",
     "text": [
      "Memory usage of properties dataframe is : 67.3601303100586  MB\n",
      "******************************\n",
      "Column:  Time\n",
      "dtype before:  float64\n",
      "dtype after:  uint32\n",
      "******************************\n",
      "******************************\n",
      "Column:  V1\n",
      "dtype before:  float64\n",
      "dtype after:  float32\n",
      "******************************\n",
      "******************************\n",
      "Column:  V2\n",
      "dtype before:  float64\n",
      "dtype after:  float32\n",
      "******************************\n",
      "******************************\n",
      "Column:  V3\n",
      "dtype before:  float64\n",
      "dtype after:  float32\n",
      "******************************\n",
      "******************************\n",
      "Column:  V4\n",
      "dtype before:  float64\n",
      "dtype after:  float32\n",
      "******************************\n",
      "******************************\n",
      "Column:  V5\n",
      "dtype before:  float64\n",
      "dtype after:  float32\n",
      "******************************\n",
      "******************************\n",
      "Column:  V6\n",
      "dtype before:  float64\n",
      "dtype after:  float32\n",
      "******************************\n",
      "******************************\n",
      "Column:  V7\n",
      "dtype before:  float64\n",
      "dtype after:  float32\n",
      "******************************\n",
      "******************************\n",
      "Column:  V8\n",
      "dtype before:  float64\n",
      "dtype after:  float32\n",
      "******************************\n",
      "******************************\n",
      "Column:  V9\n",
      "dtype before:  float64\n",
      "dtype after:  float32\n",
      "******************************\n",
      "******************************\n",
      "Column:  V10\n",
      "dtype before:  float64\n",
      "dtype after:  float32\n",
      "******************************\n",
      "******************************\n",
      "Column:  V11\n",
      "dtype before:  float64\n",
      "dtype after:  float32\n",
      "******************************\n",
      "******************************\n",
      "Column:  V12\n",
      "dtype before:  float64\n",
      "dtype after:  float32\n",
      "******************************\n",
      "******************************\n",
      "Column:  V13\n",
      "dtype before:  float64\n",
      "dtype after:  float32\n",
      "******************************\n",
      "******************************\n",
      "Column:  V14\n",
      "dtype before:  float64\n",
      "dtype after:  float32\n",
      "******************************\n",
      "******************************\n",
      "Column:  V15\n",
      "dtype before:  float64\n",
      "dtype after:  float32\n",
      "******************************\n",
      "******************************\n",
      "Column:  V16\n",
      "dtype before:  float64\n",
      "dtype after:  float32\n",
      "******************************\n",
      "******************************\n",
      "Column:  V17\n",
      "dtype before:  float64\n",
      "dtype after:  float32\n",
      "******************************\n",
      "******************************\n",
      "Column:  V18\n",
      "dtype before:  float64\n",
      "dtype after:  float32\n",
      "******************************\n",
      "******************************\n",
      "Column:  V19\n",
      "dtype before:  float64\n",
      "dtype after:  float32\n",
      "******************************\n",
      "******************************\n",
      "Column:  V20\n",
      "dtype before:  float64\n",
      "dtype after:  float32\n",
      "******************************\n",
      "******************************\n",
      "Column:  V21\n",
      "dtype before:  float64\n",
      "dtype after:  float32\n",
      "******************************\n",
      "******************************\n",
      "Column:  V22\n",
      "dtype before:  float64\n",
      "dtype after:  float32\n",
      "******************************\n",
      "******************************\n",
      "Column:  V23\n",
      "dtype before:  float64\n",
      "dtype after:  float32\n",
      "******************************\n",
      "******************************\n",
      "Column:  V24\n",
      "dtype before:  float64\n",
      "dtype after:  float32\n",
      "******************************\n",
      "******************************\n",
      "Column:  V25\n",
      "dtype before:  float64\n",
      "dtype after:  float32\n",
      "******************************\n",
      "******************************\n",
      "Column:  V26\n",
      "dtype before:  float64\n",
      "dtype after:  float32\n",
      "******************************\n",
      "******************************\n",
      "Column:  V27\n",
      "dtype before:  float64\n",
      "dtype after:  float32\n",
      "******************************\n",
      "******************************\n",
      "Column:  V28\n",
      "dtype before:  float64\n",
      "dtype after:  float32\n",
      "******************************\n",
      "******************************\n",
      "Column:  Amount\n",
      "dtype before:  float64\n",
      "dtype after:  float32\n",
      "******************************\n",
      "******************************\n",
      "Column:  Class\n",
      "dtype before:  int64\n",
      "dtype after:  uint8\n",
      "******************************\n",
      "___MEMORY USAGE AFTER COMPLETION:___\n",
      "Memory usage is:  32.86526393890381  MB\n",
      "This is  48.79038058214116 % of the initial size\n"
     ]
    }
   ],
   "source": [
    "# Although it is a small dataset, I like to shrink down the datatypes\n",
    "# Makes for faster calculations\n",
    "\n",
    "df1 = reduce_mem_usage(df)"
   ]
  },
  {
   "cell_type": "code",
   "execution_count": 6,
   "metadata": {},
   "outputs": [],
   "source": [
    "# Set the dataframe to be the smaller memory usage \n",
    "del df\n",
    "df = df1[0]\n",
    "\n",
    "# Normalize the amount !!!!!!!!!!DIDNT HELP!!!!!!!!!!!!!!\n",
    "# df[\"Amount\"]=(df[\"Amount\"]-df[\"Amount\"].mean())/df[\"Amount\"].std()\n",
    "\n",
    "# Save to pickle file to preserce datatypes\n",
    "df.to_pickle('../../Data/creditcard.pkl')\n"
   ]
  },
  {
   "cell_type": "code",
   "execution_count": 7,
   "metadata": {},
   "outputs": [],
   "source": [
    "##\n",
    "# Can start here in the future\n",
    "##\n",
    "df = pd.read_pickle('../../Data/creditcard.pkl')"
   ]
  },
  {
   "cell_type": "code",
   "execution_count": 8,
   "metadata": {},
   "outputs": [],
   "source": [
    "# Import plot packages!\n",
    "import matplotlib.pyplot as plt\n",
    "import seaborn as sns\n",
    "import scipy.stats as stats\n",
    "\n",
    "plt.rcParams['figure.figsize'] = (40.0, 20.0)\n",
    "font = {'family' : 'DejaVu Sans',\n",
    "        'weight' : 'bold',\n",
    "        'size'   : 22}\n",
    "\n",
    "plt.rc('font', **font)"
   ]
  },
  {
   "cell_type": "code",
   "execution_count": 9,
   "metadata": {},
   "outputs": [
    {
     "data": {
      "text/plain": [
       "0    284315\n",
       "1       492\n",
       "Name: Class, dtype: int64"
      ]
     },
     "execution_count": 9,
     "metadata": {},
     "output_type": "execute_result"
    },
    {
     "data": {
      "image/png": "[encoded data removed]",
      "text/plain": [
       "<Figure size 432x288 with 1 Axes>"
      ]
     },
     "metadata": {},
     "output_type": "display_data"
    }
   ],
   "source": [
    "\n",
    "#Look at how many fraud cases we have!\n",
    "\n",
    "sns.set(style=\"darkgrid\")\n",
    "plt.title('Nonfraud vs Fraud')\n",
    "ax = sns.countplot(x=\"Class\", data=df, palette='Set2')\n",
    "\n",
    "df.Class.value_counts()"
   ]
  },
  {
   "cell_type": "markdown",
   "metadata": {},
   "source": [
    "As you can see, there is a large imbalance"
   ]
  },
  {
   "cell_type": "code",
   "execution_count": 10,
   "metadata": {},
   "outputs": [
    {
     "name": "stdout",
     "output_type": "stream",
     "text": [
      "Fraud Percentage: 0.1727%\n"
     ]
    }
   ],
   "source": [
    "#Percentage of Fraud cases in Data\n",
    "\n",
    "FraudPercentage = (len(df[df['Class']==1]) /len(df)) * 100\n",
    "\n",
    "print(\"Fraud Percentage: %.4f%%\" % (FraudPercentage))"
   ]
  },
  {
   "cell_type": "markdown",
   "metadata": {},
   "source": [
    "## Undersampling"
   ]
  },
  {
   "cell_type": "code",
   "execution_count": 11,
   "metadata": {},
   "outputs": [],
   "source": [
    "#Get number of fraud cases and their indices\n",
    "num_fraud = len(df[df.Class == 1])\n",
    "fraud_index = np.array(df[df.Class==1].index)\n",
    "\n",
    "#Get all normal indices\n",
    "normal_index = df[df.Class==0].index\n",
    "\n",
    "#Select number of normal indices that are equal to number of fraud cases\n",
    "rand_norm_ind = np.random.choice(normal_index, num_fraud, replace = False)\n",
    "rand_norm_ind = np.array(rand_norm_ind)\n",
    "\n",
    "#Create equal dataframe\n",
    "equal_ind = np.concatenate([fraud_index,rand_norm_ind])\n",
    "un_df = df.iloc[equal_ind, :]"
   ]
  },
  {
   "cell_type": "code",
   "execution_count": 12,
   "metadata": {
    "scrolled": true
   },
   "outputs": [
    {
     "data": {
      "text/plain": [
       "1    492\n",
       "0    492\n",
       "Name: Class, dtype: int64"
      ]
     },
     "execution_count": 12,
     "metadata": {},
     "output_type": "execute_result"
    },
    {
     "data": {
      "image/png": "[encoded data removed]",
      "text/plain": [
       "<Figure size 432x288 with 1 Axes>"
      ]
     },
     "metadata": {},
     "output_type": "display_data"
    }
   ],
   "source": [
    "# Look at the undersampled datat\n",
    "sns.set(style=\"darkgrid\")\n",
    "plt.title('Nonfraud vs Fraud (Undersampled Data)')\n",
    "ax = sns.countplot(x=\"Class\", data=un_df, palette='Blues')\n",
    "\n",
    "un_df.Class.value_counts()"
   ]
  },
  {
   "cell_type": "markdown",
   "metadata": {},
   "source": [
    "This is the data undersampled, with same amount of non frauds as frauds"
   ]
  },
  {
   "cell_type": "code",
   "execution_count": 13,
   "metadata": {},
   "outputs": [],
   "source": [
    "# Remove Deprecation Warnings because they lokk\n",
    "\n",
    "import warnings\n",
    "warnings.filterwarnings(\"ignore\", category=DeprecationWarning)"
   ]
  },
  {
   "cell_type": "code",
   "execution_count": 14,
   "metadata": {},
   "outputs": [],
   "source": [
    "from sklearn.model_selection import train_test_split\n",
    "\n",
    "# Create a test set\n",
    "X, y = un_df.drop('Class',1), un_df['Class']\n",
    "X_train, X_test, y_train, y_test = train_test_split(X, y, test_size=0.25, random_state=11)\n",
    "\n",
    "\n",
    "import xgboost as xgb\n",
    "\n",
    "# Check it on an XGBClassifier\n",
    "xg_cls = xgb.XGBClassifier(tree_method='gpu_exact')\n",
    "xg_cls.fit(X_train,y_train)\n",
    "\n",
    "preds = xg_cls.predict(X_test)\n",
    "\n",
    "train_preds = xg_cls.predict(X_train)"
   ]
  },
  {
   "cell_type": "code",
   "execution_count": 15,
   "metadata": {},
   "outputs": [
    {
     "name": "stdout",
     "output_type": "stream",
     "text": [
      "***********************************\n",
      "********* Under Sampled ***********\n",
      "***********************************\n",
      "\n",
      "Training set accuracy:\n",
      "Percent Type I errors:  0.00000000\n",
      "Percent Type II errors: 0.00000000\n",
      "\n",
      "Test set accuracy:\n",
      "Percent Type I errors: 0.01015228\n",
      "Percent Type II errors: 0.04568528\n",
      "\n",
      "***********************************\n",
      "* Type I errors are normal purchases that have been flagged.\n",
      "* Type II errors are frauds that are not caught!\n",
      "\n"
     ]
    }
   ],
   "source": [
    "# Accuracy tables on the training and test set\n",
    "\n",
    "table_train = pd.crosstab(y_train, train_preds, margins=True)\n",
    "table_test = pd.crosstab(y_test, preds, margins=True)\n",
    "\n",
    "train_tI_errors = table_train.loc[0.0,1.0] / table_train.loc['All','All']\n",
    "train_tII_errors = table_train.loc[1.0,0.0] / table_train.loc['All','All']\n",
    "\n",
    "test_tI_errors = table_test.loc[0.0,1.0]/table_test.loc['All','All']\n",
    "test_tII_errors = table_test.loc[1.0,0.0]/table_test.loc['All','All']\n",
    "\n",
    "print((\n",
    "    '***********************************\\n'\n",
    "    '********* Under Sampled ***********\\n'\n",
    "    '***********************************\\n\\n'    \n",
    "    'Training set accuracy:\\n'\n",
    "    'Percent Type I errors:  {:.8f}\\n'\n",
    "    'Percent Type II errors: {:.8f}\\n\\n'\n",
    "    'Test set accuracy:\\n'\n",
    "    'Percent Type I errors: {:.8f}\\n'\n",
    "    'Percent Type II errors: {:.8f}\\n\\n'\n",
    "    '***********************************\\n'\n",
    "    '* Type I errors are normal purchases that have been flagged.\\n'\n",
    "    '* Type II errors are frauds that are not caught!\\n'\n",
    ").format(train_tI_errors, train_tII_errors, test_tI_errors, test_tII_errors))"
   ]
  },
  {
   "cell_type": "code",
   "execution_count": 16,
   "metadata": {},
   "outputs": [],
   "source": [
    "un_df.to_pickle('../../Data/creditcardUNDER.pkl')"
   ]
  },
  {
   "cell_type": "markdown",
   "metadata": {},
   "source": [
    "## Upsampling (DONE WRONG)"
   ]
  },
  {
   "cell_type": "markdown",
   "metadata": {},
   "source": [
    "If you oversample like this you will create overfitting. You must only upsample the train set so that you have new unique values for the test data!"
   ]
  },
  {
   "cell_type": "code",
   "execution_count": 17,
   "metadata": {},
   "outputs": [],
   "source": [
    "from sklearn.utils import resample\n",
    "\n",
    "# Split df into 2 df, one of fraud and one of nonefraud\n",
    "df_majority = df[df.Class==0]\n",
    "df_minority = df[df.Class==1]\n",
    "\n",
    "# Upsample minority class\n",
    "df_minority_upsampled = resample(df_minority, \n",
    "                                 replace=True,     # sample with replacement\n",
    "                                 n_samples=len(df_majority),    # to match majority class\n",
    "                                 random_state=123) # reproducible results\n",
    "\n",
    "# Combine majority class with upsampled minority class\n",
    "up_df = pd.concat([df_majority, df_minority_upsampled])"
   ]
  },
  {
   "cell_type": "code",
   "execution_count": 18,
   "metadata": {},
   "outputs": [
    {
     "data": {
      "text/plain": [
       "1    284315\n",
       "0    284315\n",
       "Name: Class, dtype: int64"
      ]
     },
     "execution_count": 18,
     "metadata": {},
     "output_type": "execute_result"
    },
    {
     "data": {
      "image/png": "[encoded data removed]",
      "text/plain": [
       "<Figure size 432x288 with 1 Axes>"
      ]
     },
     "metadata": {},
     "output_type": "display_data"
    }
   ],
   "source": [
    "# Look at oversampled data\n",
    "sns.set(style=\"darkgrid\")\n",
    "plt.title('Nonfraud vs Fraud (Oversampled Data)')\n",
    "ax = sns.countplot(x=\"Class\", data=up_df, palette='rocket')\n",
    "\n",
    "up_df.Class.value_counts()"
   ]
  },
  {
   "cell_type": "code",
   "execution_count": 19,
   "metadata": {},
   "outputs": [],
   "source": [
    "# Create a test set\n",
    "X, y = up_df.drop('Class',1), up_df['Class']\n",
    "X_train, X_test, y_train, y_test = train_test_split(X, y, test_size=0.25, random_state=11)\n",
    "\n",
    "\n",
    "# Check it on an XGBClassifier\n",
    "xg_cls = xgb.XGBClassifier(tree_method='gpu_exact')\n",
    "xg_cls.fit(X_train,y_train)\n",
    "\n",
    "preds = xg_cls.predict(X_test)\n",
    "\n",
    "train_preds = xg_cls.predict(X_train)"
   ]
  },
  {
   "cell_type": "code",
   "execution_count": 20,
   "metadata": {},
   "outputs": [
    {
     "name": "stdout",
     "output_type": "stream",
     "text": [
      "***********************************\n",
      "********** Over Sampled ***********\n",
      "**************WRONG****************\n",
      "\n",
      "Training set accuracy:\n",
      "Percent Type I errors:  0.00351503\n",
      "Percent Type II errors: 0.00300063\n",
      "\n",
      "Test set accuracy:\n",
      "Percent Type I errors: 0.00353481\n",
      "Percent Type II errors: 0.00312154\n",
      "\n",
      "***********************************\n",
      "* Type I errors are normal purchases that have been flagged.\n",
      "* Type II errors are frauds that are not caught!\n",
      "\n"
     ]
    }
   ],
   "source": [
    "# Accuracy tables on the training and test set\n",
    "\n",
    "table_train = pd.crosstab(y_train, train_preds, margins=True)\n",
    "table_test = pd.crosstab(y_test, preds, margins=True)\n",
    "\n",
    "train_tI_errors = table_train.loc[0.0,1.0] / table_train.loc['All','All']\n",
    "train_tII_errors = table_train.loc[1.0,0.0] / table_train.loc['All','All']\n",
    "\n",
    "test_tI_errors = table_test.loc[0.0,1.0]/table_test.loc['All','All']\n",
    "test_tII_errors = table_test.loc[1.0,0.0]/table_test.loc['All','All']\n",
    "\n",
    "print((\n",
    "    '***********************************\\n'\n",
    "    '********** Over Sampled ***********\\n'\n",
    "    '**************WRONG****************\\n\\n'    \n",
    "    'Training set accuracy:\\n'\n",
    "    'Percent Type I errors:  {:.8f}\\n'\n",
    "    'Percent Type II errors: {:.8f}\\n\\n'\n",
    "    'Test set accuracy:\\n'\n",
    "    'Percent Type I errors: {:.8f}\\n'\n",
    "    'Percent Type II errors: {:.8f}\\n\\n'\n",
    "    '***********************************\\n'\n",
    "    '* Type I errors are normal purchases that have been flagged.\\n'\n",
    "    '* Type II errors are frauds that are not caught!\\n'\n",
    ").format(train_tI_errors, train_tII_errors, test_tI_errors, test_tII_errors))"
   ]
  },
  {
   "cell_type": "markdown",
   "metadata": {},
   "source": [
    "The improved error rate is because the program has seen that exact piece of data before! THIS IS OVERFITTING!"
   ]
  },
  {
   "cell_type": "markdown",
   "metadata": {},
   "source": [
    "## Upsampling (The Correct Way)\n",
    "#### Using SMOTE to create new fraud data!"
   ]
  },
  {
   "cell_type": "code",
   "execution_count": 21,
   "metadata": {},
   "outputs": [
    {
     "data": {
      "text/html": [
       "<div>\n",
       "<style scoped>\n",
       "    .dataframe tbody tr th:only-of-type {\n",
       "        vertical-align: middle;\n",
       "    }\n",
       "\n",
       "    .dataframe tbody tr th {\n",
       "        vertical-align: top;\n",
       "    }\n",
       "\n",
       "    .dataframe thead th {\n",
       "        text-align: right;\n",
       "    }\n",
       "</style>\n",
       "<table border=\"1\" class=\"dataframe\">\n",
       "  <thead>\n",
       "    <tr style=\"text-align: right;\">\n",
       "      <th></th>\n",
       "      <th>Time</th>\n",
       "      <th>V1</th>\n",
       "      <th>V2</th>\n",
       "      <th>V3</th>\n",
       "      <th>V4</th>\n",
       "      <th>V5</th>\n",
       "      <th>V6</th>\n",
       "      <th>V7</th>\n",
       "      <th>V8</th>\n",
       "      <th>V9</th>\n",
       "      <th>...</th>\n",
       "      <th>V21</th>\n",
       "      <th>V22</th>\n",
       "      <th>V23</th>\n",
       "      <th>V24</th>\n",
       "      <th>V25</th>\n",
       "      <th>V26</th>\n",
       "      <th>V27</th>\n",
       "      <th>V28</th>\n",
       "      <th>Amount</th>\n",
       "      <th>Class</th>\n",
       "    </tr>\n",
       "  </thead>\n",
       "  <tbody>\n",
       "    <tr>\n",
       "      <th>0</th>\n",
       "      <td>0</td>\n",
       "      <td>-1.359807</td>\n",
       "      <td>-0.072781</td>\n",
       "      <td>2.536347</td>\n",
       "      <td>1.378155</td>\n",
       "      <td>-0.338321</td>\n",
       "      <td>0.462388</td>\n",
       "      <td>0.239599</td>\n",
       "      <td>0.098698</td>\n",
       "      <td>0.363787</td>\n",
       "      <td>...</td>\n",
       "      <td>-0.018307</td>\n",
       "      <td>0.277838</td>\n",
       "      <td>-0.110474</td>\n",
       "      <td>0.066928</td>\n",
       "      <td>0.128539</td>\n",
       "      <td>-0.189115</td>\n",
       "      <td>0.133558</td>\n",
       "      <td>-0.021053</td>\n",
       "      <td>149.619995</td>\n",
       "      <td>0</td>\n",
       "    </tr>\n",
       "    <tr>\n",
       "      <th>1</th>\n",
       "      <td>0</td>\n",
       "      <td>1.191857</td>\n",
       "      <td>0.266151</td>\n",
       "      <td>0.166480</td>\n",
       "      <td>0.448154</td>\n",
       "      <td>0.060018</td>\n",
       "      <td>-0.082361</td>\n",
       "      <td>-0.078803</td>\n",
       "      <td>0.085102</td>\n",
       "      <td>-0.255425</td>\n",
       "      <td>...</td>\n",
       "      <td>-0.225775</td>\n",
       "      <td>-0.638672</td>\n",
       "      <td>0.101288</td>\n",
       "      <td>-0.339846</td>\n",
       "      <td>0.167170</td>\n",
       "      <td>0.125895</td>\n",
       "      <td>-0.008983</td>\n",
       "      <td>0.014724</td>\n",
       "      <td>2.690000</td>\n",
       "      <td>0</td>\n",
       "    </tr>\n",
       "    <tr>\n",
       "      <th>2</th>\n",
       "      <td>1</td>\n",
       "      <td>-1.358354</td>\n",
       "      <td>-1.340163</td>\n",
       "      <td>1.773209</td>\n",
       "      <td>0.379780</td>\n",
       "      <td>-0.503198</td>\n",
       "      <td>1.800499</td>\n",
       "      <td>0.791461</td>\n",
       "      <td>0.247676</td>\n",
       "      <td>-1.514654</td>\n",
       "      <td>...</td>\n",
       "      <td>0.247998</td>\n",
       "      <td>0.771679</td>\n",
       "      <td>0.909412</td>\n",
       "      <td>-0.689281</td>\n",
       "      <td>-0.327642</td>\n",
       "      <td>-0.139097</td>\n",
       "      <td>-0.055353</td>\n",
       "      <td>-0.059752</td>\n",
       "      <td>378.660004</td>\n",
       "      <td>0</td>\n",
       "    </tr>\n",
       "    <tr>\n",
       "      <th>3</th>\n",
       "      <td>1</td>\n",
       "      <td>-0.966272</td>\n",
       "      <td>-0.185226</td>\n",
       "      <td>1.792993</td>\n",
       "      <td>-0.863291</td>\n",
       "      <td>-0.010309</td>\n",
       "      <td>1.247203</td>\n",
       "      <td>0.237609</td>\n",
       "      <td>0.377436</td>\n",
       "      <td>-1.387024</td>\n",
       "      <td>...</td>\n",
       "      <td>-0.108300</td>\n",
       "      <td>0.005274</td>\n",
       "      <td>-0.190321</td>\n",
       "      <td>-1.175575</td>\n",
       "      <td>0.647376</td>\n",
       "      <td>-0.221929</td>\n",
       "      <td>0.062723</td>\n",
       "      <td>0.061458</td>\n",
       "      <td>123.500000</td>\n",
       "      <td>0</td>\n",
       "    </tr>\n",
       "    <tr>\n",
       "      <th>4</th>\n",
       "      <td>2</td>\n",
       "      <td>-1.158233</td>\n",
       "      <td>0.877737</td>\n",
       "      <td>1.548718</td>\n",
       "      <td>0.403034</td>\n",
       "      <td>-0.407193</td>\n",
       "      <td>0.095921</td>\n",
       "      <td>0.592941</td>\n",
       "      <td>-0.270533</td>\n",
       "      <td>0.817739</td>\n",
       "      <td>...</td>\n",
       "      <td>-0.009431</td>\n",
       "      <td>0.798279</td>\n",
       "      <td>-0.137458</td>\n",
       "      <td>0.141267</td>\n",
       "      <td>-0.206010</td>\n",
       "      <td>0.502292</td>\n",
       "      <td>0.219422</td>\n",
       "      <td>0.215153</td>\n",
       "      <td>69.989998</td>\n",
       "      <td>0</td>\n",
       "    </tr>\n",
       "  </tbody>\n",
       "</table>\n",
       "<p>5 rows × 31 columns</p>\n",
       "</div>"
      ],
      "text/plain": [
       "   Time        V1        V2        V3        V4        V5        V6        V7  \\\n",
       "0     0 -1.359807 -0.072781  2.536347  1.378155 -0.338321  0.462388  0.239599   \n",
       "1     0  1.191857  0.266151  0.166480  0.448154  0.060018 -0.082361 -0.078803   \n",
       "2     1 -1.358354 -1.340163  1.773209  0.379780 -0.503198  1.800499  0.791461   \n",
       "3     1 -0.966272 -0.185226  1.792993 -0.863291 -0.010309  1.247203  0.237609   \n",
       "4     2 -1.158233  0.877737  1.548718  0.403034 -0.407193  0.095921  0.592941   \n",
       "\n",
       "         V8        V9  ...         V21       V22       V23       V24  \\\n",
       "0  0.098698  0.363787  ...   -0.018307  0.277838 -0.110474  0.066928   \n",
       "1  0.085102 -0.255425  ...   -0.225775 -0.638672  0.101288 -0.339846   \n",
       "2  0.247676 -1.514654  ...    0.247998  0.771679  0.909412 -0.689281   \n",
       "3  0.377436 -1.387024  ...   -0.108300  0.005274 -0.190321 -1.175575   \n",
       "4 -0.270533  0.817739  ...   -0.009431  0.798279 -0.137458  0.141267   \n",
       "\n",
       "        V25       V26       V27       V28      Amount  Class  \n",
       "0  0.128539 -0.189115  0.133558 -0.021053  149.619995      0  \n",
       "1  0.167170  0.125895 -0.008983  0.014724    2.690000      0  \n",
       "2 -0.327642 -0.139097 -0.055353 -0.059752  378.660004      0  \n",
       "3  0.647376 -0.221929  0.062723  0.061458  123.500000      0  \n",
       "4 -0.206010  0.502292  0.219422  0.215153   69.989998      0  \n",
       "\n",
       "[5 rows x 31 columns]"
      ]
     },
     "execution_count": 21,
     "metadata": {},
     "output_type": "execute_result"
    }
   ],
   "source": [
    "df.head()"
   ]
  },
  {
   "cell_type": "code",
   "execution_count": 22,
   "metadata": {},
   "outputs": [],
   "source": [
    "# Split the training and test data first!\n",
    "X, y = df.drop('Class',1), df['Class']\n",
    "\n",
    "# Import SMOTE which is a upsampling function\n",
    "from imblearn.over_sampling import SMOTE\n",
    "\n",
    "# Create new fake fraud data\n",
    "smote = SMOTE(random_state=11, ratio='minority')\n",
    "X_sm, y_sm = smote.fit_sample(X, y)\n",
    "\n",
    "# Split it for the test\n",
    "X_train, X_test, y_train, y_test = train_test_split(X_sm, y_sm, test_size=0.25, random_state=11)"
   ]
  },
  {
   "cell_type": "code",
   "execution_count": 23,
   "metadata": {},
   "outputs": [],
   "source": [
    "\n",
    "import xgboost as xgb\n",
    "\n",
    "# Check it on an XGBClassifier\n",
    "xg_cls = xgb.XGBClassifier(tree_method='gpu_exact')\n",
    "xg_cls.fit(X_train, y_train)\n",
    "\n",
    "preds = xg_cls.predict(X_test)"
   ]
  },
  {
   "cell_type": "code",
   "execution_count": 24,
   "metadata": {},
   "outputs": [
    {
     "name": "stdout",
     "output_type": "stream",
     "text": [
      "***********************************\n",
      "********** Over Sampled ***********\n",
      "**************RIGHT****************\n",
      "\n",
      "Test set accuracy:\n",
      "Percent Type I errors: 0.00248844\n",
      "Percent Type II errors: 0.01022633\n",
      "\n",
      "***********************************\n",
      "* Type I errors are normal purchases that have been flagged.\n",
      "* Type II errors are frauds that are not caught!\n",
      "\n"
     ]
    }
   ],
   "source": [
    "# Accuracy tables on the training and test set\n",
    "\n",
    "table_test = pd.crosstab(y_test, preds, margins=True)\n",
    "\n",
    "test_tI_errors = table_test.loc[0.0,1.0]/table_test.loc['All','All']\n",
    "test_tII_errors = table_test.loc[1.0,0.0]/table_test.loc['All','All']\n",
    "\n",
    "print((\n",
    "    '***********************************\\n'\n",
    "    '********** Over Sampled ***********\\n'\n",
    "    '**************RIGHT****************\\n\\n'    \n",
    "    'Test set accuracy:\\n'\n",
    "    'Percent Type I errors: {:.8f}\\n'\n",
    "    'Percent Type II errors: {:.8f}\\n\\n'\n",
    "    '***********************************\\n'\n",
    "    '* Type I errors are normal purchases that have been flagged.\\n'\n",
    "    '* Type II errors are frauds that are not caught!\\n'\n",
    ").format(test_tI_errors, test_tII_errors))"
   ]
  },
  {
   "cell_type": "code",
   "execution_count": 25,
   "metadata": {},
   "outputs": [],
   "source": [
    "# Make a new DataFrame with the training data (X and Y)\n",
    "#Starts with putting it into an array\n",
    "i = 0\n",
    "arr = []\n",
    "for elem in X_sm:\n",
    "    arr.append(np.concatenate((elem, y_sm[i]), axis=None))\n",
    "    i+=1"
   ]
  },
  {
   "cell_type": "code",
   "execution_count": 26,
   "metadata": {},
   "outputs": [],
   "source": [
    "#Put it into a DataFrame\n",
    "df1 = pd.DataFrame(columns=df.columns, data=arr)"
   ]
  },
  {
   "cell_type": "code",
   "execution_count": 27,
   "metadata": {
    "scrolled": false
   },
   "outputs": [
    {
     "data": {
      "text/plain": [
       "1.0    284315\n",
       "0.0    284315\n",
       "Name: Class, dtype: int64"
      ]
     },
     "execution_count": 27,
     "metadata": {},
     "output_type": "execute_result"
    },
    {
     "data": {
      "image/png": "[encoded data removed]",
      "text/plain": [
       "<Figure size 432x288 with 1 Axes>"
      ]
     },
     "metadata": {},
     "output_type": "display_data"
    }
   ],
   "source": [
    "# Look at oversampled data\n",
    "sns.set(style=\"darkgrid\")\n",
    "plt.title('Nonfraud vs Fraud (Oversampled Data)')\n",
    "ax = sns.countplot(x=\"Class\", data=df1, palette='rocket')\n",
    "\n",
    "df1.Class.value_counts()"
   ]
  },
  {
   "cell_type": "code",
   "execution_count": 28,
   "metadata": {},
   "outputs": [],
   "source": [
    "# Save it for future use\n",
    "df1.to_pickle('../../Data/creditcardUP.pkl')"
   ]
  },
  {
   "cell_type": "markdown",
   "metadata": {},
   "source": [
    "## Correlation Matrix / Feature Selection"
   ]
  },
  {
   "cell_type": "code",
   "execution_count": 29,
   "metadata": {
    "scrolled": false
   },
   "outputs": [
    {
     "data": {
      "image/png": "[encoded data removed]",
      "text/plain": [
       "<Figure size 1080x864 with 2 Axes>"
      ]
     },
     "metadata": {},
     "output_type": "display_data"
    }
   ],
   "source": [
    "up_df = pd.read_pickle('../../Data/creditcardUNDER.pkl')\n",
    "# Make the correlation matrix.\n",
    "corrmat = up_df.corr()\n",
    "\n",
    "f, ax = plt.subplots(figsize=(15, 12))\n",
    "\n",
    "# Draw the heatmap\n",
    "sns.heatmap(corrmat, vmax=.8, square=True, cmap='viridis')\n",
    "plt.show()"
   ]
  },
  {
   "cell_type": "code",
   "execution_count": 30,
   "metadata": {},
   "outputs": [],
   "source": [
    "# Create correlation matrix\n",
    "corr_matrix = up_df.corr().abs()\n",
    "\n",
    "# Select upper triangle of correlation matrix\n",
    "upper = corr_matrix.where(np.triu(np.ones(corr_matrix.shape), k=1).astype(np.bool))\n",
    "\n",
    "# Find index of feature columns with correlation greater than 0.95\n",
    "to_drop = [column for column in upper.columns if any(upper[column] > 0.95)]"
   ]
  },
  {
   "cell_type": "code",
   "execution_count": 31,
   "metadata": {},
   "outputs": [
    {
     "data": {
      "text/plain": [
       "['V17']"
      ]
     },
     "execution_count": 31,
     "metadata": {},
     "output_type": "execute_result"
    }
   ],
   "source": [
    "# Column to drop\n",
    "to_drop"
   ]
  },
  {
   "cell_type": "code",
   "execution_count": 32,
   "metadata": {},
   "outputs": [],
   "source": [
    "# Drop features \n",
    "df1 = up_df.drop(to_drop, axis=1)"
   ]
  },
  {
   "cell_type": "code",
   "execution_count": 33,
   "metadata": {},
   "outputs": [],
   "source": [
    "# Create a test set\n",
    "X, y = df1.drop('Class',1), df1['Class']\n",
    "X_train, X_test, y_train, y_test = train_test_split(X, y, test_size=0.25, random_state=11)\n",
    "\n",
    "\n",
    "# Check it on an XGBClassifier\n",
    "xg_cls = xgb.XGBClassifier(tree_method='gpu_exact')\n",
    "xg_cls.fit(X_train,y_train)\n",
    "\n",
    "preds = xg_cls.predict(X_test)\n",
    "\n",
    "train_preds = xg_cls.predict(X_train)"
   ]
  },
  {
   "cell_type": "code",
   "execution_count": 34,
   "metadata": {},
   "outputs": [
    {
     "name": "stdout",
     "output_type": "stream",
     "text": [
      "***********************************\n",
      "********** Excluding V17 **********\n",
      "***********************************\n",
      "\n",
      "Training set accuracy:\n",
      "Percent Type I errors:  0.00000000\n",
      "Percent Type II errors: 0.00000000\n",
      "\n",
      "Test set accuracy:\n",
      "Percent Type I errors: 0.01522843\n",
      "Percent Type II errors: 0.04060914\n",
      "\n",
      "***********************************\n",
      "* Type I errors are normal purchases that have been flagged.\n",
      "* Type II errors are frauds that are not caught!\n",
      "\n"
     ]
    }
   ],
   "source": [
    "# Accuracy tables on the training and test set\n",
    "\n",
    "table_train = pd.crosstab(y_train, train_preds, margins=True)\n",
    "table_test = pd.crosstab(y_test, preds, margins=True)\n",
    "\n",
    "train_tI_errors = table_train.loc[0.0,1.0] / table_train.loc['All','All']\n",
    "train_tII_errors = table_train.loc[1.0,0.0] / table_train.loc['All','All']\n",
    "\n",
    "test_tI_errors = table_test.loc[0.0,1.0]/table_test.loc['All','All']\n",
    "test_tII_errors = table_test.loc[1.0,0.0]/table_test.loc['All','All']\n",
    "\n",
    "print((\n",
    "    '***********************************\\n'\n",
    "    '********** Excluding V17 **********\\n'\n",
    "    '***********************************\\n\\n'    \n",
    "    'Training set accuracy:\\n'\n",
    "    'Percent Type I errors:  {:.8f}\\n'\n",
    "    'Percent Type II errors: {:.8f}\\n\\n'\n",
    "    'Test set accuracy:\\n'\n",
    "    'Percent Type I errors: {:.8f}\\n'\n",
    "    'Percent Type II errors: {:.8f}\\n\\n'\n",
    "    '***********************************\\n'\n",
    "    '* Type I errors are normal purchases that have been flagged.\\n'\n",
    "    '* Type II errors are frauds that are not caught!\\n'\n",
    ").format(train_tI_errors, train_tII_errors, test_tI_errors, test_tII_errors))"
   ]
  },
  {
   "cell_type": "markdown",
   "metadata": {},
   "source": [
    "# Features Selection"
   ]
  },
  {
   "cell_type": "code",
   "execution_count": 35,
   "metadata": {},
   "outputs": [
    {
     "data": {
      "image/png": "[encoded data removed]",
      "text/plain": [
       "<Figure size 432x288 with 1 Axes>"
      ]
     },
     "metadata": {},
     "output_type": "display_data"
    }
   ],
   "source": [
    "# Look at feature importance\n",
    "xgb.plot_importance(xg_cls)\n",
    "plt.rcParams['figure.figsize'] = [20, 3]\n",
    "plt.show()"
   ]
  },
  {
   "cell_type": "code",
   "execution_count": 36,
   "metadata": {},
   "outputs": [
    {
     "name": "stdout",
     "output_type": "stream",
     "text": [
      "Thresh=0.125, n=1, Type I=0.03045685, Type II=0.05076142, Accuracy: 91.8782%\n",
      "Thresh=0.097, n=2, Type I=0.02030457, Type II=0.05076142, Accuracy: 92.8934%\n",
      "Thresh=0.094, n=3, Type I=0.02538071, Type II=0.06091371, Accuracy: 91.3706%\n",
      "Thresh=0.055, n=4, Type I=0.01015228, Type II=0.04568528, Accuracy: 94.4162%\n",
      "Thresh=0.052, n=5, Type I=0.01522843, Type II=0.04568528, Accuracy: 93.9086%\n",
      "Thresh=0.050, n=6, Type I=0.01522843, Type II=0.03553299, Accuracy: 94.9239%\n",
      "Thresh=0.043, n=7, Type I=0.01015228, Type II=0.04060914, Accuracy: 94.9239%\n",
      "Thresh=0.042, n=8, Type I=0.01015228, Type II=0.03045685, Accuracy: 95.9391%\n",
      "Thresh=0.039, n=9, Type I=0.01522843, Type II=0.03045685, Accuracy: 95.4315%\n",
      "Thresh=0.030, n=10, Type I=0.01522843, Type II=0.03045685, Accuracy: 95.4315%\n",
      "Thresh=0.029, n=11, Type I=0.01015228, Type II=0.03045685, Accuracy: 95.9391%\n",
      "Thresh=0.027, n=12, Type I=0.02030457, Type II=0.03553299, Accuracy: 94.4162%\n",
      "Thresh=0.026, n=13, Type I=0.01522843, Type II=0.03553299, Accuracy: 94.9239%\n",
      "Thresh=0.024, n=14, Type I=0.01522843, Type II=0.04060914, Accuracy: 94.4162%\n",
      "Thresh=0.023, n=15, Type I=0.01522843, Type II=0.03045685, Accuracy: 95.4315%\n",
      "Thresh=0.022, n=17, Type I=0.01522843, Type II=0.02538071, Accuracy: 95.9391%\n",
      "Thresh=0.022, n=17, Type I=0.01522843, Type II=0.02538071, Accuracy: 95.9391%\n",
      "Thresh=0.020, n=23, Type I=0.01522843, Type II=0.04060914, Accuracy: 94.4162%\n",
      "Thresh=0.020, n=23, Type I=0.01522843, Type II=0.04060914, Accuracy: 94.4162%\n",
      "Thresh=0.020, n=23, Type I=0.01522843, Type II=0.04060914, Accuracy: 94.4162%\n",
      "Thresh=0.020, n=23, Type I=0.01522843, Type II=0.04060914, Accuracy: 94.4162%\n",
      "Thresh=0.020, n=23, Type I=0.01522843, Type II=0.04060914, Accuracy: 94.4162%\n",
      "Thresh=0.020, n=23, Type I=0.01522843, Type II=0.04060914, Accuracy: 94.4162%\n",
      "Thresh=0.019, n=24, Type I=0.01522843, Type II=0.04060914, Accuracy: 94.4162%\n",
      "Thresh=0.016, n=25, Type I=0.01522843, Type II=0.04060914, Accuracy: 94.4162%\n",
      "Thresh=0.014, n=26, Type I=0.01015228, Type II=0.04568528, Accuracy: 94.4162%\n",
      "Thresh=0.013, n=27, Type I=0.00507614, Type II=0.03553299, Accuracy: 95.9391%\n",
      "Thresh=0.012, n=28, Type I=0.01522843, Type II=0.04060914, Accuracy: 94.4162%\n",
      "Thresh=0.006, n=29, Type I=0.01522843, Type II=0.04060914, Accuracy: 94.4162%\n"
     ]
    }
   ],
   "source": [
    "from sklearn import feature_selection\n",
    "from sklearn.metrics import accuracy_score\n",
    "\n",
    "listo = []\n",
    "\n",
    "# Run the model with a different amount of features\n",
    "# Start by the ones with most importance\n",
    "thresholds = np.sort(xg_cls.feature_importances_)[::-1]\n",
    "for thresh in thresholds:\n",
    "    # select features using threshold\n",
    "    selection = feature_selection.SelectFromModel(xg_cls, threshold=thresh, prefit=True)\n",
    "    select_X_train = selection.transform(X_train)\n",
    "    \n",
    "    # train model\n",
    "    selection_model = xgb.XGBClassifier(tree_method='gpu_exact')\n",
    "    selection_model.fit(select_X_train, y_train)\n",
    "    \n",
    "    # eval model\n",
    "    select_X_test = selection.transform(X_test)\n",
    "    preds = selection_model.predict(select_X_test)\n",
    "    \n",
    "    table_test = pd.crosstab(y_test, preds, margins=True)\n",
    "    test_tI_errors = table_test.loc[0.0,1.0]/table_test.loc['All','All']\n",
    "    test_tII_errors = table_test.loc[1.0,0.0]/table_test.loc['All','All']\n",
    " \n",
    "    accuracy = accuracy_score(y_test, preds)\n",
    "    # Save to list so we can graph it\n",
    "    listo.append([thresh, select_X_train.shape[1], test_tI_errors, test_tII_errors, accuracy*100.0])\n",
    "    \n",
    "    print(\"Thresh=%.3f, n=%d, Type I=%.8f, Type II=%.8f, Accuracy: %.4f%%\" % (thresh, select_X_train.shape[1], test_tI_errors, test_tII_errors, accuracy*100.0))"
   ]
  },
  {
   "cell_type": "code",
   "execution_count": 37,
   "metadata": {},
   "outputs": [],
   "source": [
    "dffeat = pd.DataFrame(listo, columns=['Thresh', 'N_Features', 'Type_I', 'Type_II', 'Accuracy'])"
   ]
  },
  {
   "cell_type": "code",
   "execution_count": 38,
   "metadata": {},
   "outputs": [],
   "source": [
    "low_point = dffeat[dffeat['Type_II']==dffeat.Type_II.min()]"
   ]
  },
  {
   "cell_type": "code",
   "execution_count": 39,
   "metadata": {},
   "outputs": [
    {
     "data": {
      "text/html": [
       "<div>\n",
       "<style scoped>\n",
       "    .dataframe tbody tr th:only-of-type {\n",
       "        vertical-align: middle;\n",
       "    }\n",
       "\n",
       "    .dataframe tbody tr th {\n",
       "        vertical-align: top;\n",
       "    }\n",
       "\n",
       "    .dataframe thead th {\n",
       "        text-align: right;\n",
       "    }\n",
       "</style>\n",
       "<table border=\"1\" class=\"dataframe\">\n",
       "  <thead>\n",
       "    <tr style=\"text-align: right;\">\n",
       "      <th></th>\n",
       "      <th>Thresh</th>\n",
       "      <th>N_Features</th>\n",
       "      <th>Type_I</th>\n",
       "      <th>Type_II</th>\n",
       "      <th>Accuracy</th>\n",
       "    </tr>\n",
       "  </thead>\n",
       "  <tbody>\n",
       "    <tr>\n",
       "      <th>0</th>\n",
       "      <td>0.125360</td>\n",
       "      <td>1</td>\n",
       "      <td>0.030457</td>\n",
       "      <td>0.050761</td>\n",
       "      <td>91.878173</td>\n",
       "    </tr>\n",
       "    <tr>\n",
       "      <th>1</th>\n",
       "      <td>0.096542</td>\n",
       "      <td>2</td>\n",
       "      <td>0.020305</td>\n",
       "      <td>0.050761</td>\n",
       "      <td>92.893401</td>\n",
       "    </tr>\n",
       "    <tr>\n",
       "      <th>2</th>\n",
       "      <td>0.093660</td>\n",
       "      <td>3</td>\n",
       "      <td>0.025381</td>\n",
       "      <td>0.060914</td>\n",
       "      <td>91.370558</td>\n",
       "    </tr>\n",
       "    <tr>\n",
       "      <th>3</th>\n",
       "      <td>0.054755</td>\n",
       "      <td>4</td>\n",
       "      <td>0.010152</td>\n",
       "      <td>0.045685</td>\n",
       "      <td>94.416244</td>\n",
       "    </tr>\n",
       "    <tr>\n",
       "      <th>4</th>\n",
       "      <td>0.051873</td>\n",
       "      <td>5</td>\n",
       "      <td>0.015228</td>\n",
       "      <td>0.045685</td>\n",
       "      <td>93.908629</td>\n",
       "    </tr>\n",
       "    <tr>\n",
       "      <th>5</th>\n",
       "      <td>0.050432</td>\n",
       "      <td>6</td>\n",
       "      <td>0.015228</td>\n",
       "      <td>0.035533</td>\n",
       "      <td>94.923858</td>\n",
       "    </tr>\n",
       "    <tr>\n",
       "      <th>6</th>\n",
       "      <td>0.043228</td>\n",
       "      <td>7</td>\n",
       "      <td>0.010152</td>\n",
       "      <td>0.040609</td>\n",
       "      <td>94.923858</td>\n",
       "    </tr>\n",
       "    <tr>\n",
       "      <th>7</th>\n",
       "      <td>0.041787</td>\n",
       "      <td>8</td>\n",
       "      <td>0.010152</td>\n",
       "      <td>0.030457</td>\n",
       "      <td>95.939086</td>\n",
       "    </tr>\n",
       "    <tr>\n",
       "      <th>8</th>\n",
       "      <td>0.038905</td>\n",
       "      <td>9</td>\n",
       "      <td>0.015228</td>\n",
       "      <td>0.030457</td>\n",
       "      <td>95.431472</td>\n",
       "    </tr>\n",
       "    <tr>\n",
       "      <th>9</th>\n",
       "      <td>0.030259</td>\n",
       "      <td>10</td>\n",
       "      <td>0.015228</td>\n",
       "      <td>0.030457</td>\n",
       "      <td>95.431472</td>\n",
       "    </tr>\n",
       "  </tbody>\n",
       "</table>\n",
       "</div>"
      ],
      "text/plain": [
       "     Thresh  N_Features    Type_I   Type_II   Accuracy\n",
       "0  0.125360           1  0.030457  0.050761  91.878173\n",
       "1  0.096542           2  0.020305  0.050761  92.893401\n",
       "2  0.093660           3  0.025381  0.060914  91.370558\n",
       "3  0.054755           4  0.010152  0.045685  94.416244\n",
       "4  0.051873           5  0.015228  0.045685  93.908629\n",
       "5  0.050432           6  0.015228  0.035533  94.923858\n",
       "6  0.043228           7  0.010152  0.040609  94.923858\n",
       "7  0.041787           8  0.010152  0.030457  95.939086\n",
       "8  0.038905           9  0.015228  0.030457  95.431472\n",
       "9  0.030259          10  0.015228  0.030457  95.431472"
      ]
     },
     "execution_count": 39,
     "metadata": {},
     "output_type": "execute_result"
    }
   ],
   "source": [
    "# Note, sometimes it jumps up by 2 features because they have the same importance\n",
    "dffeat.head(10)"
   ]
  },
  {
   "cell_type": "code",
   "execution_count": 40,
   "metadata": {
    "scrolled": false
   },
   "outputs": [
    {
     "data": {
      "image/png": "[encoded data removed]",
      "text/plain": [
       "<Figure size 1080x864 with 1 Axes>"
      ]
     },
     "metadata": {},
     "output_type": "display_data"
    },
    {
     "name": "stdout",
     "output_type": "stream",
     "text": [
      "Low point for Type II \n",
      "\n",
      "    N_Features    Type_I   Type_II   Accuracy\n",
      "15          17  0.015228  0.025381  95.939086\n",
      "16          17  0.015228  0.025381  95.939086\n"
     ]
    }
   ],
   "source": [
    "palette = plt.get_cmap('Set1')\n",
    "plt.subplots(figsize=(15, 12))\n",
    "plt.title('Error Rate by Number of Features', fontsize=30)\n",
    "plt.plot( 'N_Features', 'Type_I', data=dffeat, marker='',linewidth=3, color=palette(1))\n",
    "plt.plot( 'N_Features', 'Type_II', data=dffeat, marker='', linewidth=3, color=palette(2))\n",
    "plt.plot( 'N_Features', 'Type_II', data=low_point,MarkerSize=15, marker='p',linewidth=5, color='r')\n",
    "plt.xlabel('Number of Features',fontsize=20, fontweight=0)\n",
    "plt.ylabel('Error Rate',fontsize=20, fontweight=0)\n",
    "plt.legend()\n",
    "plt.show()\n",
    "\n",
    "print('Low point for Type II \\n\\n' + str(low_point.drop('Thresh',1)))"
   ]
  },
  {
   "cell_type": "code",
   "execution_count": null,
   "metadata": {},
   "outputs": [],
   "source": []
  },
  {
   "cell_type": "code",
   "execution_count": 41,
   "metadata": {},
   "outputs": [],
   "source": [
    "# Find the cutoff point\n",
    "if len(low_point.N_Features.values) >= 1:\n",
    "    num = round(len(low_point.N_Features.values)/2)\n",
    "else:\n",
    "    num = 0"
   ]
  },
  {
   "cell_type": "code",
   "execution_count": 42,
   "metadata": {},
   "outputs": [
    {
     "name": "stdout",
     "output_type": "stream",
     "text": [
      "('Time', 0.093659945)\n",
      "('V1', 0.02017291)\n",
      "('V2', 0.02017291)\n",
      "('V3', 0.021613833)\n",
      "('V4', 0.12536024)\n",
      "('V5', 0.027377522)\n",
      "('V6', 0.02017291)\n",
      "('V7', 0.024495678)\n",
      "('V8', 0.041786745)\n",
      "('V9', 0.014409222)\n",
      "('V10', 0.054755043)\n",
      "('V11', 0.043227665)\n",
      "('V12', 0.038904898)\n",
      "('V13', 0.021613833)\n",
      "('V14', 0.096541785)\n",
      "('V15', 0.02017291)\n",
      "('V16', 0.011527377)\n",
      "('V18', 0.02017291)\n",
      "('V19', 0.0518732)\n",
      "('V20', 0.015850144)\n",
      "('V21', 0.023054754)\n",
      "('V22', 0.0259366)\n",
      "('V23', 0.030259365)\n",
      "('V24', 0.0057636886)\n",
      "('V25', 0.02017291)\n",
      "('V26', 0.028818443)\n",
      "('V27', 0.0129683)\n",
      "('V28', 0.018731989)\n",
      "('Amount', 0.050432276)\n"
     ]
    }
   ],
   "source": [
    "# Create a list of feature importance and their names\n",
    "listoff=[]\n",
    "for feature in zip(list(df1), xg_cls.feature_importances_):\n",
    "    listoff.append(feature)\n",
    "    print(feature)"
   ]
  },
  {
   "cell_type": "code",
   "execution_count": null,
   "metadata": {},
   "outputs": [],
   "source": []
  },
  {
   "cell_type": "code",
   "execution_count": 43,
   "metadata": {},
   "outputs": [],
   "source": [
    "# Sort the list and remove all but the top 19 features\n",
    "\n",
    "listoff.sort(key=lambda tup: tup[1])\n",
    "features_drop = []\n",
    "for elem in listoff[:-int(low_point.N_Features.values[num])]:\n",
    "    features_drop.append(elem[0])\n",
    "    \n",
    "# Append V17 which we dropped earlier\n",
    "features_drop.append('V17')"
   ]
  },
  {
   "cell_type": "code",
   "execution_count": 44,
   "metadata": {},
   "outputs": [
    {
     "data": {
      "text/plain": [
       "['V24',\n",
       " 'V16',\n",
       " 'V27',\n",
       " 'V9',\n",
       " 'V20',\n",
       " 'V28',\n",
       " 'V1',\n",
       " 'V2',\n",
       " 'V6',\n",
       " 'V15',\n",
       " 'V18',\n",
       " 'V25',\n",
       " 'V17']"
      ]
     },
     "execution_count": 44,
     "metadata": {},
     "output_type": "execute_result"
    }
   ],
   "source": [
    "features_drop"
   ]
  },
  {
   "cell_type": "code",
   "execution_count": 45,
   "metadata": {},
   "outputs": [],
   "source": [
    "# get up sampled df\n",
    "dfold = pd.read_pickle(('../../Data/creditcardUNDER.pkl'))"
   ]
  },
  {
   "cell_type": "code",
   "execution_count": 46,
   "metadata": {},
   "outputs": [],
   "source": [
    "# drop the features we don't want\n",
    "dfnew = dfold.drop(features_drop,1)"
   ]
  },
  {
   "cell_type": "code",
   "execution_count": 47,
   "metadata": {},
   "outputs": [],
   "source": [
    "# Save it so we have something to use in the future\n",
    "dfnew.to_pickle(('../../Data/creditcardSELECTun.pkl'))"
   ]
  },
  {
   "cell_type": "markdown",
   "metadata": {},
   "source": [
    "# Parameter Tuning"
   ]
  },
  {
   "cell_type": "code",
   "execution_count": 48,
   "metadata": {},
   "outputs": [
    {
     "name": "stdout",
     "output_type": "stream",
     "text": [
      "<class 'pandas.core.frame.DataFrame'>\n",
      "Int64Index: 984 entries, 541 to 253086\n",
      "Data columns (total 18 columns):\n",
      "Time      984 non-null uint32\n",
      "V3        984 non-null float32\n",
      "V4        984 non-null float32\n",
      "V5        984 non-null float32\n",
      "V7        984 non-null float32\n",
      "V8        984 non-null float32\n",
      "V10       984 non-null float32\n",
      "V11       984 non-null float32\n",
      "V12       984 non-null float32\n",
      "V13       984 non-null float32\n",
      "V14       984 non-null float32\n",
      "V19       984 non-null float32\n",
      "V21       984 non-null float32\n",
      "V22       984 non-null float32\n",
      "V23       984 non-null float32\n",
      "V26       984 non-null float32\n",
      "Amount    984 non-null float32\n",
      "Class     984 non-null uint8\n",
      "dtypes: float32(16), uint32(1), uint8(1)\n",
      "memory usage: 74.0 KB\n"
     ]
    }
   ],
   "source": [
    "import pandas as pd\n",
    "import numpy as np\n",
    "\n",
    "# Open up the data with selected features\n",
    "df = pd.read_pickle(('../../Data/creditcardSELECTun.pkl'))\n",
    "df.info()"
   ]
  },
  {
   "cell_type": "code",
   "execution_count": 49,
   "metadata": {},
   "outputs": [],
   "source": [
    "from sklearn.model_selection import train_test_split\n",
    "# Get training data\n",
    "X, y = df.drop('Class',1), df['Class']\n",
    "\n",
    "X_train, X_test, y_train, y_test = train_test_split(X, y, test_size=0.25, random_state=11)"
   ]
  },
  {
   "cell_type": "code",
   "execution_count": 50,
   "metadata": {},
   "outputs": [
    {
     "name": "stdout",
     "output_type": "stream",
     "text": [
      "max_depth=3.000, n_estimators=10, Type I=0.0101522843, Type II=0.0609137056, Accuracy: 92.8934%\n",
      "max_depth=3.000, n_estimators=30, Type I=0.0152284264, Type II=0.0406091371, Accuracy: 94.4162%\n",
      "max_depth=3.000, n_estimators=50, Type I=0.0203045685, Type II=0.0406091371, Accuracy: 93.9086%\n",
      "max_depth=3.000, n_estimators=100, Type I=0.0152284264, Type II=0.0253807107, Accuracy: 95.9391%\n",
      "max_depth=3.000, n_estimators=150, Type I=0.0152284264, Type II=0.0253807107, Accuracy: 95.9391%\n",
      "max_depth=3.000, n_estimators=200, Type I=0.0152284264, Type II=0.0304568528, Accuracy: 95.4315%\n",
      "max_depth=3.000, n_estimators=250, Type I=0.0152284264, Type II=0.0253807107, Accuracy: 95.9391%\n",
      "max_depth=5.000, n_estimators=10, Type I=0.0152284264, Type II=0.0507614213, Accuracy: 93.4010%\n",
      "max_depth=5.000, n_estimators=30, Type I=0.0152284264, Type II=0.0406091371, Accuracy: 94.4162%\n",
      "max_depth=5.000, n_estimators=50, Type I=0.0152284264, Type II=0.0406091371, Accuracy: 94.4162%\n",
      "max_depth=5.000, n_estimators=100, Type I=0.0152284264, Type II=0.0406091371, Accuracy: 94.4162%\n",
      "max_depth=5.000, n_estimators=150, Type I=0.0152284264, Type II=0.0355329949, Accuracy: 94.9239%\n",
      "max_depth=5.000, n_estimators=200, Type I=0.0152284264, Type II=0.0355329949, Accuracy: 94.9239%\n",
      "max_depth=5.000, n_estimators=250, Type I=0.0152284264, Type II=0.0355329949, Accuracy: 94.9239%\n",
      "max_depth=10.000, n_estimators=10, Type I=0.0253807107, Type II=0.0558375635, Accuracy: 91.8782%\n",
      "max_depth=10.000, n_estimators=30, Type I=0.0152284264, Type II=0.0406091371, Accuracy: 94.4162%\n",
      "max_depth=10.000, n_estimators=50, Type I=0.0101522843, Type II=0.0406091371, Accuracy: 94.9239%\n",
      "max_depth=10.000, n_estimators=100, Type I=0.0101522843, Type II=0.0406091371, Accuracy: 94.9239%\n",
      "max_depth=10.000, n_estimators=150, Type I=0.0152284264, Type II=0.0406091371, Accuracy: 94.4162%\n",
      "max_depth=10.000, n_estimators=200, Type I=0.0152284264, Type II=0.0406091371, Accuracy: 94.4162%\n",
      "max_depth=10.000, n_estimators=250, Type I=0.0152284264, Type II=0.0406091371, Accuracy: 94.4162%\n",
      "max_depth=15.000, n_estimators=10, Type I=0.0253807107, Type II=0.0558375635, Accuracy: 91.8782%\n",
      "max_depth=15.000, n_estimators=30, Type I=0.0152284264, Type II=0.0406091371, Accuracy: 94.4162%\n",
      "max_depth=15.000, n_estimators=50, Type I=0.0152284264, Type II=0.0406091371, Accuracy: 94.4162%\n",
      "max_depth=15.000, n_estimators=100, Type I=0.0152284264, Type II=0.0406091371, Accuracy: 94.4162%\n",
      "max_depth=15.000, n_estimators=150, Type I=0.0152284264, Type II=0.0406091371, Accuracy: 94.4162%\n",
      "max_depth=15.000, n_estimators=200, Type I=0.0152284264, Type II=0.0406091371, Accuracy: 94.4162%\n",
      "max_depth=15.000, n_estimators=250, Type I=0.0152284264, Type II=0.0406091371, Accuracy: 94.4162%\n",
      "max_depth=20.000, n_estimators=10, Type I=0.0253807107, Type II=0.0558375635, Accuracy: 91.8782%\n",
      "max_depth=20.000, n_estimators=30, Type I=0.0152284264, Type II=0.0406091371, Accuracy: 94.4162%\n",
      "max_depth=20.000, n_estimators=50, Type I=0.0152284264, Type II=0.0406091371, Accuracy: 94.4162%\n",
      "max_depth=20.000, n_estimators=100, Type I=0.0152284264, Type II=0.0406091371, Accuracy: 94.4162%\n",
      "max_depth=20.000, n_estimators=150, Type I=0.0152284264, Type II=0.0406091371, Accuracy: 94.4162%\n",
      "max_depth=20.000, n_estimators=200, Type I=0.0152284264, Type II=0.0406091371, Accuracy: 94.4162%\n",
      "max_depth=20.000, n_estimators=250, Type I=0.0152284264, Type II=0.0406091371, Accuracy: 94.4162%\n"
     ]
    }
   ],
   "source": [
    "import xgboost as xgb\n",
    "from sklearn.metrics import mean_squared_error\n",
    "from sklearn.metrics import accuracy_score\n",
    "\n",
    "max_depth = [3, 5, 10, 15, 20]\n",
    "n_estimators = [10, 30, 50, 100, 150, 200, 250]\n",
    "listy =[]\n",
    "\n",
    "# Go through multiple depths and n_estimators to find best parameters\n",
    "\n",
    "for max_d in max_depth:\n",
    "    for n_est in n_estimators:\n",
    "        \n",
    "        # train model\n",
    "        model = xgb.XGBClassifier(n_estimators=n_est, max_depth=max_d, tree_method='gpu_exact')\n",
    "        model.fit(X_train, y_train)\n",
    "\n",
    "        # eval model\n",
    "        preds = model.predict(X_test)\n",
    "        table_test = pd.crosstab(y_test, preds, margins=True)\n",
    "        test_tI_errors = table_test.loc[0.0,1.0]/table_test.loc['All','All']\n",
    "        test_tII_errors = table_test.loc[1.0,0.0]/table_test.loc['All','All']\n",
    "        accuracy = accuracy_score(y_test, preds)\n",
    "\n",
    "        # Save to list so we can graph it\n",
    "        listy.append([max_d, n_est, test_tI_errors, test_tII_errors, accuracy*100.0])\n",
    "        print(\"max_depth=%.3f, n_estimators=%d, Type I=%.10f, Type II=%.10f, Accuracy: %.4f%%\" % (max_d, n_est, test_tI_errors, test_tII_errors, accuracy*100.0))"
   ]
  },
  {
   "cell_type": "code",
   "execution_count": 51,
   "metadata": {},
   "outputs": [
    {
     "data": {
      "text/plain": [
       "[[3, 10, 0.01015228426395939, 0.06091370558375635, 92.89340101522842],\n",
       " [3, 30, 0.015228426395939087, 0.04060913705583756, 94.41624365482234],\n",
       " [3, 50, 0.02030456852791878, 0.04060913705583756, 93.90862944162437],\n",
       " [3, 100, 0.015228426395939087, 0.025380710659898477, 95.93908629441624],\n",
       " [3, 150, 0.015228426395939087, 0.025380710659898477, 95.93908629441624],\n",
       " [3, 200, 0.015228426395939087, 0.030456852791878174, 95.43147208121827],\n",
       " [3, 250, 0.015228426395939087, 0.025380710659898477, 95.93908629441624],\n",
       " [5, 10, 0.015228426395939087, 0.050761421319796954, 93.4010152284264],\n",
       " [5, 30, 0.015228426395939087, 0.04060913705583756, 94.41624365482234],\n",
       " [5, 50, 0.015228426395939087, 0.04060913705583756, 94.41624365482234],\n",
       " [5, 100, 0.015228426395939087, 0.04060913705583756, 94.41624365482234],\n",
       " [5, 150, 0.015228426395939087, 0.03553299492385787, 94.9238578680203],\n",
       " [5, 200, 0.015228426395939087, 0.03553299492385787, 94.9238578680203],\n",
       " [5, 250, 0.015228426395939087, 0.03553299492385787, 94.9238578680203],\n",
       " [10, 10, 0.025380710659898477, 0.05583756345177665, 91.87817258883248],\n",
       " [10, 30, 0.015228426395939087, 0.04060913705583756, 94.41624365482234],\n",
       " [10, 50, 0.01015228426395939, 0.04060913705583756, 94.9238578680203],\n",
       " [10, 100, 0.01015228426395939, 0.04060913705583756, 94.9238578680203],\n",
       " [10, 150, 0.015228426395939087, 0.04060913705583756, 94.41624365482234],\n",
       " [10, 200, 0.015228426395939087, 0.04060913705583756, 94.41624365482234],\n",
       " [10, 250, 0.015228426395939087, 0.04060913705583756, 94.41624365482234],\n",
       " [15, 10, 0.025380710659898477, 0.05583756345177665, 91.87817258883248],\n",
       " [15, 30, 0.015228426395939087, 0.04060913705583756, 94.41624365482234],\n",
       " [15, 50, 0.015228426395939087, 0.04060913705583756, 94.41624365482234],\n",
       " [15, 100, 0.015228426395939087, 0.04060913705583756, 94.41624365482234],\n",
       " [15, 150, 0.015228426395939087, 0.04060913705583756, 94.41624365482234],\n",
       " [15, 200, 0.015228426395939087, 0.04060913705583756, 94.41624365482234],\n",
       " [15, 250, 0.015228426395939087, 0.04060913705583756, 94.41624365482234],\n",
       " [20, 10, 0.025380710659898477, 0.05583756345177665, 91.87817258883248],\n",
       " [20, 30, 0.015228426395939087, 0.04060913705583756, 94.41624365482234],\n",
       " [20, 50, 0.015228426395939087, 0.04060913705583756, 94.41624365482234],\n",
       " [20, 100, 0.015228426395939087, 0.04060913705583756, 94.41624365482234],\n",
       " [20, 150, 0.015228426395939087, 0.04060913705583756, 94.41624365482234],\n",
       " [20, 200, 0.015228426395939087, 0.04060913705583756, 94.41624365482234],\n",
       " [20, 250, 0.015228426395939087, 0.04060913705583756, 94.41624365482234]]"
      ]
     },
     "execution_count": 51,
     "metadata": {},
     "output_type": "execute_result"
    }
   ],
   "source": [
    "listy"
   ]
  },
  {
   "cell_type": "code",
   "execution_count": 52,
   "metadata": {
    "scrolled": true
   },
   "outputs": [],
   "source": [
    "dfest = pd.DataFrame(listy, columns=['Max_Depth', 'N_Estimators', 'Type_I', 'Type_II', 'Accuracy'])"
   ]
  },
  {
   "cell_type": "code",
   "execution_count": 53,
   "metadata": {
    "scrolled": false
   },
   "outputs": [
    {
     "data": {
      "image/png": "[encoded data removed]",
      "text/plain": [
       "<Figure size 720x720 with 1 Axes>"
      ]
     },
     "metadata": {},
     "output_type": "display_data"
    }
   ],
   "source": [
    "import seaborn as sns; sns.set()\n",
    "import matplotlib.pyplot as plt\n",
    "\n",
    "plt.figure(figsize=(10,10))\n",
    "plt.title('Type II Error Rate')\n",
    "ax = sns.lineplot(x=\"N_Estimators\", y=\"Type_II\", hue='Max_Depth', data=dfest)\n",
    "plt.legend()\n",
    "ax.margins(x=0, y=.0025) "
   ]
  },
  {
   "cell_type": "code",
   "execution_count": 54,
   "metadata": {},
   "outputs": [
    {
     "data": {
      "text/plain": [
       "3"
      ]
     },
     "execution_count": 54,
     "metadata": {},
     "output_type": "execute_result"
    }
   ],
   "source": [
    "# Put the low points into a dataframe\n",
    "low_pointest = dfest[dfest['Type_II']==dfest.Type_II.min()]\n",
    "int(low_pointest.head(1).Max_Depth)"
   ]
  },
  {
   "cell_type": "code",
   "execution_count": 55,
   "metadata": {},
   "outputs": [
    {
     "data": {
      "text/plain": [
       "XGBClassifier(base_score=0.5, booster='gbtree', colsample_bylevel=1,\n",
       "       colsample_bytree=1, gamma=0, learning_rate=0.1, max_delta_step=0,\n",
       "       max_depth=3, min_child_weight=1, missing=None, n_estimators=100,\n",
       "       n_jobs=1, nthread=None, objective='binary:logistic', random_state=0,\n",
       "       reg_alpha=0, reg_lambda=1, scale_pos_weight=1, seed=None,\n",
       "       silent=True, subsample=1, tree_method='gpu_exact')"
      ]
     },
     "execution_count": 55,
     "metadata": {},
     "output_type": "execute_result"
    }
   ],
   "source": [
    "# Open up the data with selected features\n",
    "df = pd.read_pickle(('../../Data/creditcardSELECTun.pkl'))\n",
    "X, y = df.drop('Class',1), df['Class']\n",
    "X_train, X_test, y_train, y_test = train_test_split(X, y, test_size=0.25, random_state=11)\n",
    "\n",
    "# We use the lowest max depth and N_est that gets the best value (lower = better runtime)\n",
    "model = xgb.XGBClassifier(n_estimators=int(low_pointest.head(1).N_Estimators), max_depth=int(low_pointest.head(1).Max_Depth), tree_method='gpu_exact')\n",
    "model.fit(X_train, y_train)\n",
    "\n"
   ]
  },
  {
   "cell_type": "code",
   "execution_count": 56,
   "metadata": {},
   "outputs": [],
   "source": [
    "dfold = pd.read_pickle(('../../Data/creditcard.pkl'))\n",
    "dfold=dfold.drop(features_drop,1)\n",
    "\n",
    "fX, fy = dfold.drop('Class',1), dfold['Class']\n",
    "\n",
    "fulldatapreds = model.predict(dfold.drop('Class',1))\n",
    "preds = model.predict(X_test)"
   ]
  },
  {
   "cell_type": "code",
   "execution_count": 57,
   "metadata": {},
   "outputs": [
    {
     "name": "stdout",
     "output_type": "stream",
     "text": [
      "[0.95238095 0.95238095 0.95238095 0.95       1.         0.94736842\n",
      " 1.         0.94736842 0.94736842 0.68421053]\n"
     ]
    }
   ],
   "source": [
    "from sklearn.model_selection import cross_val_score\n",
    "\n",
    "print(cross_val_score(model, X_test, y_test, cv=10))"
   ]
  },
  {
   "cell_type": "code",
   "execution_count": 58,
   "metadata": {},
   "outputs": [
    {
     "name": "stdout",
     "output_type": "stream",
     "text": [
      "[0.97900428 0.99866582 0.99975422 0.99940311 0.99943822 0.99894663\n",
      " 0.99961376 0.99957865 0.99947331 0.99929775]\n"
     ]
    }
   ],
   "source": [
    "from sklearn.model_selection import cross_val_score\n",
    "\n",
    "print(cross_val_score(model, fX, fy, cv=10))"
   ]
  },
  {
   "cell_type": "code",
   "execution_count": 59,
   "metadata": {
    "scrolled": true
   },
   "outputs": [
    {
     "name": "stdout",
     "output_type": "stream",
     "text": [
      "***********************************\n",
      "\n",
      "Full set accuracy:\n",
      "Percent Type I errors:  0.000000000000000\n",
      "Percent Type II errors: 0.000000000000000\n",
      "\n",
      "Test set accuracy:\n",
      "Percent Type I errors: 0.015228426395939\n",
      "Percent Type II errors: 0.025380710659898\n",
      "\n",
      "***********************************\n",
      "* Type I errors are normal purchases that have been flagged.\n",
      "* Type II errors are frauds that are not caught!\n",
      "\n"
     ]
    }
   ],
   "source": [
    "# Accuracy tables on the training and test set\n",
    "\n",
    "table_full = pd.crosstab(fy, fulldatapreds, margins=True)\n",
    "table_test = pd.crosstab(y_test, preds, margins=True)\n",
    "\n",
    "train_tI_errors = table_train.loc[0.0,1.0] / table_train.loc['All','All']\n",
    "train_tII_errors = table_train.loc[1.0,0.0] / table_train.loc['All','All']\n",
    "\n",
    "test_tI_errors = table_test.loc[0.0,1.0]/table_test.loc['All','All']\n",
    "test_tII_errors = table_test.loc[1.0,0.0]/table_test.loc['All','All']\n",
    "\n",
    "print((\n",
    "    '***********************************\\n\\n'    \n",
    "    'Full set accuracy:\\n'\n",
    "    'Percent Type I errors:  {:.15f}\\n'\n",
    "    'Percent Type II errors: {:.15f}\\n\\n'\n",
    "    'Test set accuracy:\\n'\n",
    "    'Percent Type I errors: {:.15f}\\n'\n",
    "    'Percent Type II errors: {:.15f}\\n\\n'\n",
    "    '***********************************\\n'\n",
    "    '* Type I errors are normal purchases that have been flagged.\\n'\n",
    "    '* Type II errors are frauds that are not caught!\\n'\n",
    ").format(train_tI_errors, train_tII_errors, test_tI_errors, test_tII_errors))"
   ]
  },
  {
   "cell_type": "code",
   "execution_count": 60,
   "metadata": {},
   "outputs": [
    {
     "data": {
      "text/html": [
       "<div>\n",
       "<style scoped>\n",
       "    .dataframe tbody tr th:only-of-type {\n",
       "        vertical-align: middle;\n",
       "    }\n",
       "\n",
       "    .dataframe tbody tr th {\n",
       "        vertical-align: top;\n",
       "    }\n",
       "\n",
       "    .dataframe thead th {\n",
       "        text-align: right;\n",
       "    }\n",
       "</style>\n",
       "<table border=\"1\" class=\"dataframe\">\n",
       "  <thead>\n",
       "    <tr style=\"text-align: right;\">\n",
       "      <th>col_0</th>\n",
       "      <th>0</th>\n",
       "      <th>1</th>\n",
       "      <th>All</th>\n",
       "    </tr>\n",
       "    <tr>\n",
       "      <th>Class</th>\n",
       "      <th></th>\n",
       "      <th></th>\n",
       "      <th></th>\n",
       "    </tr>\n",
       "  </thead>\n",
       "  <tbody>\n",
       "    <tr>\n",
       "      <th>0</th>\n",
       "      <td>90</td>\n",
       "      <td>3</td>\n",
       "      <td>93</td>\n",
       "    </tr>\n",
       "    <tr>\n",
       "      <th>1</th>\n",
       "      <td>5</td>\n",
       "      <td>99</td>\n",
       "      <td>104</td>\n",
       "    </tr>\n",
       "    <tr>\n",
       "      <th>All</th>\n",
       "      <td>95</td>\n",
       "      <td>102</td>\n",
       "      <td>197</td>\n",
       "    </tr>\n",
       "  </tbody>\n",
       "</table>\n",
       "</div>"
      ],
      "text/plain": [
       "col_0   0    1  All\n",
       "Class              \n",
       "0      90    3   93\n",
       "1       5   99  104\n",
       "All    95  102  197"
      ]
     },
     "execution_count": 60,
     "metadata": {},
     "output_type": "execute_result"
    }
   ],
   "source": [
    "table_test"
   ]
  },
  {
   "cell_type": "code",
   "execution_count": 61,
   "metadata": {},
   "outputs": [
    {
     "data": {
      "text/html": [
       "<div>\n",
       "<style scoped>\n",
       "    .dataframe tbody tr th:only-of-type {\n",
       "        vertical-align: middle;\n",
       "    }\n",
       "\n",
       "    .dataframe tbody tr th {\n",
       "        vertical-align: top;\n",
       "    }\n",
       "\n",
       "    .dataframe thead th {\n",
       "        text-align: right;\n",
       "    }\n",
       "</style>\n",
       "<table border=\"1\" class=\"dataframe\">\n",
       "  <thead>\n",
       "    <tr style=\"text-align: right;\">\n",
       "      <th>col_0</th>\n",
       "      <th>0</th>\n",
       "      <th>1</th>\n",
       "      <th>All</th>\n",
       "    </tr>\n",
       "    <tr>\n",
       "      <th>Class</th>\n",
       "      <th></th>\n",
       "      <th></th>\n",
       "      <th></th>\n",
       "    </tr>\n",
       "  </thead>\n",
       "  <tbody>\n",
       "    <tr>\n",
       "      <th>0</th>\n",
       "      <td>274974</td>\n",
       "      <td>9341</td>\n",
       "      <td>284315</td>\n",
       "    </tr>\n",
       "    <tr>\n",
       "      <th>1</th>\n",
       "      <td>6</td>\n",
       "      <td>486</td>\n",
       "      <td>492</td>\n",
       "    </tr>\n",
       "    <tr>\n",
       "      <th>All</th>\n",
       "      <td>274980</td>\n",
       "      <td>9827</td>\n",
       "      <td>284807</td>\n",
       "    </tr>\n",
       "  </tbody>\n",
       "</table>\n",
       "</div>"
      ],
      "text/plain": [
       "col_0       0     1     All\n",
       "Class                      \n",
       "0      274974  9341  284315\n",
       "1           6   486     492\n",
       "All    274980  9827  284807"
      ]
     },
     "execution_count": 61,
     "metadata": {},
     "output_type": "execute_result"
    }
   ],
   "source": [
    "table_full"
   ]
  },
  {
   "cell_type": "code",
   "execution_count": null,
   "metadata": {},
   "outputs": [],
   "source": []
  },
  {
   "cell_type": "code",
   "execution_count": 62,
   "metadata": {},
   "outputs": [],
   "source": [
    "probs = model.predict_proba(fX)[:,1]"
   ]
  },
  {
   "cell_type": "code",
   "execution_count": 63,
   "metadata": {},
   "outputs": [
    {
     "data": {
      "text/plain": [
       "array([0.05666421, 0.03355011, 0.06916515, ..., 0.00386842, 0.01995605,\n",
       "       0.02789387], dtype=float32)"
      ]
     },
     "execution_count": 63,
     "metadata": {},
     "output_type": "execute_result"
    }
   ],
   "source": [
    "probs"
   ]
  },
  {
   "cell_type": "code",
   "execution_count": null,
   "metadata": {},
   "outputs": [],
   "source": []
  },
  {
   "cell_type": "code",
   "execution_count": 64,
   "metadata": {},
   "outputs": [
    {
     "name": "stdout",
     "output_type": "stream",
     "text": [
      "AUC: 0.99696487020794100076\n"
     ]
    }
   ],
   "source": [
    "from sklearn.metrics import roc_curve\n",
    "from sklearn.metrics import roc_auc_score\n",
    "\n",
    "fpr, tpr, thresholds = roc_curve(fy, probs)\n",
    "\n",
    "\n",
    "auc = roc_auc_score(fy, probs)\n",
    "print('AUC: %.20f' % auc)"
   ]
  },
  {
   "cell_type": "code",
   "execution_count": 65,
   "metadata": {},
   "outputs": [
    {
     "data": {
      "text/plain": [
       "0.9878048780487805"
      ]
     },
     "execution_count": 65,
     "metadata": {},
     "output_type": "execute_result"
    }
   ],
   "source": [
    "from sklearn.metrics import recall_score\n",
    "\n",
    "recall_score(fy, fulldatapreds)"
   ]
  },
  {
   "cell_type": "code",
   "execution_count": 66,
   "metadata": {},
   "outputs": [
    {
     "data": {
      "text/plain": [
       "0.9519230769230769"
      ]
     },
     "execution_count": 66,
     "metadata": {},
     "output_type": "execute_result"
    }
   ],
   "source": [
    "recall_score(y_test, preds)"
   ]
  },
  {
   "cell_type": "code",
   "execution_count": null,
   "metadata": {},
   "outputs": [],
   "source": []
  }
 ],
 "metadata": {
  "kernelspec": {
   "display_name": "Python 3",
   "language": "python",
   "name": "python3"
  },
  "language_info": {
   "codemirror_mode": {
    "name": "ipython",
    "version": 3
   },
   "file_extension": ".py",
   "mimetype": "text/x-python",
   "name": "python",
   "nbconvert_exporter": "python",
   "pygments_lexer": "ipython3",
   "version": "3.6.6"
  }
 },
 "nbformat": 4,
 "nbformat_minor": 2
}
