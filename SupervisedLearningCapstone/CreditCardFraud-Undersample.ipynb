{
 "cells": [
  {
   "cell_type": "code",
   "execution_count": 1,
   "metadata": {},
   "outputs": [],
   "source": [
    "import pandas as pd\n",
    "import numpy as np\n"
   ]
  },
  {
   "cell_type": "markdown",
   "metadata": {},
   "source": [
    "# Predicting Credit Card Fraud\n",
    " \n"
   ]
  },
  {
   "cell_type": "code",
   "execution_count": 2,
   "metadata": {},
   "outputs": [
    {
     "name": "stdout",
     "output_type": "stream",
     "text": [
      "<class 'pandas.core.frame.DataFrame'>\n",
      "RangeIndex: 284807 entries, 0 to 284806\n",
      "Data columns (total 31 columns):\n",
      "Time      284807 non-null float64\n",
      "V1        284807 non-null float64\n",
      "V2        284807 non-null float64\n",
      "V3        284807 non-null float64\n",
      "V4        284807 non-null float64\n",
      "V5        284807 non-null float64\n",
      "V6        284807 non-null float64\n",
      "V7        284807 non-null float64\n",
      "V8        284807 non-null float64\n",
      "V9        284807 non-null float64\n",
      "V10       284807 non-null float64\n",
      "V11       284807 non-null float64\n",
      "V12       284807 non-null float64\n",
      "V13       284807 non-null float64\n",
      "V14       284807 non-null float64\n",
      "V15       284807 non-null float64\n",
      "V16       284807 non-null float64\n",
      "V17       284807 non-null float64\n",
      "V18       284807 non-null float64\n",
      "V19       284807 non-null float64\n",
      "V20       284807 non-null float64\n",
      "V21       284807 non-null float64\n",
      "V22       284807 non-null float64\n",
      "V23       284807 non-null float64\n",
      "V24       284807 non-null float64\n",
      "V25       284807 non-null float64\n",
      "V26       284807 non-null float64\n",
      "V27       284807 non-null float64\n",
      "V28       284807 non-null float64\n",
      "Amount    284807 non-null float64\n",
      "Class     284807 non-null int64\n",
      "dtypes: float64(30), int64(1)\n",
      "memory usage: 67.4 MB\n"
     ]
    }
   ],
   "source": [
    "# The data is from https://www.kaggle.com/mlg-ulb/creditcardfraud\n",
    "\n",
    "\n",
    "# Read the data \n",
    "# Change the path to whereever you save the dataset\n",
    "df = pd.read_csv('../../Data/creditcard.csv')\n",
    "df.info()"
   ]
  },
  {
   "cell_type": "code",
   "execution_count": 3,
   "metadata": {
    "scrolled": false
   },
   "outputs": [
    {
     "data": {
      "text/html": [
       "<div>\n",
       "<style scoped>\n",
       "    .dataframe tbody tr th:only-of-type {\n",
       "        vertical-align: middle;\n",
       "    }\n",
       "\n",
       "    .dataframe tbody tr th {\n",
       "        vertical-align: top;\n",
       "    }\n",
       "\n",
       "    .dataframe thead th {\n",
       "        text-align: right;\n",
       "    }\n",
       "</style>\n",
       "<table border=\"1\" class=\"dataframe\">\n",
       "  <thead>\n",
       "    <tr style=\"text-align: right;\">\n",
       "      <th></th>\n",
       "      <th>Time</th>\n",
       "      <th>V1</th>\n",
       "      <th>V2</th>\n",
       "      <th>V3</th>\n",
       "      <th>V4</th>\n",
       "      <th>V5</th>\n",
       "      <th>V6</th>\n",
       "      <th>V7</th>\n",
       "      <th>V8</th>\n",
       "      <th>V9</th>\n",
       "      <th>...</th>\n",
       "      <th>V21</th>\n",
       "      <th>V22</th>\n",
       "      <th>V23</th>\n",
       "      <th>V24</th>\n",
       "      <th>V25</th>\n",
       "      <th>V26</th>\n",
       "      <th>V27</th>\n",
       "      <th>V28</th>\n",
       "      <th>Amount</th>\n",
       "      <th>Class</th>\n",
       "    </tr>\n",
       "  </thead>\n",
       "  <tbody>\n",
       "    <tr>\n",
       "      <th>count</th>\n",
       "      <td>284807.000000</td>\n",
       "      <td>2.848070e+05</td>\n",
       "      <td>2.848070e+05</td>\n",
       "      <td>2.848070e+05</td>\n",
       "      <td>2.848070e+05</td>\n",
       "      <td>2.848070e+05</td>\n",
       "      <td>2.848070e+05</td>\n",
       "      <td>2.848070e+05</td>\n",
       "      <td>2.848070e+05</td>\n",
       "      <td>2.848070e+05</td>\n",
       "      <td>...</td>\n",
       "      <td>2.848070e+05</td>\n",
       "      <td>2.848070e+05</td>\n",
       "      <td>2.848070e+05</td>\n",
       "      <td>2.848070e+05</td>\n",
       "      <td>2.848070e+05</td>\n",
       "      <td>2.848070e+05</td>\n",
       "      <td>2.848070e+05</td>\n",
       "      <td>2.848070e+05</td>\n",
       "      <td>284807.000000</td>\n",
       "      <td>284807.000000</td>\n",
       "    </tr>\n",
       "    <tr>\n",
       "      <th>mean</th>\n",
       "      <td>94813.859575</td>\n",
       "      <td>1.165980e-15</td>\n",
       "      <td>3.416908e-16</td>\n",
       "      <td>-1.373150e-15</td>\n",
       "      <td>2.086869e-15</td>\n",
       "      <td>9.604066e-16</td>\n",
       "      <td>1.490107e-15</td>\n",
       "      <td>-5.556467e-16</td>\n",
       "      <td>1.177556e-16</td>\n",
       "      <td>-2.406455e-15</td>\n",
       "      <td>...</td>\n",
       "      <td>1.656562e-16</td>\n",
       "      <td>-3.444850e-16</td>\n",
       "      <td>2.578648e-16</td>\n",
       "      <td>4.471968e-15</td>\n",
       "      <td>5.340915e-16</td>\n",
       "      <td>1.687098e-15</td>\n",
       "      <td>-3.666453e-16</td>\n",
       "      <td>-1.220404e-16</td>\n",
       "      <td>88.349619</td>\n",
       "      <td>0.001727</td>\n",
       "    </tr>\n",
       "    <tr>\n",
       "      <th>std</th>\n",
       "      <td>47488.145955</td>\n",
       "      <td>1.958696e+00</td>\n",
       "      <td>1.651309e+00</td>\n",
       "      <td>1.516255e+00</td>\n",
       "      <td>1.415869e+00</td>\n",
       "      <td>1.380247e+00</td>\n",
       "      <td>1.332271e+00</td>\n",
       "      <td>1.237094e+00</td>\n",
       "      <td>1.194353e+00</td>\n",
       "      <td>1.098632e+00</td>\n",
       "      <td>...</td>\n",
       "      <td>7.345240e-01</td>\n",
       "      <td>7.257016e-01</td>\n",
       "      <td>6.244603e-01</td>\n",
       "      <td>6.056471e-01</td>\n",
       "      <td>5.212781e-01</td>\n",
       "      <td>4.822270e-01</td>\n",
       "      <td>4.036325e-01</td>\n",
       "      <td>3.300833e-01</td>\n",
       "      <td>250.120109</td>\n",
       "      <td>0.041527</td>\n",
       "    </tr>\n",
       "    <tr>\n",
       "      <th>min</th>\n",
       "      <td>0.000000</td>\n",
       "      <td>-5.640751e+01</td>\n",
       "      <td>-7.271573e+01</td>\n",
       "      <td>-4.832559e+01</td>\n",
       "      <td>-5.683171e+00</td>\n",
       "      <td>-1.137433e+02</td>\n",
       "      <td>-2.616051e+01</td>\n",
       "      <td>-4.355724e+01</td>\n",
       "      <td>-7.321672e+01</td>\n",
       "      <td>-1.343407e+01</td>\n",
       "      <td>...</td>\n",
       "      <td>-3.483038e+01</td>\n",
       "      <td>-1.093314e+01</td>\n",
       "      <td>-4.480774e+01</td>\n",
       "      <td>-2.836627e+00</td>\n",
       "      <td>-1.029540e+01</td>\n",
       "      <td>-2.604551e+00</td>\n",
       "      <td>-2.256568e+01</td>\n",
       "      <td>-1.543008e+01</td>\n",
       "      <td>0.000000</td>\n",
       "      <td>0.000000</td>\n",
       "    </tr>\n",
       "    <tr>\n",
       "      <th>25%</th>\n",
       "      <td>54201.500000</td>\n",
       "      <td>-9.203734e-01</td>\n",
       "      <td>-5.985499e-01</td>\n",
       "      <td>-8.903648e-01</td>\n",
       "      <td>-8.486401e-01</td>\n",
       "      <td>-6.915971e-01</td>\n",
       "      <td>-7.682956e-01</td>\n",
       "      <td>-5.540759e-01</td>\n",
       "      <td>-2.086297e-01</td>\n",
       "      <td>-6.430976e-01</td>\n",
       "      <td>...</td>\n",
       "      <td>-2.283949e-01</td>\n",
       "      <td>-5.423504e-01</td>\n",
       "      <td>-1.618463e-01</td>\n",
       "      <td>-3.545861e-01</td>\n",
       "      <td>-3.171451e-01</td>\n",
       "      <td>-3.269839e-01</td>\n",
       "      <td>-7.083953e-02</td>\n",
       "      <td>-5.295979e-02</td>\n",
       "      <td>5.600000</td>\n",
       "      <td>0.000000</td>\n",
       "    </tr>\n",
       "    <tr>\n",
       "      <th>50%</th>\n",
       "      <td>84692.000000</td>\n",
       "      <td>1.810880e-02</td>\n",
       "      <td>6.548556e-02</td>\n",
       "      <td>1.798463e-01</td>\n",
       "      <td>-1.984653e-02</td>\n",
       "      <td>-5.433583e-02</td>\n",
       "      <td>-2.741871e-01</td>\n",
       "      <td>4.010308e-02</td>\n",
       "      <td>2.235804e-02</td>\n",
       "      <td>-5.142873e-02</td>\n",
       "      <td>...</td>\n",
       "      <td>-2.945017e-02</td>\n",
       "      <td>6.781943e-03</td>\n",
       "      <td>-1.119293e-02</td>\n",
       "      <td>4.097606e-02</td>\n",
       "      <td>1.659350e-02</td>\n",
       "      <td>-5.213911e-02</td>\n",
       "      <td>1.342146e-03</td>\n",
       "      <td>1.124383e-02</td>\n",
       "      <td>22.000000</td>\n",
       "      <td>0.000000</td>\n",
       "    </tr>\n",
       "    <tr>\n",
       "      <th>75%</th>\n",
       "      <td>139320.500000</td>\n",
       "      <td>1.315642e+00</td>\n",
       "      <td>8.037239e-01</td>\n",
       "      <td>1.027196e+00</td>\n",
       "      <td>7.433413e-01</td>\n",
       "      <td>6.119264e-01</td>\n",
       "      <td>3.985649e-01</td>\n",
       "      <td>5.704361e-01</td>\n",
       "      <td>3.273459e-01</td>\n",
       "      <td>5.971390e-01</td>\n",
       "      <td>...</td>\n",
       "      <td>1.863772e-01</td>\n",
       "      <td>5.285536e-01</td>\n",
       "      <td>1.476421e-01</td>\n",
       "      <td>4.395266e-01</td>\n",
       "      <td>3.507156e-01</td>\n",
       "      <td>2.409522e-01</td>\n",
       "      <td>9.104512e-02</td>\n",
       "      <td>7.827995e-02</td>\n",
       "      <td>77.165000</td>\n",
       "      <td>0.000000</td>\n",
       "    </tr>\n",
       "    <tr>\n",
       "      <th>max</th>\n",
       "      <td>172792.000000</td>\n",
       "      <td>2.454930e+00</td>\n",
       "      <td>2.205773e+01</td>\n",
       "      <td>9.382558e+00</td>\n",
       "      <td>1.687534e+01</td>\n",
       "      <td>3.480167e+01</td>\n",
       "      <td>7.330163e+01</td>\n",
       "      <td>1.205895e+02</td>\n",
       "      <td>2.000721e+01</td>\n",
       "      <td>1.559499e+01</td>\n",
       "      <td>...</td>\n",
       "      <td>2.720284e+01</td>\n",
       "      <td>1.050309e+01</td>\n",
       "      <td>2.252841e+01</td>\n",
       "      <td>4.584549e+00</td>\n",
       "      <td>7.519589e+00</td>\n",
       "      <td>3.517346e+00</td>\n",
       "      <td>3.161220e+01</td>\n",
       "      <td>3.384781e+01</td>\n",
       "      <td>25691.160000</td>\n",
       "      <td>1.000000</td>\n",
       "    </tr>\n",
       "  </tbody>\n",
       "</table>\n",
       "<p>8 rows × 31 columns</p>\n",
       "</div>"
      ],
      "text/plain": [
       "                Time            V1            V2            V3            V4  \\\n",
       "count  284807.000000  2.848070e+05  2.848070e+05  2.848070e+05  2.848070e+05   \n",
       "mean    94813.859575  1.165980e-15  3.416908e-16 -1.373150e-15  2.086869e-15   \n",
       "std     47488.145955  1.958696e+00  1.651309e+00  1.516255e+00  1.415869e+00   \n",
       "min         0.000000 -5.640751e+01 -7.271573e+01 -4.832559e+01 -5.683171e+00   \n",
       "25%     54201.500000 -9.203734e-01 -5.985499e-01 -8.903648e-01 -8.486401e-01   \n",
       "50%     84692.000000  1.810880e-02  6.548556e-02  1.798463e-01 -1.984653e-02   \n",
       "75%    139320.500000  1.315642e+00  8.037239e-01  1.027196e+00  7.433413e-01   \n",
       "max    172792.000000  2.454930e+00  2.205773e+01  9.382558e+00  1.687534e+01   \n",
       "\n",
       "                 V5            V6            V7            V8            V9  \\\n",
       "count  2.848070e+05  2.848070e+05  2.848070e+05  2.848070e+05  2.848070e+05   \n",
       "mean   9.604066e-16  1.490107e-15 -5.556467e-16  1.177556e-16 -2.406455e-15   \n",
       "std    1.380247e+00  1.332271e+00  1.237094e+00  1.194353e+00  1.098632e+00   \n",
       "min   -1.137433e+02 -2.616051e+01 -4.355724e+01 -7.321672e+01 -1.343407e+01   \n",
       "25%   -6.915971e-01 -7.682956e-01 -5.540759e-01 -2.086297e-01 -6.430976e-01   \n",
       "50%   -5.433583e-02 -2.741871e-01  4.010308e-02  2.235804e-02 -5.142873e-02   \n",
       "75%    6.119264e-01  3.985649e-01  5.704361e-01  3.273459e-01  5.971390e-01   \n",
       "max    3.480167e+01  7.330163e+01  1.205895e+02  2.000721e+01  1.559499e+01   \n",
       "\n",
       "           ...                 V21           V22           V23           V24  \\\n",
       "count      ...        2.848070e+05  2.848070e+05  2.848070e+05  2.848070e+05   \n",
       "mean       ...        1.656562e-16 -3.444850e-16  2.578648e-16  4.471968e-15   \n",
       "std        ...        7.345240e-01  7.257016e-01  6.244603e-01  6.056471e-01   \n",
       "min        ...       -3.483038e+01 -1.093314e+01 -4.480774e+01 -2.836627e+00   \n",
       "25%        ...       -2.283949e-01 -5.423504e-01 -1.618463e-01 -3.545861e-01   \n",
       "50%        ...       -2.945017e-02  6.781943e-03 -1.119293e-02  4.097606e-02   \n",
       "75%        ...        1.863772e-01  5.285536e-01  1.476421e-01  4.395266e-01   \n",
       "max        ...        2.720284e+01  1.050309e+01  2.252841e+01  4.584549e+00   \n",
       "\n",
       "                V25           V26           V27           V28         Amount  \\\n",
       "count  2.848070e+05  2.848070e+05  2.848070e+05  2.848070e+05  284807.000000   \n",
       "mean   5.340915e-16  1.687098e-15 -3.666453e-16 -1.220404e-16      88.349619   \n",
       "std    5.212781e-01  4.822270e-01  4.036325e-01  3.300833e-01     250.120109   \n",
       "min   -1.029540e+01 -2.604551e+00 -2.256568e+01 -1.543008e+01       0.000000   \n",
       "25%   -3.171451e-01 -3.269839e-01 -7.083953e-02 -5.295979e-02       5.600000   \n",
       "50%    1.659350e-02 -5.213911e-02  1.342146e-03  1.124383e-02      22.000000   \n",
       "75%    3.507156e-01  2.409522e-01  9.104512e-02  7.827995e-02      77.165000   \n",
       "max    7.519589e+00  3.517346e+00  3.161220e+01  3.384781e+01   25691.160000   \n",
       "\n",
       "               Class  \n",
       "count  284807.000000  \n",
       "mean        0.001727  \n",
       "std         0.041527  \n",
       "min         0.000000  \n",
       "25%         0.000000  \n",
       "50%         0.000000  \n",
       "75%         0.000000  \n",
       "max         1.000000  \n",
       "\n",
       "[8 rows x 31 columns]"
      ]
     },
     "execution_count": 3,
     "metadata": {},
     "output_type": "execute_result"
    }
   ],
   "source": [
    "df.describe()"
   ]
  },
  {
   "cell_type": "code",
   "execution_count": 4,
   "metadata": {},
   "outputs": [],
   "source": [
    "# Run the notebook with a memory usage reduction function so I can call it\n",
    "%run MemoryShrink.ipynb"
   ]
  },
  {
   "cell_type": "code",
   "execution_count": 5,
   "metadata": {},
   "outputs": [
    {
     "name": "stdout",
     "output_type": "stream",
     "text": [
      "Memory usage of properties dataframe is : 67.3601303100586  MB\n",
      "******************************\n",
      "Column:  Time\n",
      "dtype before:  float64\n",
      "dtype after:  uint32\n",
      "******************************\n",
      "******************************\n",
      "Column:  V1\n",
      "dtype before:  float64\n",
      "dtype after:  float32\n",
      "******************************\n",
      "******************************\n",
      "Column:  V2\n",
      "dtype before:  float64\n",
      "dtype after:  float32\n",
      "******************************\n",
      "******************************\n",
      "Column:  V3\n",
      "dtype before:  float64\n",
      "dtype after:  float32\n",
      "******************************\n",
      "******************************\n",
      "Column:  V4\n",
      "dtype before:  float64\n",
      "dtype after:  float32\n",
      "******************************\n",
      "******************************\n",
      "Column:  V5\n",
      "dtype before:  float64\n",
      "dtype after:  float32\n",
      "******************************\n",
      "******************************\n",
      "Column:  V6\n",
      "dtype before:  float64\n",
      "dtype after:  float32\n",
      "******************************\n",
      "******************************\n",
      "Column:  V7\n",
      "dtype before:  float64\n",
      "dtype after:  float32\n",
      "******************************\n",
      "******************************\n",
      "Column:  V8\n",
      "dtype before:  float64\n",
      "dtype after:  float32\n",
      "******************************\n",
      "******************************\n",
      "Column:  V9\n",
      "dtype before:  float64\n",
      "dtype after:  float32\n",
      "******************************\n",
      "******************************\n",
      "Column:  V10\n",
      "dtype before:  float64\n",
      "dtype after:  float32\n",
      "******************************\n",
      "******************************\n",
      "Column:  V11\n",
      "dtype before:  float64\n",
      "dtype after:  float32\n",
      "******************************\n",
      "******************************\n",
      "Column:  V12\n",
      "dtype before:  float64\n",
      "dtype after:  float32\n",
      "******************************\n",
      "******************************\n",
      "Column:  V13\n",
      "dtype before:  float64\n",
      "dtype after:  float32\n",
      "******************************\n",
      "******************************\n",
      "Column:  V14\n",
      "dtype before:  float64\n",
      "dtype after:  float32\n",
      "******************************\n",
      "******************************\n",
      "Column:  V15\n",
      "dtype before:  float64\n",
      "dtype after:  float32\n",
      "******************************\n",
      "******************************\n",
      "Column:  V16\n",
      "dtype before:  float64\n",
      "dtype after:  float32\n",
      "******************************\n",
      "******************************\n",
      "Column:  V17\n",
      "dtype before:  float64\n",
      "dtype after:  float32\n",
      "******************************\n",
      "******************************\n",
      "Column:  V18\n",
      "dtype before:  float64\n",
      "dtype after:  float32\n",
      "******************************\n",
      "******************************\n",
      "Column:  V19\n",
      "dtype before:  float64\n",
      "dtype after:  float32\n",
      "******************************\n",
      "******************************\n",
      "Column:  V20\n",
      "dtype before:  float64\n",
      "dtype after:  float32\n",
      "******************************\n",
      "******************************\n",
      "Column:  V21\n",
      "dtype before:  float64\n",
      "dtype after:  float32\n",
      "******************************\n",
      "******************************\n",
      "Column:  V22\n",
      "dtype before:  float64\n",
      "dtype after:  float32\n",
      "******************************\n",
      "******************************\n",
      "Column:  V23\n",
      "dtype before:  float64\n",
      "dtype after:  float32\n",
      "******************************\n",
      "******************************\n",
      "Column:  V24\n",
      "dtype before:  float64\n",
      "dtype after:  float32\n",
      "******************************\n",
      "******************************\n",
      "Column:  V25\n",
      "dtype before:  float64\n",
      "dtype after:  float32\n",
      "******************************\n",
      "******************************\n",
      "Column:  V26\n",
      "dtype before:  float64\n",
      "dtype after:  float32\n",
      "******************************\n",
      "******************************\n",
      "Column:  V27\n",
      "dtype before:  float64\n",
      "dtype after:  float32\n",
      "******************************\n",
      "******************************\n",
      "Column:  V28\n",
      "dtype before:  float64\n",
      "dtype after:  float32\n",
      "******************************\n",
      "******************************\n",
      "Column:  Amount\n",
      "dtype before:  float64\n",
      "dtype after:  float32\n",
      "******************************\n",
      "******************************\n",
      "Column:  Class\n",
      "dtype before:  int64\n",
      "dtype after:  uint8\n",
      "******************************\n",
      "___MEMORY USAGE AFTER COMPLETION:___\n",
      "Memory usage is:  32.86526393890381  MB\n",
      "This is  48.79038058214116 % of the initial size\n"
     ]
    }
   ],
   "source": [
    "# Although it is a small dataset, I like to shrink down the datatypes\n",
    "# Makes for faster calculations\n",
    "\n",
    "df1 = reduce_mem_usage(df)"
   ]
  },
  {
   "cell_type": "code",
   "execution_count": 6,
   "metadata": {},
   "outputs": [],
   "source": [
    "# Set the dataframe to be the smaller memory usage \n",
    "del df\n",
    "df = df1[0]\n",
    "\n",
    "# Normalize the amount !!!!!!!!!!DIDNT HELP!!!!!!!!!!!!!!\n",
    "# df[\"Amount\"]=(df[\"Amount\"]-df[\"Amount\"].mean())/df[\"Amount\"].std()\n",
    "\n",
    "# Save to pickle file to preserce datatypes\n",
    "df.to_pickle('../../Data/creditcard.pkl')\n"
   ]
  },
  {
   "cell_type": "code",
   "execution_count": 7,
   "metadata": {},
   "outputs": [],
   "source": [
    "##\n",
    "# Can start here in the future\n",
    "##\n",
    "df = pd.read_pickle('../../Data/creditcard.pkl')"
   ]
  },
  {
   "cell_type": "code",
   "execution_count": null,
   "metadata": {},
   "outputs": [],
   "source": []
  },
  {
   "cell_type": "code",
   "execution_count": 8,
   "metadata": {},
   "outputs": [],
   "source": [
    "# Import plot packages!\n",
    "import matplotlib.pyplot as plt\n",
    "import seaborn as sns\n",
    "import scipy.stats as stats\n",
    "\n",
    "plt.rcParams['figure.figsize'] = (40.0, 20.0)\n",
    "font = {'family' : 'DejaVu Sans',\n",
    "        'weight' : 'bold',\n",
    "        'size'   : 22}\n",
    "\n",
    "plt.rc('font', **font)"
   ]
  },
  {
   "cell_type": "code",
   "execution_count": 9,
   "metadata": {},
   "outputs": [
    {
     "data": {
      "text/plain": [
       "0    284315\n",
       "1       492\n",
       "Name: Class, dtype: int64"
      ]
     },
     "execution_count": 9,
     "metadata": {},
     "output_type": "execute_result"
    },
    {
     "data": {
      "image/png": "[encoded data removed]",
      "text/plain": [
       "<Figure size 432x288 with 1 Axes>"
      ]
     },
     "metadata": {},
     "output_type": "display_data"
    }
   ],
   "source": [
    "\n",
    "#Look at how many fraud cases we have!\n",
    "\n",
    "sns.set(style=\"darkgrid\")\n",
    "plt.title('Nonfraud vs Fraud')\n",
    "ax = sns.countplot(x=\"Class\", data=df, palette='Set2')\n",
    "\n",
    "df.Class.value_counts()"
   ]
  },
  {
   "cell_type": "markdown",
   "metadata": {},
   "source": [
    "As you can see, there is a large imbalance"
   ]
  },
  {
   "cell_type": "code",
   "execution_count": 10,
   "metadata": {},
   "outputs": [
    {
     "name": "stdout",
     "output_type": "stream",
     "text": [
      "Fraud Percentage: 0.1727%\n"
     ]
    }
   ],
   "source": [
    "#Percentage of Fraud cases in Data\n",
    "\n",
    "FraudPercentage = (len(df[df['Class']==1]) /len(df)) * 100\n",
    "\n",
    "print(\"Fraud Percentage: %.4f%%\" % (FraudPercentage))"
   ]
  },
  {
   "cell_type": "markdown",
   "metadata": {},
   "source": [
    "## Undersampling"
   ]
  },
  {
   "cell_type": "code",
   "execution_count": 11,
   "metadata": {},
   "outputs": [],
   "source": [
    "#Get number of fraud cases and their indices\n",
    "num_fraud = len(df[df.Class == 1])\n",
    "fraud_index = np.array(df[df.Class==1].index)\n",
    "\n",
    "#Get all normal indices\n",
    "normal_index = df[df.Class==0].index\n",
    "\n",
    "#Select number of normal indices that are equal to number of fraud cases\n",
    "rand_norm_ind = np.random.choice(normal_index, int(num_fraud*1.1), replace = False)\n",
    "rand_norm_ind = np.array(rand_norm_ind)\n",
    "\n",
    "#Create equal dataframe\n",
    "equal_ind = np.concatenate([fraud_index,rand_norm_ind])\n",
    "un_df = df.iloc[equal_ind, :]\n",
    "\n",
    "# Take some data for dedicated test set at the end\n",
    "dedtest_index = un_df.index\n",
    "ded_test = np.random.choice(dedtest_index, 170, replace = False)\n",
    "ded_test = np.array(ded_test)\n",
    "test_df = df.iloc[ded_test, :]"
   ]
  },
  {
   "cell_type": "code",
   "execution_count": 12,
   "metadata": {},
   "outputs": [],
   "source": [
    "# Drop the dedicated test data from equal dataframe\n",
    "un_df = un_df.drop(index=test_df.index)"
   ]
  },
  {
   "cell_type": "code",
   "execution_count": 13,
   "metadata": {},
   "outputs": [],
   "source": [
    "# Save dedicated test for the very end\n",
    "test_df.to_pickle('../../Data/UndersampleTest.pkl')"
   ]
  },
  {
   "cell_type": "code",
   "execution_count": null,
   "metadata": {},
   "outputs": [],
   "source": []
  },
  {
   "cell_type": "code",
   "execution_count": null,
   "metadata": {},
   "outputs": [],
   "source": []
  },
  {
   "cell_type": "code",
   "execution_count": 14,
   "metadata": {
    "scrolled": false
   },
   "outputs": [
    {
     "data": {
      "text/plain": [
       "0    451\n",
       "1    412\n",
       "Name: Class, dtype: int64"
      ]
     },
     "execution_count": 14,
     "metadata": {},
     "output_type": "execute_result"
    },
    {
     "data": {
      "image/png": "[encoded data removed]",
      "text/plain": [
       "<Figure size 432x288 with 1 Axes>"
      ]
     },
     "metadata": {},
     "output_type": "display_data"
    }
   ],
   "source": [
    "# Look at the undersampled datat\n",
    "sns.set(style=\"darkgrid\")\n",
    "plt.title('Nonfraud vs Fraud (Undersampled Data)')\n",
    "ax = sns.countplot(x=\"Class\", data=un_df, palette='Blues')\n",
    "\n",
    "un_df.Class.value_counts()"
   ]
  },
  {
   "cell_type": "markdown",
   "metadata": {},
   "source": [
    "This is the data undersampled, with same amount of non frauds as frauds"
   ]
  },
  {
   "cell_type": "code",
   "execution_count": 15,
   "metadata": {},
   "outputs": [],
   "source": [
    "# Remove Deprecation Warnings because they lokk\n",
    "\n",
    "import warnings\n",
    "warnings.filterwarnings(\"ignore\", category=DeprecationWarning)"
   ]
  },
  {
   "cell_type": "code",
   "execution_count": 16,
   "metadata": {},
   "outputs": [],
   "source": [
    "from sklearn.model_selection import train_test_split\n",
    "\n",
    "# Create a test set\n",
    "X, y = un_df.drop('Class',1), un_df['Class']\n",
    "X_train, X_test, y_train, y_test = train_test_split(X, y, test_size=0.2, random_state=23)\n",
    "\n",
    "\n",
    "import xgboost as xgb\n",
    "\n",
    "# Check it on an XGBClassifier\n",
    "xg_cls = xgb.XGBClassifier(tree_method='gpu_exact')\n",
    "xg_cls.fit(X_train,y_train)\n",
    "\n",
    "preds = xg_cls.predict(X_test)\n",
    "\n",
    "train_preds = xg_cls.predict(X_train)"
   ]
  },
  {
   "cell_type": "code",
   "execution_count": null,
   "metadata": {},
   "outputs": [],
   "source": []
  },
  {
   "cell_type": "code",
   "execution_count": 17,
   "metadata": {},
   "outputs": [
    {
     "name": "stdout",
     "output_type": "stream",
     "text": [
      "***********************************\n",
      "********** Under Sampled ***********\n",
      "***********************************\n",
      "\n",
      "Training set accuracy:\n",
      "Percent Type I errors:  0.00000000\n",
      "Percent Type II errors: 0.00000000\n",
      "Score: 1.00000000\n",
      "\n",
      "Test set accuracy:\n",
      "Percent Type I errors: 0.02890173\n",
      "Percent Type II errors: 0.02890173\n",
      "Score: 0.94219653\n",
      "\n",
      "***********************************\n",
      "* Type I errors are normal purchases that have been flagged.\n",
      "* Type II errors are frauds that are not caught!\n",
      "\n"
     ]
    }
   ],
   "source": [
    "# Accuracy tables on the training and test set\n",
    "\n",
    "table_train = pd.crosstab(y_train, train_preds, margins=True)\n",
    "table_test = pd.crosstab(y_test, preds, margins=True)\n",
    "test_score = xg_cls.score(X_test, y_test) \n",
    "train_score = xg_cls.score(X_train, y_train) \n",
    "\n",
    "train_tI_errors = table_train.loc[0.0,1.0] / table_train.loc['All','All']\n",
    "train_tII_errors = table_train.loc[1.0,0.0] / table_train.loc['All','All']\n",
    "\n",
    "test_tI_errors = table_test.loc[0.0,1.0]/table_test.loc['All','All']\n",
    "test_tII_errors = table_test.loc[1.0,0.0]/table_test.loc['All','All']\n",
    "\n",
    "print((\n",
    "    '***********************************\\n'\n",
    "    '********** Under Sampled ***********\\n'\n",
    "    '***********************************\\n\\n'    \n",
    "    'Training set accuracy:\\n'\n",
    "    'Percent Type I errors:  {:.8f}\\n'\n",
    "    'Percent Type II errors: {:.8f}\\n'\n",
    "    'Score: {:.8f}\\n\\n'\n",
    "    \n",
    "    'Test set accuracy:\\n'\n",
    "    'Percent Type I errors: {:.8f}\\n'\n",
    "    'Percent Type II errors: {:.8f}\\n'\n",
    "    'Score: {:.8f}\\n\\n'\n",
    "    '***********************************\\n'\n",
    "    '* Type I errors are normal purchases that have been flagged.\\n'\n",
    "    '* Type II errors are frauds that are not caught!\\n'\n",
    ").format(train_tI_errors, train_tII_errors, train_score, test_tI_errors, test_tII_errors, test_score))"
   ]
  },
  {
   "cell_type": "code",
   "execution_count": null,
   "metadata": {},
   "outputs": [],
   "source": []
  },
  {
   "cell_type": "code",
   "execution_count": null,
   "metadata": {},
   "outputs": [],
   "source": []
  },
  {
   "cell_type": "code",
   "execution_count": 27,
   "metadata": {},
   "outputs": [],
   "source": [
    "un_df.to_pickle('../../Data/creditcardUNDER.pkl')"
   ]
  },
  {
   "cell_type": "markdown",
   "metadata": {},
   "source": [
    "## Correlation Matrix / Feature Selection"
   ]
  },
  {
   "cell_type": "code",
   "execution_count": 28,
   "metadata": {
    "scrolled": false
   },
   "outputs": [
    {
     "data": {
      "image/png": "[encoded data removed]",
      "text/plain": [
       "<Figure size 1080x864 with 2 Axes>"
      ]
     },
     "metadata": {},
     "output_type": "display_data"
    }
   ],
   "source": [
    "un_df = pd.read_pickle('../../Data/creditcardUNDER.pkl')\n",
    "# Make the correlation matrix.\n",
    "corrmat = un_df.corr()\n",
    "\n",
    "f, ax = plt.subplots(figsize=(15, 12))\n",
    "\n",
    "# Draw the heatmap\n",
    "sns.heatmap(corrmat, vmax=.8, square=True, cmap='viridis')\n",
    "plt.show()"
   ]
  },
  {
   "cell_type": "code",
   "execution_count": 29,
   "metadata": {},
   "outputs": [],
   "source": [
    "# Create correlation matrix\n",
    "corr_matrix = un_df.corr().abs()\n",
    "\n",
    "# Select upper triangle of correlation matrix\n",
    "upper = corr_matrix.where(np.triu(np.ones(corr_matrix.shape), k=1).astype(np.bool))\n",
    "\n",
    "# Find index of feature columns with correlation greater than 0.95\n",
    "to_drop = [column for column in upper.columns if any(upper[column] > 0.95)]"
   ]
  },
  {
   "cell_type": "code",
   "execution_count": 30,
   "metadata": {},
   "outputs": [
    {
     "data": {
      "text/plain": [
       "['V17']"
      ]
     },
     "execution_count": 30,
     "metadata": {},
     "output_type": "execute_result"
    }
   ],
   "source": [
    "# Column to drop\n",
    "to_drop"
   ]
  },
  {
   "cell_type": "code",
   "execution_count": 64,
   "metadata": {},
   "outputs": [],
   "source": [
    "# Drop features \n",
    "df1 = un_df.drop(to_drop, axis=1)"
   ]
  },
  {
   "cell_type": "code",
   "execution_count": 65,
   "metadata": {},
   "outputs": [],
   "source": [
    "# Create a test set\n",
    "X, y = df1.drop('Class',1), df1['Class']\n",
    "X_train, X_test, y_train, y_test = train_test_split(X, y, test_size=0.2, random_state=23)\n",
    "\n",
    "\n",
    "# Check it on an XGBClassifier\n",
    "xg_cls = xgb.XGBClassifier(tree_method='gpu_exact')\n",
    "xg_cls.fit(X_train,y_train)\n",
    "\n",
    "preds = xg_cls.predict(X_test)\n",
    "\n",
    "train_preds = xg_cls.predict(X_train)"
   ]
  },
  {
   "cell_type": "code",
   "execution_count": 66,
   "metadata": {},
   "outputs": [
    {
     "name": "stdout",
     "output_type": "stream",
     "text": [
      "***********************************\n",
      "*********** Exclude V17 ***********\n",
      "***********************************\n",
      "\n",
      "Training set accuracy:\n",
      "Percent Type I errors:  0.00000000\n",
      "Percent Type II errors: 0.00144928\n",
      "Score: 0.99855072\n",
      "\n",
      "Test set accuracy:\n",
      "Percent Type I errors: 0.00578035\n",
      "Percent Type II errors: 0.04624277\n",
      "Score: 0.94797688\n",
      "\n",
      "***********************************\n",
      "* Type I errors are normal purchases that have been flagged.\n",
      "* Type II errors are frauds that are not caught!\n",
      "\n"
     ]
    }
   ],
   "source": [
    "# Accuracy tables on the training and test set\n",
    "\n",
    "table_train = pd.crosstab(y_train, train_preds, margins=True)\n",
    "table_test = pd.crosstab(y_test, preds, margins=True)\n",
    "test_score = xg_cls.score(X_test, y_test) \n",
    "train_score = xg_cls.score(X_train, y_train) \n",
    "\n",
    "train_tI_errors = table_train.loc[0.0,1.0] / table_train.loc['All','All']\n",
    "train_tII_errors = table_train.loc[1.0,0.0] / table_train.loc['All','All']\n",
    "\n",
    "test_tI_errors = table_test.loc[0.0,1.0]/table_test.loc['All','All']\n",
    "test_tII_errors = table_test.loc[1.0,0.0]/table_test.loc['All','All']\n",
    "\n",
    "print((\n",
    "    '***********************************\\n'\n",
    "    '*********** Exclude V17 ***********\\n'\n",
    "    '***********************************\\n\\n'    \n",
    "    'Training set accuracy:\\n'\n",
    "    'Percent Type I errors:  {:.8f}\\n'\n",
    "    'Percent Type II errors: {:.8f}\\n'\n",
    "    'Score: {:.8f}\\n\\n'\n",
    "    \n",
    "    'Test set accuracy:\\n'\n",
    "    'Percent Type I errors: {:.8f}\\n'\n",
    "    'Percent Type II errors: {:.8f}\\n'\n",
    "    'Score: {:.8f}\\n\\n'\n",
    "    '***********************************\\n'\n",
    "    '* Type I errors are normal purchases that have been flagged.\\n'\n",
    "    '* Type II errors are frauds that are not caught!\\n'\n",
    ").format(train_tI_errors, train_tII_errors, train_score, test_tI_errors, test_tII_errors, test_score))"
   ]
  },
  {
   "cell_type": "markdown",
   "metadata": {},
   "source": [
    "# Features Selection"
   ]
  },
  {
   "cell_type": "code",
   "execution_count": 67,
   "metadata": {},
   "outputs": [],
   "source": [
    "# Import plot packages!\n",
    "import matplotlib.pyplot as plt\n",
    "import seaborn as sns\n",
    "import scipy.stats as stats\n",
    "\n",
    "plt.rcParams['figure.figsize'] = (40.0, 20.0)\n",
    "font = {'family' : 'DejaVu Sans',\n",
    "        'weight' : 'bold',\n",
    "        'size'   : 22}\n",
    "\n",
    "plt.rc('font', **font)"
   ]
  },
  {
   "cell_type": "code",
   "execution_count": 73,
   "metadata": {},
   "outputs": [
    {
     "data": {
      "image/png": "[encoded data removed]",
      "text/plain": [
       "<Figure size 720x720 with 1 Axes>"
      ]
     },
     "metadata": {},
     "output_type": "display_data"
    }
   ],
   "source": [
    "# Look at feature importance\n",
    "xgb.plot_importance(xg_cls)\n",
    "plt.rcParams['figure.figsize'] = [10, 10]\n",
    "plt.show()"
   ]
  },
  {
   "cell_type": "code",
   "execution_count": 36,
   "metadata": {},
   "outputs": [],
   "source": [
    "# Create a test set\n",
    "X, y = df1.drop('Class',1), df1['Class']\n",
    "X_train, X_test, y_train, y_test = train_test_split(X, y, test_size=0.2, random_state=23)\n"
   ]
  },
  {
   "cell_type": "code",
   "execution_count": 37,
   "metadata": {},
   "outputs": [
    {
     "name": "stdout",
     "output_type": "stream",
     "text": [
      "Thresh=0.106, n=1, Type I=0.13294798, Type II=0.21965318, Accuracy: 64.7399%\n",
      "Thresh=0.088, n=2, Type I=0.03468208, Type II=0.06358382, Accuracy: 90.1734%\n",
      "Thresh=0.077, n=3, Type I=0.01156069, Type II=0.04046243, Accuracy: 94.7977%\n",
      "Thresh=0.074, n=4, Type I=0.00578035, Type II=0.04046243, Accuracy: 95.3757%\n",
      "Thresh=0.058, n=5, Type I=0.00578035, Type II=0.04046243, Accuracy: 95.3757%\n",
      "Thresh=0.054, n=6, Type I=0.00578035, Type II=0.04046243, Accuracy: 95.3757%\n",
      "Thresh=0.048, n=7, Type I=0.00578035, Type II=0.04624277, Accuracy: 94.7977%\n",
      "Thresh=0.046, n=8, Type I=0.00578035, Type II=0.04046243, Accuracy: 95.3757%\n",
      "Thresh=0.041, n=9, Type I=0.00578035, Type II=0.04046243, Accuracy: 95.3757%\n",
      "Thresh=0.035, n=10, Type I=0.00578035, Type II=0.04046243, Accuracy: 95.3757%\n",
      "Thresh=0.033, n=11, Type I=0.00578035, Type II=0.04624277, Accuracy: 94.7977%\n",
      "Thresh=0.029, n=13, Type I=0.00578035, Type II=0.04046243, Accuracy: 95.3757%\n",
      "Thresh=0.029, n=13, Type I=0.00578035, Type II=0.04046243, Accuracy: 95.3757%\n",
      "Thresh=0.028, n=14, Type I=0.00578035, Type II=0.04624277, Accuracy: 94.7977%\n",
      "Thresh=0.025, n=16, Type I=0.00578035, Type II=0.04624277, Accuracy: 94.7977%\n",
      "Thresh=0.025, n=16, Type I=0.00578035, Type II=0.04624277, Accuracy: 94.7977%\n",
      "Thresh=0.022, n=17, Type I=0.00578035, Type II=0.04624277, Accuracy: 94.7977%\n",
      "Thresh=0.020, n=21, Type I=0.00578035, Type II=0.04624277, Accuracy: 94.7977%\n",
      "Thresh=0.020, n=21, Type I=0.00578035, Type II=0.04624277, Accuracy: 94.7977%\n",
      "Thresh=0.020, n=21, Type I=0.00578035, Type II=0.04624277, Accuracy: 94.7977%\n",
      "Thresh=0.020, n=21, Type I=0.00578035, Type II=0.04624277, Accuracy: 94.7977%\n",
      "Thresh=0.019, n=22, Type I=0.00578035, Type II=0.04624277, Accuracy: 94.7977%\n",
      "Thresh=0.017, n=24, Type I=0.00578035, Type II=0.04624277, Accuracy: 94.7977%\n",
      "Thresh=0.017, n=24, Type I=0.00578035, Type II=0.04624277, Accuracy: 94.7977%\n",
      "Thresh=0.016, n=25, Type I=0.00578035, Type II=0.04046243, Accuracy: 95.3757%\n",
      "Thresh=0.013, n=26, Type I=0.00578035, Type II=0.04624277, Accuracy: 94.7977%\n",
      "Thresh=0.007, n=28, Type I=0.00578035, Type II=0.04624277, Accuracy: 94.7977%\n",
      "Thresh=0.007, n=28, Type I=0.00578035, Type II=0.04624277, Accuracy: 94.7977%\n",
      "Thresh=0.006, n=29, Type I=0.00578035, Type II=0.04624277, Accuracy: 94.7977%\n"
     ]
    }
   ],
   "source": [
    "from sklearn import feature_selection\n",
    "from sklearn.metrics import accuracy_score\n",
    "\n",
    "listo = []\n",
    "\n",
    "# Run the model with a different amount of features\n",
    "# Start by the ones with most importance\n",
    "thresholds = np.sort(xg_cls.feature_importances_)[::-1]\n",
    "for thresh in thresholds:\n",
    "    # select features using threshold\n",
    "    selection = feature_selection.SelectFromModel(xg_cls, threshold=thresh, prefit=True)\n",
    "    select_X_train = selection.transform(X_train)\n",
    "    \n",
    "    # train model\n",
    "    selection_model = xgb.XGBClassifier(tree_method='gpu_exact')\n",
    "    selection_model.fit(select_X_train, y_train)\n",
    "    \n",
    "    # eval model\n",
    "    select_X_test = selection.transform(X_test)\n",
    "    preds = selection_model.predict(select_X_test)\n",
    "    test_score = xg_cls.score(X_test, y_test)\n",
    "    \n",
    "    table_test = pd.crosstab(y_test, preds, margins=True)\n",
    "    test_tI_errors = table_test.loc[0.0,1.0]/table_test.loc['All','All']\n",
    "    test_tII_errors = table_test.loc[1.0,0.0]/table_test.loc['All','All']\n",
    " \n",
    "    accuracy = accuracy_score(y_test, preds)\n",
    "    # Save to list so we can graph it\n",
    "    listo.append([thresh, select_X_train.shape[1], test_tI_errors, test_tII_errors, accuracy*100.0, test_score])\n",
    "    \n",
    "    print(\"Thresh=%.3f, n=%d, Type I=%.8f, Type II=%.8f, Accuracy: %.4f%%\" % (thresh, select_X_train.shape[1], test_tI_errors, test_tII_errors, accuracy*100.0))"
   ]
  },
  {
   "cell_type": "code",
   "execution_count": 38,
   "metadata": {},
   "outputs": [],
   "source": [
    "dffeat = pd.DataFrame(listo, columns=['Thresh', 'N_Features', 'Type_I', 'Type_II', 'Accuracy', 'Score'])"
   ]
  },
  {
   "cell_type": "code",
   "execution_count": 39,
   "metadata": {},
   "outputs": [],
   "source": [
    "low_point = dffeat[dffeat['Type_II']==dffeat.Type_II.min()]"
   ]
  },
  {
   "cell_type": "code",
   "execution_count": 40,
   "metadata": {},
   "outputs": [],
   "source": [
    "# Note, sometimes it jumps up by 2 features because they have the same importance\n"
   ]
  },
  {
   "cell_type": "code",
   "execution_count": 41,
   "metadata": {
    "scrolled": false
   },
   "outputs": [
    {
     "data": {
      "image/png": "[encoded data removed]",
      "text/plain": [
       "<Figure size 1080x864 with 1 Axes>"
      ]
     },
     "metadata": {},
     "output_type": "display_data"
    },
    {
     "name": "stdout",
     "output_type": "stream",
     "text": [
      "Low point for Type II \n",
      "\n",
      "    N_Features    Type_I   Type_II   Accuracy     Score\n",
      "2            3  0.011561  0.040462  94.797688  0.947977\n",
      "3            4  0.005780  0.040462  95.375723  0.947977\n",
      "4            5  0.005780  0.040462  95.375723  0.947977\n",
      "5            6  0.005780  0.040462  95.375723  0.947977\n",
      "7            8  0.005780  0.040462  95.375723  0.947977\n",
      "8            9  0.005780  0.040462  95.375723  0.947977\n",
      "9           10  0.005780  0.040462  95.375723  0.947977\n",
      "11          13  0.005780  0.040462  95.375723  0.947977\n",
      "12          13  0.005780  0.040462  95.375723  0.947977\n",
      "24          25  0.005780  0.040462  95.375723  0.947977\n"
     ]
    }
   ],
   "source": [
    "palette = plt.get_cmap('Set1')\n",
    "plt.subplots(figsize=(15, 12))\n",
    "plt.title('Error Rate by Number of Features', fontsize=30)\n",
    "plt.plot( 'N_Features', 'Type_I', data=dffeat, marker='',linewidth=3, color=palette(1))\n",
    "plt.plot( 'N_Features', 'Type_II', data=dffeat, marker='', linewidth=3, color=palette(2))\n",
    "plt.plot( 'N_Features', 'Type_II', data=low_point,MarkerSize=15, marker='p',linewidth=5, color='r')\n",
    "plt.xlabel('Number of Features',fontsize=20, fontweight=0)\n",
    "plt.ylabel('Error Rate',fontsize=20, fontweight=0)\n",
    "plt.legend()\n",
    "plt.show()\n",
    "\n",
    "print('Low point for Type II \\n\\n' + str(low_point.drop('Thresh',1)))"
   ]
  },
  {
   "cell_type": "code",
   "execution_count": null,
   "metadata": {},
   "outputs": [],
   "source": []
  },
  {
   "cell_type": "code",
   "execution_count": 42,
   "metadata": {},
   "outputs": [],
   "source": [
    "# Find the cutoff point\n",
    "if len(low_point.N_Features.values) >= 1:\n",
    "    num = round(len(low_point.N_Features.values)/2)\n",
    "else:\n",
    "    num = 0"
   ]
  },
  {
   "cell_type": "code",
   "execution_count": 43,
   "metadata": {},
   "outputs": [
    {
     "name": "stdout",
     "output_type": "stream",
     "text": [
      "('Time', 0.105797105)\n",
      "('V1', 0.057971016)\n",
      "('V2', 0.020289855)\n",
      "('V3', 0.034782607)\n",
      "('V4', 0.088405795)\n",
      "('V5', 0.02173913)\n",
      "('V6', 0.02463768)\n",
      "('V7', 0.033333335)\n",
      "('V8', 0.047826085)\n",
      "('V9', 0.013043478)\n",
      "('V10', 0.05362319)\n",
      "('V11', 0.046376813)\n",
      "('V12', 0.0768116)\n",
      "('V13', 0.028985508)\n",
      "('V14', 0.073913045)\n",
      "('V15', 0.01594203)\n",
      "('V16', 0.017391304)\n",
      "('V18', 0.02463768)\n",
      "('V19', 0.04057971)\n",
      "('V20', 0.028985508)\n",
      "('V21', 0.020289855)\n",
      "('V22', 0.017391304)\n",
      "('V23', 0.007246377)\n",
      "('V24', 0.020289855)\n",
      "('V25', 0.0057971017)\n",
      "('V26', 0.01884058)\n",
      "('V27', 0.020289855)\n",
      "('V28', 0.007246377)\n",
      "('Amount', 0.027536232)\n"
     ]
    }
   ],
   "source": [
    "# Create a list of feature importance and their names\n",
    "listoff=[]\n",
    "for feature in zip(list(df1), xg_cls.feature_importances_):\n",
    "    listoff.append(feature)\n",
    "    print(feature)"
   ]
  },
  {
   "cell_type": "code",
   "execution_count": null,
   "metadata": {},
   "outputs": [],
   "source": []
  },
  {
   "cell_type": "code",
   "execution_count": 44,
   "metadata": {},
   "outputs": [],
   "source": [
    "# Sort the list and remove all but the top 19 features\n",
    "\n",
    "listoff.sort(key=lambda tup: tup[1])\n",
    "features_drop = []\n",
    "for elem in listoff[:-25]:\n",
    "    features_drop.append(elem[0])\n",
    "    \n",
    "# Append V17 which we dropped earlier\n",
    "features_drop.append('V17')"
   ]
  },
  {
   "cell_type": "code",
   "execution_count": 45,
   "metadata": {},
   "outputs": [
    {
     "data": {
      "text/plain": [
       "['V25', 'V23', 'V28', 'V9', 'V17']"
      ]
     },
     "execution_count": 45,
     "metadata": {},
     "output_type": "execute_result"
    }
   ],
   "source": [
    "features_drop"
   ]
  },
  {
   "cell_type": "code",
   "execution_count": 46,
   "metadata": {},
   "outputs": [],
   "source": [
    "# get up sampled df\n",
    "dfold = pd.read_pickle(('../../Data/creditcardUNDER.pkl'))"
   ]
  },
  {
   "cell_type": "code",
   "execution_count": 47,
   "metadata": {},
   "outputs": [],
   "source": [
    "# drop the features we don't want\n",
    "dfnew = dfold.drop(features_drop,1)"
   ]
  },
  {
   "cell_type": "code",
   "execution_count": 48,
   "metadata": {},
   "outputs": [],
   "source": [
    "# Save it so we have something to use in the future\n",
    "dfnew.to_pickle(('../../Data/creditcardSELECTun.pkl'))"
   ]
  },
  {
   "cell_type": "markdown",
   "metadata": {},
   "source": [
    "# Parameter Tuning"
   ]
  },
  {
   "cell_type": "code",
   "execution_count": 49,
   "metadata": {},
   "outputs": [
    {
     "name": "stdout",
     "output_type": "stream",
     "text": [
      "<class 'pandas.core.frame.DataFrame'>\n",
      "Int64Index: 863 entries, 541 to 73356\n",
      "Data columns (total 26 columns):\n",
      "Time      863 non-null uint32\n",
      "V1        863 non-null float32\n",
      "V2        863 non-null float32\n",
      "V3        863 non-null float32\n",
      "V4        863 non-null float32\n",
      "V5        863 non-null float32\n",
      "V6        863 non-null float32\n",
      "V7        863 non-null float32\n",
      "V8        863 non-null float32\n",
      "V10       863 non-null float32\n",
      "V11       863 non-null float32\n",
      "V12       863 non-null float32\n",
      "V13       863 non-null float32\n",
      "V14       863 non-null float32\n",
      "V15       863 non-null float32\n",
      "V16       863 non-null float32\n",
      "V18       863 non-null float32\n",
      "V19       863 non-null float32\n",
      "V20       863 non-null float32\n",
      "V21       863 non-null float32\n",
      "V22       863 non-null float32\n",
      "V24       863 non-null float32\n",
      "V26       863 non-null float32\n",
      "V27       863 non-null float32\n",
      "Amount    863 non-null float32\n",
      "Class     863 non-null uint8\n",
      "dtypes: float32(24), uint32(1), uint8(1)\n",
      "memory usage: 91.9 KB\n"
     ]
    }
   ],
   "source": [
    "import pandas as pd\n",
    "import numpy as np\n",
    "\n",
    "# Open up the data with selected features\n",
    "df = pd.read_pickle(('../../Data/creditcardSELECTun.pkl'))\n",
    "df.info()"
   ]
  },
  {
   "cell_type": "code",
   "execution_count": 50,
   "metadata": {},
   "outputs": [],
   "source": [
    "from sklearn.model_selection import train_test_split\n",
    "# Get training data\n",
    "X, y = df.drop('Class',1), df['Class']\n",
    "\n",
    "X_train, X_test, y_train, y_test = train_test_split(X, y, test_size=0.2, random_state=23)"
   ]
  },
  {
   "cell_type": "code",
   "execution_count": 51,
   "metadata": {},
   "outputs": [
    {
     "name": "stdout",
     "output_type": "stream",
     "text": [
      "max_depth=3.000, n_estimators=10, Type I=0.0057803468, Type II=0.0520231214, Accuracy: 94.2197%\n",
      "max_depth=3.000, n_estimators=30, Type I=0.0057803468, Type II=0.0462427746, Accuracy: 94.7977%\n",
      "max_depth=3.000, n_estimators=50, Type I=0.0057803468, Type II=0.0462427746, Accuracy: 94.7977%\n",
      "max_depth=3.000, n_estimators=100, Type I=0.0057803468, Type II=0.0404624277, Accuracy: 95.3757%\n",
      "max_depth=3.000, n_estimators=150, Type I=0.0057803468, Type II=0.0404624277, Accuracy: 95.3757%\n",
      "max_depth=3.000, n_estimators=200, Type I=0.0057803468, Type II=0.0404624277, Accuracy: 95.3757%\n",
      "max_depth=3.000, n_estimators=250, Type I=0.0057803468, Type II=0.0404624277, Accuracy: 95.3757%\n",
      "max_depth=5.000, n_estimators=10, Type I=0.0115606936, Type II=0.0462427746, Accuracy: 94.2197%\n",
      "max_depth=5.000, n_estimators=30, Type I=0.0057803468, Type II=0.0404624277, Accuracy: 95.3757%\n",
      "max_depth=5.000, n_estimators=50, Type I=0.0057803468, Type II=0.0404624277, Accuracy: 95.3757%\n",
      "max_depth=5.000, n_estimators=100, Type I=0.0057803468, Type II=0.0346820809, Accuracy: 95.9538%\n",
      "max_depth=5.000, n_estimators=150, Type I=0.0057803468, Type II=0.0346820809, Accuracy: 95.9538%\n",
      "max_depth=5.000, n_estimators=200, Type I=0.0057803468, Type II=0.0346820809, Accuracy: 95.9538%\n",
      "max_depth=5.000, n_estimators=250, Type I=0.0057803468, Type II=0.0346820809, Accuracy: 95.9538%\n",
      "max_depth=10.000, n_estimators=10, Type I=0.0115606936, Type II=0.0404624277, Accuracy: 94.7977%\n",
      "max_depth=10.000, n_estimators=30, Type I=0.0115606936, Type II=0.0404624277, Accuracy: 94.7977%\n",
      "max_depth=10.000, n_estimators=50, Type I=0.0057803468, Type II=0.0289017341, Accuracy: 96.5318%\n",
      "max_depth=10.000, n_estimators=100, Type I=0.0057803468, Type II=0.0346820809, Accuracy: 95.9538%\n",
      "max_depth=10.000, n_estimators=150, Type I=0.0057803468, Type II=0.0289017341, Accuracy: 96.5318%\n",
      "max_depth=10.000, n_estimators=200, Type I=0.0057803468, Type II=0.0289017341, Accuracy: 96.5318%\n",
      "max_depth=10.000, n_estimators=250, Type I=0.0057803468, Type II=0.0289017341, Accuracy: 96.5318%\n",
      "max_depth=15.000, n_estimators=10, Type I=0.0115606936, Type II=0.0404624277, Accuracy: 94.7977%\n",
      "max_depth=15.000, n_estimators=30, Type I=0.0115606936, Type II=0.0462427746, Accuracy: 94.2197%\n",
      "max_depth=15.000, n_estimators=50, Type I=0.0115606936, Type II=0.0404624277, Accuracy: 94.7977%\n",
      "max_depth=15.000, n_estimators=100, Type I=0.0057803468, Type II=0.0346820809, Accuracy: 95.9538%\n",
      "max_depth=15.000, n_estimators=150, Type I=0.0057803468, Type II=0.0346820809, Accuracy: 95.9538%\n",
      "max_depth=15.000, n_estimators=200, Type I=0.0057803468, Type II=0.0346820809, Accuracy: 95.9538%\n",
      "max_depth=15.000, n_estimators=250, Type I=0.0057803468, Type II=0.0346820809, Accuracy: 95.9538%\n",
      "max_depth=20.000, n_estimators=10, Type I=0.0115606936, Type II=0.0404624277, Accuracy: 94.7977%\n",
      "max_depth=20.000, n_estimators=30, Type I=0.0115606936, Type II=0.0462427746, Accuracy: 94.2197%\n",
      "max_depth=20.000, n_estimators=50, Type I=0.0057803468, Type II=0.0404624277, Accuracy: 95.3757%\n",
      "max_depth=20.000, n_estimators=100, Type I=0.0057803468, Type II=0.0346820809, Accuracy: 95.9538%\n",
      "max_depth=20.000, n_estimators=150, Type I=0.0057803468, Type II=0.0346820809, Accuracy: 95.9538%\n",
      "max_depth=20.000, n_estimators=200, Type I=0.0057803468, Type II=0.0346820809, Accuracy: 95.9538%\n",
      "max_depth=20.000, n_estimators=250, Type I=0.0057803468, Type II=0.0346820809, Accuracy: 95.9538%\n"
     ]
    }
   ],
   "source": [
    "import xgboost as xgb\n",
    "from sklearn.metrics import mean_squared_error\n",
    "from sklearn.metrics import accuracy_score\n",
    "\n",
    "max_depth = [3, 5, 10, 15, 20]\n",
    "n_estimators = [10, 30, 50, 100, 150, 200, 250]\n",
    "listy =[]\n",
    "\n",
    "# Go through multiple depths and n_estimators to find best parameters\n",
    "\n",
    "for max_d in max_depth:\n",
    "    for n_est in n_estimators:\n",
    "        \n",
    "        # train model\n",
    "        model = xgb.XGBClassifier(n_estimators=n_est, max_depth=max_d, tree_method='gpu_exact')\n",
    "        model.fit(X_train, y_train)\n",
    "\n",
    "        # eval model\n",
    "        preds = model.predict(X_test)\n",
    "        table_test = pd.crosstab(y_test, preds, margins=True)\n",
    "        test_tI_errors = table_test.loc[0.0,1.0]/table_test.loc['All','All']\n",
    "        test_tII_errors = table_test.loc[1.0,0.0]/table_test.loc['All','All']\n",
    "        accuracy = accuracy_score(y_test, preds)\n",
    "        test_score = model.score(X_test, y_test)\n",
    "\n",
    "        # Save to list so we can graph it\n",
    "        listy.append([max_d, n_est, test_tI_errors, test_tII_errors, accuracy*100.0, test_score])\n",
    "        print(\"max_depth=%.3f, n_estimators=%d, Type I=%.10f, Type II=%.10f, Accuracy: %.4f%%\" % (max_d, n_est, test_tI_errors, test_tII_errors, accuracy*100.0))"
   ]
  },
  {
   "cell_type": "code",
   "execution_count": null,
   "metadata": {},
   "outputs": [],
   "source": []
  },
  {
   "cell_type": "code",
   "execution_count": 52,
   "metadata": {
    "scrolled": true
   },
   "outputs": [],
   "source": [
    "dfest = pd.DataFrame(listy, columns=['Max_Depth', 'N_Estimators', 'Type_I', 'Type_II', 'Accuracy', 'Score'])"
   ]
  },
  {
   "cell_type": "code",
   "execution_count": 53,
   "metadata": {},
   "outputs": [
    {
     "data": {
      "text/html": [
       "<div>\n",
       "<style scoped>\n",
       "    .dataframe tbody tr th:only-of-type {\n",
       "        vertical-align: middle;\n",
       "    }\n",
       "\n",
       "    .dataframe tbody tr th {\n",
       "        vertical-align: top;\n",
       "    }\n",
       "\n",
       "    .dataframe thead th {\n",
       "        text-align: right;\n",
       "    }\n",
       "</style>\n",
       "<table border=\"1\" class=\"dataframe\">\n",
       "  <thead>\n",
       "    <tr style=\"text-align: right;\">\n",
       "      <th></th>\n",
       "      <th>Max_Depth</th>\n",
       "      <th>N_Estimators</th>\n",
       "      <th>Type_I</th>\n",
       "      <th>Type_II</th>\n",
       "      <th>Accuracy</th>\n",
       "      <th>Score</th>\n",
       "    </tr>\n",
       "  </thead>\n",
       "  <tbody>\n",
       "    <tr>\n",
       "      <th>0</th>\n",
       "      <td>3</td>\n",
       "      <td>10</td>\n",
       "      <td>0.005780</td>\n",
       "      <td>0.052023</td>\n",
       "      <td>94.219653</td>\n",
       "      <td>0.942197</td>\n",
       "    </tr>\n",
       "    <tr>\n",
       "      <th>1</th>\n",
       "      <td>3</td>\n",
       "      <td>30</td>\n",
       "      <td>0.005780</td>\n",
       "      <td>0.046243</td>\n",
       "      <td>94.797688</td>\n",
       "      <td>0.947977</td>\n",
       "    </tr>\n",
       "    <tr>\n",
       "      <th>2</th>\n",
       "      <td>3</td>\n",
       "      <td>50</td>\n",
       "      <td>0.005780</td>\n",
       "      <td>0.046243</td>\n",
       "      <td>94.797688</td>\n",
       "      <td>0.947977</td>\n",
       "    </tr>\n",
       "    <tr>\n",
       "      <th>3</th>\n",
       "      <td>3</td>\n",
       "      <td>100</td>\n",
       "      <td>0.005780</td>\n",
       "      <td>0.040462</td>\n",
       "      <td>95.375723</td>\n",
       "      <td>0.953757</td>\n",
       "    </tr>\n",
       "    <tr>\n",
       "      <th>4</th>\n",
       "      <td>3</td>\n",
       "      <td>150</td>\n",
       "      <td>0.005780</td>\n",
       "      <td>0.040462</td>\n",
       "      <td>95.375723</td>\n",
       "      <td>0.953757</td>\n",
       "    </tr>\n",
       "    <tr>\n",
       "      <th>5</th>\n",
       "      <td>3</td>\n",
       "      <td>200</td>\n",
       "      <td>0.005780</td>\n",
       "      <td>0.040462</td>\n",
       "      <td>95.375723</td>\n",
       "      <td>0.953757</td>\n",
       "    </tr>\n",
       "    <tr>\n",
       "      <th>6</th>\n",
       "      <td>3</td>\n",
       "      <td>250</td>\n",
       "      <td>0.005780</td>\n",
       "      <td>0.040462</td>\n",
       "      <td>95.375723</td>\n",
       "      <td>0.953757</td>\n",
       "    </tr>\n",
       "    <tr>\n",
       "      <th>7</th>\n",
       "      <td>5</td>\n",
       "      <td>10</td>\n",
       "      <td>0.011561</td>\n",
       "      <td>0.046243</td>\n",
       "      <td>94.219653</td>\n",
       "      <td>0.942197</td>\n",
       "    </tr>\n",
       "    <tr>\n",
       "      <th>8</th>\n",
       "      <td>5</td>\n",
       "      <td>30</td>\n",
       "      <td>0.005780</td>\n",
       "      <td>0.040462</td>\n",
       "      <td>95.375723</td>\n",
       "      <td>0.953757</td>\n",
       "    </tr>\n",
       "    <tr>\n",
       "      <th>9</th>\n",
       "      <td>5</td>\n",
       "      <td>50</td>\n",
       "      <td>0.005780</td>\n",
       "      <td>0.040462</td>\n",
       "      <td>95.375723</td>\n",
       "      <td>0.953757</td>\n",
       "    </tr>\n",
       "    <tr>\n",
       "      <th>10</th>\n",
       "      <td>5</td>\n",
       "      <td>100</td>\n",
       "      <td>0.005780</td>\n",
       "      <td>0.034682</td>\n",
       "      <td>95.953757</td>\n",
       "      <td>0.959538</td>\n",
       "    </tr>\n",
       "    <tr>\n",
       "      <th>11</th>\n",
       "      <td>5</td>\n",
       "      <td>150</td>\n",
       "      <td>0.005780</td>\n",
       "      <td>0.034682</td>\n",
       "      <td>95.953757</td>\n",
       "      <td>0.959538</td>\n",
       "    </tr>\n",
       "    <tr>\n",
       "      <th>12</th>\n",
       "      <td>5</td>\n",
       "      <td>200</td>\n",
       "      <td>0.005780</td>\n",
       "      <td>0.034682</td>\n",
       "      <td>95.953757</td>\n",
       "      <td>0.959538</td>\n",
       "    </tr>\n",
       "    <tr>\n",
       "      <th>13</th>\n",
       "      <td>5</td>\n",
       "      <td>250</td>\n",
       "      <td>0.005780</td>\n",
       "      <td>0.034682</td>\n",
       "      <td>95.953757</td>\n",
       "      <td>0.959538</td>\n",
       "    </tr>\n",
       "    <tr>\n",
       "      <th>14</th>\n",
       "      <td>10</td>\n",
       "      <td>10</td>\n",
       "      <td>0.011561</td>\n",
       "      <td>0.040462</td>\n",
       "      <td>94.797688</td>\n",
       "      <td>0.947977</td>\n",
       "    </tr>\n",
       "    <tr>\n",
       "      <th>15</th>\n",
       "      <td>10</td>\n",
       "      <td>30</td>\n",
       "      <td>0.011561</td>\n",
       "      <td>0.040462</td>\n",
       "      <td>94.797688</td>\n",
       "      <td>0.947977</td>\n",
       "    </tr>\n",
       "    <tr>\n",
       "      <th>16</th>\n",
       "      <td>10</td>\n",
       "      <td>50</td>\n",
       "      <td>0.005780</td>\n",
       "      <td>0.028902</td>\n",
       "      <td>96.531792</td>\n",
       "      <td>0.965318</td>\n",
       "    </tr>\n",
       "    <tr>\n",
       "      <th>17</th>\n",
       "      <td>10</td>\n",
       "      <td>100</td>\n",
       "      <td>0.005780</td>\n",
       "      <td>0.034682</td>\n",
       "      <td>95.953757</td>\n",
       "      <td>0.959538</td>\n",
       "    </tr>\n",
       "    <tr>\n",
       "      <th>18</th>\n",
       "      <td>10</td>\n",
       "      <td>150</td>\n",
       "      <td>0.005780</td>\n",
       "      <td>0.028902</td>\n",
       "      <td>96.531792</td>\n",
       "      <td>0.965318</td>\n",
       "    </tr>\n",
       "    <tr>\n",
       "      <th>19</th>\n",
       "      <td>10</td>\n",
       "      <td>200</td>\n",
       "      <td>0.005780</td>\n",
       "      <td>0.028902</td>\n",
       "      <td>96.531792</td>\n",
       "      <td>0.965318</td>\n",
       "    </tr>\n",
       "    <tr>\n",
       "      <th>20</th>\n",
       "      <td>10</td>\n",
       "      <td>250</td>\n",
       "      <td>0.005780</td>\n",
       "      <td>0.028902</td>\n",
       "      <td>96.531792</td>\n",
       "      <td>0.965318</td>\n",
       "    </tr>\n",
       "    <tr>\n",
       "      <th>21</th>\n",
       "      <td>15</td>\n",
       "      <td>10</td>\n",
       "      <td>0.011561</td>\n",
       "      <td>0.040462</td>\n",
       "      <td>94.797688</td>\n",
       "      <td>0.947977</td>\n",
       "    </tr>\n",
       "    <tr>\n",
       "      <th>22</th>\n",
       "      <td>15</td>\n",
       "      <td>30</td>\n",
       "      <td>0.011561</td>\n",
       "      <td>0.046243</td>\n",
       "      <td>94.219653</td>\n",
       "      <td>0.942197</td>\n",
       "    </tr>\n",
       "    <tr>\n",
       "      <th>23</th>\n",
       "      <td>15</td>\n",
       "      <td>50</td>\n",
       "      <td>0.011561</td>\n",
       "      <td>0.040462</td>\n",
       "      <td>94.797688</td>\n",
       "      <td>0.947977</td>\n",
       "    </tr>\n",
       "    <tr>\n",
       "      <th>24</th>\n",
       "      <td>15</td>\n",
       "      <td>100</td>\n",
       "      <td>0.005780</td>\n",
       "      <td>0.034682</td>\n",
       "      <td>95.953757</td>\n",
       "      <td>0.959538</td>\n",
       "    </tr>\n",
       "    <tr>\n",
       "      <th>25</th>\n",
       "      <td>15</td>\n",
       "      <td>150</td>\n",
       "      <td>0.005780</td>\n",
       "      <td>0.034682</td>\n",
       "      <td>95.953757</td>\n",
       "      <td>0.959538</td>\n",
       "    </tr>\n",
       "    <tr>\n",
       "      <th>26</th>\n",
       "      <td>15</td>\n",
       "      <td>200</td>\n",
       "      <td>0.005780</td>\n",
       "      <td>0.034682</td>\n",
       "      <td>95.953757</td>\n",
       "      <td>0.959538</td>\n",
       "    </tr>\n",
       "    <tr>\n",
       "      <th>27</th>\n",
       "      <td>15</td>\n",
       "      <td>250</td>\n",
       "      <td>0.005780</td>\n",
       "      <td>0.034682</td>\n",
       "      <td>95.953757</td>\n",
       "      <td>0.959538</td>\n",
       "    </tr>\n",
       "    <tr>\n",
       "      <th>28</th>\n",
       "      <td>20</td>\n",
       "      <td>10</td>\n",
       "      <td>0.011561</td>\n",
       "      <td>0.040462</td>\n",
       "      <td>94.797688</td>\n",
       "      <td>0.947977</td>\n",
       "    </tr>\n",
       "    <tr>\n",
       "      <th>29</th>\n",
       "      <td>20</td>\n",
       "      <td>30</td>\n",
       "      <td>0.011561</td>\n",
       "      <td>0.046243</td>\n",
       "      <td>94.219653</td>\n",
       "      <td>0.942197</td>\n",
       "    </tr>\n",
       "    <tr>\n",
       "      <th>30</th>\n",
       "      <td>20</td>\n",
       "      <td>50</td>\n",
       "      <td>0.005780</td>\n",
       "      <td>0.040462</td>\n",
       "      <td>95.375723</td>\n",
       "      <td>0.953757</td>\n",
       "    </tr>\n",
       "    <tr>\n",
       "      <th>31</th>\n",
       "      <td>20</td>\n",
       "      <td>100</td>\n",
       "      <td>0.005780</td>\n",
       "      <td>0.034682</td>\n",
       "      <td>95.953757</td>\n",
       "      <td>0.959538</td>\n",
       "    </tr>\n",
       "    <tr>\n",
       "      <th>32</th>\n",
       "      <td>20</td>\n",
       "      <td>150</td>\n",
       "      <td>0.005780</td>\n",
       "      <td>0.034682</td>\n",
       "      <td>95.953757</td>\n",
       "      <td>0.959538</td>\n",
       "    </tr>\n",
       "    <tr>\n",
       "      <th>33</th>\n",
       "      <td>20</td>\n",
       "      <td>200</td>\n",
       "      <td>0.005780</td>\n",
       "      <td>0.034682</td>\n",
       "      <td>95.953757</td>\n",
       "      <td>0.959538</td>\n",
       "    </tr>\n",
       "    <tr>\n",
       "      <th>34</th>\n",
       "      <td>20</td>\n",
       "      <td>250</td>\n",
       "      <td>0.005780</td>\n",
       "      <td>0.034682</td>\n",
       "      <td>95.953757</td>\n",
       "      <td>0.959538</td>\n",
       "    </tr>\n",
       "  </tbody>\n",
       "</table>\n",
       "</div>"
      ],
      "text/plain": [
       "    Max_Depth  N_Estimators    Type_I   Type_II   Accuracy     Score\n",
       "0           3            10  0.005780  0.052023  94.219653  0.942197\n",
       "1           3            30  0.005780  0.046243  94.797688  0.947977\n",
       "2           3            50  0.005780  0.046243  94.797688  0.947977\n",
       "3           3           100  0.005780  0.040462  95.375723  0.953757\n",
       "4           3           150  0.005780  0.040462  95.375723  0.953757\n",
       "5           3           200  0.005780  0.040462  95.375723  0.953757\n",
       "6           3           250  0.005780  0.040462  95.375723  0.953757\n",
       "7           5            10  0.011561  0.046243  94.219653  0.942197\n",
       "8           5            30  0.005780  0.040462  95.375723  0.953757\n",
       "9           5            50  0.005780  0.040462  95.375723  0.953757\n",
       "10          5           100  0.005780  0.034682  95.953757  0.959538\n",
       "11          5           150  0.005780  0.034682  95.953757  0.959538\n",
       "12          5           200  0.005780  0.034682  95.953757  0.959538\n",
       "13          5           250  0.005780  0.034682  95.953757  0.959538\n",
       "14         10            10  0.011561  0.040462  94.797688  0.947977\n",
       "15         10            30  0.011561  0.040462  94.797688  0.947977\n",
       "16         10            50  0.005780  0.028902  96.531792  0.965318\n",
       "17         10           100  0.005780  0.034682  95.953757  0.959538\n",
       "18         10           150  0.005780  0.028902  96.531792  0.965318\n",
       "19         10           200  0.005780  0.028902  96.531792  0.965318\n",
       "20         10           250  0.005780  0.028902  96.531792  0.965318\n",
       "21         15            10  0.011561  0.040462  94.797688  0.947977\n",
       "22         15            30  0.011561  0.046243  94.219653  0.942197\n",
       "23         15            50  0.011561  0.040462  94.797688  0.947977\n",
       "24         15           100  0.005780  0.034682  95.953757  0.959538\n",
       "25         15           150  0.005780  0.034682  95.953757  0.959538\n",
       "26         15           200  0.005780  0.034682  95.953757  0.959538\n",
       "27         15           250  0.005780  0.034682  95.953757  0.959538\n",
       "28         20            10  0.011561  0.040462  94.797688  0.947977\n",
       "29         20            30  0.011561  0.046243  94.219653  0.942197\n",
       "30         20            50  0.005780  0.040462  95.375723  0.953757\n",
       "31         20           100  0.005780  0.034682  95.953757  0.959538\n",
       "32         20           150  0.005780  0.034682  95.953757  0.959538\n",
       "33         20           200  0.005780  0.034682  95.953757  0.959538\n",
       "34         20           250  0.005780  0.034682  95.953757  0.959538"
      ]
     },
     "execution_count": 53,
     "metadata": {},
     "output_type": "execute_result"
    }
   ],
   "source": [
    "dfest"
   ]
  },
  {
   "cell_type": "code",
   "execution_count": 54,
   "metadata": {
    "scrolled": false
   },
   "outputs": [
    {
     "data": {
      "text/plain": [
       "Text(0,0.5,'Error Rate')"
      ]
     },
     "execution_count": 54,
     "metadata": {},
     "output_type": "execute_result"
    },
    {
     "data": {
      "image/png": "[encoded data removed]",
      "text/plain": [
       "<Figure size 1440x2160 with 3 Axes>"
      ]
     },
     "metadata": {},
     "output_type": "display_data"
    }
   ],
   "source": [
    "plt.figure(figsize=(20,30))\n",
    "plt.subplot(3,1,1)\n",
    "plt.title('Type II Error Rate', fontsize=20)\n",
    "ax = sns.lineplot(x=\"N_Estimators\", y=\"Type_II\", hue='Max_Depth', data=dfest, linewidth=3)\n",
    "plt.legend(['3','5','10','15','20'], fontsize=20)\n",
    "plt.xlabel('N Estimators',fontsize=20, fontweight=0)\n",
    "plt.ylabel('Error Rate',fontsize=20, fontweight=0)\n",
    "\n",
    "plt.subplot(3,1,2)\n",
    "plt.title('Score', fontsize=20)\n",
    "f = sns.lineplot(x=\"N_Estimators\", y=\"Score\", hue='Max_Depth', data=dfest, linewidth=3)\n",
    "plt.legend(['3','5','10','15','20'], fontsize=20)\n",
    "plt.xlabel('N Estimators',fontsize=20, fontweight=0)\n",
    "plt.ylabel('Score',fontsize=20, fontweight=0)\n",
    "\n",
    "plt.subplot(3,1,3)\n",
    "plt.title('Type I Error Rate', fontsize=20)\n",
    "ax = sns.lineplot(x=\"N_Estimators\", y=\"Type_I\", hue='Max_Depth', data=dfest, linewidth=3)\n",
    "plt.legend(['3','5','10','15','20'], fontsize=20)\n",
    "plt.xlabel('N Estimators',fontsize=20, fontweight=0)\n",
    "plt.ylabel('Error Rate',fontsize=20, fontweight=0)"
   ]
  },
  {
   "cell_type": "code",
   "execution_count": 78,
   "metadata": {},
   "outputs": [],
   "source": [
    "# Open up the data with selected features\n",
    "df = pd.read_pickle(('../../Data/creditcardSELECTun.pkl'))\n"
   ]
  },
  {
   "cell_type": "code",
   "execution_count": 79,
   "metadata": {},
   "outputs": [
    {
     "name": "stdout",
     "output_type": "stream",
     "text": [
      "<class 'pandas.core.frame.DataFrame'>\n",
      "Int64Index: 863 entries, 541 to 73356\n",
      "Data columns (total 26 columns):\n",
      "Time      863 non-null uint32\n",
      "V1        863 non-null float32\n",
      "V2        863 non-null float32\n",
      "V3        863 non-null float32\n",
      "V4        863 non-null float32\n",
      "V5        863 non-null float32\n",
      "V6        863 non-null float32\n",
      "V7        863 non-null float32\n",
      "V8        863 non-null float32\n",
      "V10       863 non-null float32\n",
      "V11       863 non-null float32\n",
      "V12       863 non-null float32\n",
      "V13       863 non-null float32\n",
      "V14       863 non-null float32\n",
      "V15       863 non-null float32\n",
      "V16       863 non-null float32\n",
      "V18       863 non-null float32\n",
      "V19       863 non-null float32\n",
      "V20       863 non-null float32\n",
      "V21       863 non-null float32\n",
      "V22       863 non-null float32\n",
      "V24       863 non-null float32\n",
      "V26       863 non-null float32\n",
      "V27       863 non-null float32\n",
      "Amount    863 non-null float32\n",
      "Class     863 non-null uint8\n",
      "dtypes: float32(24), uint32(1), uint8(1)\n",
      "memory usage: 91.9 KB\n"
     ]
    }
   ],
   "source": [
    "df.info()"
   ]
  },
  {
   "cell_type": "code",
   "execution_count": 80,
   "metadata": {},
   "outputs": [
    {
     "data": {
      "text/plain": [
       "XGBClassifier(base_score=0.5, booster='gbtree', colsample_bylevel=1,\n",
       "       colsample_bytree=1, gamma=0, learning_rate=0.1, max_delta_step=0,\n",
       "       max_depth=10, min_child_weight=1, missing=None, n_estimators=150,\n",
       "       n_jobs=1, nthread=None, objective='binary:logistic', random_state=0,\n",
       "       reg_alpha=0, reg_lambda=1, scale_pos_weight=1, seed=None,\n",
       "       silent=True, subsample=1, tree_method='gpu_exact')"
      ]
     },
     "execution_count": 80,
     "metadata": {},
     "output_type": "execute_result"
    }
   ],
   "source": [
    "# Open up the data with selected features\n",
    "X, y = df.drop('Class',1), df['Class']\n",
    "X_train, X_test, y_train, y_test = train_test_split(X, y, test_size=0.2, random_state=23)\n",
    "\n",
    "# We use the lowest max depth and N_est that gets the best value (lower = better runtime)\n",
    "model = xgb.XGBClassifier(n_estimators=150, max_depth=10, tree_method='gpu_exact')\n",
    "model.fit(X_train, y_train)\n",
    "\n"
   ]
  },
  {
   "cell_type": "code",
   "execution_count": 48,
   "metadata": {},
   "outputs": [],
   "source": [
    "#features_drop =['V23', 'V21', 'V6', 'V24', 'V9', 'V15', 'V27', 'V5', 'V17']"
   ]
  },
  {
   "cell_type": "code",
   "execution_count": 81,
   "metadata": {},
   "outputs": [],
   "source": [
    "dfold = pd.read_pickle(('../../Data/creditcard.pkl'))\n",
    "dfold=dfold.drop(features_drop,1)\n",
    "dftest = pd.read_pickle(('../../Data/UndersampleTest.pkl'))\n",
    "dftest=dftest.drop(features_drop,1)\n",
    "\n",
    "fX, fy = dfold.drop('Class',1), dfold['Class']\n",
    "\n",
    "fulldatapreds = model.predict(dfold.drop('Class',1))\n",
    "preds = model.predict(X_test)\n",
    "testy = model.predict(dftest.drop('Class',1))"
   ]
  },
  {
   "cell_type": "code",
   "execution_count": 83,
   "metadata": {},
   "outputs": [],
   "source": [
    "tX, ty = dftest.drop('Class',1), dftest['Class']"
   ]
  },
  {
   "cell_type": "code",
   "execution_count": 82,
   "metadata": {},
   "outputs": [],
   "source": [
    "trainpred = model.predict(X_train)"
   ]
  },
  {
   "cell_type": "code",
   "execution_count": 94,
   "metadata": {},
   "outputs": [
    {
     "name": "stdout",
     "output_type": "stream",
     "text": [
      "Validation Set Cross Validation: \n",
      "[0.88888889 0.97142857 0.91176471 0.97058824 0.85294118]\n",
      "\n",
      "Dedicated Test Set Cross Validation: \n",
      "[0.94285714 0.97058824 0.94117647 1.         0.93939394]\n",
      "\n",
      "Entire Data Cross Validation: \n",
      "[0.3281837  0.99957867 0.99913976 0.99959621 0.99938554]\n"
     ]
    }
   ],
   "source": [
    "from sklearn.model_selection import cross_val_score\n",
    "\n",
    "\n",
    "print('Validation Set Cross Validation: ')\n",
    "print(cross_val_score(model, X_test, y_test, cv=5))\n",
    "print('\\nDedicated Test Set Cross Validation: ')\n",
    "print(cross_val_score(model, tX, ty, cv=5))\n",
    "print('\\nEntire Data Cross Validation: ')\n",
    "print(cross_val_score(model, fX, fy, cv=5))"
   ]
  },
  {
   "cell_type": "code",
   "execution_count": 93,
   "metadata": {},
   "outputs": [
    {
     "name": "stdout",
     "output_type": "stream",
     "text": [
      "[0.94285714 0.97058824 0.94117647 1.         0.93939394]\n"
     ]
    }
   ],
   "source": [
    "\n",
    "print(cross_val_score(model, tX, ty, cv=5))"
   ]
  },
  {
   "cell_type": "code",
   "execution_count": 84,
   "metadata": {
    "scrolled": false
   },
   "outputs": [
    {
     "name": "stdout",
     "output_type": "stream",
     "text": [
      "***********************************\n",
      "\n",
      "Train set accuracy:\n",
      "Percent Type I errors:  0.000000000000000\n",
      "Percent Type II errors: 0.000000000000000\n",
      "\n",
      "Validation set accuracy:\n",
      "Percent Type I errors: 0.005780346820809\n",
      "Percent Type II errors: 0.028901734104046\n",
      "\n",
      "Full set accuracy:\n",
      "Percent Type I errors:  0.035150119203531\n",
      "Percent Type II errors: 0.000035111496557\n",
      "\n",
      "Test set accuracy:\n",
      "Percent Type I errors:  0.029411764705882\n",
      "Percent Type II errors: 0.029411764705882\n",
      "\n",
      "***********************************\n",
      "* Type I errors are normal purchases that have been flagged.\n",
      "* Type II errors are frauds that are not caught!\n",
      "\n"
     ]
    }
   ],
   "source": [
    "# Accuracy tables on the training and test set\n",
    "\n",
    "table_full = pd.crosstab(fy, fulldatapreds, margins=True)\n",
    "table_test = pd.crosstab(y_test, preds, margins=True)\n",
    "table_train = pd.crosstab(y_train, trainpred, margins=True)\n",
    "table_ded = pd.crosstab(ty, testy, margins=True)\n",
    "\n",
    "train_tI_errors = table_train.loc[0.0,1.0] / table_train.loc['All','All']\n",
    "train_tII_errors = table_train.loc[1.0,0.0] / table_train.loc['All','All']\n",
    "\n",
    "test_tI_errors = table_test.loc[0.0,1.0]/table_test.loc['All','All']\n",
    "test_tII_errors = table_test.loc[1.0,0.0]/table_test.loc['All','All']\n",
    "\n",
    "full_tI_errors = table_full.loc[0.0,1.0] / table_full.loc['All','All']\n",
    "full_tII_errors = table_full.loc[1.0,0.0] / table_full.loc['All','All']\n",
    "\n",
    "ded_tI_errors = table_ded.loc[0.0,1.0] / table_ded.loc['All','All']\n",
    "ded_tII_errors = table_ded.loc[1.0,0.0] / table_ded.loc['All','All']\n",
    "\n",
    "print((\n",
    "    '***********************************\\n\\n'    \n",
    "    'Train set accuracy:\\n'\n",
    "    'Percent Type I errors:  {:.15f}\\n'\n",
    "    'Percent Type II errors: {:.15f}\\n\\n'    \n",
    "    'Validation set accuracy:\\n'\n",
    "    'Percent Type I errors: {:.15f}\\n'\n",
    "    'Percent Type II errors: {:.15f}\\n\\n'\n",
    "    'Full set accuracy:\\n'\n",
    "    'Percent Type I errors:  {:.15f}\\n'\n",
    "    'Percent Type II errors: {:.15f}\\n\\n'\n",
    "    'Test set accuracy:\\n'\n",
    "    'Percent Type I errors:  {:.15f}\\n'\n",
    "    'Percent Type II errors: {:.15f}\\n\\n'\n",
    "    '***********************************\\n'\n",
    "    '* Type I errors are normal purchases that have been flagged.\\n'\n",
    "    '* Type II errors are frauds that are not caught!\\n'\n",
    ").format(train_tI_errors, train_tII_errors, test_tI_errors, test_tII_errors, full_tI_errors, full_tII_errors, ded_tI_errors, ded_tII_errors))"
   ]
  },
  {
   "cell_type": "code",
   "execution_count": 86,
   "metadata": {
    "scrolled": true
   },
   "outputs": [
    {
     "data": {
      "text/html": [
       "<div>\n",
       "<style scoped>\n",
       "    .dataframe tbody tr th:only-of-type {\n",
       "        vertical-align: middle;\n",
       "    }\n",
       "\n",
       "    .dataframe tbody tr th {\n",
       "        vertical-align: top;\n",
       "    }\n",
       "\n",
       "    .dataframe thead th {\n",
       "        text-align: right;\n",
       "    }\n",
       "</style>\n",
       "<table border=\"1\" class=\"dataframe\">\n",
       "  <thead>\n",
       "    <tr style=\"text-align: right;\">\n",
       "      <th>col_0</th>\n",
       "      <th>0</th>\n",
       "      <th>1</th>\n",
       "      <th>All</th>\n",
       "    </tr>\n",
       "    <tr>\n",
       "      <th>Class</th>\n",
       "      <th></th>\n",
       "      <th></th>\n",
       "      <th></th>\n",
       "    </tr>\n",
       "  </thead>\n",
       "  <tbody>\n",
       "    <tr>\n",
       "      <th>0</th>\n",
       "      <td>86</td>\n",
       "      <td>1</td>\n",
       "      <td>87</td>\n",
       "    </tr>\n",
       "    <tr>\n",
       "      <th>1</th>\n",
       "      <td>5</td>\n",
       "      <td>81</td>\n",
       "      <td>86</td>\n",
       "    </tr>\n",
       "    <tr>\n",
       "      <th>All</th>\n",
       "      <td>91</td>\n",
       "      <td>82</td>\n",
       "      <td>173</td>\n",
       "    </tr>\n",
       "  </tbody>\n",
       "</table>\n",
       "</div>"
      ],
      "text/plain": [
       "col_0   0   1  All\n",
       "Class             \n",
       "0      86   1   87\n",
       "1       5  81   86\n",
       "All    91  82  173"
      ]
     },
     "execution_count": 86,
     "metadata": {},
     "output_type": "execute_result"
    }
   ],
   "source": [
    "table_test"
   ]
  },
  {
   "cell_type": "code",
   "execution_count": 90,
   "metadata": {},
   "outputs": [
    {
     "data": {
      "text/html": [
       "<div>\n",
       "<style scoped>\n",
       "    .dataframe tbody tr th:only-of-type {\n",
       "        vertical-align: middle;\n",
       "    }\n",
       "\n",
       "    .dataframe tbody tr th {\n",
       "        vertical-align: top;\n",
       "    }\n",
       "\n",
       "    .dataframe thead th {\n",
       "        text-align: right;\n",
       "    }\n",
       "</style>\n",
       "<table border=\"1\" class=\"dataframe\">\n",
       "  <thead>\n",
       "    <tr style=\"text-align: right;\">\n",
       "      <th>col_0</th>\n",
       "      <th>0</th>\n",
       "      <th>1</th>\n",
       "      <th>All</th>\n",
       "    </tr>\n",
       "    <tr>\n",
       "      <th>Class</th>\n",
       "      <th></th>\n",
       "      <th></th>\n",
       "      <th></th>\n",
       "    </tr>\n",
       "  </thead>\n",
       "  <tbody>\n",
       "    <tr>\n",
       "      <th>0</th>\n",
       "      <td>86</td>\n",
       "      <td>5</td>\n",
       "      <td>91</td>\n",
       "    </tr>\n",
       "    <tr>\n",
       "      <th>1</th>\n",
       "      <td>5</td>\n",
       "      <td>74</td>\n",
       "      <td>79</td>\n",
       "    </tr>\n",
       "    <tr>\n",
       "      <th>All</th>\n",
       "      <td>91</td>\n",
       "      <td>79</td>\n",
       "      <td>170</td>\n",
       "    </tr>\n",
       "  </tbody>\n",
       "</table>\n",
       "</div>"
      ],
      "text/plain": [
       "col_0   0   1  All\n",
       "Class             \n",
       "0      86   5   91\n",
       "1       5  74   79\n",
       "All    91  79  170"
      ]
     },
     "execution_count": 90,
     "metadata": {},
     "output_type": "execute_result"
    }
   ],
   "source": [
    "table_ded"
   ]
  },
  {
   "cell_type": "code",
   "execution_count": 87,
   "metadata": {},
   "outputs": [
    {
     "data": {
      "text/html": [
       "<div>\n",
       "<style scoped>\n",
       "    .dataframe tbody tr th:only-of-type {\n",
       "        vertical-align: middle;\n",
       "    }\n",
       "\n",
       "    .dataframe tbody tr th {\n",
       "        vertical-align: top;\n",
       "    }\n",
       "\n",
       "    .dataframe thead th {\n",
       "        text-align: right;\n",
       "    }\n",
       "</style>\n",
       "<table border=\"1\" class=\"dataframe\">\n",
       "  <thead>\n",
       "    <tr style=\"text-align: right;\">\n",
       "      <th>col_0</th>\n",
       "      <th>0</th>\n",
       "      <th>1</th>\n",
       "      <th>All</th>\n",
       "    </tr>\n",
       "    <tr>\n",
       "      <th>Class</th>\n",
       "      <th></th>\n",
       "      <th></th>\n",
       "      <th></th>\n",
       "    </tr>\n",
       "  </thead>\n",
       "  <tbody>\n",
       "    <tr>\n",
       "      <th>0</th>\n",
       "      <td>363</td>\n",
       "      <td>0</td>\n",
       "      <td>363</td>\n",
       "    </tr>\n",
       "    <tr>\n",
       "      <th>1</th>\n",
       "      <td>0</td>\n",
       "      <td>327</td>\n",
       "      <td>327</td>\n",
       "    </tr>\n",
       "    <tr>\n",
       "      <th>All</th>\n",
       "      <td>363</td>\n",
       "      <td>327</td>\n",
       "      <td>690</td>\n",
       "    </tr>\n",
       "  </tbody>\n",
       "</table>\n",
       "</div>"
      ],
      "text/plain": [
       "col_0    0    1  All\n",
       "Class               \n",
       "0      363    0  363\n",
       "1        0  327  327\n",
       "All    363  327  690"
      ]
     },
     "execution_count": 87,
     "metadata": {},
     "output_type": "execute_result"
    }
   ],
   "source": [
    "table_train"
   ]
  },
  {
   "cell_type": "code",
   "execution_count": 88,
   "metadata": {},
   "outputs": [
    {
     "data": {
      "text/html": [
       "<div>\n",
       "<style scoped>\n",
       "    .dataframe tbody tr th:only-of-type {\n",
       "        vertical-align: middle;\n",
       "    }\n",
       "\n",
       "    .dataframe tbody tr th {\n",
       "        vertical-align: top;\n",
       "    }\n",
       "\n",
       "    .dataframe thead th {\n",
       "        text-align: right;\n",
       "    }\n",
       "</style>\n",
       "<table border=\"1\" class=\"dataframe\">\n",
       "  <thead>\n",
       "    <tr style=\"text-align: right;\">\n",
       "      <th>col_0</th>\n",
       "      <th>0</th>\n",
       "      <th>1</th>\n",
       "      <th>All</th>\n",
       "    </tr>\n",
       "    <tr>\n",
       "      <th>Class</th>\n",
       "      <th></th>\n",
       "      <th></th>\n",
       "      <th></th>\n",
       "    </tr>\n",
       "  </thead>\n",
       "  <tbody>\n",
       "    <tr>\n",
       "      <th>0</th>\n",
       "      <td>274304</td>\n",
       "      <td>10011</td>\n",
       "      <td>284315</td>\n",
       "    </tr>\n",
       "    <tr>\n",
       "      <th>1</th>\n",
       "      <td>10</td>\n",
       "      <td>482</td>\n",
       "      <td>492</td>\n",
       "    </tr>\n",
       "    <tr>\n",
       "      <th>All</th>\n",
       "      <td>274314</td>\n",
       "      <td>10493</td>\n",
       "      <td>284807</td>\n",
       "    </tr>\n",
       "  </tbody>\n",
       "</table>\n",
       "</div>"
      ],
      "text/plain": [
       "col_0       0      1     All\n",
       "Class                       \n",
       "0      274304  10011  284315\n",
       "1          10    482     492\n",
       "All    274314  10493  284807"
      ]
     },
     "execution_count": 88,
     "metadata": {},
     "output_type": "execute_result"
    }
   ],
   "source": [
    "table_full"
   ]
  },
  {
   "cell_type": "code",
   "execution_count": null,
   "metadata": {},
   "outputs": [],
   "source": []
  },
  {
   "cell_type": "code",
   "execution_count": 89,
   "metadata": {},
   "outputs": [
    {
     "data": {
      "text/plain": [
       "0.0352109456061059"
      ]
     },
     "execution_count": 89,
     "metadata": {},
     "output_type": "execute_result"
    }
   ],
   "source": [
    "10011/284315"
   ]
  },
  {
   "cell_type": "code",
   "execution_count": null,
   "metadata": {},
   "outputs": [],
   "source": [
    "probs = model.predict_proba(fX)[:,1]"
   ]
  },
  {
   "cell_type": "code",
   "execution_count": null,
   "metadata": {},
   "outputs": [],
   "source": [
    "probs"
   ]
  },
  {
   "cell_type": "code",
   "execution_count": null,
   "metadata": {},
   "outputs": [],
   "source": []
  },
  {
   "cell_type": "code",
   "execution_count": null,
   "metadata": {},
   "outputs": [],
   "source": [
    "from sklearn.metrics import roc_curve\n",
    "from sklearn.metrics import roc_auc_score\n",
    "\n",
    "fpr, tpr, thresholds = roc_curve(fy, probs)\n",
    "\n",
    "\n",
    "auc = roc_auc_score(fy, probs)\n",
    "print('AUC: %.20f' % auc)"
   ]
  },
  {
   "cell_type": "code",
   "execution_count": null,
   "metadata": {},
   "outputs": [],
   "source": [
    "from sklearn.metrics import recall_score\n",
    "\n",
    "recall_score(fy, fulldatapreds)"
   ]
  },
  {
   "cell_type": "code",
   "execution_count": null,
   "metadata": {},
   "outputs": [],
   "source": [
    "recall_score(y_test, preds)"
   ]
  },
  {
   "cell_type": "code",
   "execution_count": null,
   "metadata": {},
   "outputs": [],
   "source": []
  }
 ],
 "metadata": {
  "kernelspec": {
   "display_name": "Python 3",
   "language": "python",
   "name": "python3"
  },
  "language_info": {
   "codemirror_mode": {
    "name": "ipython",
    "version": 3
   },
   "file_extension": ".py",
   "mimetype": "text/x-python",
   "name": "python",
   "nbconvert_exporter": "python",
   "pygments_lexer": "ipython3",
   "version": "3.6.6"
  }
 },
 "nbformat": 4,
 "nbformat_minor": 2
}
