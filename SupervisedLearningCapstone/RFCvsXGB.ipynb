{
 "cells": [
  {
   "cell_type": "code",
   "execution_count": 1,
   "metadata": {},
   "outputs": [],
   "source": [
    "import pandas as pd\n",
    "import numpy as np"
   ]
  },
  {
   "cell_type": "markdown",
   "metadata": {},
   "source": [
    "# Undersample Data"
   ]
  },
  {
   "cell_type": "code",
   "execution_count": 2,
   "metadata": {},
   "outputs": [],
   "source": [
    "# Get undersampled data\n",
    "un_df = pd.read_pickle('../../Data/creditcardUNDER.pkl')"
   ]
  },
  {
   "cell_type": "code",
   "execution_count": 3,
   "metadata": {},
   "outputs": [],
   "source": [
    "from sklearn.model_selection import train_test_split\n",
    "\n",
    "# Create a test set\n",
    "X, y = un_df.drop('Class',1), un_df['Class']\n",
    "X_train, X_test, y_train, y_test = train_test_split(X, y, test_size=0.2, random_state=23)"
   ]
  },
  {
   "cell_type": "code",
   "execution_count": 4,
   "metadata": {},
   "outputs": [],
   "source": [
    "import xgboost as xgb\n",
    "\n",
    "# Build XGBClassifier\n",
    "\n",
    "xg_cls = xgb.XGBClassifier(tree_method='gpu_exact')\n",
    "xg_cls.fit(X_train,y_train)\n",
    "\n",
    "XGBpreds = xg_cls.predict(X_test)\n",
    "\n",
    "XGBtrain_preds = xg_cls.predict(X_train)"
   ]
  },
  {
   "cell_type": "code",
   "execution_count": 5,
   "metadata": {},
   "outputs": [
    {
     "name": "stderr",
     "output_type": "stream",
     "text": [
      "/home/ebicher/.local/lib/python3.6/site-packages/sklearn/ensemble/forest.py:248: FutureWarning: The default value of n_estimators will change from 10 in version 0.20 to 100 in 0.22.\n",
      "  \"10 in version 0.20 to 100 in 0.22.\", FutureWarning)\n"
     ]
    }
   ],
   "source": [
    "from sklearn.ensemble import RandomForestClassifier\n",
    "\n",
    "# Build RFClassifer\n",
    "\n",
    "clf = RandomForestClassifier()\n",
    "clf.fit(X_train,y_train)\n",
    "\n",
    "\n",
    "CLFpreds = clf.predict(X_test)\n",
    "CLFtrain_preds = clf.predict(X_train)"
   ]
  },
  {
   "cell_type": "code",
   "execution_count": 6,
   "metadata": {},
   "outputs": [
    {
     "name": "stdout",
     "output_type": "stream",
     "text": [
      "****************RFC****************\n",
      "********** Under Sampled **********\n",
      "***********************************\n",
      "\n",
      "Training set accuracy:\n",
      "Percent Type I errors:  0.00000000\n",
      "Percent Type II errors: 0.01014493\n",
      "Score: 0.98985507\n",
      "\n",
      "Test set accuracy:\n",
      "Percent Type I errors: 0.00578035\n",
      "Percent Type II errors: 0.06936416\n",
      "Score: 0.92485549\n",
      "\n",
      "***********************************\n",
      "* Type I errors are normal purchases that have been flagged.\n",
      "* Type II errors are frauds that are not caught!\n",
      "\n"
     ]
    }
   ],
   "source": [
    "# Accuracy tables on the training and test set for RFC\n",
    "\n",
    "table_train = pd.crosstab(y_train, CLFtrain_preds, margins=True)\n",
    "table_test = pd.crosstab(y_test, CLFpreds, margins=True)\n",
    "test_score = clf.score(X_test, y_test) \n",
    "train_score = clf.score(X_train, y_train) \n",
    "\n",
    "train_tI_errors = table_train.loc[0.0,1.0] / table_train.loc['All','All']\n",
    "train_tII_errors = table_train.loc[1.0,0.0] / table_train.loc['All','All']\n",
    "\n",
    "test_tI_errors = table_test.loc[0.0,1.0]/table_test.loc['All','All']\n",
    "test_tII_errors = table_test.loc[1.0,0.0]/table_test.loc['All','All']\n",
    "\n",
    "print((\n",
    "    '****************RFC****************\\n'\n",
    "    '********** Under Sampled **********\\n'\n",
    "    '***********************************\\n\\n'    \n",
    "    'Training set accuracy:\\n'\n",
    "    'Percent Type I errors:  {:.8f}\\n'\n",
    "    'Percent Type II errors: {:.8f}\\n'\n",
    "    'Score: {:.8f}\\n\\n'\n",
    "    \n",
    "    'Test set accuracy:\\n'\n",
    "    'Percent Type I errors: {:.8f}\\n'\n",
    "    'Percent Type II errors: {:.8f}\\n'\n",
    "    'Score: {:.8f}\\n\\n'\n",
    "    '***********************************\\n'\n",
    "    '* Type I errors are normal purchases that have been flagged.\\n'\n",
    "    '* Type II errors are frauds that are not caught!\\n'\n",
    ").format(train_tI_errors, train_tII_errors, train_score, test_tI_errors, test_tII_errors, test_score))"
   ]
  },
  {
   "cell_type": "code",
   "execution_count": 7,
   "metadata": {},
   "outputs": [
    {
     "name": "stdout",
     "output_type": "stream",
     "text": [
      "****************XGB****************\n",
      "********** Under Sampled **********\n",
      "***********************************\n",
      "\n",
      "Training set accuracy:\n",
      "Percent Type I errors:  0.00000000\n",
      "Percent Type II errors: 0.00144928\n",
      "Score: 0.99855072\n",
      "\n",
      "Test set accuracy:\n",
      "Percent Type I errors: 0.00578035\n",
      "Percent Type II errors: 0.04624277\n",
      "Score: 0.94797688\n",
      "\n",
      "***********************************\n",
      "* Type I errors are normal purchases that have been flagged.\n",
      "* Type II errors are frauds that are not caught!\n",
      "\n"
     ]
    }
   ],
   "source": [
    "# Accuracy tables on the training and test set for XGB\n",
    "\n",
    "table_train = pd.crosstab(y_train, XGBtrain_preds, margins=True)\n",
    "table_test = pd.crosstab(y_test, XGBpreds, margins=True)\n",
    "Xtest_score = xg_cls.score(X_test, y_test) \n",
    "Xtrain_score = xg_cls.score(X_train, y_train) \n",
    "\n",
    "Xtrain_tI_errors = table_train.loc[0.0,1.0] / table_train.loc['All','All']\n",
    "Xtrain_tII_errors = table_train.loc[1.0,0.0] / table_train.loc['All','All']\n",
    "\n",
    "Xtest_tI_errors = table_test.loc[0.0,1.0]/table_test.loc['All','All']\n",
    "Xtest_tII_errors = table_test.loc[1.0,0.0]/table_test.loc['All','All']\n",
    "\n",
    "print((\n",
    "    '****************XGB****************\\n'\n",
    "    '********** Under Sampled **********\\n'\n",
    "    '***********************************\\n\\n'    \n",
    "    'Training set accuracy:\\n'\n",
    "    'Percent Type I errors:  {:.8f}\\n'\n",
    "    'Percent Type II errors: {:.8f}\\n'\n",
    "    'Score: {:.8f}\\n\\n'\n",
    "    \n",
    "    'Test set accuracy:\\n'\n",
    "    'Percent Type I errors: {:.8f}\\n'\n",
    "    'Percent Type II errors: {:.8f}\\n'\n",
    "    'Score: {:.8f}\\n\\n'\n",
    "    '***********************************\\n'\n",
    "    '* Type I errors are normal purchases that have been flagged.\\n'\n",
    "    '* Type II errors are frauds that are not caught!\\n'\n",
    ").format(Xtrain_tI_errors, Xtrain_tII_errors, Xtrain_score, Xtest_tI_errors, Xtest_tII_errors, Xtest_score))"
   ]
  },
  {
   "cell_type": "code",
   "execution_count": 8,
   "metadata": {},
   "outputs": [],
   "source": [
    "dfvs = pd.DataFrame([[train_tI_errors, test_tI_errors, 'Train','RFC'],\n",
    "                     [train_tII_errors, test_tII_errors, 'Test', 'RFC'],\n",
    "                     [Xtrain_tI_errors, Xtest_tI_errors,'Train', 'XGB'],\n",
    "                     [Xtrain_tII_errors, Xtest_tII_errors, 'Test', 'XGB']], \n",
    "                    columns=['Type_I', 'Type_II', 'Type', 'Model'])\n"
   ]
  },
  {
   "cell_type": "code",
   "execution_count": 9,
   "metadata": {},
   "outputs": [
    {
     "data": {
      "text/plain": [
       "0.33333333333333326"
      ]
     },
     "execution_count": 9,
     "metadata": {},
     "output_type": "execute_result"
    }
   ],
   "source": [
    "1 - dfvs.iloc[3]['Type_II'] /dfvs.iloc[1]['Type_II']"
   ]
  },
  {
   "cell_type": "code",
   "execution_count": 10,
   "metadata": {},
   "outputs": [
    {
     "data": {
      "text/html": [
       "<div>\n",
       "<style scoped>\n",
       "    .dataframe tbody tr th:only-of-type {\n",
       "        vertical-align: middle;\n",
       "    }\n",
       "\n",
       "    .dataframe tbody tr th {\n",
       "        vertical-align: top;\n",
       "    }\n",
       "\n",
       "    .dataframe thead th {\n",
       "        text-align: right;\n",
       "    }\n",
       "</style>\n",
       "<table border=\"1\" class=\"dataframe\">\n",
       "  <thead>\n",
       "    <tr style=\"text-align: right;\">\n",
       "      <th></th>\n",
       "      <th>Type_I</th>\n",
       "      <th>Type_II</th>\n",
       "      <th>Type</th>\n",
       "      <th>Model</th>\n",
       "    </tr>\n",
       "  </thead>\n",
       "  <tbody>\n",
       "    <tr>\n",
       "      <th>0</th>\n",
       "      <td>0.000000</td>\n",
       "      <td>0.005780</td>\n",
       "      <td>Train</td>\n",
       "      <td>RFC</td>\n",
       "    </tr>\n",
       "    <tr>\n",
       "      <th>1</th>\n",
       "      <td>0.010145</td>\n",
       "      <td>0.069364</td>\n",
       "      <td>Test</td>\n",
       "      <td>RFC</td>\n",
       "    </tr>\n",
       "    <tr>\n",
       "      <th>2</th>\n",
       "      <td>0.000000</td>\n",
       "      <td>0.005780</td>\n",
       "      <td>Train</td>\n",
       "      <td>XGB</td>\n",
       "    </tr>\n",
       "    <tr>\n",
       "      <th>3</th>\n",
       "      <td>0.001449</td>\n",
       "      <td>0.046243</td>\n",
       "      <td>Test</td>\n",
       "      <td>XGB</td>\n",
       "    </tr>\n",
       "  </tbody>\n",
       "</table>\n",
       "</div>"
      ],
      "text/plain": [
       "     Type_I   Type_II   Type Model\n",
       "0  0.000000  0.005780  Train   RFC\n",
       "1  0.010145  0.069364   Test   RFC\n",
       "2  0.000000  0.005780  Train   XGB\n",
       "3  0.001449  0.046243   Test   XGB"
      ]
     },
     "execution_count": 10,
     "metadata": {},
     "output_type": "execute_result"
    }
   ],
   "source": [
    "dfvs"
   ]
  },
  {
   "cell_type": "markdown",
   "metadata": {},
   "source": [
    "### You can see that XBG is 33% better on the test for Type II errors"
   ]
  },
  {
   "cell_type": "markdown",
   "metadata": {},
   "source": [
    "# Upsample Data"
   ]
  },
  {
   "cell_type": "code",
   "execution_count": 11,
   "metadata": {},
   "outputs": [],
   "source": [
    "up_df = pd.read_pickle('../../Data/dedicatedTrain.pkl')\n",
    "up_dftest = pd.read_pickle('../../Data/dedicatedTest.pkl')"
   ]
  },
  {
   "cell_type": "code",
   "execution_count": 12,
   "metadata": {},
   "outputs": [],
   "source": [
    "X_train, y_train = up_df.drop('Class',1), up_df['Class']\n",
    "X_test, y_test = up_dftest.drop('Class',1), up_dftest['Class']"
   ]
  },
  {
   "cell_type": "code",
   "execution_count": 13,
   "metadata": {},
   "outputs": [],
   "source": [
    "# Build XGBClassifier\n",
    "\n",
    "xg_cls = xgb.XGBClassifier(tree_method='gpu_exact')\n",
    "xg_cls.fit(X_train,y_train)\n",
    "\n",
    "XGBpreds = xg_cls.predict(X_test)\n",
    "\n",
    "XGBtrain_preds = xg_cls.predict(X_train)"
   ]
  },
  {
   "cell_type": "code",
   "execution_count": 14,
   "metadata": {},
   "outputs": [
    {
     "name": "stderr",
     "output_type": "stream",
     "text": [
      "/home/ebicher/.local/lib/python3.6/site-packages/sklearn/ensemble/forest.py:248: FutureWarning: The default value of n_estimators will change from 10 in version 0.20 to 100 in 0.22.\n",
      "  \"10 in version 0.20 to 100 in 0.22.\", FutureWarning)\n"
     ]
    }
   ],
   "source": [
    "# Build RFClassifer\n",
    "\n",
    "clf = RandomForestClassifier()\n",
    "clf.fit(X_train,y_train)\n",
    "\n",
    "\n",
    "CLFpreds = clf.predict(X_test)\n",
    "CLFtrain_preds = clf.predict(X_train)"
   ]
  },
  {
   "cell_type": "code",
   "execution_count": 15,
   "metadata": {},
   "outputs": [
    {
     "name": "stdout",
     "output_type": "stream",
     "text": [
      "****************RFC****************\n",
      "********** Under Sampled **********\n",
      "***********************************\n",
      "\n",
      "Training set accuracy:\n",
      "Percent Type I errors:  0.00000176\n",
      "Percent Type II errors: 0.00000000\n",
      "Score: 0.99999824\n",
      "\n",
      "Test set accuracy:\n",
      "Percent Type I errors: 0.00000000\n",
      "Percent Type II errors: 0.10569106\n",
      "Score: 0.89430894\n",
      "\n",
      "***********************************\n",
      "* Type I errors are normal purchases that have been flagged.\n",
      "* Type II errors are frauds that are not caught!\n",
      "\n"
     ]
    }
   ],
   "source": [
    "# Accuracy tables on the training and test set for RFC\n",
    "\n",
    "table_train = pd.crosstab(y_train, CLFtrain_preds, margins=True)\n",
    "table_test = pd.crosstab(y_test, CLFpreds, margins=True)\n",
    "test_score = clf.score(X_test, y_test) \n",
    "train_score = clf.score(X_train, y_train) \n",
    "\n",
    "train_tI_errors = table_train.loc[0.0,1.0] / table_train.loc['All','All']\n",
    "train_tII_errors = table_train.loc[1.0,0.0] / table_train.loc['All','All']\n",
    "\n",
    "test_tI_errors = table_test.loc[0.0,1.0]/table_test.loc['All','All']\n",
    "test_tII_errors = table_test.loc[1.0,0.0]/table_test.loc['All','All']\n",
    "\n",
    "print((\n",
    "    '****************RFC****************\\n'\n",
    "    '********** Under Sampled **********\\n'\n",
    "    '***********************************\\n\\n'    \n",
    "    'Training set accuracy:\\n'\n",
    "    'Percent Type I errors:  {:.8f}\\n'\n",
    "    'Percent Type II errors: {:.8f}\\n'\n",
    "    'Score: {:.8f}\\n\\n'\n",
    "    \n",
    "    'Test set accuracy:\\n'\n",
    "    'Percent Type I errors: {:.8f}\\n'\n",
    "    'Percent Type II errors: {:.8f}\\n'\n",
    "    'Score: {:.8f}\\n\\n'\n",
    "    '***********************************\\n'\n",
    "    '* Type I errors are normal purchases that have been flagged.\\n'\n",
    "    '* Type II errors are frauds that are not caught!\\n'\n",
    ").format(train_tI_errors, train_tII_errors, train_score, test_tI_errors, test_tII_errors, test_score))"
   ]
  },
  {
   "cell_type": "code",
   "execution_count": 16,
   "metadata": {},
   "outputs": [
    {
     "name": "stdout",
     "output_type": "stream",
     "text": [
      "****************XGB****************\n",
      "********** Under Sampled **********\n",
      "***********************************\n",
      "\n",
      "Training set accuracy:\n",
      "Percent Type I errors:  0.00284139\n",
      "Percent Type II errors: 0.00621763\n",
      "Score: 0.99094098\n",
      "\n",
      "Test set accuracy:\n",
      "Percent Type I errors: 0.00406504\n",
      "Percent Type II errors: 0.06097561\n",
      "Score: 0.93495935\n",
      "\n",
      "***********************************\n",
      "* Type I errors are normal purchases that have been flagged.\n",
      "* Type II errors are frauds that are not caught!\n",
      "\n"
     ]
    }
   ],
   "source": [
    "# Accuracy tables on the training and test set for XGB\n",
    "\n",
    "table_train = pd.crosstab(y_train, XGBtrain_preds, margins=True)\n",
    "table_test = pd.crosstab(y_test, XGBpreds, margins=True)\n",
    "Xtest_score = xg_cls.score(X_test, y_test) \n",
    "Xtrain_score = xg_cls.score(X_train, y_train) \n",
    "\n",
    "Xtrain_tI_errors = table_train.loc[0.0,1.0] / table_train.loc['All','All']\n",
    "Xtrain_tII_errors = table_train.loc[1.0,0.0] / table_train.loc['All','All']\n",
    "\n",
    "Xtest_tI_errors = table_test.loc[0.0,1.0]/table_test.loc['All','All']\n",
    "Xtest_tII_errors = table_test.loc[1.0,0.0]/table_test.loc['All','All']\n",
    "\n",
    "print((\n",
    "    '****************XGB****************\\n'\n",
    "    '********** Under Sampled **********\\n'\n",
    "    '***********************************\\n\\n'    \n",
    "    'Training set accuracy:\\n'\n",
    "    'Percent Type I errors:  {:.8f}\\n'\n",
    "    'Percent Type II errors: {:.8f}\\n'\n",
    "    'Score: {:.8f}\\n\\n'\n",
    "    \n",
    "    'Test set accuracy:\\n'\n",
    "    'Percent Type I errors: {:.8f}\\n'\n",
    "    'Percent Type II errors: {:.8f}\\n'\n",
    "    'Score: {:.8f}\\n\\n'\n",
    "    '***********************************\\n'\n",
    "    '* Type I errors are normal purchases that have been flagged.\\n'\n",
    "    '* Type II errors are frauds that are not caught!\\n'\n",
    ").format(Xtrain_tI_errors, Xtrain_tII_errors, Xtrain_score, Xtest_tI_errors, Xtest_tII_errors, Xtest_score))"
   ]
  },
  {
   "cell_type": "code",
   "execution_count": 17,
   "metadata": {},
   "outputs": [],
   "source": [
    "dfvs = pd.DataFrame([[train_tI_errors, test_tI_errors, 'Train','RFC'],\n",
    "                     [train_tII_errors, test_tII_errors, 'Test', 'RFC'],\n",
    "                     [Xtrain_tI_errors, Xtest_tI_errors,'Train', 'XGB'],\n",
    "                     [Xtrain_tII_errors, Xtest_tII_errors, 'Test', 'XGB']], \n",
    "                    columns=['Type_I', 'Type_II', 'Type', 'Model'])"
   ]
  },
  {
   "cell_type": "code",
   "execution_count": 18,
   "metadata": {},
   "outputs": [
    {
     "data": {
      "text/plain": [
       "0.42307692307692313"
      ]
     },
     "execution_count": 18,
     "metadata": {},
     "output_type": "execute_result"
    }
   ],
   "source": [
    "1 - dfvs.iloc[3]['Type_II'] /dfvs.iloc[1]['Type_II']"
   ]
  },
  {
   "cell_type": "code",
   "execution_count": 19,
   "metadata": {},
   "outputs": [
    {
     "data": {
      "text/html": [
       "<div>\n",
       "<style scoped>\n",
       "    .dataframe tbody tr th:only-of-type {\n",
       "        vertical-align: middle;\n",
       "    }\n",
       "\n",
       "    .dataframe tbody tr th {\n",
       "        vertical-align: top;\n",
       "    }\n",
       "\n",
       "    .dataframe thead th {\n",
       "        text-align: right;\n",
       "    }\n",
       "</style>\n",
       "<table border=\"1\" class=\"dataframe\">\n",
       "  <thead>\n",
       "    <tr style=\"text-align: right;\">\n",
       "      <th></th>\n",
       "      <th>Type_I</th>\n",
       "      <th>Type_II</th>\n",
       "      <th>Type</th>\n",
       "      <th>Model</th>\n",
       "    </tr>\n",
       "  </thead>\n",
       "  <tbody>\n",
       "    <tr>\n",
       "      <th>0</th>\n",
       "      <td>0.000002</td>\n",
       "      <td>0.000000</td>\n",
       "      <td>Train</td>\n",
       "      <td>RFC</td>\n",
       "    </tr>\n",
       "    <tr>\n",
       "      <th>1</th>\n",
       "      <td>0.000000</td>\n",
       "      <td>0.105691</td>\n",
       "      <td>Test</td>\n",
       "      <td>RFC</td>\n",
       "    </tr>\n",
       "    <tr>\n",
       "      <th>2</th>\n",
       "      <td>0.002841</td>\n",
       "      <td>0.004065</td>\n",
       "      <td>Train</td>\n",
       "      <td>XGB</td>\n",
       "    </tr>\n",
       "    <tr>\n",
       "      <th>3</th>\n",
       "      <td>0.006218</td>\n",
       "      <td>0.060976</td>\n",
       "      <td>Test</td>\n",
       "      <td>XGB</td>\n",
       "    </tr>\n",
       "  </tbody>\n",
       "</table>\n",
       "</div>"
      ],
      "text/plain": [
       "     Type_I   Type_II   Type Model\n",
       "0  0.000002  0.000000  Train   RFC\n",
       "1  0.000000  0.105691   Test   RFC\n",
       "2  0.002841  0.004065  Train   XGB\n",
       "3  0.006218  0.060976   Test   XGB"
      ]
     },
     "execution_count": 19,
     "metadata": {},
     "output_type": "execute_result"
    }
   ],
   "source": [
    "dfvs"
   ]
  },
  {
   "cell_type": "markdown",
   "metadata": {},
   "source": [
    "### You can see that XBG is 42% better on the test for Type II errors"
   ]
  },
  {
   "cell_type": "code",
   "execution_count": null,
   "metadata": {},
   "outputs": [],
   "source": []
  }
 ],
 "metadata": {
  "kernelspec": {
   "display_name": "Python 3",
   "language": "python",
   "name": "python3"
  },
  "language_info": {
   "codemirror_mode": {
    "name": "ipython",
    "version": 3
   },
   "file_extension": ".py",
   "mimetype": "text/x-python",
   "name": "python",
   "nbconvert_exporter": "python",
   "pygments_lexer": "ipython3",
   "version": "3.6.6"
  }
 },
 "nbformat": 4,
 "nbformat_minor": 2
}
