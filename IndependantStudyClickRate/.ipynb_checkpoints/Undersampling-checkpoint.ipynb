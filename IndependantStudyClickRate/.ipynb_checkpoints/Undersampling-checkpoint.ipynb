{
 "cells": [
  {
   "cell_type": "code",
   "execution_count": 64,
   "metadata": {},
   "outputs": [],
   "source": [
    "import pandas as pd\n",
    "import numpy as np\n",
    "import matplotlib.pyplot as plt\n",
    "import seaborn as sns"
   ]
  },
  {
   "cell_type": "code",
   "execution_count": 3,
   "metadata": {},
   "outputs": [],
   "source": [
    "df = pd.read_pickle('../../Data/Mobile/train.pkl')"
   ]
  },
  {
   "cell_type": "code",
   "execution_count": 65,
   "metadata": {},
   "outputs": [
    {
     "name": "stdout",
     "output_type": "stream",
     "text": [
      "<class 'pandas.core.frame.DataFrame'>\n",
      "RangeIndex: 40428967 entries, 0 to 40428966\n",
      "Data columns (total 28 columns):\n",
      "id                  float32\n",
      "click               uint8\n",
      "C1                  uint16\n",
      "banner_pos          uint8\n",
      "site_id             object\n",
      "site_domain         object\n",
      "site_category       object\n",
      "app_id              object\n",
      "app_domain          object\n",
      "app_category        object\n",
      "device_id           object\n",
      "device_ip           object\n",
      "device_model        object\n",
      "device_type         uint8\n",
      "device_conn_type    uint8\n",
      "C14                 uint16\n",
      "C15                 uint16\n",
      "C16                 uint16\n",
      "C17                 uint16\n",
      "C18                 uint8\n",
      "C19                 uint16\n",
      "C20                 int32\n",
      "C21                 uint16\n",
      "day                 uint8\n",
      "hour                uint8\n",
      "weekday             uint8\n",
      "hourmean            float32\n",
      "weekdayport         float32\n",
      "dtypes: float32(3), int32(1), object(9), uint16(7), uint8(8)\n",
      "memory usage: 4.1+ GB\n"
     ]
    }
   ],
   "source": [
    "df.info()"
   ]
  },
  {
   "cell_type": "code",
   "execution_count": 76,
   "metadata": {
    "scrolled": true
   },
   "outputs": [
    {
     "data": {
      "text/plain": [
       "<matplotlib.axes._subplots.AxesSubplot at 0x7fefd2d85390>"
      ]
     },
     "execution_count": 76,
     "metadata": {},
     "output_type": "execute_result"
    },
    {
     "data": {
      "image/png": "[encoded data removed]",
      "text/plain": [
       "<Figure size 432x288 with 1 Axes>"
      ]
     },
     "metadata": {
      "needs_background": "light"
     },
     "output_type": "display_data"
    }
   ],
   "source": [
    "sns.countplot(df['click'], palette='Blues')"
   ]
  },
  {
   "cell_type": "code",
   "execution_count": 67,
   "metadata": {},
   "outputs": [
    {
     "data": {
      "text/plain": [
       "[0.16182836890220642,\n",
       " 0.1569141447544098,\n",
       " 0.1754574030637741,\n",
       " 0.1747158169746399,\n",
       " 0.18240194022655487,\n",
       " 0.18304894864559174,\n",
       " 0.18159416317939758]"
      ]
     },
     "execution_count": 67,
     "metadata": {},
     "output_type": "execute_result"
    }
   ],
   "source": [
    "listofportions = list(df['weekdayport'].unique())\n",
    "listofportions"
   ]
  },
  {
   "cell_type": "code",
   "execution_count": 69,
   "metadata": {},
   "outputs": [],
   "source": [
    "mon = len(df[(df.weekday==0) & (df.click==1)]) * (1.8 - listofportions[0]*3)"
   ]
  },
  {
   "cell_type": "code",
   "execution_count": 71,
   "metadata": {},
   "outputs": [
    {
     "data": {
      "text/plain": [
       "769836"
      ]
     },
     "execution_count": 71,
     "metadata": {},
     "output_type": "execute_result"
    }
   ],
   "source": [
    "int(mon)"
   ]
  },
  {
   "cell_type": "code",
   "execution_count": 72,
   "metadata": {},
   "outputs": [],
   "source": [
    "# Undersampling but keeping the same amount of \n",
    "\n",
    "listofportions = list(df['weekdayport'].unique())\n",
    "\n",
    "mon = int(len(df[(df.weekday==0) & (df.click==1)]) * (1.8 - listofportions[0]*3))\n",
    "tues = int(len(df[(df.weekday==1) & (df.click==1)]) * (1.8 - listofportions[1]*3))\n",
    "wed = int(len(df[(df.weekday==2) & (df.click==1)]) * (1.8 - listofportions[2]*3))\n",
    "thurs = int(len(df[(df.weekday==3) & (df.click==1)]) * (1.8 - listofportions[3]*3))\n",
    "fri = int(len(df[(df.weekday==4) & (df.click==1)]) * (1.8 - listofportions[4]*3))\n",
    "sat = int(len(df[(df.weekday==5) & (df.click==1)]) * (1.8 - listofportions[5]*3))\n",
    "sun = int(len(df[(df.weekday==6) & (df.click==1)]) * (1.8 - listofportions[6]*3))\n",
    "\n",
    "mon_index = np.array(df[(df.weekday==0) & (df.click==1)].index)\n",
    "tues_index = np.array(df[(df.weekday==1) & (df.click==1)].index)\n",
    "wed_index = np.array(df[(df.weekday==2) & (df.click==1)].index)\n",
    "thurs_index = np.array(df[(df.weekday==3) & (df.click==1)].index)\n",
    "fri_index = np.array(df[(df.weekday==4) & (df.click==1)].index)\n",
    "sat_index = np.array(df[(df.weekday==5) & (df.click==1)].index)\n",
    "sun_index = np.array(df[(df.weekday==6) & (df.click==1)].index)\n",
    "\n",
    "mon_index0 = np.array(df[(df.weekday==0) & (df.click==0)].index)\n",
    "tues_index0 = np.array(df[(df.weekday==1) & (df.click==0)].index)\n",
    "wed_index0 = np.array(df[(df.weekday==2) & (df.click==0)].index)\n",
    "thurs_index0 = np.array(df[(df.weekday==3) & (df.click==0)].index)\n",
    "fri_index0 = np.array(df[(df.weekday==4) & (df.click==0)].index)\n",
    "sat_index0 = np.array(df[(df.weekday==5) & (df.click==0)].index)\n",
    "sun_index0 = np.array(df[(df.weekday==6) & (df.click==0)].index)\n",
    "\n",
    "rand_mon = np.random.choice(mon_index0, mon, replace = False)\n",
    "rand_mon = np.array(rand_mon)\n",
    "\n",
    "rand_tues = np.random.choice(tues_index0, tues, replace = False)\n",
    "rand_tues = np.array(rand_tues)\n",
    "\n",
    "rand_wed = np.random.choice(wed_index0, wed, replace = False)\n",
    "rand_wed = np.array(rand_wed)\n",
    "\n",
    "rand_thurs = np.random.choice(thurs_index0, thurs, replace = False)\n",
    "rand_thurs = np.array(rand_thurs)\n",
    "\n",
    "rand_fri = np.random.choice(fri_index0, fri, replace = False)\n",
    "rand_fri = np.array(rand_fri)\n",
    "\n",
    "rand_sat = np.random.choice(sat_index0, sat, replace = False)\n",
    "rand_sat = np.array(rand_sat)\n",
    "\n",
    "rand_sun = np.random.choice(sun_index0, sun, replace = False)\n",
    "rand_sun = np.array(rand_sun)\n",
    "\n",
    "\n",
    "equal_ind = np.concatenate([mon_index, tues_index, wed_index, thurs_index, fri_index, \n",
    "                            sat_index, sun_index, rand_mon, rand_tues, rand_wed, rand_thurs, \n",
    "                            rand_fri, rand_sat, rand_sun])\n",
    "\n",
    "eq_df = df.iloc[equal_ind, :]"
   ]
  },
  {
   "cell_type": "code",
   "execution_count": 77,
   "metadata": {},
   "outputs": [
    {
     "data": {
      "text/plain": [
       "<matplotlib.axes._subplots.AxesSubplot at 0x7fefd2d4ab70>"
      ]
     },
     "execution_count": 77,
     "metadata": {},
     "output_type": "execute_result"
    },
    {
     "data": {
      "image/png": "[encoded data removed]",
      "text/plain": [
       "<Figure size 432x288 with 1 Axes>"
      ]
     },
     "metadata": {
      "needs_background": "light"
     },
     "output_type": "display_data"
    }
   ],
   "source": [
    "sns.countplot(eq_df['click'], palette=\"rocket\")"
   ]
  },
  {
   "cell_type": "code",
   "execution_count": 80,
   "metadata": {},
   "outputs": [
    {
     "data": {
      "text/plain": [
       "<matplotlib.axes._subplots.AxesSubplot at 0x7fefd30f4198>"
      ]
     },
     "execution_count": 80,
     "metadata": {},
     "output_type": "execute_result"
    },
    {
     "data": {
      "image/png": "[encoded data removed]",
      "text/plain": [
       "<Figure size 1440x720 with 2 Axes>"
      ]
     },
     "metadata": {
      "needs_background": "light"
     },
     "output_type": "display_data"
    }
   ],
   "source": [
    "plt.figure(figsize=(20,10))\n",
    "plt.subplot(1,2,1)\n",
    "plt.title('Counts of Clicks vs Nonclicks each day')\n",
    "sns.countplot(x=\"day\", hue=\"click\", data=df, palette=\"Blues\")\n",
    "plt.subplot(1,2,2)\n",
    "plt.title('ALTERED : Counts of Clicks vs Nonclicks each day')\n",
    "sns.countplot(x=\"day\", hue=\"click\", data=eq_df, palette=\"rocket\")"
   ]
  },
  {
   "cell_type": "code",
   "execution_count": 81,
   "metadata": {},
   "outputs": [],
   "source": [
    "eq_df.to_pickle('../../Data/Mobile/trainSample.pkl')"
   ]
  },
  {
   "cell_type": "code",
   "execution_count": null,
   "metadata": {},
   "outputs": [],
   "source": []
  }
 ],
 "metadata": {
  "kernelspec": {
   "display_name": "Python 3",
   "language": "python",
   "name": "python3"
  },
  "language_info": {
   "codemirror_mode": {
    "name": "ipython",
    "version": 3
   },
   "file_extension": ".py",
   "mimetype": "text/x-python",
   "name": "python",
   "nbconvert_exporter": "python",
   "pygments_lexer": "ipython3",
   "version": "3.6.6"
  }
 },
 "nbformat": 4,
 "nbformat_minor": 2
}
