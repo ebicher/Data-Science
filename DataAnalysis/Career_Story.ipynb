{
 "cells": [
  {
   "cell_type": "markdown",
   "metadata": {},
   "source": [
    "# Career Story"
   ]
  },
  {
   "cell_type": "markdown",
   "metadata": {},
   "source": [
    "1. My ideal job would be a job working with machine learning, deep learning and predictive algorithms to analysis big data sources. I want to build neural networks to help businesses make the right decisions. It would be nice to work with a small agile team that commmunicates well and works quickly. Working remotely would be a plus but not a necessity."
   ]
  },
  {
   "cell_type": "markdown",
   "metadata": {},
   "source": [
    "2. My ideal job is one where I get to work with building computer programs that basically do work for me. You build them kind of like brains, in the sense that they are networks of connected pathways that problem solve. I'll basically be building the programs that hopefully one day will have a mind of their own. "
   ]
  },
  {
   "cell_type": "markdown",
   "metadata": {},
   "source": [
    "3. Ambitious machine learning specialist who focuses on writing predictive algorithms and neural networks that will give you the answers to the questions you want answered. I create the robot brains for the computers to work for you!"
   ]
  },
  {
   "cell_type": "code",
   "execution_count": null,
   "metadata": {},
   "outputs": [],
   "source": []
  }
 ],
 "metadata": {
  "kernelspec": {
   "display_name": "Python 3",
   "language": "python",
   "name": "python3"
  },
  "language_info": {
   "codemirror_mode": {
    "name": "ipython",
    "version": 3
   },
   "file_extension": ".py",
   "mimetype": "text/x-python",
   "name": "python",
   "nbconvert_exporter": "python",
   "pygments_lexer": "ipython3",
   "version": "3.6.5"
  }
 },
 "nbformat": 4,
 "nbformat_minor": 2
}
