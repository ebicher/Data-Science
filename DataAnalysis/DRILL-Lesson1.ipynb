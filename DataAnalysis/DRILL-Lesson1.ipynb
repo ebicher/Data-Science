{
 "cells": [
  {
   "cell_type": "markdown",
   "metadata": {},
   "source": [
    "# Drill: What can data science do?"
   ]
  },
  {
   "cell_type": "markdown",
   "metadata": {},
   "source": [
    "#### 1. You work at an e-commerce company that sells three goods: widgets, doodads, and fizzbangs. The head of advertising asks you which they should feature in their new advertising campaign. You have data on individual visitors' sessions (activity on a website, pageviews, and purchases), as well as whether or not those users converted from an advertisement for that session. You also have the cost and price information for the goods."
   ]
  },
  {
   "cell_type": "markdown",
   "metadata": {},
   "source": [
    "Well you can calculate what good is most likely viewed and purchased by users from an advertisement. You can also calculate which would make the company the most money. If the widget is .50 dollars and 75% of users who see the advertisement buy it, that is good, but if the fizzbang is 5000 dollars and although only 10% of the users buy it, it would be more profitable. You could also look at the activity on website to see if you should change it. For instance, if 50% of people who buy widgets buy doodads, then maybe the company should offer a combination package, or just advertise for doodads on the widget page. "
   ]
  },
  {
   "cell_type": "markdown",
   "metadata": {},
   "source": [
    "#### 2. You work at a web design company that offers to build websites for clients. Signups have slowed, and you are tasked with finding out why. The onboarding funnel has three steps: email and password signup, plan choice, and payment. On a user level you have information on what steps they have completed as well as timestamps for all of those events for the past 3 years. You also have information on marketing spend on a weekly level."
   ]
  },
  {
   "cell_type": "markdown",
   "metadata": {},
   "source": [
    "You could find out which step the users normally stop at and compare that to the data in previous years. You could also look at what marketing is spending and how many users you get from that spending. "
   ]
  },
  {
   "cell_type": "markdown",
   "metadata": {},
   "source": [
    "#### 3. You work at a hotel website and currently the website ranks search results by price. For simplicity's sake, let's say it's a website for one city with 100 hotels. You are tasked with proposing a better ranking system. You have session information, price information for the hotels, and whether each hotel is currently available."
   ]
  },
  {
   "cell_type": "markdown",
   "metadata": {},
   "source": [
    "You could create a dropdown with numerous ranking systems. You could rank by popularity (by checking how often one is available) or by rating. You could also look at session information to find out what users look for after they click on a hotel and that might help with deciding a new ranking system or options on the website. "
   ]
  },
  {
   "cell_type": "markdown",
   "metadata": {},
   "source": [
    "#### 4. You work at a social network, and the management is worried about churn (users stopping using the product). You are tasked with finding out if their churn is atypical. You have three years of data for users with an entry for every time they've logged in, including the timestamp and length of session."
   ]
  },
  {
   "cell_type": "markdown",
   "metadata": {},
   "source": [
    "You could make a graph that shows the users that stop using the service over the last 3 years to see if a larger percentage of users are quitting now or if the management shouldn't be worried. "
   ]
  },
  {
   "cell_type": "code",
   "execution_count": null,
   "metadata": {},
   "outputs": [],
   "source": []
  }
 ],
 "metadata": {
  "kernelspec": {
   "display_name": "Python 3",
   "language": "python",
   "name": "python3"
  },
  "language_info": {
   "codemirror_mode": {
    "name": "ipython",
    "version": 3
   },
   "file_extension": ".py",
   "mimetype": "text/x-python",
   "name": "python",
   "nbconvert_exporter": "python",
   "pygments_lexer": "ipython3",
   "version": "3.6.5"
  }
 },
 "nbformat": 4,
 "nbformat_minor": 2
}
