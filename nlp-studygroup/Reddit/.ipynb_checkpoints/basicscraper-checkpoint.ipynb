{
 "cells": [
  {
   "cell_type": "code",
   "execution_count": 1,
   "metadata": {},
   "outputs": [],
   "source": [
    "import praw\n",
    "import pandas as pd\n",
    "import datetime as dt"
   ]
  },
  {
   "cell_type": "code",
   "execution_count": 2,
   "metadata": {},
   "outputs": [],
   "source": [
    "# Logging into api\n",
    "reddit = praw.Reddit(client_id='Arq_pDXruFQ4Ag', \\\n",
    "                     client_secret='L00q3WDmmlOYnXuHyEBYl8od5jg', \\\n",
    "                     user_agent='ebicher-test', \\\n",
    "                     username='sencinitas', \\\n",
    "                     password='galaxy123')"
   ]
  },
  {
   "cell_type": "code",
   "execution_count": 3,
   "metadata": {},
   "outputs": [],
   "source": [
    "# Grabbing Chargers subreddit\n",
    "subreddit = reddit.subreddit('Chargers')"
   ]
  },
  {
   "cell_type": "code",
   "execution_count": 4,
   "metadata": {},
   "outputs": [],
   "source": [
    "# Looking at methods\n",
    "subreddit?"
   ]
  },
  {
   "cell_type": "code",
   "execution_count": 6,
   "metadata": {},
   "outputs": [],
   "source": [
    "# Top 20 Submissions\n",
    "top_subreddit = subreddit.top(limit=1000)"
   ]
  },
  {
   "cell_type": "code",
   "execution_count": 7,
   "metadata": {},
   "outputs": [
    {
     "name": "stdout",
     "output_type": "stream",
     "text": [
      "TRAITOR. Let's make this the #1 image on Google! 5nlkzv\n"
     ]
    }
   ],
   "source": [
    "# Top submission title\n",
    "for submission in subreddit.top(limit=1):\n",
    "    print(submission.title, submission.id)"
   ]
  },
  {
   "cell_type": "code",
   "execution_count": 8,
   "metadata": {},
   "outputs": [],
   "source": [
    "# Creating dictionary\n",
    "topics_dict = { \"title\":[],\n",
    "                \"score\":[],\n",
    "                \"id\":[], \n",
    "                \"url\":[], \n",
    "                \"comms_num\": [],\n",
    "                \"created\": [],\n",
    "                \"body\":[],\n",
    "                \"subreddit\": []}\n"
   ]
  },
  {
   "cell_type": "code",
   "execution_count": 9,
   "metadata": {},
   "outputs": [],
   "source": [
    "# Filling dictionary with data\n",
    "for submission in top_subreddit:\n",
    "    topics_dict[\"title\"].append(submission.title)\n",
    "    topics_dict[\"score\"].append(submission.score)\n",
    "    topics_dict[\"id\"].append(submission.id)\n",
    "    topics_dict[\"url\"].append(submission.url)\n",
    "    topics_dict[\"comms_num\"].append(submission.num_comments)\n",
    "    topics_dict[\"created\"].append(submission.created)\n",
    "    topics_dict[\"body\"].append(submission.selftext)\n",
    "    topics_dict[\"subreddit\"].append(submission.subreddit)"
   ]
  },
  {
   "cell_type": "code",
   "execution_count": 10,
   "metadata": {},
   "outputs": [],
   "source": [
    "# Putting it into a dataframe\n",
    "topics_data = pd.DataFrame(topics_dict)"
   ]
  },
  {
   "cell_type": "code",
   "execution_count": 11,
   "metadata": {
    "scrolled": true
   },
   "outputs": [
    {
     "data": {
      "text/html": [
       "<div>\n",
       "<style scoped>\n",
       "    .dataframe tbody tr th:only-of-type {\n",
       "        vertical-align: middle;\n",
       "    }\n",
       "\n",
       "    .dataframe tbody tr th {\n",
       "        vertical-align: top;\n",
       "    }\n",
       "\n",
       "    .dataframe thead th {\n",
       "        text-align: right;\n",
       "    }\n",
       "</style>\n",
       "<table border=\"1\" class=\"dataframe\">\n",
       "  <thead>\n",
       "    <tr style=\"text-align: right;\">\n",
       "      <th></th>\n",
       "      <th>title</th>\n",
       "      <th>score</th>\n",
       "      <th>id</th>\n",
       "      <th>url</th>\n",
       "      <th>comms_num</th>\n",
       "      <th>created</th>\n",
       "      <th>body</th>\n",
       "      <th>subreddit</th>\n",
       "    </tr>\n",
       "  </thead>\n",
       "  <tbody>\n",
       "    <tr>\n",
       "      <th>0</th>\n",
       "      <td>TRAITOR. Let's make this the #1 image on Google!</td>\n",
       "      <td>8852</td>\n",
       "      <td>5nlkzv</td>\n",
       "      <td>https://i.redd.it/m0wnou0j6c9y.png</td>\n",
       "      <td>198</td>\n",
       "      <td>1.484280e+09</td>\n",
       "      <td></td>\n",
       "      <td>Chargers</td>\n",
       "    </tr>\n",
       "    <tr>\n",
       "      <th>1</th>\n",
       "      <td>Raiders. Up vote this so that when people give...</td>\n",
       "      <td>3036</td>\n",
       "      <td>62tetg</td>\n",
       "      <td>https://i.redd.it/65j94evunyoy.jpg</td>\n",
       "      <td>33</td>\n",
       "      <td>1.491090e+09</td>\n",
       "      <td></td>\n",
       "      <td>Chargers</td>\n",
       "    </tr>\n",
       "    <tr>\n",
       "      <th>2</th>\n",
       "      <td>Asshole</td>\n",
       "      <td>2170</td>\n",
       "      <td>5ngy1c</td>\n",
       "      <td>http://imgur.com/a/MInCI</td>\n",
       "      <td>136</td>\n",
       "      <td>1.484220e+09</td>\n",
       "      <td></td>\n",
       "      <td>Chargers</td>\n",
       "    </tr>\n",
       "    <tr>\n",
       "      <th>3</th>\n",
       "      <td>Brochachos, Pay your internet provider a separ...</td>\n",
       "      <td>1457</td>\n",
       "      <td>7ene7f</td>\n",
       "      <td>https://www.battleforthenet.com/</td>\n",
       "      <td>38</td>\n",
       "      <td>1.511346e+09</td>\n",
       "      <td></td>\n",
       "      <td>Chargers</td>\n",
       "    </tr>\n",
       "    <tr>\n",
       "      <th>4</th>\n",
       "      <td>Charger fire McCoy</td>\n",
       "      <td>1349</td>\n",
       "      <td>5likbj</td>\n",
       "      <td>https://twitter.com/greggrosenthal/status/8157...</td>\n",
       "      <td>171</td>\n",
       "      <td>1.483350e+09</td>\n",
       "      <td></td>\n",
       "      <td>Chargers</td>\n",
       "    </tr>\n",
       "  </tbody>\n",
       "</table>\n",
       "</div>"
      ],
      "text/plain": [
       "                                               title  score      id  \\\n",
       "0   TRAITOR. Let's make this the #1 image on Google!   8852  5nlkzv   \n",
       "1  Raiders. Up vote this so that when people give...   3036  62tetg   \n",
       "2                                            Asshole   2170  5ngy1c   \n",
       "3  Brochachos, Pay your internet provider a separ...   1457  7ene7f   \n",
       "4                                 Charger fire McCoy   1349  5likbj   \n",
       "\n",
       "                                                 url  comms_num       created  \\\n",
       "0                 https://i.redd.it/m0wnou0j6c9y.png        198  1.484280e+09   \n",
       "1                 https://i.redd.it/65j94evunyoy.jpg         33  1.491090e+09   \n",
       "2                           http://imgur.com/a/MInCI        136  1.484220e+09   \n",
       "3                   https://www.battleforthenet.com/         38  1.511346e+09   \n",
       "4  https://twitter.com/greggrosenthal/status/8157...        171  1.483350e+09   \n",
       "\n",
       "  body subreddit  \n",
       "0       Chargers  \n",
       "1       Chargers  \n",
       "2       Chargers  \n",
       "3       Chargers  \n",
       "4       Chargers  "
      ]
     },
     "execution_count": 11,
     "metadata": {},
     "output_type": "execute_result"
    }
   ],
   "source": [
    "# Data\n",
    "topics_data.head()"
   ]
  },
  {
   "cell_type": "code",
   "execution_count": 12,
   "metadata": {},
   "outputs": [],
   "source": [
    "topics_data.drop_duplicates(subset=['id'], inplace=True)"
   ]
  },
  {
   "cell_type": "code",
   "execution_count": 13,
   "metadata": {},
   "outputs": [],
   "source": [
    "# Method for getting date\n",
    "def get_date(created):\n",
    "    return dt.datetime.fromtimestamp(created)"
   ]
  },
  {
   "cell_type": "code",
   "execution_count": 14,
   "metadata": {},
   "outputs": [],
   "source": [
    "_timestamp = topics_data[\"created\"].apply(get_date)"
   ]
  },
  {
   "cell_type": "code",
   "execution_count": 15,
   "metadata": {},
   "outputs": [],
   "source": [
    "topics_data = topics_data.assign(timestamp = _timestamp)"
   ]
  },
  {
   "cell_type": "code",
   "execution_count": 16,
   "metadata": {},
   "outputs": [
    {
     "data": {
      "text/html": [
       "<div>\n",
       "<style scoped>\n",
       "    .dataframe tbody tr th:only-of-type {\n",
       "        vertical-align: middle;\n",
       "    }\n",
       "\n",
       "    .dataframe tbody tr th {\n",
       "        vertical-align: top;\n",
       "    }\n",
       "\n",
       "    .dataframe thead th {\n",
       "        text-align: right;\n",
       "    }\n",
       "</style>\n",
       "<table border=\"1\" class=\"dataframe\">\n",
       "  <thead>\n",
       "    <tr style=\"text-align: right;\">\n",
       "      <th></th>\n",
       "      <th>title</th>\n",
       "      <th>score</th>\n",
       "      <th>id</th>\n",
       "      <th>url</th>\n",
       "      <th>comms_num</th>\n",
       "      <th>created</th>\n",
       "      <th>body</th>\n",
       "      <th>subreddit</th>\n",
       "      <th>timestamp</th>\n",
       "    </tr>\n",
       "  </thead>\n",
       "  <tbody>\n",
       "    <tr>\n",
       "      <th>0</th>\n",
       "      <td>TRAITOR. Let's make this the #1 image on Google!</td>\n",
       "      <td>8852</td>\n",
       "      <td>5nlkzv</td>\n",
       "      <td>https://i.redd.it/m0wnou0j6c9y.png</td>\n",
       "      <td>198</td>\n",
       "      <td>1.484280e+09</td>\n",
       "      <td></td>\n",
       "      <td>Chargers</td>\n",
       "      <td>2017-01-12 19:55:34</td>\n",
       "    </tr>\n",
       "    <tr>\n",
       "      <th>1</th>\n",
       "      <td>Raiders. Up vote this so that when people give...</td>\n",
       "      <td>3036</td>\n",
       "      <td>62tetg</td>\n",
       "      <td>https://i.redd.it/65j94evunyoy.jpg</td>\n",
       "      <td>33</td>\n",
       "      <td>1.491090e+09</td>\n",
       "      <td></td>\n",
       "      <td>Chargers</td>\n",
       "      <td>2017-04-01 16:34:33</td>\n",
       "    </tr>\n",
       "    <tr>\n",
       "      <th>2</th>\n",
       "      <td>Asshole</td>\n",
       "      <td>2170</td>\n",
       "      <td>5ngy1c</td>\n",
       "      <td>http://imgur.com/a/MInCI</td>\n",
       "      <td>136</td>\n",
       "      <td>1.484220e+09</td>\n",
       "      <td></td>\n",
       "      <td>Chargers</td>\n",
       "      <td>2017-01-12 03:19:56</td>\n",
       "    </tr>\n",
       "    <tr>\n",
       "      <th>3</th>\n",
       "      <td>Brochachos, Pay your internet provider a separ...</td>\n",
       "      <td>1457</td>\n",
       "      <td>7ene7f</td>\n",
       "      <td>https://www.battleforthenet.com/</td>\n",
       "      <td>38</td>\n",
       "      <td>1.511346e+09</td>\n",
       "      <td></td>\n",
       "      <td>Chargers</td>\n",
       "      <td>2017-11-22 02:22:44</td>\n",
       "    </tr>\n",
       "    <tr>\n",
       "      <th>4</th>\n",
       "      <td>Charger fire McCoy</td>\n",
       "      <td>1349</td>\n",
       "      <td>5likbj</td>\n",
       "      <td>https://twitter.com/greggrosenthal/status/8157...</td>\n",
       "      <td>171</td>\n",
       "      <td>1.483350e+09</td>\n",
       "      <td></td>\n",
       "      <td>Chargers</td>\n",
       "      <td>2017-01-02 01:39:52</td>\n",
       "    </tr>\n",
       "  </tbody>\n",
       "</table>\n",
       "</div>"
      ],
      "text/plain": [
       "                                               title  score      id  \\\n",
       "0   TRAITOR. Let's make this the #1 image on Google!   8852  5nlkzv   \n",
       "1  Raiders. Up vote this so that when people give...   3036  62tetg   \n",
       "2                                            Asshole   2170  5ngy1c   \n",
       "3  Brochachos, Pay your internet provider a separ...   1457  7ene7f   \n",
       "4                                 Charger fire McCoy   1349  5likbj   \n",
       "\n",
       "                                                 url  comms_num       created  \\\n",
       "0                 https://i.redd.it/m0wnou0j6c9y.png        198  1.484280e+09   \n",
       "1                 https://i.redd.it/65j94evunyoy.jpg         33  1.491090e+09   \n",
       "2                           http://imgur.com/a/MInCI        136  1.484220e+09   \n",
       "3                   https://www.battleforthenet.com/         38  1.511346e+09   \n",
       "4  https://twitter.com/greggrosenthal/status/8157...        171  1.483350e+09   \n",
       "\n",
       "  body subreddit           timestamp  \n",
       "0       Chargers 2017-01-12 19:55:34  \n",
       "1       Chargers 2017-04-01 16:34:33  \n",
       "2       Chargers 2017-01-12 03:19:56  \n",
       "3       Chargers 2017-11-22 02:22:44  \n",
       "4       Chargers 2017-01-02 01:39:52  "
      ]
     },
     "execution_count": 16,
     "metadata": {},
     "output_type": "execute_result"
    }
   ],
   "source": [
    "topics_data.head()"
   ]
  },
  {
   "cell_type": "code",
   "execution_count": null,
   "metadata": {},
   "outputs": [],
   "source": []
  },
  {
   "cell_type": "code",
   "execution_count": null,
   "metadata": {},
   "outputs": [],
   "source": []
  },
  {
   "cell_type": "code",
   "execution_count": null,
   "metadata": {},
   "outputs": [],
   "source": []
  },
  {
   "cell_type": "code",
   "execution_count": null,
   "metadata": {},
   "outputs": [],
   "source": []
  },
  {
   "cell_type": "code",
   "execution_count": null,
   "metadata": {
    "scrolled": true
   },
   "outputs": [],
   "source": []
  },
  {
   "cell_type": "code",
   "execution_count": null,
   "metadata": {},
   "outputs": [],
   "source": []
  },
  {
   "cell_type": "code",
   "execution_count": null,
   "metadata": {},
   "outputs": [],
   "source": []
  },
  {
   "cell_type": "code",
   "execution_count": null,
   "metadata": {
    "scrolled": true
   },
   "outputs": [],
   "source": []
  },
  {
   "cell_type": "code",
   "execution_count": 85,
   "metadata": {},
   "outputs": [],
   "source": [
    "import spacy\n",
    "import matplotlib.pyplot as plt\n",
    "import seaborn as sns\n",
    "import re\n",
    "from nltk.corpus import gutenberg, stopwords"
   ]
  },
  {
   "cell_type": "code",
   "execution_count": 86,
   "metadata": {},
   "outputs": [],
   "source": [
    "submission = reddit.submission(id='a0btbm')"
   ]
  },
  {
   "cell_type": "code",
   "execution_count": 151,
   "metadata": {},
   "outputs": [],
   "source": [
    "from praw.models import MoreComments\n",
    "submission.comments.replace_more(limit=None)\n",
    "list_of_comments = []\n",
    "comment_queue = submission.comments[:]  # Seed with top-level\n",
    "while comment_queue:\n",
    "    comment = comment_queue.pop(0)\n",
    "    list_of_comments.append(comment.body)\n",
    "    comment_queue.extend(comment.replies)"
   ]
  },
  {
   "cell_type": "code",
   "execution_count": 166,
   "metadata": {},
   "outputs": [
    {
     "ename": "TypeError",
     "evalue": "__init__() got an unexpected keyword argument 'label'",
     "output_type": "error",
     "traceback": [
      "\u001b[0;31m---------------------------------------------------------------------------\u001b[0m",
      "\u001b[0;31mTypeError\u001b[0m                                 Traceback (most recent call last)",
      "\u001b[0;32m<ipython-input-166-b38e23cec0f9>\u001b[0m in \u001b[0;36m<module>\u001b[0;34m()\u001b[0m\n\u001b[0;32m----> 1\u001b[0;31m \u001b[0mdf\u001b[0m \u001b[0;34m=\u001b[0m \u001b[0mpd\u001b[0m\u001b[0;34m.\u001b[0m\u001b[0mDataFrame\u001b[0m\u001b[0;34m(\u001b[0m\u001b[0mlist_of_comments\u001b[0m\u001b[0;34m,\u001b[0m \u001b[0mlabel\u001b[0m\u001b[0;34m=\u001b[0m\u001b[0;34m'body'\u001b[0m\u001b[0;34m)\u001b[0m\u001b[0;34m\u001b[0m\u001b[0m\n\u001b[0m\u001b[1;32m      2\u001b[0m \u001b[0mdf\u001b[0m\u001b[0;34m\u001b[0m\u001b[0m\n",
      "\u001b[0;31mTypeError\u001b[0m: __init__() got an unexpected keyword argument 'label'"
     ]
    }
   ],
   "source": [
    "df = pd.DataFrame(list_of_comments, label='body')\n",
    "df"
   ]
  },
  {
   "cell_type": "code",
   "execution_count": 153,
   "metadata": {},
   "outputs": [],
   "source": [
    "from gensim.parsing.preprocessing import remove_stopwords\n",
    "\n",
    "# Utility function to clean text.\n",
    "def text_cleaner(text):\n",
    "    listy = []\n",
    "    \n",
    "    for i in text:\n",
    "    # Visual inspection shows spaCy does not recognize the double dash '--'.\n",
    "    # Better get rid of it now!\n",
    "        j = re.sub(r'--',' ',i)\n",
    "    # Get rid of headings in square brackets.\n",
    "        j = re.sub(\"[\\[].*?[\\]]\", \"\", i)\n",
    "    # Get rid of extra whitespace.\n",
    "        j = ' '.join(i.split())\n",
    "    # Remove stopwords\n",
    "        j = remove_stopwords(j)\n",
    "        j = j.lower()\n",
    "        listy.append(j)\n",
    "    return listy\n",
    "\n",
    "clean_comments = text_cleaner(list_of_comments)"
   ]
  },
  {
   "cell_type": "code",
   "execution_count": 154,
   "metadata": {},
   "outputs": [
    {
     "data": {
      "text/plain": [
       "['if', 'don’t', 'win', 'game', 'ima', 'eat', 'lettuce', 'end']"
      ]
     },
     "execution_count": 154,
     "metadata": {},
     "output_type": "execute_result"
    }
   ],
   "source": [
    "clean_comments[1].split()"
   ]
  },
  {
   "cell_type": "code",
   "execution_count": 156,
   "metadata": {},
   "outputs": [
    {
     "data": {
      "text/plain": [
       "2199"
      ]
     },
     "execution_count": 156,
     "metadata": {},
     "output_type": "execute_result"
    }
   ],
   "source": [
    "len(clean_comments)"
   ]
  },
  {
   "cell_type": "code",
   "execution_count": 157,
   "metadata": {},
   "outputs": [],
   "source": [
    "from gensim.models import word2vec\n",
    "model = word2vec.Word2Vec([c.split() for c in clean_comments], size=1000, window=3, min_count=2, workers=4)"
   ]
  },
  {
   "cell_type": "code",
   "execution_count": 158,
   "metadata": {},
   "outputs": [],
   "source": [
    "vocab = model.wv.vocab.keys()"
   ]
  },
  {
   "cell_type": "code",
   "execution_count": 159,
   "metadata": {},
   "outputs": [
    {
     "name": "stdout",
     "output_type": "stream",
     "text": [
      "[('i', 0.5796991586685181), ('like', 0.5622677206993103), ('play', 0.5541449189186096), ('team', 0.5519105792045593), ('good', 0.5378639698028564), ('game', 0.5258690714836121), ('better', 0.5013057589530945), ('it’s', 0.49876493215560913), ('start', 0.49432626366615295), ('let', 0.49037477374076843)]\n"
     ]
    },
    {
     "name": "stderr",
     "output_type": "stream",
     "text": [
      "/home/ebicher/.local/lib/python3.6/site-packages/gensim/matutils.py:737: FutureWarning: Conversion of the second argument of issubdtype from `int` to `np.signedinteger` is deprecated. In future, it will be treated as `np.int64 == np.dtype(int).type`.\n",
      "  if np.issubdtype(vec.dtype, np.int):\n"
     ]
    }
   ],
   "source": [
    "print(model.wv.most_similar(positive=['chargers']))"
   ]
  },
  {
   "cell_type": "code",
   "execution_count": 160,
   "metadata": {},
   "outputs": [
    {
     "name": "stderr",
     "output_type": "stream",
     "text": [
      "/home/ebicher/.local/lib/python3.6/site-packages/ipykernel_launcher.py:1: DeprecationWarning: Call to deprecated `most_similar` (Method will be removed in 4.0.0, use self.wv.most_similar() instead).\n",
      "  \"\"\"Entry point for launching an IPython kernel.\n",
      "/home/ebicher/.local/lib/python3.6/site-packages/gensim/matutils.py:737: FutureWarning: Conversion of the second argument of issubdtype from `int` to `np.signedinteger` is deprecated. In future, it will be treated as `np.int64 == np.dtype(int).type`.\n",
      "  if np.issubdtype(vec.dtype, np.int):\n"
     ]
    },
    {
     "data": {
      "text/plain": [
       "[('play', 0.3908742666244507),\n",
       " ('i', 0.37914562225341797),\n",
       " ('start', 0.3776373565196991),\n",
       " ('team', 0.3751877546310425),\n",
       " ('good', 0.36530205607414246),\n",
       " ('it’s', 0.3384231626987457),\n",
       " ('like', 0.33778661489486694),\n",
       " ('season', 0.33644410967826843),\n",
       " ('rivers', 0.33623939752578735),\n",
       " ('gordon', 0.3351577818393707)]"
      ]
     },
     "execution_count": 160,
     "metadata": {},
     "output_type": "execute_result"
    }
   ],
   "source": [
    "model.most_similar(\"catch\")"
   ]
  },
  {
   "cell_type": "code",
   "execution_count": 59,
   "metadata": {},
   "outputs": [],
   "source": [
    "from gensim.parsing.preprocessing import remove_stopwords\n",
    "\n",
    "def rem_stop(listtext):\n",
    "    listy = []\n",
    "    for i in listtext:\n",
    "    # Get rid of headings in square brackets.\n",
    "        text = re.sub(\"[\\[].*?[\\]]\", \"\", text)\n",
    "    # Get rid of extra whitespace.\n",
    "        text = ' '.join(text.split())\n",
    "        listy.append(remove_stopwords(i))\n",
    "    return listy"
   ]
  },
  {
   "cell_type": "code",
   "execution_count": null,
   "metadata": {},
   "outputs": [],
   "source": [
    "import gensim\n",
    "model = gensim.models.Word2Vec(\n",
    "    listoftitles,\n",
    "    size=150,\n",
    "    window=10,\n",
    "    min_count=2,\n",
    "    workers=10)\n",
    "model.train(list_of_comments, total_examples=len(list_of_comments), epochs=10)"
   ]
  },
  {
   "cell_type": "code",
   "execution_count": 83,
   "metadata": {},
   "outputs": [],
   "source": [
    "vocab = model.wv.vocab.keys()"
   ]
  },
  {
   "cell_type": "code",
   "execution_count": 84,
   "metadata": {},
   "outputs": [
    {
     "data": {
      "text/plain": [
       "dict_keys(['game', 'If', 'we', 'this', 'just', 'some', 'and', 'end', 'it', 'all', 'WITH', 'A', 'IS', 'THE', '19/19', 'for', 'Rivers', 'is', 'right', 'now', 'playing', 'out', 'of', 'his', 'in', 'Melvin', 'a', 'are', 'every', 'week', 'yards', 'on', 'that', 'how', 'have', 'at', 'the', 'other', 'no', 'lol.', 'Phil', 'as', 'he', 'first', 'quarter', 'MY', 'FUCK', 'I', 'to', 'be', 'It', 'was', 'not', 'do', 'thread', 'Gordon', 'still', 'being', 'an', 'like', 'fucking', 'if', 'up', 'know', 'us', 'going', 'get', 'BOSA', 'walking', 'off', 'field', 'they', \"I'm\", 'injury', 'but', 'team', 'very', 'him', 'back', 'guys', 'run', 'our', 'love', 'there', 'Philip', 'or', 'running', 'Chargers', 'QB', 'Bosa', 'would', 'really', 'play', 'Geno', 'so', 'you', 'gets', 'these', 'me', 'Man', 'hope', 'We', 'need', 'next', 'week.', 'when', 'think', 'could', 'after', 'see', 'Good', 'feel', 'against', 'now.', 'about', 'Not', 'let', 'around', 'last', 'today.', 'season', 'over', 'with', 'fuck', 'Steelers', 'looks', 'got', 'good', 'good.', 'He', 'great', 'So', 'hear', 'from', 'lol', 'offense', 'What', 'start', 'can', 'go', 'The', 'my', 'game.', 'rest', 'big', 'never', 'another', 'into', 'did', 'That', 'been', 'shit', 'This', 'looking', 'one', 'even', 'Ekeler', 'home', 'down', 'Broncos', '2', 'TD', 'i', 'has', 'today', 'Jackson', 'too', 'time', 'D', 'something', 'most', 'BACK', 'YOU', 'look', 'line', 'I’m', 'gonna', 'least', 'seen', 'Mike', 'more', 'than', 'only', 'their', 'them', 'MIKE', 'Badgley', 'why', 'NFL', 'Keenan'])"
      ]
     },
     "execution_count": 84,
     "metadata": {},
     "output_type": "execute_result"
    }
   ],
   "source": [
    "vocab"
   ]
  },
  {
   "cell_type": "code",
   "execution_count": null,
   "metadata": {},
   "outputs": [],
   "source": []
  }
 ],
 "metadata": {
  "kernelspec": {
   "display_name": "Python 3",
   "language": "python",
   "name": "python3"
  },
  "language_info": {
   "codemirror_mode": {
    "name": "ipython",
    "version": 3
   },
   "file_extension": ".py",
   "mimetype": "text/x-python",
   "name": "python",
   "nbconvert_exporter": "python",
   "pygments_lexer": "ipython3",
   "version": "3.6.6"
  }
 },
 "nbformat": 4,
 "nbformat_minor": 2
}
