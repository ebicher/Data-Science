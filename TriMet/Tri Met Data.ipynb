{
 "cells": [
  {
   "cell_type": "code",
   "execution_count": null,
   "metadata": {},
   "outputs": [],
   "source": [
    "import pandas as pd\n",
    "import numpy as np\n",
    "import matplotlib.pyplot as plt\n",
    "%matplotlib inline"
   ]
  },
  {
   "cell_type": "code",
   "execution_count": 24,
   "metadata": {},
   "outputs": [],
   "source": [
    "df = pd.read_csv('events_day.csv', infer_datetime_format=True)"
   ]
  },
  {
   "cell_type": "code",
   "execution_count": 25,
   "metadata": {
    "scrolled": false
   },
   "outputs": [
    {
     "data": {
      "text/html": [
       "<div>\n",
       "<style scoped>\n",
       "    .dataframe tbody tr th:only-of-type {\n",
       "        vertical-align: middle;\n",
       "    }\n",
       "\n",
       "    .dataframe tbody tr th {\n",
       "        vertical-align: top;\n",
       "    }\n",
       "\n",
       "    .dataframe thead th {\n",
       "        text-align: right;\n",
       "    }\n",
       "</style>\n",
       "<table border=\"1\" class=\"dataframe\">\n",
       "  <thead>\n",
       "    <tr style=\"text-align: right;\">\n",
       "      <th></th>\n",
       "      <th>bearing</th>\n",
       "      <th>delay</th>\n",
       "      <th>lastLocID</th>\n",
       "      <th>lastStopSeq</th>\n",
       "      <th>nextLocID</th>\n",
       "      <th>nextStopSeq</th>\n",
       "      <th>tripID</th>\n",
       "      <th>vehicle_id</th>\n",
       "      <th>vehicle_location_longitude</th>\n",
       "      <th>vehicle_location_latitude</th>\n",
       "    </tr>\n",
       "  </thead>\n",
       "  <tbody>\n",
       "    <tr>\n",
       "      <th>count</th>\n",
       "      <td>36761.000000</td>\n",
       "      <td>36761.000000</td>\n",
       "      <td>36761.000000</td>\n",
       "      <td>36761.000000</td>\n",
       "      <td>36761.000000</td>\n",
       "      <td>36761.000000</td>\n",
       "      <td>3.676100e+04</td>\n",
       "      <td>36761.000000</td>\n",
       "      <td>36761.000000</td>\n",
       "      <td>36761.000000</td>\n",
       "    </tr>\n",
       "    <tr>\n",
       "      <th>mean</th>\n",
       "      <td>176.716955</td>\n",
       "      <td>-90.050896</td>\n",
       "      <td>9796.322244</td>\n",
       "      <td>15.948124</td>\n",
       "      <td>9781.422622</td>\n",
       "      <td>16.128234</td>\n",
       "      <td>7.128029e+06</td>\n",
       "      <td>300.542341</td>\n",
       "      <td>-122.668667</td>\n",
       "      <td>45.520273</td>\n",
       "    </tr>\n",
       "    <tr>\n",
       "      <th>std</th>\n",
       "      <td>104.093284</td>\n",
       "      <td>149.823809</td>\n",
       "      <td>1876.253996</td>\n",
       "      <td>11.664547</td>\n",
       "      <td>1877.374589</td>\n",
       "      <td>11.742733</td>\n",
       "      <td>1.174938e+03</td>\n",
       "      <td>127.052748</td>\n",
       "      <td>0.118434</td>\n",
       "      <td>0.024367</td>\n",
       "    </tr>\n",
       "    <tr>\n",
       "      <th>min</th>\n",
       "      <td>0.000000</td>\n",
       "      <td>-1000.000000</td>\n",
       "      <td>7601.000000</td>\n",
       "      <td>1.000000</td>\n",
       "      <td>7601.000000</td>\n",
       "      <td>1.000000</td>\n",
       "      <td>7.126389e+06</td>\n",
       "      <td>103.000000</td>\n",
       "      <td>-122.990987</td>\n",
       "      <td>45.430730</td>\n",
       "    </tr>\n",
       "    <tr>\n",
       "      <th>25%</th>\n",
       "      <td>90.000000</td>\n",
       "      <td>-136.000000</td>\n",
       "      <td>8352.000000</td>\n",
       "      <td>7.000000</td>\n",
       "      <td>8351.000000</td>\n",
       "      <td>7.000000</td>\n",
       "      <td>7.127237e+06</td>\n",
       "      <td>217.000000</td>\n",
       "      <td>-122.684718</td>\n",
       "      <td>45.510347</td>\n",
       "    </tr>\n",
       "    <tr>\n",
       "      <th>50%</th>\n",
       "      <td>178.000000</td>\n",
       "      <td>-47.000000</td>\n",
       "      <td>9624.000000</td>\n",
       "      <td>13.000000</td>\n",
       "      <td>9624.000000</td>\n",
       "      <td>13.000000</td>\n",
       "      <td>7.127627e+06</td>\n",
       "      <td>301.000000</td>\n",
       "      <td>-122.671433</td>\n",
       "      <td>45.521377</td>\n",
       "    </tr>\n",
       "    <tr>\n",
       "      <th>75%</th>\n",
       "      <td>270.000000</td>\n",
       "      <td>0.000000</td>\n",
       "      <td>10575.000000</td>\n",
       "      <td>22.000000</td>\n",
       "      <td>10575.000000</td>\n",
       "      <td>22.000000</td>\n",
       "      <td>7.129310e+06</td>\n",
       "      <td>408.000000</td>\n",
       "      <td>-122.592376</td>\n",
       "      <td>45.530063</td>\n",
       "    </tr>\n",
       "    <tr>\n",
       "      <th>max</th>\n",
       "      <td>359.000000</td>\n",
       "      <td>300.000000</td>\n",
       "      <td>13803.000000</td>\n",
       "      <td>47.000000</td>\n",
       "      <td>13803.000000</td>\n",
       "      <td>47.000000</td>\n",
       "      <td>7.130328e+06</td>\n",
       "      <td>537.000000</td>\n",
       "      <td>-122.418437</td>\n",
       "      <td>45.605354</td>\n",
       "    </tr>\n",
       "  </tbody>\n",
       "</table>\n",
       "</div>"
      ],
      "text/plain": [
       "            bearing         delay     lastLocID   lastStopSeq     nextLocID  \\\n",
       "count  36761.000000  36761.000000  36761.000000  36761.000000  36761.000000   \n",
       "mean     176.716955    -90.050896   9796.322244     15.948124   9781.422622   \n",
       "std      104.093284    149.823809   1876.253996     11.664547   1877.374589   \n",
       "min        0.000000  -1000.000000   7601.000000      1.000000   7601.000000   \n",
       "25%       90.000000   -136.000000   8352.000000      7.000000   8351.000000   \n",
       "50%      178.000000    -47.000000   9624.000000     13.000000   9624.000000   \n",
       "75%      270.000000      0.000000  10575.000000     22.000000  10575.000000   \n",
       "max      359.000000    300.000000  13803.000000     47.000000  13803.000000   \n",
       "\n",
       "        nextStopSeq        tripID    vehicle_id  vehicle_location_longitude  \\\n",
       "count  36761.000000  3.676100e+04  36761.000000                36761.000000   \n",
       "mean      16.128234  7.128029e+06    300.542341                 -122.668667   \n",
       "std       11.742733  1.174938e+03    127.052748                    0.118434   \n",
       "min        1.000000  7.126389e+06    103.000000                 -122.990987   \n",
       "25%        7.000000  7.127237e+06    217.000000                 -122.684718   \n",
       "50%       13.000000  7.127627e+06    301.000000                 -122.671433   \n",
       "75%       22.000000  7.129310e+06    408.000000                 -122.592376   \n",
       "max       47.000000  7.130328e+06    537.000000                 -122.418437   \n",
       "\n",
       "       vehicle_location_latitude  \n",
       "count               36761.000000  \n",
       "mean                   45.520273  \n",
       "std                     0.024367  \n",
       "min                    45.430730  \n",
       "25%                    45.510347  \n",
       "50%                    45.521377  \n",
       "75%                    45.530063  \n",
       "max                    45.605354  "
      ]
     },
     "execution_count": 25,
     "metadata": {},
     "output_type": "execute_result"
    }
   ],
   "source": [
    "df.describe()"
   ]
  },
  {
   "cell_type": "code",
   "execution_count": 26,
   "metadata": {},
   "outputs": [
    {
     "data": {
      "text/plain": [
       "Text(0.5,1,'Delay Distribution')"
      ]
     },
     "execution_count": 26,
     "metadata": {},
     "output_type": "execute_result"
    },
    {
     "data": {
      "image/png": "[encoded data removed]",
      "text/plain": [
       "<Figure size 432x288 with 1 Axes>"
      ]
     },
     "metadata": {},
     "output_type": "display_data"
    }
   ],
   "source": [
    "plt.hist(df['delay'], color='purple')\n",
    "plt.ylabel('Amount')\n",
    "plt.xlabel('Delay Time (sec)')\n",
    "plt.title('Delay Distribution')"
   ]
  },
  {
   "cell_type": "code",
   "execution_count": 27,
   "metadata": {},
   "outputs": [],
   "source": [
    "#This is a method to find the trip that had the most delays. \n",
    "\n",
    "def findSlowTrain():\n",
    "    x = 0\n",
    "    y = 10\n",
    "    for i in df['tripID']:\n",
    "        itertrain = df[df['tripID'] == i]\n",
    "        if itertrain['delay'].mean() <= x:\n",
    "            x = itertrain['delay'].mean()\n",
    "            y = i\n",
    "    print('The trip ID is: ' + str(y) + ' and the delay was: ' + str(x))\n",
    "    return 1\n",
    "              "
   ]
  },
  {
   "cell_type": "code",
   "execution_count": 28,
   "metadata": {
    "scrolled": true
   },
   "outputs": [
    {
     "name": "stdout",
     "output_type": "stream",
     "text": [
      "The trip ID is: 7130309 and the delay was: -918.9375\n"
     ]
    },
    {
     "data": {
      "text/plain": [
       "1"
      ]
     },
     "execution_count": 28,
     "metadata": {},
     "output_type": "execute_result"
    }
   ],
   "source": [
    "findSlowTrain()"
   ]
  },
  {
   "cell_type": "code",
   "execution_count": 23,
   "metadata": {},
   "outputs": [
    {
     "data": {
      "text/plain": [
       "Text(0.5,1,'Delay of Slowest')"
      ]
     },
     "execution_count": 23,
     "metadata": {},
     "output_type": "execute_result"
    },
    {
     "data": {
      "image/png": "[encoded data removed]",
      "text/plain": [
       "<Figure size 432x288 with 1 Axes>"
      ]
     },
     "metadata": {},
     "output_type": "display_data"
    }
   ],
   "source": [
    "slowtrain = df[df['tripID'] == 7130309]\n",
    "plt.scatter(x='timestamp', y='delay', data=slowtrain)\n",
    "plt.ylabel('Delay Time (sec)')\n",
    "plt.xlabel('Time Stamp')\n",
    "plt.title('Delay of Slowest')\n"
   ]
  },
  {
   "cell_type": "code",
   "execution_count": null,
   "metadata": {},
   "outputs": [],
   "source": [
    "#This is a method to find the trip that had the least delays. \n",
    "\n",
    "def findFastTrain():\n",
    "    x = -500\n",
    "    y = 10\n",
    "    for i in df['tripID']:\n",
    "        itertrain = df[df['tripID'] == i]\n",
    "        if itertrain['delay'].mean() >= x:\n",
    "            x = itertrain['delay'].mean()\n",
    "            y = i\n",
    "    print('The trip ID is: ' + str(y) + ' and the delay was: ' + str(x))\n",
    "    return 1\n",
    "            "
   ]
  },
  {
   "cell_type": "code",
   "execution_count": 25,
   "metadata": {},
   "outputs": [
    {
     "name": "stdout",
     "output_type": "stream",
     "text": [
      "The trip ID is: 7127581 and the delay was: 213.5\n"
     ]
    },
    {
     "data": {
      "text/plain": [
       "1"
      ]
     },
     "execution_count": 25,
     "metadata": {},
     "output_type": "execute_result"
    }
   ],
   "source": [
    "findFastTrain()"
   ]
  },
  {
   "cell_type": "code",
   "execution_count": 24,
   "metadata": {},
   "outputs": [
    {
     "data": {
      "text/plain": [
       "Text(0.5,1,'Delay of Fastest')"
      ]
     },
     "execution_count": 24,
     "metadata": {},
     "output_type": "execute_result"
    },
    {
     "data": {
      "image/png": "[encoded data removed]",
      "text/plain": [
       "<Figure size 432x288 with 1 Axes>"
      ]
     },
     "metadata": {},
     "output_type": "display_data"
    }
   ],
   "source": [
    "fasttrain = df[df['tripID'] == 7127581]\n",
    "plt.scatter(x='timestamp', y='delay', data=fasttrain)\n",
    "plt.ylabel('Delay Time (sec)')\n",
    "plt.xlabel('Time Stamp')\n",
    "plt.title('Delay of Fastest')"
   ]
  },
  {
   "cell_type": "code",
   "execution_count": null,
   "metadata": {},
   "outputs": [],
   "source": []
  }
 ],
 "metadata": {
  "kernelspec": {
   "display_name": "Python 3",
   "language": "python",
   "name": "python3"
  },
  "language_info": {
   "codemirror_mode": {
    "name": "ipython",
    "version": 3
   },
   "file_extension": ".py",
   "mimetype": "text/x-python",
   "name": "python",
   "nbconvert_exporter": "python",
   "pygments_lexer": "ipython3",
   "version": "3.6.5"
  }
 },
 "nbformat": 4,
 "nbformat_minor": 2
}
