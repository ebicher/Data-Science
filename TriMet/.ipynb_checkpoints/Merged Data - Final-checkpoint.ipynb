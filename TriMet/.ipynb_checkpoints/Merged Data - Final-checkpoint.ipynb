{
 "cells": [
  {
   "cell_type": "markdown",
   "metadata": {},
   "source": [
    "# Portland Tri Met Data \n",
    "### (A Look at Delays)\n",
    "\n",
    "##### Evan Bicher"
   ]
  },
  {
   "cell_type": "markdown",
   "metadata": {},
   "source": [
    "This data was given to the Portland Data Science MeetUp group from Tri Met and was shared with me. This data shows the location, delay and ID of all the Tri Met metro cars throughout a day. The data is seperated in two CSV files but can be matched together with their two primary keys. I'm unclear why the data was originally seperated. A few things I wanted to find out from this data:\n",
    "\n",
    "1. What is the average delay time of the Tri Met system?\n",
    "2. Are there certain lines/routes that have greater delays than others?\n",
    "3. If you were to add another car to a colored route, which one would need it?"
   ]
  },
  {
   "cell_type": "code",
   "execution_count": 2,
   "metadata": {},
   "outputs": [],
   "source": [
    "import pandas as pd\n",
    "import numpy as np\n",
    "import matplotlib.pyplot as plt\n",
    "import matplotlib.dates as mdates\n",
    "%matplotlib inline"
   ]
  },
  {
   "cell_type": "code",
   "execution_count": 3,
   "metadata": {},
   "outputs": [],
   "source": [
    "dftrip = pd.read_csv('trips_day.csv')\n",
    "dfevent = pd.read_csv('events_day.csv')\n"
   ]
  },
  {
   "cell_type": "code",
   "execution_count": 4,
   "metadata": {},
   "outputs": [],
   "source": [
    "# Joining the two dataframes using the two primary keys 'tripID' and 'vehicle_id'\n",
    "df = pd.merge(dftrip, dfevent, on=['tripID', 'vehicle_id'])"
   ]
  },
  {
   "cell_type": "code",
   "execution_count": 5,
   "metadata": {},
   "outputs": [],
   "source": [
    "# Convert time field into a datetire format\n",
    "df['timestamp'] = pd.to_datetime(df['timestamp'], infer_datetime_format=True)"
   ]
  },
  {
   "cell_type": "code",
   "execution_count": 6,
   "metadata": {
    "collapsed": true
   },
   "outputs": [
    {
     "data": {
      "text/html": [
       "<div>\n",
       "<style scoped>\n",
       "    .dataframe tbody tr th:only-of-type {\n",
       "        vertical-align: middle;\n",
       "    }\n",
       "\n",
       "    .dataframe tbody tr th {\n",
       "        vertical-align: top;\n",
       "    }\n",
       "\n",
       "    .dataframe thead th {\n",
       "        text-align: right;\n",
       "    }\n",
       "</style>\n",
       "<table border=\"1\" class=\"dataframe\">\n",
       "  <thead>\n",
       "    <tr style=\"text-align: right;\">\n",
       "      <th></th>\n",
       "      <th>tripID</th>\n",
       "      <th>vehicle_id</th>\n",
       "      <th>blockID</th>\n",
       "      <th>direction</th>\n",
       "      <th>garage</th>\n",
       "      <th>routeNumber</th>\n",
       "      <th>bearing</th>\n",
       "      <th>delay</th>\n",
       "      <th>timestamp</th>\n",
       "      <th>lastLocID</th>\n",
       "      <th>lastStopSeq</th>\n",
       "      <th>nextLocID</th>\n",
       "      <th>nextStopSeq</th>\n",
       "      <th>signMessageLong</th>\n",
       "      <th>vehicle_location_longitude</th>\n",
       "      <th>vehicle_location_latitude</th>\n",
       "    </tr>\n",
       "  </thead>\n",
       "  <tbody>\n",
       "    <tr>\n",
       "      <th>0</th>\n",
       "      <td>7126389</td>\n",
       "      <td>115</td>\n",
       "      <td>9040</td>\n",
       "      <td>0</td>\n",
       "      <td>ELMO</td>\n",
       "      <td>90</td>\n",
       "      <td>36</td>\n",
       "      <td>-154</td>\n",
       "      <td>2017-01-31 11:35:05</td>\n",
       "      <td>9821</td>\n",
       "      <td>5</td>\n",
       "      <td>9821</td>\n",
       "      <td>1</td>\n",
       "      <td>MAX  Red Line to Airport</td>\n",
       "      <td>-122.801139</td>\n",
       "      <td>45.491778</td>\n",
       "    </tr>\n",
       "    <tr>\n",
       "      <th>1</th>\n",
       "      <td>7126389</td>\n",
       "      <td>201</td>\n",
       "      <td>9040</td>\n",
       "      <td>0</td>\n",
       "      <td>ELMO</td>\n",
       "      <td>90</td>\n",
       "      <td>36</td>\n",
       "      <td>-154</td>\n",
       "      <td>2017-01-31 11:35:05</td>\n",
       "      <td>9821</td>\n",
       "      <td>5</td>\n",
       "      <td>9821</td>\n",
       "      <td>1</td>\n",
       "      <td>MAX  Red Line to Airport</td>\n",
       "      <td>-122.801139</td>\n",
       "      <td>45.491778</td>\n",
       "    </tr>\n",
       "    <tr>\n",
       "      <th>2</th>\n",
       "      <td>7126389</td>\n",
       "      <td>209</td>\n",
       "      <td>9040</td>\n",
       "      <td>0</td>\n",
       "      <td>ELMO</td>\n",
       "      <td>90</td>\n",
       "      <td>103</td>\n",
       "      <td>52</td>\n",
       "      <td>2017-01-31 12:00:15</td>\n",
       "      <td>8335</td>\n",
       "      <td>9</td>\n",
       "      <td>8336</td>\n",
       "      <td>10</td>\n",
       "      <td>MAX  Red Line to Airport</td>\n",
       "      <td>-122.674350</td>\n",
       "      <td>45.517152</td>\n",
       "    </tr>\n",
       "    <tr>\n",
       "      <th>3</th>\n",
       "      <td>7126389</td>\n",
       "      <td>209</td>\n",
       "      <td>9040</td>\n",
       "      <td>0</td>\n",
       "      <td>ELMO</td>\n",
       "      <td>90</td>\n",
       "      <td>21</td>\n",
       "      <td>30</td>\n",
       "      <td>2017-01-31 12:00:50</td>\n",
       "      <td>8336</td>\n",
       "      <td>10</td>\n",
       "      <td>8337</td>\n",
       "      <td>11</td>\n",
       "      <td>MAX  Red Line to Airport</td>\n",
       "      <td>-122.673368</td>\n",
       "      <td>45.518051</td>\n",
       "    </tr>\n",
       "    <tr>\n",
       "      <th>4</th>\n",
       "      <td>7126389</td>\n",
       "      <td>209</td>\n",
       "      <td>9040</td>\n",
       "      <td>0</td>\n",
       "      <td>ELMO</td>\n",
       "      <td>90</td>\n",
       "      <td>57</td>\n",
       "      <td>27</td>\n",
       "      <td>2017-01-31 12:05:22</td>\n",
       "      <td>8339</td>\n",
       "      <td>13</td>\n",
       "      <td>8340</td>\n",
       "      <td>14</td>\n",
       "      <td>MAX  Red Line to Airport</td>\n",
       "      <td>-122.669638</td>\n",
       "      <td>45.527331</td>\n",
       "    </tr>\n",
       "  </tbody>\n",
       "</table>\n",
       "</div>"
      ],
      "text/plain": [
       "    tripID  vehicle_id  blockID  direction garage  routeNumber  bearing  \\\n",
       "0  7126389         115     9040          0   ELMO           90       36   \n",
       "1  7126389         201     9040          0   ELMO           90       36   \n",
       "2  7126389         209     9040          0   ELMO           90      103   \n",
       "3  7126389         209     9040          0   ELMO           90       21   \n",
       "4  7126389         209     9040          0   ELMO           90       57   \n",
       "\n",
       "   delay           timestamp  lastLocID  lastStopSeq  nextLocID  nextStopSeq  \\\n",
       "0   -154 2017-01-31 11:35:05       9821            5       9821            1   \n",
       "1   -154 2017-01-31 11:35:05       9821            5       9821            1   \n",
       "2     52 2017-01-31 12:00:15       8335            9       8336           10   \n",
       "3     30 2017-01-31 12:00:50       8336           10       8337           11   \n",
       "4     27 2017-01-31 12:05:22       8339           13       8340           14   \n",
       "\n",
       "            signMessageLong  vehicle_location_longitude  \\\n",
       "0  MAX  Red Line to Airport                 -122.801139   \n",
       "1  MAX  Red Line to Airport                 -122.801139   \n",
       "2  MAX  Red Line to Airport                 -122.674350   \n",
       "3  MAX  Red Line to Airport                 -122.673368   \n",
       "4  MAX  Red Line to Airport                 -122.669638   \n",
       "\n",
       "   vehicle_location_latitude  \n",
       "0                  45.491778  \n",
       "1                  45.491778  \n",
       "2                  45.517152  \n",
       "3                  45.518051  \n",
       "4                  45.527331  "
      ]
     },
     "execution_count": 6,
     "metadata": {},
     "output_type": "execute_result"
    }
   ],
   "source": [
    "# Looks good\n",
    "df.head()"
   ]
  },
  {
   "cell_type": "markdown",
   "metadata": {},
   "source": [
    "## Delay Distribution\n",
    "\n",
    "Let's start by looking at the Delay Distribution as a whole, and see if the Tri Met is usually on time or usually late. "
   ]
  },
  {
   "cell_type": "code",
   "execution_count": 17,
   "metadata": {},
   "outputs": [
    {
     "name": "stdout",
     "output_type": "stream",
     "text": [
      "The average Tri Met ride is -90.0508963303501 seconds late.\n"
     ]
    },
    {
     "data": {
      "image/png": "[encoded data removed]",
      "text/plain": [
       "<Figure size 432x288 with 1 Axes>"
      ]
     },
     "metadata": {},
     "output_type": "display_data"
    }
   ],
   "source": [
    "plt.hist(df['delay'], color='purple')\n",
    "plt.ylabel('Amount')\n",
    "plt.xlabel('Delay Time (sec)')\n",
    "plt.title('Delay Distribution')\n",
    "\n",
    "print('The average Tri Met ride is '+ str(df['delay'].mean()) + ' seconds late.')"
   ]
  },
  {
   "cell_type": "markdown",
   "metadata": {},
   "source": [
    "So on average, the metro is almost exactly a minute and a half late. Is this pretty equal among all routes or are some more prone to delays?\n",
    "\n",
    "## Seperated by Route Name\n",
    "\n",
    "Here is a graph which has the data seperated by the route name. As you can see, some routes are more likely to be delayed."
   ]
  },
  {
   "cell_type": "code",
   "execution_count": 10,
   "metadata": {},
   "outputs": [
    {
     "data": {
      "image/png": "[encoded data removed]",
      "text/plain": [
       "<Figure size 432x288 with 1 Axes>"
      ]
     },
     "metadata": {},
     "output_type": "display_data"
    }
   ],
   "source": [
    "df.groupby('signMessageLong').delay.mean().plot(kind=\"bar\")\n",
    "plt.xlabel('Route Name')\n",
    "plt.ylabel('delay')\n",
    "plt.title('Average Delay');"
   ]
  },
  {
   "cell_type": "markdown",
   "metadata": {},
   "source": [
    "That is a lot of routes to look at. It might be better to seperate by color.\n",
    "\n",
    "## Seperated by Color\n",
    "\n",
    "The data has a row called 'signMessageLong' which contains the name of the Route (like 'Red MAX to airport'). To seperate by color I searched for routes containing colors and grouped them up. "
   ]
  },
  {
   "cell_type": "code",
   "execution_count": 19,
   "metadata": {},
   "outputs": [],
   "source": [
    "dfred = df[df['signMessageLong'].str.contains(\"Red\")]\n",
    "dfblue = df[df['signMessageLong'].str.contains(\"Blue\")]\n",
    "dfgreen = df[df['signMessageLong'].str.contains(\"Green\")]\n",
    "dforange = df[df['signMessageLong'].str.contains(\"Orange\")]\n",
    "dfyellow = df[df['signMessageLong'].str.contains(\"Yellow\")]"
   ]
  },
  {
   "cell_type": "code",
   "execution_count": 20,
   "metadata": {
    "collapsed": true
   },
   "outputs": [
    {
     "name": "stderr",
     "output_type": "stream",
     "text": [
      "c:\\python36\\lib\\site-packages\\ipykernel_launcher.py:1: SettingWithCopyWarning: \n",
      "A value is trying to be set on a copy of a slice from a DataFrame.\n",
      "Try using .loc[row_indexer,col_indexer] = value instead\n",
      "\n",
      "See the caveats in the documentation: http://pandas.pydata.org/pandas-docs/stable/indexing.html#indexing-view-versus-copy\n",
      "  \"\"\"Entry point for launching an IPython kernel.\n",
      "c:\\python36\\lib\\site-packages\\ipykernel_launcher.py:2: SettingWithCopyWarning: \n",
      "A value is trying to be set on a copy of a slice from a DataFrame.\n",
      "Try using .loc[row_indexer,col_indexer] = value instead\n",
      "\n",
      "See the caveats in the documentation: http://pandas.pydata.org/pandas-docs/stable/indexing.html#indexing-view-versus-copy\n",
      "  \n",
      "c:\\python36\\lib\\site-packages\\ipykernel_launcher.py:3: SettingWithCopyWarning: \n",
      "A value is trying to be set on a copy of a slice from a DataFrame.\n",
      "Try using .loc[row_indexer,col_indexer] = value instead\n",
      "\n",
      "See the caveats in the documentation: http://pandas.pydata.org/pandas-docs/stable/indexing.html#indexing-view-versus-copy\n",
      "  This is separate from the ipykernel package so we can avoid doing imports until\n",
      "c:\\python36\\lib\\site-packages\\ipykernel_launcher.py:4: SettingWithCopyWarning: \n",
      "A value is trying to be set on a copy of a slice from a DataFrame.\n",
      "Try using .loc[row_indexer,col_indexer] = value instead\n",
      "\n",
      "See the caveats in the documentation: http://pandas.pydata.org/pandas-docs/stable/indexing.html#indexing-view-versus-copy\n",
      "  after removing the cwd from sys.path.\n",
      "c:\\python36\\lib\\site-packages\\ipykernel_launcher.py:5: SettingWithCopyWarning: \n",
      "A value is trying to be set on a copy of a slice from a DataFrame.\n",
      "Try using .loc[row_indexer,col_indexer] = value instead\n",
      "\n",
      "See the caveats in the documentation: http://pandas.pydata.org/pandas-docs/stable/indexing.html#indexing-view-versus-copy\n",
      "  \"\"\"\n"
     ]
    }
   ],
   "source": [
    "dfred['color'] = 'Red Lines'\n",
    "dfblue['color'] = 'Blue Lines'\n",
    "dfgreen['color'] = 'Green Lines'\n",
    "dforange['color'] = 'Orange Lines'\n",
    "dfyellow['color'] = 'Yellow Lines'"
   ]
  },
  {
   "cell_type": "code",
   "execution_count": 21,
   "metadata": {},
   "outputs": [],
   "source": [
    "result = pd.concat([dfred,dfblue,dfgreen,dforange,dfyellow])"
   ]
  },
  {
   "cell_type": "markdown",
   "metadata": {},
   "source": [
    "This graph shows delay seperated by route color."
   ]
  },
  {
   "cell_type": "code",
   "execution_count": 24,
   "metadata": {
    "scrolled": true
   },
   "outputs": [
    {
     "data": {
      "image/png": "[encoded data removed]",
      "text/plain": [
       "<Figure size 432x288 with 1 Axes>"
      ]
     },
     "metadata": {},
     "output_type": "display_data"
    }
   ],
   "source": [
    "result.groupby('color').delay.mean().plot(kind = \"bar\")\n",
    "plt.xlabel('Route Name')\n",
    "plt.ylabel('delay')\n",
    "plt.title('Average Delay');"
   ]
  },
  {
   "cell_type": "code",
   "execution_count": 26,
   "metadata": {
    "scrolled": true
   },
   "outputs": [
    {
     "name": "stdout",
     "output_type": "stream",
     "text": [
      "The average delay for the Red lines is -59.2946111648919 seconds.\n",
      "The average delay for the Blue lines is -100.97968994111285 seconds.\n",
      "The average delay for the Green lines is -78.12540244687702 seconds.\n",
      "The average delay for the Orange lines is -94.80943922862218 seconds.\n",
      "The average delay for the Yello lines is -106.41058540497194 seconds.\n",
      "Biggest difference = -47.11597424008004\n"
     ]
    }
   ],
   "source": [
    "print('The average delay for the Red lines is '+ str(dfred['delay'].mean()) + ' seconds.')\n",
    "print('The average delay for the Blue lines is '+ str(dfblue['delay'].mean()) + ' seconds.')\n",
    "print('The average delay for the Green lines is '+ str(dfgreen['delay'].mean()) + ' seconds.')\n",
    "print('The average delay for the Orange lines is '+ str(dforange['delay'].mean()) + ' seconds.')\n",
    "print('The average delay for the Yello lines is '+ str(dfyellow['delay'].mean()) + ' seconds.')\n",
    "\n",
    "greatdelay = dfyellow['delay'].mean() - dfred['delay'].mean()\n",
    "\n",
    "print('Greatest difference = ' + str(greatdelay))"
   ]
  },
  {
   "cell_type": "markdown",
   "metadata": {},
   "source": [
    "According to this data, the Tri Met has pretty balanced delays among the different routes. The greatest difference is among the yellow line (the line with the most delay time) and the red line (the line with the least delay time), and it is only a difference of less than a minute (~47 seconds). That seems to short of a time difference to warrant any kind of change among the system. \n",
    "\n",
    "## Delay Distribution Seperated by Color\n",
    "\n",
    "Next let's look at the distributions of the different colored lines. This is a histogram with them stacked on one another, each color representing its color line."
   ]
  },
  {
   "cell_type": "code",
   "execution_count": 38,
   "metadata": {
    "scrolled": true
   },
   "outputs": [
    {
     "data": {
      "image/png": "[encoded data removed]",
      "text/plain": [
       "<Figure size 432x288 with 1 Axes>"
      ]
     },
     "metadata": {},
     "output_type": "display_data"
    }
   ],
   "source": [
    "plt.hist(dfred['delay'], bins=30, density=True, color='red', alpha=.3)\n",
    "plt.hist(dfyellow['delay'], bins=30, density=True, color='yellow', alpha=.3)\n",
    "plt.hist(dfblue['delay'], bins=30, density=True, color='blue', alpha=.3)\n",
    "plt.hist(dfgreen['delay'], bins=30, density=True, color='green', alpha=.3)\n",
    "plt.hist(dforange['delay'], bins=30, density=True, color='orange', alpha=.3)\n",
    "plt.ylabel('Delays')\n",
    "plt.xlabel('Time')\n",
    "plt.title('Delay Distribution of Colored Lines')\n",
    "\n",
    "\n",
    "plt.show()"
   ]
  },
  {
   "cell_type": "markdown",
   "metadata": {},
   "source": [
    "They all seem to have the same distribution and only vary a bit."
   ]
  },
  {
   "cell_type": "markdown",
   "metadata": {},
   "source": [
    "# Conclusion\n",
    "\n",
    "The data shows that all the lines have pretty similar delay times so there is no need to add a car or improve the speed of one route in particular. The only advice I could give is to add a minute to the travel time for each route, equally seperated through the stops. This would take the delay times down quite a bit.\n",
    "\n",
    "This data is only from one day so there is definitely a chance that the delay distribution would be different on other days. To have a better idea of the Tri Met data, I would have to look at a bigger data set. "
   ]
  },
  {
   "cell_type": "markdown",
   "metadata": {},
   "source": [
    "\n",
    "\n",
    "\n",
    "\n",
    "\n",
    "\n",
    "\n",
    "\n",
    "\n",
    "### \\*Bonus Fun* \n",
    "### What is the fastest train car?\n",
    "\n",
    "For fun lets compare all the vehicle_ids and see which one is the fastest and which one is the slowest. We have the data to do it, so why not!"
   ]
  },
  {
   "cell_type": "code",
   "execution_count": 42,
   "metadata": {},
   "outputs": [],
   "source": [
    "def findFastTrain():\n",
    "    x = -500\n",
    "    y = 10\n",
    "    for i in result['vehicle_id']:\n",
    "        itertrain = result[result['vehicle_id'] == i]\n",
    "        if itertrain['delay'].mean() >= x:\n",
    "            x = itertrain['delay'].mean()\n",
    "            y = i\n",
    "    print('The fastest vehicle has the id of: ' + str(y) + ' and the delay was: ' + str(x))\n",
    "    return 1\n",
    "            "
   ]
  },
  {
   "cell_type": "code",
   "execution_count": 47,
   "metadata": {},
   "outputs": [
    {
     "name": "stdout",
     "output_type": "stream",
     "text": [
      "The fastest vehicle has the id of: 311 and the delay was: 0.0\n"
     ]
    },
    {
     "data": {
      "text/plain": [
       "1"
      ]
     },
     "execution_count": 47,
     "metadata": {},
     "output_type": "execute_result"
    }
   ],
   "source": [
    "findFastTrain()"
   ]
  },
  {
   "cell_type": "code",
   "execution_count": 43,
   "metadata": {},
   "outputs": [],
   "source": [
    "def findSlowTrain():\n",
    "    x = 0\n",
    "    y = 10\n",
    "    for i in result['vehicle_id']:\n",
    "        itertrain = result[result['vehicle_id'] == i]\n",
    "        if itertrain['delay'].mean() <= x:\n",
    "            x = itertrain['delay'].mean()\n",
    "            y = i\n",
    "    print('The slowest vehicle has the id of: ' + str(y) + ' and the delay was: ' + str(x))\n",
    "    return 1\n",
    "            "
   ]
  },
  {
   "cell_type": "code",
   "execution_count": 48,
   "metadata": {},
   "outputs": [
    {
     "name": "stdout",
     "output_type": "stream",
     "text": [
      "The fastest vehicle has the id of: 324 and the delay was: -413.60526315789474\n"
     ]
    },
    {
     "data": {
      "text/plain": [
       "1"
      ]
     },
     "execution_count": 48,
     "metadata": {},
     "output_type": "execute_result"
    }
   ],
   "source": [
    "findSlowTrain()"
   ]
  },
  {
   "cell_type": "markdown",
   "metadata": {},
   "source": [
    "Conclusion - Have a mechanic look at the metro with vehicle id 324 to make sure it is running up to speed."
   ]
  },
  {
   "cell_type": "code",
   "execution_count": null,
   "metadata": {},
   "outputs": [],
   "source": []
  }
 ],
 "metadata": {
  "kernelspec": {
   "display_name": "Python 3",
   "language": "python",
   "name": "python3"
  },
  "language_info": {
   "codemirror_mode": {
    "name": "ipython",
    "version": 3
   },
   "file_extension": ".py",
   "mimetype": "text/x-python",
   "name": "python",
   "nbconvert_exporter": "python",
   "pygments_lexer": "ipython3",
   "version": "3.6.5"
  }
 },
 "nbformat": 4,
 "nbformat_minor": 2
}
