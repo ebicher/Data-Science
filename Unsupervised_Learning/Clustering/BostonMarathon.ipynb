{
 "cells": [
  {
   "cell_type": "code",
   "execution_count": 1,
   "metadata": {},
   "outputs": [],
   "source": [
    "import numpy as np\n",
    "import pandas as pd\n",
    "import scipy\n",
    "import matplotlib.pyplot as plt\n",
    "import seaborn as sns\n",
    "from sklearn.cluster import KMeans\n",
    "from sklearn.preprocessing import normalize\n",
    "from sklearn.cluster import MiniBatchKMeans\n",
    "%matplotlib inline"
   ]
  },
  {
   "cell_type": "code",
   "execution_count": 2,
   "metadata": {},
   "outputs": [],
   "source": [
    "datapath = 'https://raw.githubusercontent.com/llimllib/bostonmarathon/master/results/2014/results.csv'\n",
    "df = pd.read_csv(datapath)"
   ]
  },
  {
   "cell_type": "code",
   "execution_count": 3,
   "metadata": {},
   "outputs": [
    {
     "name": "stdout",
     "output_type": "stream",
     "text": [
      "<class 'pandas.core.frame.DataFrame'>\n",
      "RangeIndex: 31984 entries, 0 to 31983\n",
      "Data columns (total 21 columns):\n",
      "10k          31984 non-null object\n",
      "name         31984 non-null object\n",
      "division     31984 non-null int64\n",
      "25k          31984 non-null object\n",
      "gender       31984 non-null object\n",
      "age          31984 non-null int64\n",
      "official     31984 non-null float64\n",
      "bib          31984 non-null object\n",
      "genderdiv    31984 non-null int64\n",
      "ctz          1244 non-null object\n",
      "35k          31984 non-null object\n",
      "overall      31984 non-null int64\n",
      "pace         31984 non-null float64\n",
      "state        29408 non-null object\n",
      "30k          31984 non-null object\n",
      "5k           31984 non-null object\n",
      "half         31984 non-null object\n",
      "20k          31984 non-null object\n",
      "country      31984 non-null object\n",
      "city         31983 non-null object\n",
      "40k          31984 non-null object\n",
      "dtypes: float64(2), int64(4), object(15)\n",
      "memory usage: 5.1+ MB\n"
     ]
    }
   ],
   "source": [
    "df.info()"
   ]
  },
  {
   "cell_type": "code",
   "execution_count": 4,
   "metadata": {},
   "outputs": [
    {
     "data": {
      "text/html": [
       "<div>\n",
       "<style scoped>\n",
       "    .dataframe tbody tr th:only-of-type {\n",
       "        vertical-align: middle;\n",
       "    }\n",
       "\n",
       "    .dataframe tbody tr th {\n",
       "        vertical-align: top;\n",
       "    }\n",
       "\n",
       "    .dataframe thead th {\n",
       "        text-align: right;\n",
       "    }\n",
       "</style>\n",
       "<table border=\"1\" class=\"dataframe\">\n",
       "  <thead>\n",
       "    <tr style=\"text-align: right;\">\n",
       "      <th></th>\n",
       "      <th>10k</th>\n",
       "      <th>name</th>\n",
       "      <th>division</th>\n",
       "      <th>25k</th>\n",
       "      <th>gender</th>\n",
       "      <th>age</th>\n",
       "      <th>official</th>\n",
       "      <th>bib</th>\n",
       "      <th>genderdiv</th>\n",
       "      <th>ctz</th>\n",
       "      <th>35k</th>\n",
       "      <th>overall</th>\n",
       "      <th>pace</th>\n",
       "      <th>state</th>\n",
       "      <th>30k</th>\n",
       "      <th>5k</th>\n",
       "      <th>half</th>\n",
       "      <th>20k</th>\n",
       "      <th>country</th>\n",
       "      <th>city</th>\n",
       "      <th>40k</th>\n",
       "    </tr>\n",
       "  </thead>\n",
       "  <tbody>\n",
       "    <tr>\n",
       "      <th>0</th>\n",
       "      <td>17.37</td>\n",
       "      <td>Yamamoto, Hiroyuki</td>\n",
       "      <td>8</td>\n",
       "      <td>47.67</td>\n",
       "      <td>M</td>\n",
       "      <td>47</td>\n",
       "      <td>85.25</td>\n",
       "      <td>W1</td>\n",
       "      <td>8</td>\n",
       "      <td>NaN</td>\n",
       "      <td>71.40</td>\n",
       "      <td>8</td>\n",
       "      <td>3.27</td>\n",
       "      <td>NaN</td>\n",
       "      <td>59.18</td>\n",
       "      <td>8.02</td>\n",
       "      <td>39.72</td>\n",
       "      <td>37.65</td>\n",
       "      <td>JPN</td>\n",
       "      <td>Fukuoka</td>\n",
       "      <td>80.43</td>\n",
       "    </tr>\n",
       "    <tr>\n",
       "      <th>1</th>\n",
       "      <td>32.58</td>\n",
       "      <td>Jeptoo, Rita</td>\n",
       "      <td>1</td>\n",
       "      <td>82.43</td>\n",
       "      <td>F</td>\n",
       "      <td>33</td>\n",
       "      <td>138.95</td>\n",
       "      <td>F1</td>\n",
       "      <td>1</td>\n",
       "      <td>NaN</td>\n",
       "      <td>116.37</td>\n",
       "      <td>21</td>\n",
       "      <td>5.30</td>\n",
       "      <td>NaN</td>\n",
       "      <td>99.33</td>\n",
       "      <td>16.22</td>\n",
       "      <td>69.47</td>\n",
       "      <td>65.83</td>\n",
       "      <td>KEN</td>\n",
       "      <td>Eldoret</td>\n",
       "      <td>132.10</td>\n",
       "    </tr>\n",
       "    <tr>\n",
       "      <th>2</th>\n",
       "      <td>16.62</td>\n",
       "      <td>Van Dyk, Ernst F.</td>\n",
       "      <td>1</td>\n",
       "      <td>45.80</td>\n",
       "      <td>M</td>\n",
       "      <td>41</td>\n",
       "      <td>80.60</td>\n",
       "      <td>W2</td>\n",
       "      <td>1</td>\n",
       "      <td>NaN</td>\n",
       "      <td>67.42</td>\n",
       "      <td>1</td>\n",
       "      <td>3.08</td>\n",
       "      <td>NaN</td>\n",
       "      <td>56.45</td>\n",
       "      <td>7.75</td>\n",
       "      <td>38.03</td>\n",
       "      <td>36.10</td>\n",
       "      <td>RSA</td>\n",
       "      <td>Paarl</td>\n",
       "      <td>76.10</td>\n",
       "    </tr>\n",
       "    <tr>\n",
       "      <th>3</th>\n",
       "      <td>32.57</td>\n",
       "      <td>Dibaba, Mare</td>\n",
       "      <td>3</td>\n",
       "      <td>82.43</td>\n",
       "      <td>F</td>\n",
       "      <td>24</td>\n",
       "      <td>140.58</td>\n",
       "      <td>F2</td>\n",
       "      <td>3</td>\n",
       "      <td>NaN</td>\n",
       "      <td>116.37</td>\n",
       "      <td>27</td>\n",
       "      <td>5.37</td>\n",
       "      <td>NaN</td>\n",
       "      <td>99.33</td>\n",
       "      <td>16.20</td>\n",
       "      <td>69.47</td>\n",
       "      <td>65.83</td>\n",
       "      <td>ETH</td>\n",
       "      <td>Shoa</td>\n",
       "      <td>132.95</td>\n",
       "    </tr>\n",
       "    <tr>\n",
       "      <th>4</th>\n",
       "      <td>17.12</td>\n",
       "      <td>Hokinoue, Kota</td>\n",
       "      <td>2</td>\n",
       "      <td>46.37</td>\n",
       "      <td>M</td>\n",
       "      <td>40</td>\n",
       "      <td>81.23</td>\n",
       "      <td>W3</td>\n",
       "      <td>2</td>\n",
       "      <td>NaN</td>\n",
       "      <td>67.83</td>\n",
       "      <td>2</td>\n",
       "      <td>3.10</td>\n",
       "      <td>NaN</td>\n",
       "      <td>57.03</td>\n",
       "      <td>8.02</td>\n",
       "      <td>38.60</td>\n",
       "      <td>36.58</td>\n",
       "      <td>JPN</td>\n",
       "      <td>Nogata Fukuoka</td>\n",
       "      <td>76.72</td>\n",
       "    </tr>\n",
       "    <tr>\n",
       "      <th>5</th>\n",
       "      <td>32.58</td>\n",
       "      <td>Sumgong, Jemima Jelagat</td>\n",
       "      <td>4</td>\n",
       "      <td>82.45</td>\n",
       "      <td>F</td>\n",
       "      <td>29</td>\n",
       "      <td>140.68</td>\n",
       "      <td>F3</td>\n",
       "      <td>4</td>\n",
       "      <td>NaN</td>\n",
       "      <td>116.37</td>\n",
       "      <td>28</td>\n",
       "      <td>5.37</td>\n",
       "      <td>NaN</td>\n",
       "      <td>99.33</td>\n",
       "      <td>16.22</td>\n",
       "      <td>69.47</td>\n",
       "      <td>65.83</td>\n",
       "      <td>KEN</td>\n",
       "      <td>Nandi</td>\n",
       "      <td>132.95</td>\n",
       "    </tr>\n",
       "    <tr>\n",
       "      <th>6</th>\n",
       "      <td>17.65</td>\n",
       "      <td>Hug, Marcel E.</td>\n",
       "      <td>4</td>\n",
       "      <td>47.67</td>\n",
       "      <td>M</td>\n",
       "      <td>28</td>\n",
       "      <td>84.65</td>\n",
       "      <td>W4</td>\n",
       "      <td>4</td>\n",
       "      <td>NaN</td>\n",
       "      <td>70.23</td>\n",
       "      <td>4</td>\n",
       "      <td>3.23</td>\n",
       "      <td>NaN</td>\n",
       "      <td>58.60</td>\n",
       "      <td>8.38</td>\n",
       "      <td>39.72</td>\n",
       "      <td>37.65</td>\n",
       "      <td>SUI</td>\n",
       "      <td>Neuenkirch</td>\n",
       "      <td>79.83</td>\n",
       "    </tr>\n",
       "    <tr>\n",
       "      <th>7</th>\n",
       "      <td>30.48</td>\n",
       "      <td>Geneti, Markos</td>\n",
       "      <td>5</td>\n",
       "      <td>76.95</td>\n",
       "      <td>M</td>\n",
       "      <td>29</td>\n",
       "      <td>129.83</td>\n",
       "      <td>5</td>\n",
       "      <td>5</td>\n",
       "      <td>NaN</td>\n",
       "      <td>107.47</td>\n",
       "      <td>5</td>\n",
       "      <td>4.97</td>\n",
       "      <td>NaN</td>\n",
       "      <td>92.52</td>\n",
       "      <td>15.17</td>\n",
       "      <td>64.85</td>\n",
       "      <td>61.62</td>\n",
       "      <td>ETH</td>\n",
       "      <td>Addis Ababa</td>\n",
       "      <td>122.80</td>\n",
       "    </tr>\n",
       "    <tr>\n",
       "      <th>8</th>\n",
       "      <td>17.12</td>\n",
       "      <td>Soejima, Masazumi</td>\n",
       "      <td>3</td>\n",
       "      <td>46.37</td>\n",
       "      <td>M</td>\n",
       "      <td>43</td>\n",
       "      <td>81.23</td>\n",
       "      <td>W6</td>\n",
       "      <td>3</td>\n",
       "      <td>NaN</td>\n",
       "      <td>67.83</td>\n",
       "      <td>3</td>\n",
       "      <td>3.10</td>\n",
       "      <td>NaN</td>\n",
       "      <td>57.03</td>\n",
       "      <td>8.00</td>\n",
       "      <td>38.60</td>\n",
       "      <td>36.60</td>\n",
       "      <td>JPN</td>\n",
       "      <td>Isahaya</td>\n",
       "      <td>76.70</td>\n",
       "    </tr>\n",
       "    <tr>\n",
       "      <th>9</th>\n",
       "      <td>30.48</td>\n",
       "      <td>Hall, Ryan</td>\n",
       "      <td>20</td>\n",
       "      <td>77.68</td>\n",
       "      <td>M</td>\n",
       "      <td>31</td>\n",
       "      <td>137.83</td>\n",
       "      <td>6</td>\n",
       "      <td>20</td>\n",
       "      <td>NaN</td>\n",
       "      <td>112.27</td>\n",
       "      <td>20</td>\n",
       "      <td>5.27</td>\n",
       "      <td>CA</td>\n",
       "      <td>94.78</td>\n",
       "      <td>15.15</td>\n",
       "      <td>65.23</td>\n",
       "      <td>61.78</td>\n",
       "      <td>USA</td>\n",
       "      <td>Redding</td>\n",
       "      <td>129.83</td>\n",
       "    </tr>\n",
       "  </tbody>\n",
       "</table>\n",
       "</div>"
      ],
      "text/plain": [
       "     10k                     name  division    25k gender  age  official bib  \\\n",
       "0  17.37       Yamamoto, Hiroyuki         8  47.67      M   47     85.25  W1   \n",
       "1  32.58             Jeptoo, Rita         1  82.43      F   33    138.95  F1   \n",
       "2  16.62        Van Dyk, Ernst F.         1  45.80      M   41     80.60  W2   \n",
       "3  32.57             Dibaba, Mare         3  82.43      F   24    140.58  F2   \n",
       "4  17.12           Hokinoue, Kota         2  46.37      M   40     81.23  W3   \n",
       "5  32.58  Sumgong, Jemima Jelagat         4  82.45      F   29    140.68  F3   \n",
       "6  17.65           Hug, Marcel E.         4  47.67      M   28     84.65  W4   \n",
       "7  30.48           Geneti, Markos         5  76.95      M   29    129.83   5   \n",
       "8  17.12        Soejima, Masazumi         3  46.37      M   43     81.23  W6   \n",
       "9  30.48               Hall, Ryan        20  77.68      M   31    137.83   6   \n",
       "\n",
       "   genderdiv  ctz     35k  overall  pace state    30k     5k   half    20k  \\\n",
       "0          8  NaN   71.40        8  3.27   NaN  59.18   8.02  39.72  37.65   \n",
       "1          1  NaN  116.37       21  5.30   NaN  99.33  16.22  69.47  65.83   \n",
       "2          1  NaN   67.42        1  3.08   NaN  56.45   7.75  38.03  36.10   \n",
       "3          3  NaN  116.37       27  5.37   NaN  99.33  16.20  69.47  65.83   \n",
       "4          2  NaN   67.83        2  3.10   NaN  57.03   8.02  38.60  36.58   \n",
       "5          4  NaN  116.37       28  5.37   NaN  99.33  16.22  69.47  65.83   \n",
       "6          4  NaN   70.23        4  3.23   NaN  58.60   8.38  39.72  37.65   \n",
       "7          5  NaN  107.47        5  4.97   NaN  92.52  15.17  64.85  61.62   \n",
       "8          3  NaN   67.83        3  3.10   NaN  57.03   8.00  38.60  36.60   \n",
       "9         20  NaN  112.27       20  5.27    CA  94.78  15.15  65.23  61.78   \n",
       "\n",
       "  country            city     40k  \n",
       "0     JPN         Fukuoka   80.43  \n",
       "1     KEN         Eldoret  132.10  \n",
       "2     RSA           Paarl   76.10  \n",
       "3     ETH            Shoa  132.95  \n",
       "4     JPN  Nogata Fukuoka   76.72  \n",
       "5     KEN           Nandi  132.95  \n",
       "6     SUI      Neuenkirch   79.83  \n",
       "7     ETH     Addis Ababa  122.80  \n",
       "8     JPN         Isahaya   76.70  \n",
       "9     USA         Redding  129.83  "
      ]
     },
     "execution_count": 4,
     "metadata": {},
     "output_type": "execute_result"
    }
   ],
   "source": [
    "pd.set_option('display.max_columns', None)\n",
    "df.head(10)"
   ]
  },
  {
   "cell_type": "code",
   "execution_count": 5,
   "metadata": {},
   "outputs": [
    {
     "data": {
      "text/plain": [
       "10k           2766\n",
       "name         31915\n",
       "division      6979\n",
       "25k           6570\n",
       "gender           2\n",
       "age             64\n",
       "official     11030\n",
       "bib          31984\n",
       "genderdiv    17575\n",
       "ctz             84\n",
       "35k           9516\n",
       "overall      31931\n",
       "pace           727\n",
       "state           68\n",
       "30k           8090\n",
       "5k            1491\n",
       "half          5651\n",
       "20k           5375\n",
       "country         78\n",
       "city          5934\n",
       "40k          10546\n",
       "dtype: int64"
      ]
     },
     "execution_count": 5,
     "metadata": {},
     "output_type": "execute_result"
    }
   ],
   "source": [
    "df.nunique()"
   ]
  },
  {
   "cell_type": "code",
   "execution_count": 6,
   "metadata": {},
   "outputs": [
    {
     "data": {
      "text/plain": [
       "array([47, 33, 41, 24, 40, 29, 28, 43, 31, 30, 49, 34, 26, 38, 27, 35, 23,\n",
       "       36, 32, 45, 25, 19, 21, 20, 22, 46, 39, 37, 53, 59, 18, 52, 44, 42,\n",
       "       48, 51, 50, 56, 58, 55, 54, 60, 57, 67, 65, 62, 61, 66, 68, 64, 63,\n",
       "       73, 72, 70, 76, 69, 77, 71, 74, 75, 81, 78, 80, 79])"
      ]
     },
     "execution_count": 6,
     "metadata": {},
     "output_type": "execute_result"
    }
   ],
   "source": [
    "df['age'].unique()"
   ]
  },
  {
   "cell_type": "code",
   "execution_count": 7,
   "metadata": {},
   "outputs": [],
   "source": [
    "df.drop(['name', 'state', 'country', 'bib', 'city', 'ctz'],1, inplace=True)"
   ]
  },
  {
   "cell_type": "code",
   "execution_count": 8,
   "metadata": {},
   "outputs": [],
   "source": [
    "#df['over60'] = np.where(df['age']>60, 1, 0)\n",
    "df['gender'] = np.where(df['gender']=='M', 1, 0)"
   ]
  },
  {
   "cell_type": "code",
   "execution_count": 9,
   "metadata": {},
   "outputs": [
    {
     "data": {
      "text/html": [
       "<div>\n",
       "<style scoped>\n",
       "    .dataframe tbody tr th:only-of-type {\n",
       "        vertical-align: middle;\n",
       "    }\n",
       "\n",
       "    .dataframe tbody tr th {\n",
       "        vertical-align: top;\n",
       "    }\n",
       "\n",
       "    .dataframe thead th {\n",
       "        text-align: right;\n",
       "    }\n",
       "</style>\n",
       "<table border=\"1\" class=\"dataframe\">\n",
       "  <thead>\n",
       "    <tr style=\"text-align: right;\">\n",
       "      <th></th>\n",
       "      <th>10k</th>\n",
       "      <th>division</th>\n",
       "      <th>25k</th>\n",
       "      <th>gender</th>\n",
       "      <th>age</th>\n",
       "      <th>official</th>\n",
       "      <th>genderdiv</th>\n",
       "      <th>35k</th>\n",
       "      <th>overall</th>\n",
       "      <th>pace</th>\n",
       "      <th>30k</th>\n",
       "      <th>5k</th>\n",
       "      <th>half</th>\n",
       "      <th>20k</th>\n",
       "      <th>40k</th>\n",
       "    </tr>\n",
       "  </thead>\n",
       "  <tbody>\n",
       "    <tr>\n",
       "      <th>0</th>\n",
       "      <td>17.37</td>\n",
       "      <td>8</td>\n",
       "      <td>47.67</td>\n",
       "      <td>1</td>\n",
       "      <td>47</td>\n",
       "      <td>85.25</td>\n",
       "      <td>8</td>\n",
       "      <td>71.40</td>\n",
       "      <td>8</td>\n",
       "      <td>3.27</td>\n",
       "      <td>59.18</td>\n",
       "      <td>8.02</td>\n",
       "      <td>39.72</td>\n",
       "      <td>37.65</td>\n",
       "      <td>80.43</td>\n",
       "    </tr>\n",
       "    <tr>\n",
       "      <th>1</th>\n",
       "      <td>32.58</td>\n",
       "      <td>1</td>\n",
       "      <td>82.43</td>\n",
       "      <td>0</td>\n",
       "      <td>33</td>\n",
       "      <td>138.95</td>\n",
       "      <td>1</td>\n",
       "      <td>116.37</td>\n",
       "      <td>21</td>\n",
       "      <td>5.30</td>\n",
       "      <td>99.33</td>\n",
       "      <td>16.22</td>\n",
       "      <td>69.47</td>\n",
       "      <td>65.83</td>\n",
       "      <td>132.10</td>\n",
       "    </tr>\n",
       "    <tr>\n",
       "      <th>2</th>\n",
       "      <td>16.62</td>\n",
       "      <td>1</td>\n",
       "      <td>45.80</td>\n",
       "      <td>1</td>\n",
       "      <td>41</td>\n",
       "      <td>80.60</td>\n",
       "      <td>1</td>\n",
       "      <td>67.42</td>\n",
       "      <td>1</td>\n",
       "      <td>3.08</td>\n",
       "      <td>56.45</td>\n",
       "      <td>7.75</td>\n",
       "      <td>38.03</td>\n",
       "      <td>36.10</td>\n",
       "      <td>76.10</td>\n",
       "    </tr>\n",
       "    <tr>\n",
       "      <th>3</th>\n",
       "      <td>32.57</td>\n",
       "      <td>3</td>\n",
       "      <td>82.43</td>\n",
       "      <td>0</td>\n",
       "      <td>24</td>\n",
       "      <td>140.58</td>\n",
       "      <td>3</td>\n",
       "      <td>116.37</td>\n",
       "      <td>27</td>\n",
       "      <td>5.37</td>\n",
       "      <td>99.33</td>\n",
       "      <td>16.20</td>\n",
       "      <td>69.47</td>\n",
       "      <td>65.83</td>\n",
       "      <td>132.95</td>\n",
       "    </tr>\n",
       "    <tr>\n",
       "      <th>4</th>\n",
       "      <td>17.12</td>\n",
       "      <td>2</td>\n",
       "      <td>46.37</td>\n",
       "      <td>1</td>\n",
       "      <td>40</td>\n",
       "      <td>81.23</td>\n",
       "      <td>2</td>\n",
       "      <td>67.83</td>\n",
       "      <td>2</td>\n",
       "      <td>3.10</td>\n",
       "      <td>57.03</td>\n",
       "      <td>8.02</td>\n",
       "      <td>38.60</td>\n",
       "      <td>36.58</td>\n",
       "      <td>76.72</td>\n",
       "    </tr>\n",
       "    <tr>\n",
       "      <th>5</th>\n",
       "      <td>32.58</td>\n",
       "      <td>4</td>\n",
       "      <td>82.45</td>\n",
       "      <td>0</td>\n",
       "      <td>29</td>\n",
       "      <td>140.68</td>\n",
       "      <td>4</td>\n",
       "      <td>116.37</td>\n",
       "      <td>28</td>\n",
       "      <td>5.37</td>\n",
       "      <td>99.33</td>\n",
       "      <td>16.22</td>\n",
       "      <td>69.47</td>\n",
       "      <td>65.83</td>\n",
       "      <td>132.95</td>\n",
       "    </tr>\n",
       "    <tr>\n",
       "      <th>6</th>\n",
       "      <td>17.65</td>\n",
       "      <td>4</td>\n",
       "      <td>47.67</td>\n",
       "      <td>1</td>\n",
       "      <td>28</td>\n",
       "      <td>84.65</td>\n",
       "      <td>4</td>\n",
       "      <td>70.23</td>\n",
       "      <td>4</td>\n",
       "      <td>3.23</td>\n",
       "      <td>58.60</td>\n",
       "      <td>8.38</td>\n",
       "      <td>39.72</td>\n",
       "      <td>37.65</td>\n",
       "      <td>79.83</td>\n",
       "    </tr>\n",
       "    <tr>\n",
       "      <th>7</th>\n",
       "      <td>30.48</td>\n",
       "      <td>5</td>\n",
       "      <td>76.95</td>\n",
       "      <td>1</td>\n",
       "      <td>29</td>\n",
       "      <td>129.83</td>\n",
       "      <td>5</td>\n",
       "      <td>107.47</td>\n",
       "      <td>5</td>\n",
       "      <td>4.97</td>\n",
       "      <td>92.52</td>\n",
       "      <td>15.17</td>\n",
       "      <td>64.85</td>\n",
       "      <td>61.62</td>\n",
       "      <td>122.80</td>\n",
       "    </tr>\n",
       "    <tr>\n",
       "      <th>8</th>\n",
       "      <td>17.12</td>\n",
       "      <td>3</td>\n",
       "      <td>46.37</td>\n",
       "      <td>1</td>\n",
       "      <td>43</td>\n",
       "      <td>81.23</td>\n",
       "      <td>3</td>\n",
       "      <td>67.83</td>\n",
       "      <td>3</td>\n",
       "      <td>3.10</td>\n",
       "      <td>57.03</td>\n",
       "      <td>8.00</td>\n",
       "      <td>38.60</td>\n",
       "      <td>36.60</td>\n",
       "      <td>76.70</td>\n",
       "    </tr>\n",
       "    <tr>\n",
       "      <th>9</th>\n",
       "      <td>30.48</td>\n",
       "      <td>20</td>\n",
       "      <td>77.68</td>\n",
       "      <td>1</td>\n",
       "      <td>31</td>\n",
       "      <td>137.83</td>\n",
       "      <td>20</td>\n",
       "      <td>112.27</td>\n",
       "      <td>20</td>\n",
       "      <td>5.27</td>\n",
       "      <td>94.78</td>\n",
       "      <td>15.15</td>\n",
       "      <td>65.23</td>\n",
       "      <td>61.78</td>\n",
       "      <td>129.83</td>\n",
       "    </tr>\n",
       "    <tr>\n",
       "      <th>10</th>\n",
       "      <td>32.58</td>\n",
       "      <td>8</td>\n",
       "      <td>82.45</td>\n",
       "      <td>0</td>\n",
       "      <td>30</td>\n",
       "      <td>143.00</td>\n",
       "      <td>8</td>\n",
       "      <td>116.92</td>\n",
       "      <td>40</td>\n",
       "      <td>5.47</td>\n",
       "      <td>99.35</td>\n",
       "      <td>16.22</td>\n",
       "      <td>69.47</td>\n",
       "      <td>65.85</td>\n",
       "      <td>134.65</td>\n",
       "    </tr>\n",
       "    <tr>\n",
       "      <th>11</th>\n",
       "      <td>30.52</td>\n",
       "      <td>2</td>\n",
       "      <td>76.97</td>\n",
       "      <td>1</td>\n",
       "      <td>28</td>\n",
       "      <td>128.80</td>\n",
       "      <td>2</td>\n",
       "      <td>107.47</td>\n",
       "      <td>2</td>\n",
       "      <td>4.92</td>\n",
       "      <td>92.52</td>\n",
       "      <td>15.18</td>\n",
       "      <td>64.87</td>\n",
       "      <td>61.63</td>\n",
       "      <td>121.95</td>\n",
       "    </tr>\n",
       "    <tr>\n",
       "      <th>12</th>\n",
       "      <td>18.13</td>\n",
       "      <td>11</td>\n",
       "      <td>49.17</td>\n",
       "      <td>1</td>\n",
       "      <td>49</td>\n",
       "      <td>86.95</td>\n",
       "      <td>11</td>\n",
       "      <td>72.60</td>\n",
       "      <td>11</td>\n",
       "      <td>3.32</td>\n",
       "      <td>60.85</td>\n",
       "      <td>8.40</td>\n",
       "      <td>41.18</td>\n",
       "      <td>39.03</td>\n",
       "      <td>82.17</td>\n",
       "    </tr>\n",
       "    <tr>\n",
       "      <th>13</th>\n",
       "      <td>32.58</td>\n",
       "      <td>17</td>\n",
       "      <td>85.55</td>\n",
       "      <td>0</td>\n",
       "      <td>33</td>\n",
       "      <td>152.07</td>\n",
       "      <td>17</td>\n",
       "      <td>124.22</td>\n",
       "      <td>121</td>\n",
       "      <td>5.80</td>\n",
       "      <td>104.62</td>\n",
       "      <td>16.22</td>\n",
       "      <td>71.10</td>\n",
       "      <td>67.15</td>\n",
       "      <td>143.50</td>\n",
       "    </tr>\n",
       "    <tr>\n",
       "      <th>14</th>\n",
       "      <td>17.12</td>\n",
       "      <td>13</td>\n",
       "      <td>48.88</td>\n",
       "      <td>1</td>\n",
       "      <td>29</td>\n",
       "      <td>87.40</td>\n",
       "      <td>13</td>\n",
       "      <td>72.83</td>\n",
       "      <td>13</td>\n",
       "      <td>3.35</td>\n",
       "      <td>60.82</td>\n",
       "      <td>8.02</td>\n",
       "      <td>40.20</td>\n",
       "      <td>38.02</td>\n",
       "      <td>82.38</td>\n",
       "    </tr>\n",
       "    <tr>\n",
       "      <th>15</th>\n",
       "      <td>33.93</td>\n",
       "      <td>10</td>\n",
       "      <td>85.03</td>\n",
       "      <td>0</td>\n",
       "      <td>30</td>\n",
       "      <td>143.90</td>\n",
       "      <td>10</td>\n",
       "      <td>119.68</td>\n",
       "      <td>46</td>\n",
       "      <td>5.50</td>\n",
       "      <td>102.40</td>\n",
       "      <td>16.92</td>\n",
       "      <td>71.68</td>\n",
       "      <td>67.92</td>\n",
       "      <td>136.47</td>\n",
       "    </tr>\n",
       "    <tr>\n",
       "      <th>16</th>\n",
       "      <td>17.13</td>\n",
       "      <td>5</td>\n",
       "      <td>47.45</td>\n",
       "      <td>1</td>\n",
       "      <td>34</td>\n",
       "      <td>84.70</td>\n",
       "      <td>5</td>\n",
       "      <td>70.60</td>\n",
       "      <td>5</td>\n",
       "      <td>3.23</td>\n",
       "      <td>58.73</td>\n",
       "      <td>8.02</td>\n",
       "      <td>39.12</td>\n",
       "      <td>36.98</td>\n",
       "      <td>79.92</td>\n",
       "    </tr>\n",
       "    <tr>\n",
       "      <th>17</th>\n",
       "      <td>32.57</td>\n",
       "      <td>2</td>\n",
       "      <td>82.43</td>\n",
       "      <td>0</td>\n",
       "      <td>26</td>\n",
       "      <td>139.98</td>\n",
       "      <td>2</td>\n",
       "      <td>116.38</td>\n",
       "      <td>25</td>\n",
       "      <td>5.35</td>\n",
       "      <td>99.35</td>\n",
       "      <td>16.20</td>\n",
       "      <td>69.47</td>\n",
       "      <td>65.83</td>\n",
       "      <td>132.65</td>\n",
       "    </tr>\n",
       "    <tr>\n",
       "      <th>18</th>\n",
       "      <td>18.17</td>\n",
       "      <td>7</td>\n",
       "      <td>49.15</td>\n",
       "      <td>1</td>\n",
       "      <td>38</td>\n",
       "      <td>84.88</td>\n",
       "      <td>7</td>\n",
       "      <td>70.83</td>\n",
       "      <td>7</td>\n",
       "      <td>3.25</td>\n",
       "      <td>59.92</td>\n",
       "      <td>8.67</td>\n",
       "      <td>41.20</td>\n",
       "      <td>39.05</td>\n",
       "      <td>80.18</td>\n",
       "    </tr>\n",
       "    <tr>\n",
       "      <th>19</th>\n",
       "      <td>34.80</td>\n",
       "      <td>13</td>\n",
       "      <td>87.83</td>\n",
       "      <td>0</td>\n",
       "      <td>31</td>\n",
       "      <td>150.48</td>\n",
       "      <td>13</td>\n",
       "      <td>124.53</td>\n",
       "      <td>102</td>\n",
       "      <td>5.75</td>\n",
       "      <td>106.03</td>\n",
       "      <td>17.32</td>\n",
       "      <td>73.95</td>\n",
       "      <td>70.10</td>\n",
       "      <td>142.68</td>\n",
       "    </tr>\n",
       "  </tbody>\n",
       "</table>\n",
       "</div>"
      ],
      "text/plain": [
       "      10k  division    25k  gender  age  official  genderdiv     35k  overall  \\\n",
       "0   17.37         8  47.67       1   47     85.25          8   71.40        8   \n",
       "1   32.58         1  82.43       0   33    138.95          1  116.37       21   \n",
       "2   16.62         1  45.80       1   41     80.60          1   67.42        1   \n",
       "3   32.57         3  82.43       0   24    140.58          3  116.37       27   \n",
       "4   17.12         2  46.37       1   40     81.23          2   67.83        2   \n",
       "5   32.58         4  82.45       0   29    140.68          4  116.37       28   \n",
       "6   17.65         4  47.67       1   28     84.65          4   70.23        4   \n",
       "7   30.48         5  76.95       1   29    129.83          5  107.47        5   \n",
       "8   17.12         3  46.37       1   43     81.23          3   67.83        3   \n",
       "9   30.48        20  77.68       1   31    137.83         20  112.27       20   \n",
       "10  32.58         8  82.45       0   30    143.00          8  116.92       40   \n",
       "11  30.52         2  76.97       1   28    128.80          2  107.47        2   \n",
       "12  18.13        11  49.17       1   49     86.95         11   72.60       11   \n",
       "13  32.58        17  85.55       0   33    152.07         17  124.22      121   \n",
       "14  17.12        13  48.88       1   29     87.40         13   72.83       13   \n",
       "15  33.93        10  85.03       0   30    143.90         10  119.68       46   \n",
       "16  17.13         5  47.45       1   34     84.70          5   70.60        5   \n",
       "17  32.57         2  82.43       0   26    139.98          2  116.38       25   \n",
       "18  18.17         7  49.15       1   38     84.88          7   70.83        7   \n",
       "19  34.80        13  87.83       0   31    150.48         13  124.53      102   \n",
       "\n",
       "    pace     30k     5k   half    20k     40k  \n",
       "0   3.27   59.18   8.02  39.72  37.65   80.43  \n",
       "1   5.30   99.33  16.22  69.47  65.83  132.10  \n",
       "2   3.08   56.45   7.75  38.03  36.10   76.10  \n",
       "3   5.37   99.33  16.20  69.47  65.83  132.95  \n",
       "4   3.10   57.03   8.02  38.60  36.58   76.72  \n",
       "5   5.37   99.33  16.22  69.47  65.83  132.95  \n",
       "6   3.23   58.60   8.38  39.72  37.65   79.83  \n",
       "7   4.97   92.52  15.17  64.85  61.62  122.80  \n",
       "8   3.10   57.03   8.00  38.60  36.60   76.70  \n",
       "9   5.27   94.78  15.15  65.23  61.78  129.83  \n",
       "10  5.47   99.35  16.22  69.47  65.85  134.65  \n",
       "11  4.92   92.52  15.18  64.87  61.63  121.95  \n",
       "12  3.32   60.85   8.40  41.18  39.03   82.17  \n",
       "13  5.80  104.62  16.22  71.10  67.15  143.50  \n",
       "14  3.35   60.82   8.02  40.20  38.02   82.38  \n",
       "15  5.50  102.40  16.92  71.68  67.92  136.47  \n",
       "16  3.23   58.73   8.02  39.12  36.98   79.92  \n",
       "17  5.35   99.35  16.20  69.47  65.83  132.65  \n",
       "18  3.25   59.92   8.67  41.20  39.05   80.18  \n",
       "19  5.75  106.03  17.32  73.95  70.10  142.68  "
      ]
     },
     "execution_count": 9,
     "metadata": {},
     "output_type": "execute_result"
    }
   ],
   "source": [
    "df.head(20)"
   ]
  },
  {
   "cell_type": "code",
   "execution_count": 10,
   "metadata": {},
   "outputs": [
    {
     "data": {
      "text/plain": [
       "<matplotlib.axes._subplots.AxesSubplot at 0x7fb325551b70>"
      ]
     },
     "execution_count": 10,
     "metadata": {},
     "output_type": "execute_result"
    },
    {
     "data": {
      "image/png": "[encoded data removed]",
      "text/plain": [
       "<Figure size 432x288 with 1 Axes>"
      ]
     },
     "metadata": {
      "needs_background": "light"
     },
     "output_type": "display_data"
    }
   ],
   "source": [
    "df.official.hist(bins=30)"
   ]
  },
  {
   "cell_type": "code",
   "execution_count": 11,
   "metadata": {},
   "outputs": [
    {
     "data": {
      "text/plain": [
       "<matplotlib.axes._subplots.AxesSubplot at 0x7fb3254e28d0>"
      ]
     },
     "execution_count": 11,
     "metadata": {},
     "output_type": "execute_result"
    },
    {
     "data": {
      "image/png": "[encoded data removed]",
      "text/plain": [
       "<Figure size 432x288 with 1 Axes>"
      ]
     },
     "metadata": {
      "needs_background": "light"
     },
     "output_type": "display_data"
    }
   ],
   "source": [
    "df.gender.hist()"
   ]
  },
  {
   "cell_type": "code",
   "execution_count": 34,
   "metadata": {},
   "outputs": [
    {
     "data": {
      "text/plain": [
       "<matplotlib.axes._subplots.AxesSubplot at 0x7fb3249a1160>"
      ]
     },
     "execution_count": 34,
     "metadata": {},
     "output_type": "execute_result"
    },
    {
     "data": {
      "image/png": "[encoded data removed]",
      "text/plain": [
       "<Figure size 432x288 with 1 Axes>"
      ]
     },
     "metadata": {
      "needs_background": "light"
     },
     "output_type": "display_data"
    }
   ],
   "source": [
    "df.age.hist(bins=30)"
   ]
  },
  {
   "cell_type": "code",
   "execution_count": 13,
   "metadata": {
    "scrolled": true
   },
   "outputs": [
    {
     "data": {
      "text/plain": [
       "division      1932.563032\n",
       "gender           0.550807\n",
       "age             42.407079\n",
       "official       242.997314\n",
       "genderdiv     8051.044741\n",
       "overall      15939.587825\n",
       "pace             9.275658\n",
       "dtype: float64"
      ]
     },
     "execution_count": 13,
     "metadata": {},
     "output_type": "execute_result"
    }
   ],
   "source": [
    "df.mean()"
   ]
  },
  {
   "cell_type": "code",
   "execution_count": 14,
   "metadata": {},
   "outputs": [],
   "source": [
    "df = df[pd.to_numeric(df['half'], errors='coerce').notnull()]\n",
    "df[\"half\"] = df.half.astype(float)"
   ]
  },
  {
   "cell_type": "code",
   "execution_count": 15,
   "metadata": {},
   "outputs": [],
   "source": [
    "features = pd.DataFrame()\n",
    "features['age'] = df['age']\n",
    "features['official'] = df['official']\n",
    "#features['overall'] = df['overall']\n",
    "features['gender'] = df['gender']\n",
    "features['half'] = df['half']\n"
   ]
  },
  {
   "cell_type": "code",
   "execution_count": 16,
   "metadata": {},
   "outputs": [],
   "source": [
    "features = features[pd.to_numeric(features['half'], errors='coerce').notnull()]"
   ]
  },
  {
   "cell_type": "code",
   "execution_count": 17,
   "metadata": {},
   "outputs": [],
   "source": [
    "features[\"half\"] = features.half.astype(float)"
   ]
  },
  {
   "cell_type": "code",
   "execution_count": 18,
   "metadata": {},
   "outputs": [],
   "source": [
    "features = features.dropna()"
   ]
  },
  {
   "cell_type": "code",
   "execution_count": 19,
   "metadata": {},
   "outputs": [
    {
     "name": "stdout",
     "output_type": "stream",
     "text": [
      "<class 'pandas.core.frame.DataFrame'>\n",
      "Int64Index: 31912 entries, 0 to 31983\n",
      "Data columns (total 4 columns):\n",
      "age         31912 non-null int64\n",
      "official    31912 non-null float64\n",
      "gender      31912 non-null int64\n",
      "half        31912 non-null float64\n",
      "dtypes: float64(2), int64(2)\n",
      "memory usage: 1.2 MB\n"
     ]
    }
   ],
   "source": [
    "features.info()"
   ]
  },
  {
   "cell_type": "code",
   "execution_count": 20,
   "metadata": {},
   "outputs": [],
   "source": [
    "from sklearn.cluster import KMeans\n",
    "from sklearn.preprocessing import normalize\n",
    "from sklearn.model_selection import train_test_split\n",
    "\n",
    "X = features\n",
    "\n",
    "# Normalize\n",
    "X_norm = normalize(X)\n",
    "\n",
    "# Halve\n",
    "X_half1, X_half2 = train_test_split(\n",
    "    X_norm,\n",
    "    test_size=0.5,\n",
    "    random_state=42)\n",
    "\n",
    "# Then we halve the halves.\n",
    "X1, X2 = train_test_split(\n",
    "    X_half1,\n",
    "    test_size=0.5,\n",
    "    random_state=42)\n",
    "X3, X4 = train_test_split(\n",
    "    X_half2,\n",
    "    test_size=0.5,\n",
    "    random_state=42)"
   ]
  },
  {
   "cell_type": "code",
   "execution_count": 21,
   "metadata": {
    "scrolled": true
   },
   "outputs": [
    {
     "data": {
      "image/png": "[encoded data removed]",
      "text/plain": [
       "<Figure size 432x288 with 1 Axes>"
      ]
     },
     "metadata": {
      "needs_background": "light"
     },
     "output_type": "display_data"
    }
   ],
   "source": [
    "plt.scatter(X_norm[:, 0], X_norm[:, 1])\n",
    "plt.show()"
   ]
  },
  {
   "cell_type": "code",
   "execution_count": 22,
   "metadata": {},
   "outputs": [],
   "source": [
    "Xs = [X1,X2,X3,X4]"
   ]
  },
  {
   "cell_type": "code",
   "execution_count": 23,
   "metadata": {},
   "outputs": [
    {
     "name": "stdout",
     "output_type": "stream",
     "text": [
      "Number of defined clusters: 2\n",
      "0.4662658415067356\n",
      "0.47238007824131906\n",
      "0.46734344237367426\n",
      "0.4670271194539653\n",
      "Number of defined clusters: 3\n",
      "0.3835418834912303\n",
      "0.3840601556771634\n",
      "0.3832824245242958\n",
      "0.38295479046410147\n",
      "Number of defined clusters: 4\n",
      "0.3803252643343673\n",
      "0.3852007759811385\n",
      "0.3854293108438478\n",
      "0.3928716546511637\n",
      "Number of defined clusters: 5\n",
      "0.34839019004725963\n",
      "0.35289978218536755\n",
      "0.35784472649284643\n",
      "0.3590529077835118\n",
      "Number of defined clusters: 8\n",
      "0.333378866693776\n",
      "0.33807716202300525\n",
      "0.33487474535740086\n",
      "0.345216066838814\n",
      "Number of defined clusters: 16\n",
      "0.3202157805607234\n",
      "0.3153611696883053\n",
      "0.3227471907100982\n",
      "0.3195802337986156\n"
     ]
    }
   ],
   "source": [
    "from sklearn.cluster import KMeans, MeanShift, estimate_bandwidth, SpectralClustering, AffinityPropagation\n",
    "from sklearn.preprocessing import normalize\n",
    "from sklearn.model_selection import train_test_split\n",
    "from sklearn.decomposition import PCA\n",
    "from sklearn import metrics\n",
    "\n",
    "#all data\n",
    "clusters = [2,3,4,5,8,16]\n",
    "for i in clusters:\n",
    "    print(\"Number of defined clusters: {}\".format(i))\n",
    "    for j in Xs:\n",
    "        model = KMeans(n_clusters=i, random_state=None).fit(j)\n",
    "        labels = model.labels_\n",
    "        print(metrics.silhouette_score(j, labels, metric='euclidean'))"
   ]
  },
  {
   "cell_type": "code",
   "execution_count": 24,
   "metadata": {},
   "outputs": [],
   "source": [
    "model = KMeans(n_clusters=4, random_state=None)\n",
    "model.fit(X_norm)    \n",
    "labels = model.labels_ # Extract cluster assignments for each data point. "
   ]
  },
  {
   "cell_type": "code",
   "execution_count": 25,
   "metadata": {},
   "outputs": [
    {
     "data": {
      "text/plain": [
       "(31912,)"
      ]
     },
     "execution_count": 25,
     "metadata": {},
     "output_type": "execute_result"
    }
   ],
   "source": [
    "labels.shape"
   ]
  },
  {
   "cell_type": "code",
   "execution_count": 26,
   "metadata": {},
   "outputs": [],
   "source": [
    "features['label'] = labels"
   ]
  },
  {
   "cell_type": "code",
   "execution_count": 27,
   "metadata": {},
   "outputs": [],
   "source": [
    "plot_df = features.groupby('label')['age','official', 'half', 'gender'].mean().sort_values(by='label',ascending=True).reset_index()"
   ]
  },
  {
   "cell_type": "code",
   "execution_count": 28,
   "metadata": {
    "scrolled": true
   },
   "outputs": [
    {
     "data": {
      "text/html": [
       "<div>\n",
       "<style scoped>\n",
       "    .dataframe tbody tr th:only-of-type {\n",
       "        vertical-align: middle;\n",
       "    }\n",
       "\n",
       "    .dataframe tbody tr th {\n",
       "        vertical-align: top;\n",
       "    }\n",
       "\n",
       "    .dataframe thead th {\n",
       "        text-align: right;\n",
       "    }\n",
       "</style>\n",
       "<table border=\"1\" class=\"dataframe\">\n",
       "  <thead>\n",
       "    <tr style=\"text-align: right;\">\n",
       "      <th></th>\n",
       "      <th>label</th>\n",
       "      <th>age</th>\n",
       "      <th>official</th>\n",
       "      <th>half</th>\n",
       "      <th>gender</th>\n",
       "    </tr>\n",
       "  </thead>\n",
       "  <tbody>\n",
       "    <tr>\n",
       "      <th>0</th>\n",
       "      <td>0</td>\n",
       "      <td>52.214239</td>\n",
       "      <td>216.560413</td>\n",
       "      <td>101.957409</td>\n",
       "      <td>0.796009</td>\n",
       "    </tr>\n",
       "    <tr>\n",
       "      <th>1</th>\n",
       "      <td>1</td>\n",
       "      <td>47.395073</td>\n",
       "      <td>277.644090</td>\n",
       "      <td>117.385221</td>\n",
       "      <td>0.664005</td>\n",
       "    </tr>\n",
       "    <tr>\n",
       "      <th>2</th>\n",
       "      <td>2</td>\n",
       "      <td>30.788317</td>\n",
       "      <td>277.565482</td>\n",
       "      <td>125.856312</td>\n",
       "      <td>0.350130</td>\n",
       "    </tr>\n",
       "    <tr>\n",
       "      <th>3</th>\n",
       "      <td>3</td>\n",
       "      <td>40.556343</td>\n",
       "      <td>224.532650</td>\n",
       "      <td>106.743340</td>\n",
       "      <td>0.440016</td>\n",
       "    </tr>\n",
       "  </tbody>\n",
       "</table>\n",
       "</div>"
      ],
      "text/plain": [
       "   label        age    official        half    gender\n",
       "0      0  52.214239  216.560413  101.957409  0.796009\n",
       "1      1  47.395073  277.644090  117.385221  0.664005\n",
       "2      2  30.788317  277.565482  125.856312  0.350130\n",
       "3      3  40.556343  224.532650  106.743340  0.440016"
      ]
     },
     "execution_count": 28,
     "metadata": {},
     "output_type": "execute_result"
    }
   ],
   "source": [
    "plot_df.head()"
   ]
  },
  {
   "cell_type": "code",
   "execution_count": 45,
   "metadata": {},
   "outputs": [],
   "source": [
    "sns.set(palette='muted')"
   ]
  },
  {
   "cell_type": "markdown",
   "metadata": {},
   "source": [
    "0 = Young slow women\n",
    "1 = Old fast women\n",
    "2 = Old fast men\n",
    "3 = Young slow men"
   ]
  },
  {
   "cell_type": "code",
   "execution_count": 46,
   "metadata": {},
   "outputs": [
    {
     "name": "stderr",
     "output_type": "stream",
     "text": [
      "/home/ebicher/.local/lib/python3.6/site-packages/scipy/stats/stats.py:1713: FutureWarning: Using a non-tuple sequence for multidimensional indexing is deprecated; use `arr[tuple(seq)]` instead of `arr[seq]`. In the future this will be interpreted as an array index, `arr[np.array(seq)]`, which will result either in an error or a different result.\n",
      "  return np.add.reduce(sorted[indexer] * weights, axis=axis) / sumval\n"
     ]
    },
    {
     "data": {
      "image/png": "[encoded data removed]",
      "text/plain": [
       "<Figure size 1440x720 with 4 Axes>"
      ]
     },
     "metadata": {},
     "output_type": "display_data"
    }
   ],
   "source": [
    "plt.figure(figsize=(20,10))\n",
    "plt.subplot(2,2,1)\n",
    "sns.barplot(x='label',y='age', data=features)\n",
    "plt.xlabel('Cluster')\n",
    "plt.title('Average Age by Cluster')\n",
    "\n",
    "plt.subplot(2,2,2)\n",
    "sns.barplot(x='label',y='official', data=features)\n",
    "plt.xlabel('Cluster')\n",
    "plt.title('Average Official by Cluster')\n",
    "\n",
    "plt.subplot(2,2,3)\n",
    "sns.barplot(x='label',y='half',data=features)\n",
    "plt.xlabel('Cluster')\n",
    "plt.title('Average Half Time by Cluster')\n",
    "\n",
    "plt.subplot(2,2,4)\n",
    "sns.barplot(x='label',y='gender',data=features)\n",
    "plt.xlabel('Cluster')\n",
    "plt.title('Average Gender by Cluster')\n",
    "plt.show()\n"
   ]
  },
  {
   "cell_type": "markdown",
   "metadata": {},
   "source": [
    "0 = Young slow men\n",
    "\n",
    "1 = Old fast men\n",
    "\n",
    "2 = Old fast women\n",
    "\n",
    "3 = Young slow women"
   ]
  },
  {
   "cell_type": "code",
   "execution_count": 47,
   "metadata": {},
   "outputs": [
    {
     "name": "stderr",
     "output_type": "stream",
     "text": [
      "/home/ebicher/.local/lib/python3.6/site-packages/scipy/stats/stats.py:1713: FutureWarning: Using a non-tuple sequence for multidimensional indexing is deprecated; use `arr[tuple(seq)]` instead of `arr[seq]`. In the future this will be interpreted as an array index, `arr[np.array(seq)]`, which will result either in an error or a different result.\n",
      "  return np.add.reduce(sorted[indexer] * weights, axis=axis) / sumval\n"
     ]
    },
    {
     "data": {
      "text/plain": [
       "Text(0.5,1,'Official time by Age')"
      ]
     },
     "execution_count": 47,
     "metadata": {},
     "output_type": "execute_result"
    },
    {
     "data": {
      "text/plain": [
       "<Figure size 1440x720 with 0 Axes>"
      ]
     },
     "metadata": {},
     "output_type": "display_data"
    },
    {
     "data": {
      "image/png": "[encoded data removed]",
      "text/plain": [
       "<Figure size 406.6x360 with 1 Axes>"
      ]
     },
     "metadata": {},
     "output_type": "display_data"
    }
   ],
   "source": [
    "plt.figure(figsize=(20,10))\n",
    "sns.lmplot(x='official',y='age',hue='label',data=features, scatter_kws={'alpha':0.2})\n",
    "plt.title('Official time by Age')\n"
   ]
  },
  {
   "cell_type": "code",
   "execution_count": 48,
   "metadata": {},
   "outputs": [
    {
     "name": "stderr",
     "output_type": "stream",
     "text": [
      "/home/ebicher/.local/lib/python3.6/site-packages/scipy/stats/stats.py:1713: FutureWarning: Using a non-tuple sequence for multidimensional indexing is deprecated; use `arr[tuple(seq)]` instead of `arr[seq]`. In the future this will be interpreted as an array index, `arr[np.array(seq)]`, which will result either in an error or a different result.\n",
      "  return np.add.reduce(sorted[indexer] * weights, axis=axis) / sumval\n"
     ]
    },
    {
     "data": {
      "text/plain": [
       "<Figure size 1080x648 with 0 Axes>"
      ]
     },
     "metadata": {},
     "output_type": "display_data"
    },
    {
     "data": {
      "image/png": "[encoded data removed]",
      "text/plain": [
       "<Figure size 406.6x360 with 1 Axes>"
      ]
     },
     "metadata": {},
     "output_type": "display_data"
    }
   ],
   "source": [
    "plt.figure(figsize=(15,9))\n",
    "sns.lmplot(x='official',y='half',hue='label',data=features, scatter_kws={'alpha':0.2})\n",
    "plt.title('Official time by Half time')\n",
    "plt.show()\n"
   ]
  },
  {
   "cell_type": "markdown",
   "metadata": {},
   "source": []
  },
  {
   "cell_type": "code",
   "execution_count": null,
   "metadata": {},
   "outputs": [],
   "source": []
  }
 ],
 "metadata": {
  "kernelspec": {
   "display_name": "Python 3",
   "language": "python",
   "name": "python3"
  },
  "language_info": {
   "codemirror_mode": {
    "name": "ipython",
    "version": 3
   },
   "file_extension": ".py",
   "mimetype": "text/x-python",
   "name": "python",
   "nbconvert_exporter": "python",
   "pygments_lexer": "ipython3",
   "version": "3.6.6"
  }
 },
 "nbformat": 4,
 "nbformat_minor": 2
}
