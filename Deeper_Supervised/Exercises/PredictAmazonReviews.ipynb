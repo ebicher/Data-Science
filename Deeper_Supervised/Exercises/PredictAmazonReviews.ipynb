{
 "cells": [
  {
   "cell_type": "markdown",
   "metadata": {},
   "source": [
    "# Predicting if an Amazon review from the 'Toys and Games' section is positive (>3 stars) based on the text review"
   ]
  },
  {
   "cell_type": "markdown",
   "metadata": {},
   "source": [
    "### Evan Bicher 2018"
   ]
  },
  {
   "cell_type": "code",
   "execution_count": 1,
   "metadata": {},
   "outputs": [],
   "source": [
    "%matplotlib inline\n",
    "import numpy as np\n",
    "import pandas as pd\n",
    "import scipy\n",
    "import sklearn\n",
    "import matplotlib.pyplot as plt\n",
    "import seaborn as sns\n"
   ]
  },
  {
   "cell_type": "code",
   "execution_count": 2,
   "metadata": {},
   "outputs": [],
   "source": [
    "# Get the data\n",
    "# It can be found here http://jmcauley.ucsd.edu/data/amazon/\n",
    "\n",
    "\n",
    "df = pd.read_json('../../../Data/Toys_and_Games_5.json', lines=True)"
   ]
  },
  {
   "cell_type": "code",
   "execution_count": 3,
   "metadata": {
    "scrolled": true
   },
   "outputs": [
    {
     "data": {
      "text/html": [
       "<div>\n",
       "<style scoped>\n",
       "    .dataframe tbody tr th:only-of-type {\n",
       "        vertical-align: middle;\n",
       "    }\n",
       "\n",
       "    .dataframe tbody tr th {\n",
       "        vertical-align: top;\n",
       "    }\n",
       "\n",
       "    .dataframe thead th {\n",
       "        text-align: right;\n",
       "    }\n",
       "</style>\n",
       "<table border=\"1\" class=\"dataframe\">\n",
       "  <thead>\n",
       "    <tr style=\"text-align: right;\">\n",
       "      <th></th>\n",
       "      <th>asin</th>\n",
       "      <th>helpful</th>\n",
       "      <th>overall</th>\n",
       "      <th>reviewText</th>\n",
       "      <th>reviewTime</th>\n",
       "      <th>reviewerID</th>\n",
       "      <th>reviewerName</th>\n",
       "      <th>summary</th>\n",
       "      <th>unixReviewTime</th>\n",
       "    </tr>\n",
       "  </thead>\n",
       "  <tbody>\n",
       "    <tr>\n",
       "      <th>0</th>\n",
       "      <td>0439893577</td>\n",
       "      <td>[0, 0]</td>\n",
       "      <td>5</td>\n",
       "      <td>I like the item pricing. My granddaughter want...</td>\n",
       "      <td>01 29, 2014</td>\n",
       "      <td>A1VXOAVRGKGEAK</td>\n",
       "      <td>Angie</td>\n",
       "      <td>Magnetic board</td>\n",
       "      <td>1390953600</td>\n",
       "    </tr>\n",
       "    <tr>\n",
       "      <th>1</th>\n",
       "      <td>0439893577</td>\n",
       "      <td>[1, 1]</td>\n",
       "      <td>4</td>\n",
       "      <td>Love the magnet easel... great for moving to d...</td>\n",
       "      <td>03 28, 2014</td>\n",
       "      <td>A8R62G708TSCM</td>\n",
       "      <td>Candace</td>\n",
       "      <td>it works pretty good for moving to different a...</td>\n",
       "      <td>1395964800</td>\n",
       "    </tr>\n",
       "    <tr>\n",
       "      <th>2</th>\n",
       "      <td>0439893577</td>\n",
       "      <td>[1, 1]</td>\n",
       "      <td>5</td>\n",
       "      <td>Both sides are magnetic.  A real plus when you...</td>\n",
       "      <td>01 28, 2013</td>\n",
       "      <td>A21KH420DK0ICA</td>\n",
       "      <td>capemaychristy</td>\n",
       "      <td>love this!</td>\n",
       "      <td>1359331200</td>\n",
       "    </tr>\n",
       "    <tr>\n",
       "      <th>3</th>\n",
       "      <td>0439893577</td>\n",
       "      <td>[0, 0]</td>\n",
       "      <td>5</td>\n",
       "      <td>Bought one a few years ago for my daughter and...</td>\n",
       "      <td>02 8, 2014</td>\n",
       "      <td>AR29QK6HPFYZ4</td>\n",
       "      <td>dcrm</td>\n",
       "      <td>Daughters love it</td>\n",
       "      <td>1391817600</td>\n",
       "    </tr>\n",
       "    <tr>\n",
       "      <th>4</th>\n",
       "      <td>0439893577</td>\n",
       "      <td>[1, 1]</td>\n",
       "      <td>4</td>\n",
       "      <td>I have a stainless steel refrigerator therefor...</td>\n",
       "      <td>05 5, 2014</td>\n",
       "      <td>ACCH8EOML6FN5</td>\n",
       "      <td>DoyZ</td>\n",
       "      <td>Great to have so he can play with his alphabet...</td>\n",
       "      <td>1399248000</td>\n",
       "    </tr>\n",
       "  </tbody>\n",
       "</table>\n",
       "</div>"
      ],
      "text/plain": [
       "         asin helpful  overall  \\\n",
       "0  0439893577  [0, 0]        5   \n",
       "1  0439893577  [1, 1]        4   \n",
       "2  0439893577  [1, 1]        5   \n",
       "3  0439893577  [0, 0]        5   \n",
       "4  0439893577  [1, 1]        4   \n",
       "\n",
       "                                          reviewText   reviewTime  \\\n",
       "0  I like the item pricing. My granddaughter want...  01 29, 2014   \n",
       "1  Love the magnet easel... great for moving to d...  03 28, 2014   \n",
       "2  Both sides are magnetic.  A real plus when you...  01 28, 2013   \n",
       "3  Bought one a few years ago for my daughter and...   02 8, 2014   \n",
       "4  I have a stainless steel refrigerator therefor...   05 5, 2014   \n",
       "\n",
       "       reviewerID    reviewerName  \\\n",
       "0  A1VXOAVRGKGEAK           Angie   \n",
       "1   A8R62G708TSCM         Candace   \n",
       "2  A21KH420DK0ICA  capemaychristy   \n",
       "3   AR29QK6HPFYZ4            dcrm   \n",
       "4   ACCH8EOML6FN5            DoyZ   \n",
       "\n",
       "                                             summary  unixReviewTime  \n",
       "0                                     Magnetic board      1390953600  \n",
       "1  it works pretty good for moving to different a...      1395964800  \n",
       "2                                         love this!      1359331200  \n",
       "3                                  Daughters love it      1391817600  \n",
       "4  Great to have so he can play with his alphabet...      1399248000  "
      ]
     },
     "execution_count": 3,
     "metadata": {},
     "output_type": "execute_result"
    }
   ],
   "source": [
    "# Check out the data, we really only need the scores and text\n",
    "df.head()"
   ]
  },
  {
   "cell_type": "code",
   "execution_count": 4,
   "metadata": {},
   "outputs": [],
   "source": [
    "#Create new DF\n",
    "data_df = pd.DataFrame()\n",
    "\n",
    "\n",
    "#Put sections we need into it\n",
    "data_df['text'] = df['reviewText'].str.lower()\n",
    "data_df['positive'] = (df['overall']>3).astype(int)\n",
    "data_df['score'] = df['overall']\n",
    "\n",
    "# Make the text data cleaner for word searches\n",
    "data_df['text'] = data_df['text'].str.replace('\\(', '>>')\n",
    "data_df['text'] = data_df['text'].str.replace('\\)', '>>')\n",
    "data_df['text'] = data_df['text'].str.replace(',', '')\n",
    "data_df['text'] = data_df['text'].str.replace('.', '')\n",
    "data_df = data_df.dropna()\n",
    "\n",
    "# Make positive or negative df, which will be used later, same with the test_df\n",
    "pos_df = data_df[data_df['positive']==1]\n",
    "neg_df = data_df[data_df['positive']==0]\n",
    "test_df = data_df"
   ]
  },
  {
   "cell_type": "code",
   "execution_count": 5,
   "metadata": {
    "scrolled": true
   },
   "outputs": [
    {
     "data": {
      "text/html": [
       "<div>\n",
       "<style scoped>\n",
       "    .dataframe tbody tr th:only-of-type {\n",
       "        vertical-align: middle;\n",
       "    }\n",
       "\n",
       "    .dataframe tbody tr th {\n",
       "        vertical-align: top;\n",
       "    }\n",
       "\n",
       "    .dataframe thead th {\n",
       "        text-align: right;\n",
       "    }\n",
       "</style>\n",
       "<table border=\"1\" class=\"dataframe\">\n",
       "  <thead>\n",
       "    <tr style=\"text-align: right;\">\n",
       "      <th></th>\n",
       "      <th>text</th>\n",
       "      <th>positive</th>\n",
       "      <th>score</th>\n",
       "    </tr>\n",
       "  </thead>\n",
       "  <tbody>\n",
       "    <tr>\n",
       "      <th>0</th>\n",
       "      <td>i like the item pricing my granddaughter wante...</td>\n",
       "      <td>1</td>\n",
       "      <td>5</td>\n",
       "    </tr>\n",
       "    <tr>\n",
       "      <th>1</th>\n",
       "      <td>love the magnet easel great for moving to diff...</td>\n",
       "      <td>1</td>\n",
       "      <td>4</td>\n",
       "    </tr>\n",
       "    <tr>\n",
       "      <th>2</th>\n",
       "      <td>both sides are magnetic  a real plus when you'...</td>\n",
       "      <td>1</td>\n",
       "      <td>5</td>\n",
       "    </tr>\n",
       "    <tr>\n",
       "      <th>3</th>\n",
       "      <td>bought one a few years ago for my daughter and...</td>\n",
       "      <td>1</td>\n",
       "      <td>5</td>\n",
       "    </tr>\n",
       "    <tr>\n",
       "      <th>4</th>\n",
       "      <td>i have a stainless steel refrigerator therefor...</td>\n",
       "      <td>1</td>\n",
       "      <td>4</td>\n",
       "    </tr>\n",
       "  </tbody>\n",
       "</table>\n",
       "</div>"
      ],
      "text/plain": [
       "                                                text  positive  score\n",
       "0  i like the item pricing my granddaughter wante...         1      5\n",
       "1  love the magnet easel great for moving to diff...         1      4\n",
       "2  both sides are magnetic  a real plus when you'...         1      5\n",
       "3  bought one a few years ago for my daughter and...         1      5\n",
       "4  i have a stainless steel refrigerator therefor...         1      4"
      ]
     },
     "execution_count": 5,
     "metadata": {},
     "output_type": "execute_result"
    }
   ],
   "source": [
    "# Check it out\n",
    "data_df.head()"
   ]
  },
  {
   "cell_type": "code",
   "execution_count": 6,
   "metadata": {},
   "outputs": [],
   "source": [
    "# Check the text for certain key words and create new columns in the dataframe that show if the keywords are present\n",
    "\n",
    "keywords = ['good', 'great', 'wonderful', 'sweet', 'suprised', 'awesome', 'perfect', 'nice', 'highly', 'well', 'exactly', 'loves', 'loved']\n",
    "\n",
    "for key in keywords:\n",
    "    data_df[str(key)] = data_df.text.str.contains(\n",
    "        str(key),\n",
    "        case=True\n",
    "    )\n",
    "    \n",
    "badwords = ['bad', 'awful', 'terrible', 'broken', 'wasted', 'disappoint', 'not good', 'poorly', 'annoy', 'boring']\n",
    "\n",
    "\n",
    "for badkey in badwords:\n",
    "    data_df[str(badkey)] = ~data_df.text.str.contains(\n",
    "        str(badkey),\n",
    "        case=True\n",
    "    )\n"
   ]
  },
  {
   "cell_type": "code",
   "execution_count": 7,
   "metadata": {
    "scrolled": false
   },
   "outputs": [
    {
     "data": {
      "text/plain": [
       "<matplotlib.axes._subplots.AxesSubplot at 0x7ff235e14c88>"
      ]
     },
     "execution_count": 7,
     "metadata": {},
     "output_type": "execute_result"
    },
    {
     "data": {
      "image/png": "[encoded data removed]",
      "text/plain": [
       "<Figure size 1080x864 with 2 Axes>"
      ]
     },
     "metadata": {
      "needs_background": "light"
     },
     "output_type": "display_data"
    }
   ],
   "source": [
    "#Check the correlation\n",
    "\n",
    "plt.subplots(figsize=(15, 12))\n",
    "sns.heatmap(data_df.corr())\n"
   ]
  },
  {
   "cell_type": "code",
   "execution_count": 8,
   "metadata": {},
   "outputs": [
    {
     "name": "stdout",
     "output_type": "stream",
     "text": [
      "\n",
      "**********************************************************************\n",
      "**********************************************************************\n",
      "Number of mislabeled points out of a total 167597 points : 25676\n",
      "\n",
      "**********************************************************************\n",
      "**********************************************************************\n",
      "Accuracy: \n",
      "0.8467991670495295\n"
     ]
    }
   ],
   "source": [
    "from sklearn.naive_bayes import BernoulliNB\n",
    "\n",
    "# Use the keyword / badword binary columns to decide\n",
    "\n",
    "data = data_df[keywords + badwords]\n",
    "target = data_df['positive']\n",
    "\n",
    "\n",
    "bnb = BernoulliNB()\n",
    "bnb.fit(data, target)\n",
    "\n",
    "\n",
    "y_pred = bnb.predict(data)\n",
    "\n",
    "# Display our results.\n",
    "print('\\n**********************************************************************')\n",
    "print('**********************************************************************')\n",
    "print(\"Number of mislabeled points out of a total {} points : {}\".format(\n",
    "    data.shape[0],\n",
    "    (target != y_pred).sum()\n",
    "))\n",
    "print('\\n**********************************************************************')\n",
    "print('**********************************************************************')\n",
    "print('Accuracy: ')\n",
    "print(1-((target != y_pred).sum()/data.shape[0]))\n",
    "\n",
    "\n"
   ]
  },
  {
   "cell_type": "code",
   "execution_count": 9,
   "metadata": {
    "scrolled": true
   },
   "outputs": [
    {
     "data": {
      "text/plain": [
       "array([[  3563,  23799],\n",
       "       [  1877, 138358]])"
      ]
     },
     "execution_count": 9,
     "metadata": {},
     "output_type": "execute_result"
    }
   ],
   "source": [
    "from sklearn.metrics import confusion_matrix\n",
    "# Confusion matrix to see where our mistakes are coming from\n",
    "\n",
    "\n",
    "confusion_matrix(target, y_pred)"
   ]
  },
  {
   "cell_type": "markdown",
   "metadata": {},
   "source": [
    " I think we can do better! Let's try RFC"
   ]
  },
  {
   "cell_type": "code",
   "execution_count": 10,
   "metadata": {
    "scrolled": true
   },
   "outputs": [
    {
     "name": "stderr",
     "output_type": "stream",
     "text": [
      "/home/ebicher/.local/lib/python3.6/site-packages/sklearn/ensemble/weight_boosting.py:29: DeprecationWarning: numpy.core.umath_tests is an internal NumPy module and should not be imported. It will be removed in a future NumPy release.\n",
      "  from numpy.core.umath_tests import inner1d\n"
     ]
    },
    {
     "data": {
      "text/plain": [
       "array([0.84606205, 0.8449284 , 0.84596796, 0.84364092, 0.84393926])"
      ]
     },
     "execution_count": 10,
     "metadata": {},
     "output_type": "execute_result"
    }
   ],
   "source": [
    "\n",
    "#Trying RFC with the same words\n",
    "\n",
    "from sklearn import ensemble\n",
    "from sklearn.model_selection import cross_val_score\n",
    "from numpy.core.umath_tests import inner1d\n",
    "\n",
    "rfc = ensemble.RandomForestClassifier()\n",
    "X = data_df.drop(['positive', 'score', 'text'], 1)\n",
    "Y = data_df['positive']\n",
    "\n",
    "cross_val_score(rfc, X, Y, cv=5)\n",
    "\n",
    "\n"
   ]
  },
  {
   "cell_type": "markdown",
   "metadata": {},
   "source": [
    "Thats a bit better but I think we can do more!"
   ]
  },
  {
   "cell_type": "code",
   "execution_count": 11,
   "metadata": {},
   "outputs": [],
   "source": [
    "# I will compile a list for what unique words are contained in good reviews and not negative reviews\n",
    "# \n",
    "\n",
    "import re\n",
    "import nltk\n",
    "from nltk.corpus import stopwords\n",
    "from nltk.tokenize import word_tokenize \n",
    "  \n",
    "\n",
    "def find_good_count():\n",
    "    \n",
    "    good_words = {}\n",
    "    \n",
    "    \n",
    "    \n",
    "    for row in pos_df['text']:\n",
    "        \n",
    "        \n",
    "        text = row.replace(\".\", \"\")\n",
    "        text = text.replace(\"!\", \"\")\n",
    "        text = text.replace(\",\", \"\")\n",
    "        text = row.split()\n",
    "        \n",
    "        for word in text:\n",
    "            \n",
    "            if word in good_words:\n",
    "                good_words[word] = good_words[word]+1\n",
    "            else:\n",
    "                good_words[word] = 1\n",
    "            \n",
    "            \n",
    "    return (good_words)\n",
    "\n",
    "\n",
    "def find_bad_count():\n",
    "    \n",
    "    bad_words = {}\n",
    "    \n",
    "    \n",
    "    \n",
    "    for row in neg_df['text']:\n",
    "        \n",
    "        \n",
    "        text = row.replace(\".\", \"\")\n",
    "        text = text.replace(\"!\", \"\")\n",
    "        text = text.replace(\",\", \"\")\n",
    "        text = row.split()\n",
    "        \n",
    "        for word in text:\n",
    "            \n",
    "            if word in bad_words:\n",
    "                bad_words[word] = bad_words[word]+1\n",
    "            else:\n",
    "                bad_words[word] = 1\n",
    "            \n",
    "            \n",
    "    return (bad_words)\n",
    "\n",
    "    "
   ]
  },
  {
   "cell_type": "code",
   "execution_count": 12,
   "metadata": {},
   "outputs": [],
   "source": [
    "dfp = find_good_count()\n",
    "dfn = find_bad_count()"
   ]
  },
  {
   "cell_type": "code",
   "execution_count": 13,
   "metadata": {},
   "outputs": [],
   "source": [
    "pos_words = pd.DataFrame.from_dict(dfp, orient='index', columns=['Count'])\n",
    "neg_words = pd.DataFrame.from_dict(dfn, orient='index', columns=['Count'])"
   ]
  },
  {
   "cell_type": "code",
   "execution_count": null,
   "metadata": {},
   "outputs": [],
   "source": []
  },
  {
   "cell_type": "code",
   "execution_count": 14,
   "metadata": {},
   "outputs": [],
   "source": [
    "all_words = pos_words\n",
    "all_words = all_words['Count'] - neg_words['Count']\n",
    "all_words = all_words.drop(['the', 'and', 'a', 'to', 'it', 'is', 'for', 'i', 'with', 'my', 'that', 'in', 'are', 'you', 'on'])"
   ]
  },
  {
   "cell_type": "code",
   "execution_count": 15,
   "metadata": {},
   "outputs": [],
   "source": [
    "good = all_words.sort_values(ascending=False).head(40)\n",
    "bad = all_words.sort_values(ascending=True).head(60)"
   ]
  },
  {
   "cell_type": "code",
   "execution_count": null,
   "metadata": {},
   "outputs": [],
   "source": []
  },
  {
   "cell_type": "code",
   "execution_count": null,
   "metadata": {},
   "outputs": [],
   "source": []
  },
  {
   "cell_type": "code",
   "execution_count": 23,
   "metadata": {},
   "outputs": [],
   "source": [
    "keywords = ['good', 'great', 'nice', 'highly', 'well', 'works', 'exactly', 'loves', 'loved']\n",
    "\n",
    "for key in keywords:\n",
    "    data_df[str(key)] = test_df.text.str.contains(\n",
    "        str(key),\n",
    "        case=True\n",
    "    )\n",
    "\n",
    "badwords = list(bad.index.values)\n",
    "\n",
    "\n",
    "for badkey in badwords:\n",
    "    \n",
    "    test_df[str(badkey)] = ~test_df.text.str.contains(\n",
    "        str(badkey),\n",
    "        case=True\n",
    "    )"
   ]
  },
  {
   "cell_type": "code",
   "execution_count": 24,
   "metadata": {},
   "outputs": [
    {
     "name": "stdout",
     "output_type": "stream",
     "text": [
      "\n",
      "**********************************************************************\n",
      "**********************************************************************\n",
      "Number of mislabeled points out of a total 167597 points : 23904\n",
      "\n",
      "**********************************************************************\n",
      "**********************************************************************\n",
      "Accuracy: \n",
      "0.8573721486661456\n"
     ]
    },
    {
     "data": {
      "text/plain": [
       "array([[  7571,  19791],\n",
       "       [  4113, 136122]])"
      ]
     },
     "execution_count": 24,
     "metadata": {},
     "output_type": "execute_result"
    }
   ],
   "source": [
    "\n",
    "\n",
    "\n",
    "data = test_df[keywords+badwords]\n",
    "target = test_df['positive']\n",
    "\n",
    "\n",
    "bnb = BernoulliNB()\n",
    "bnb.fit(data, target)\n",
    "\n",
    "\n",
    "y_pred = bnb.predict(data)\n",
    "\n",
    "print('\\n**********************************************************************')\n",
    "print('**********************************************************************')\n",
    "print(\"Number of mislabeled points out of a total {} points : {}\".format(\n",
    "    data.shape[0],\n",
    "    (target != y_pred).sum()\n",
    "))\n",
    "print('\\n**********************************************************************')\n",
    "print('**********************************************************************')\n",
    "print('Accuracy: ')\n",
    "print(1-((target != y_pred).sum()/data.shape[0]))\n",
    "\n",
    "confusion_matrix(target, y_pred)\n",
    "\n"
   ]
  },
  {
   "cell_type": "code",
   "execution_count": 25,
   "metadata": {},
   "outputs": [
    {
     "data": {
      "text/plain": [
       "array([0.85602625, 0.85599642, 0.85876667, 0.85497777, 0.8524419 ])"
      ]
     },
     "execution_count": 25,
     "metadata": {},
     "output_type": "execute_result"
    }
   ],
   "source": [
    "from sklearn import ensemble\n",
    "from sklearn.model_selection import cross_val_score\n",
    "from numpy.core.umath_tests import inner1d\n",
    "\n",
    "rfc = ensemble.RandomForestClassifier()\n",
    "X = test_df.drop(['positive', 'score', 'text'], 1)\n",
    "Y = test_df['positive']\n",
    "\n",
    "cross_val_score(rfc, X, Y, cv=5)\n",
    "\n"
   ]
  },
  {
   "cell_type": "code",
   "execution_count": null,
   "metadata": {},
   "outputs": [],
   "source": []
  },
  {
   "cell_type": "code",
   "execution_count": null,
   "metadata": {},
   "outputs": [],
   "source": []
  }
 ],
 "metadata": {
  "kernelspec": {
   "display_name": "Python 3",
   "language": "python",
   "name": "python3"
  },
  "language_info": {
   "codemirror_mode": {
    "name": "ipython",
    "version": 3
   },
   "file_extension": ".py",
   "mimetype": "text/x-python",
   "name": "python",
   "nbconvert_exporter": "python",
   "pygments_lexer": "ipython3",
   "version": "3.6.6"
  }
 },
 "nbformat": 4,
 "nbformat_minor": 2
}
