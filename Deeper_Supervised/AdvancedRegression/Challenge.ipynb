{
 "cells": [
  {
   "cell_type": "code",
   "execution_count": 219,
   "metadata": {},
   "outputs": [],
   "source": [
    "import pandas as pd\n",
    "import math\n",
    "import sklearn\n",
    "import statsmodels.api as sm\n",
    "from sklearn import linear_model\n",
    "from sklearn import preprocessing\n",
    "import numpy as np\n"
   ]
  },
  {
   "cell_type": "code",
   "execution_count": 220,
   "metadata": {},
   "outputs": [
    {
     "data": {
      "text/plain": [
       "City                                      351\n",
       "Population                                348\n",
       "Violent\\ncrime                            348\n",
       "Murder and\\nnonnegligent\\nmanslaughter    348\n",
       "Rape\\n(revised\\ndefinition)1                0\n",
       "Rape\\n(legacy\\ndefinition)2               348\n",
       "Robbery                                   348\n",
       "Aggravated\\nassault                       348\n",
       "Property\\ncrime                           348\n",
       "Burglary                                  348\n",
       "Larceny-\\ntheft                           348\n",
       "Motor\\nvehicle\\ntheft                     348\n",
       "Arson3                                    187\n",
       "dtype: int64"
      ]
     },
     "execution_count": 220,
     "metadata": {},
     "output_type": "execute_result"
    }
   ],
   "source": [
    "df = pd.read_csv('crime.csv')\n",
    "df.count()"
   ]
  },
  {
   "cell_type": "code",
   "execution_count": 221,
   "metadata": {},
   "outputs": [],
   "source": [
    "df = df.drop('Rape\\n(revised\\ndefinition)1',1)\n",
    "df = df.drop('City',1)\n",
    "df=(df.replace(',','', regex=True ))\n"
   ]
  },
  {
   "cell_type": "code",
   "execution_count": 222,
   "metadata": {},
   "outputs": [
    {
     "data": {
      "text/plain": [
       "Population                                  int64\n",
       "Violent\\ncrime                              int64\n",
       "Murder and\\nnonnegligent\\nmanslaughter    float64\n",
       "Rape\\n(legacy\\ndefinition)2                 int64\n",
       "Robbery                                     int64\n",
       "Aggravated\\nassault                         int64\n",
       "Property\\ncrime                             int64\n",
       "Burglary                                    int64\n",
       "Larceny-\\ntheft                             int64\n",
       "Motor\\nvehicle\\ntheft                       int64\n",
       "Arson3                                    float64\n",
       "dtype: object"
      ]
     },
     "execution_count": 222,
     "metadata": {},
     "output_type": "execute_result"
    }
   ],
   "source": [
    "df = df.dropna()\n",
    "\n",
    "df['Population'] = pd.to_numeric(df['Population'], errors='coerce')\n",
    "df['Violent\\ncrime'] = pd.to_numeric(df['Violent\\ncrime'], errors='coerce')\n",
    "df['Rape\\n(legacy\\ndefinition)2'] = pd.to_numeric(df['Rape\\n(legacy\\ndefinition)2'], errors='coerce')\n",
    "df['Robbery'] = pd.to_numeric(df['Robbery'], errors='coerce')\n",
    "df['Aggravated\\nassault'] = pd.to_numeric(df['Aggravated\\nassault'], errors='coerce')\n",
    "df['Property\\ncrime'] = pd.to_numeric(df['Property\\ncrime'], errors='coerce')\n",
    "df['Burglary'] = pd.to_numeric(df['Burglary'], errors='coerce')\n",
    "df['Larceny-\\ntheft'] = pd.to_numeric(df['Larceny-\\ntheft'], errors='coerce')\n",
    "df['Motor\\nvehicle\\ntheft'] = pd.to_numeric(df['Motor\\nvehicle\\ntheft'], errors='coerce')\n",
    "df.dtypes"
   ]
  },
  {
   "cell_type": "code",
   "execution_count": 223,
   "metadata": {},
   "outputs": [],
   "source": [
    "df['popsqr'] = df['Population'] ** 2\n",
    "df['BugRob'] = df['Burglary'] * df['Robbery']\n",
    "df['Larcenysqr'] = df['Larceny-\\ntheft'] ** 2"
   ]
  },
  {
   "cell_type": "code",
   "execution_count": null,
   "metadata": {},
   "outputs": [],
   "source": []
  },
  {
   "cell_type": "code",
   "execution_count": 224,
   "metadata": {},
   "outputs": [],
   "source": [
    "size = int(df.shape[0]/2)\n",
    "df_train = df.iloc[size:,:]\n",
    "df_test = df.iloc[:size,:]"
   ]
  },
  {
   "cell_type": "code",
   "execution_count": 225,
   "metadata": {},
   "outputs": [
    {
     "data": {
      "text/plain": [
       "Population                                  int64\n",
       "Violent\\ncrime                              int64\n",
       "Murder and\\nnonnegligent\\nmanslaughter    float64\n",
       "Rape\\n(legacy\\ndefinition)2                 int64\n",
       "Robbery                                     int64\n",
       "Aggravated\\nassault                         int64\n",
       "Property\\ncrime                             int64\n",
       "Burglary                                    int64\n",
       "Larceny-\\ntheft                             int64\n",
       "Motor\\nvehicle\\ntheft                       int64\n",
       "Arson3                                    float64\n",
       "popsqr                                      int64\n",
       "BugRob                                      int64\n",
       "Larcenysqr                                  int64\n",
       "dtype: object"
      ]
     },
     "execution_count": 225,
     "metadata": {},
     "output_type": "execute_result"
    }
   ],
   "source": [
    "df_test.dtypes"
   ]
  },
  {
   "cell_type": "code",
   "execution_count": 230,
   "metadata": {},
   "outputs": [
    {
     "name": "stdout",
     "output_type": "stream",
     "text": [
      "Logistic Score:\n",
      "0.0\n",
      "\n",
      "Ridge Score:\n",
      "0.7896413722557923\n",
      "Coef: \n",
      "[ 3.36390784e-03  2.78466955e-01  1.53804600e+01  9.89491560e+00\n",
      "  4.88679799e-01  5.90571020e-01  5.52627741e-01  2.49500991e-01\n",
      "  1.41907008e+00  6.54465796e+00 -4.05234531e-09  2.15900964e-04\n",
      "  1.78675679e-05]\n",
      "\n",
      "Lasso Score:\n",
      "0.9999964884640001\n",
      "Coef:\n",
      "[0.         0.         0.         0.         0.         0.\n",
      " 0.99981757 1.00025361 0.96082031 0.         0.         0.\n",
      " 0.        ]\n"
     ]
    }
   ],
   "source": [
    "X_train = df_train.drop('Property\\ncrime',1)\n",
    "Y_train = df_train['Property\\ncrime']\n",
    "\n",
    "\n",
    "X_test = df_test.drop('Property\\ncrime',1)\n",
    "Y_test = df_test['Property\\ncrime']\n",
    "\n",
    "\n",
    "lr = linear_model.LogisticRegression()\n",
    "lrfit = lr.fit(X_train, Y_train)\n",
    "\n",
    "ridge = linear_model.Ridge(alpha=.3, normalize=True)\n",
    "ridfit = ridge.fit(X_train,Y_train)\n",
    "\n",
    "lasso = linear_model.Lasso(alpha=.3, normalize=True)\n",
    "lassfit = lasso.fit(X_train,Y_train)\n",
    "\n",
    "\n",
    "\n",
    "print('Logistic Score:')\n",
    "print(lrfit.score(X_test,Y_test))\n",
    "print()\n",
    "\n",
    "\n",
    "print('Ridge Score:')\n",
    "print(ridfit.score(X_test,Y_test))\n",
    "print('Coef: ')\n",
    "print(ridge.coef_)\n",
    "print()\n",
    "\n",
    "print('Lasso Score:')\n",
    "print(lassfit.score(X_test,Y_test))\n",
    "print('Coef:')\n",
    "print(lasso.coef_)"
   ]
  },
  {
   "cell_type": "code",
   "execution_count": null,
   "metadata": {},
   "outputs": [],
   "source": []
  }
 ],
 "metadata": {
  "kernelspec": {
   "display_name": "Python 3",
   "language": "python",
   "name": "python3"
  },
  "language_info": {
   "codemirror_mode": {
    "name": "ipython",
    "version": 3
   },
   "file_extension": ".py",
   "mimetype": "text/x-python",
   "name": "python",
   "nbconvert_exporter": "python",
   "pygments_lexer": "ipython3",
   "version": "3.6.6"
  }
 },
 "nbformat": 4,
 "nbformat_minor": 2
}
